{
 "cells": [],
 "metadata": {
  "environment": {
   "name": "tf2-gpu.2-1.m47",
   "type": "gcloud",
   "uri": "gcr.io/deeplearning-platform-release/tf2-gpu.2-1:m47"
  }
 },
 "nbformat": 4,
 "nbformat_minor": 4
}
