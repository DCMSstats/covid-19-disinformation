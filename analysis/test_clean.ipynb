{
 "metadata": {
  "language_info": {
   "codemirror_mode": {
    "name": "ipython",
    "version": 3
   },
   "file_extension": ".py",
   "mimetype": "text/x-python",
   "name": "python",
   "nbconvert_exporter": "python",
   "pygments_lexer": "ipython3",
   "version": "3.7.6-final"
  },
  "orig_nbformat": 2,
  "kernelspec": {
   "name": "python37664bitanaconda3virtualenv1d87251fb1ea4b4d9fc4c3a1f1f8caf1",
   "display_name": "Python 3.7.6 64-bit ('anaconda3': virtualenv)"
  }
 },
 "nbformat": 4,
 "nbformat_minor": 2,
 "cells": [
  {
   "cell_type": "markdown",
   "metadata": {},
   "source": [
    "# Clean Test\n",
    "\n",
    "Steps\n",
    "* Build an dataset of standard messy reddit text\n",
    "* make tokenise regonise common reddit sybmols (e.g & is &amp)\n",
    "* remove markdown links \n",
    "* remove urls\n",
    "* remove numbers"
   ]
  },
  {
   "cell_type": "code",
   "execution_count": 1,
   "metadata": {},
   "outputs": [],
   "source": []
  },
  {
   "cell_type": "code",
   "execution_count": 10,
   "metadata": {},
   "outputs": [],
   "source": [
    "import disinfo as di\n",
    "from disinfo import topicAnalysis\n",
    "import re\n",
    "import pandas as pd\n",
    "import itertools\n",
    "import spacy\n",
    "nlp = spacy.load(\"en_core_web_sm\")\n",
    "\n",
    "\n",
    "# Read test data \n",
    "#submissions = pd.read_csv(\"../test_data/example_subs.csv\")\n",
    "\n",
    "text_list = [\n",
    "    'Trump Wants To Force Immigrants To Submit Eye Scans, Voice Prints, And DNA',\n",
    "    'Thomas1774Paine: DRUDGE: “TRUMP DENIES MINI-STROKE SENT HIM TO HOSPITAL” — Links to Video of President Dragging His Right Foot (VIDEO) https://t.co/3X8wuOrUIu',\n",
    "    'the color purple @ Orange Park, Floridai just drove through because it was a residential area. idk how this was an attractor, there were trump signs everywhere, seemed more like a void to me. my intent was purple though, and i saw a purple plant and sign.\\n   \\n\\n\\n  \\nType: Attractor  \\nPower: 2.33  \\nz-score: 4.25  \\nRNG: ANU  \\n\\n\\n[Google Maps](https://www.google.com/maps/place/30.161147246455464+-81.65539150785828/@30.161147246455464+-81.65539150785828,18z)  |  [Full Report](https://redd.it/ikv05i)'\n",
    "\n",
    "]\n",
    "\n",
    "url_regex = re.compile(r\"(?i)\\b((?:https?://|www\\d{0,3}[.]|[a-z0-9.\\-]+[.][a-z]{2,4}/)(?:[^\\s()<>]+|\\(([^\\s()<>]+|(\\([^\\s()<>]+\\)))*\\))+(?:\\(([^\\s()<>]+|(\\([^\\s()<>]+\\)))*\\)|[^\\s`!()\\[\\]{};:'\\\".,<>?«»“”‘’]))\")\n",
    "markdown_regex = re.compile(r'\\[(.+)\\]\\(([^ ]+?)( \"(.+)\")?\\)')\n",
    "\n",
    "\n",
    "text_list = [comment.replace(\"’\", \"'\") for comment in text_list]\n",
    "text_list = [comment.replace(\"\\t\", \"\") for comment in text_list]\n",
    "text_list = [comment.replace(\"\\n\", \" \") for comment in text_list]\n",
    "text_list = [comment.replace(\"\\n\\n\", \" \") for comment in text_list]\n",
    "\n",
    "# handle markdown links\n",
    "text_list = [re.sub(markdown_regex, \"\", comment) for comment in text_list]\n",
    "\n",
    "# remove url\n",
    "text_list = [re.sub(url_regex, \"\", comment) for comment in text_list]\n",
    "\n",
    "# remove multiple spaces\n",
    "text_list = [re.sub(\"  \", \"\", comment) for comment in text_list]\n",
    "\n",
    "# remove amps\n",
    "text_list = [re.sub(\"@\", \"\", comment) for comment in text_list]\n",
    "\n"
   ]
  },
  {
   "cell_type": "code",
   "execution_count": null,
   "metadata": {},
   "outputs": [],
   "source": []
  }
 ]
}