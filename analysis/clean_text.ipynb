{
 "metadata": {
  "language_info": {
   "codemirror_mode": {
    "name": "ipython",
    "version": 3
   },
   "file_extension": ".py",
   "mimetype": "text/x-python",
   "name": "python",
   "nbconvert_exporter": "python",
   "pygments_lexer": "ipython3",
   "version": "3.7.6-final"
  },
  "orig_nbformat": 2,
  "kernelspec": {
   "name": "python37664bitanaconda3virtualenv1d87251fb1ea4b4d9fc4c3a1f1f8caf1",
   "display_name": "Python 3.7.6 64-bit ('anaconda3': virtualenv)"
  }
 },
 "nbformat": 4,
 "nbformat_minor": 2,
 "cells": [
  {
   "cell_type": "markdown",
   "metadata": {},
   "source": [
    "# Clean Reddit Text Data"
   ]
  },
  {
   "cell_type": "code",
   "execution_count": 1,
   "metadata": {},
   "outputs": [],
   "source": [
    "import disinfo as di\n",
    "from disinfo import topicAnalysis\n",
    "\n",
    "import pandas as pd\n",
    "import itertools\n",
    "\n",
    "# Read test data \n",
    "submissions = pd.read_csv(\"../test_data/example_subs.csv\")\n",
    "\n",
    "topic_a = topicAnalysis(submissions)"
   ]
  },
  {
   "cell_type": "code",
   "execution_count": 2,
   "metadata": {},
   "outputs": [],
   "source": [
    "words = topic_a.lemmas\n",
    "\n",
    "merged = list(itertools.chain(*words))"
   ]
  },
  {
   "cell_type": "code",
   "execution_count": 18,
   "metadata": {
    "tags": []
   },
   "outputs": [],
   "source": [
    "def count_words(words):\n",
    "    counts = dict()\n",
    "\n",
    "    for word in words:\n",
    "        if word in counts:\n",
    "            counts[word] += 1\n",
    "        else:\n",
    "            counts[word] = 1\n",
    "\n",
    "    return counts\n"
   ]
  },
  {
   "cell_type": "code",
   "execution_count": 37,
   "metadata": {},
   "outputs": [],
   "source": [
    "word_count = count_words(merged)\n",
    "\n",
    "word_count_ordered = sorted(word_count.items(), key=lambda x: x[1], reverse=True)\n",
    "\n",
    "word_count_dataframe = pd.DataFrame(word_count_ordered)"
   ]
  },
  {
   "cell_type": "code",
   "execution_count": 36,
   "metadata": {},
   "outputs": [
    {
     "output_type": "execute_result",
     "data": {
      "text/plain": "                                       0     1\n0                                  Trump  4277\n1                                  trump  3596\n2                                         2674\n3                            coronavirus  1917\n4                                 people  1469\n...                                  ...   ...\n36564                              Leery     1\n36565  Flyers](https://www.bloomberg.com     1\n36566                          fees?srnd     1\n36567      Out.](https://www.barrons.com     1\n36568                out-51598911239?mod     1\n\n[36569 rows x 2 columns]",
      "text/html": "<div>\n<style scoped>\n    .dataframe tbody tr th:only-of-type {\n        vertical-align: middle;\n    }\n\n    .dataframe tbody tr th {\n        vertical-align: top;\n    }\n\n    .dataframe thead th {\n        text-align: right;\n    }\n</style>\n<table border=\"1\" class=\"dataframe\">\n  <thead>\n    <tr style=\"text-align: right;\">\n      <th></th>\n      <th>0</th>\n      <th>1</th>\n    </tr>\n  </thead>\n  <tbody>\n    <tr>\n      <th>0</th>\n      <td>Trump</td>\n      <td>4277</td>\n    </tr>\n    <tr>\n      <th>1</th>\n      <td>trump</td>\n      <td>3596</td>\n    </tr>\n    <tr>\n      <th>2</th>\n      <td></td>\n      <td>2674</td>\n    </tr>\n    <tr>\n      <th>3</th>\n      <td>coronavirus</td>\n      <td>1917</td>\n    </tr>\n    <tr>\n      <th>4</th>\n      <td>people</td>\n      <td>1469</td>\n    </tr>\n    <tr>\n      <th>...</th>\n      <td>...</td>\n      <td>...</td>\n    </tr>\n    <tr>\n      <th>36564</th>\n      <td>Leery</td>\n      <td>1</td>\n    </tr>\n    <tr>\n      <th>36565</th>\n      <td>Flyers](https://www.bloomberg.com</td>\n      <td>1</td>\n    </tr>\n    <tr>\n      <th>36566</th>\n      <td>fees?srnd</td>\n      <td>1</td>\n    </tr>\n    <tr>\n      <th>36567</th>\n      <td>Out.](https://www.barrons.com</td>\n      <td>1</td>\n    </tr>\n    <tr>\n      <th>36568</th>\n      <td>out-51598911239?mod</td>\n      <td>1</td>\n    </tr>\n  </tbody>\n</table>\n<p>36569 rows × 2 columns</p>\n</div>"
     },
     "metadata": {},
     "execution_count": 36
    }
   ],
   "source": []
  },
  {
   "cell_type": "code",
   "execution_count": null,
   "metadata": {},
   "outputs": [],
   "source": []
  }
 ]
}