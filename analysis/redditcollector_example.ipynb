{
 "cells": [
  {
   "cell_type": "code",
   "execution_count": 20,
   "metadata": {},
   "outputs": [],
   "source": [
    "from redditcollector import RedditCollector\n",
    "import pandas as pd\n",
    "import pandas_gbq"
   ]
  },
  {
   "cell_type": "code",
   "execution_count": 21,
   "metadata": {},
   "outputs": [],
   "source": [
    "collector = RedditCollector(r\"../redditcollector_disinfo_config.yaml\")"
   ]
  },
  {
   "cell_type": "code",
   "execution_count": 10,
   "metadata": {},
   "outputs": [],
   "source": [
    "top_subreddits = list(set(['Coronavirus', 'insanepeoplefacebook', 'newsbotbot', 'worldnews', 'conspiracywhatever', 'AskReddit', 'conspiracytheories', 'memes', 'news', 'conspiracy_commons', 'AutoNewspaper', 'teenagers', 'ConspiracyHeadlines', 'technology', 'copypasta', 'unitedkingdom', 'tradeflags', 'OutOfTheLoop', 'nottheonion', 'removalbot', 'unpopularopinion', 'China_Flu', 'JAAGNet', 'businesstalkdaily', 'ukpolitics', 'NoStupidQuestions', 'Showerthoughts', 'unremovable', 'dangerous_tech', 'videos', 'wallstreetbets', 'rant', 'TheNewsFeed', 'Wuhan_Flu', 'skeptic', 'discordservers', 'technews', 'dankmemes', 'INDEPENDENTauto', 'CoronavirusUK', 'FreeKarma4U', 'TrueOffMyChest', 'facepalm', 'CoronavirusFOS', 'BannedDotVideo', 'europe', 'explainlikeimfive', 'TooAfraidToAsk', 'FreeKarma4You', 'conspiracy', 'insanepeoplefacebook', 'AskReddit', 'teenagers', 'copypasta', 'conspiracy_commons', 'Coronavirus', 'conspiracytheories', 'memes', 'relationship_advice', 'Showerthoughts', 'JAAGNet', 'tradeflags', 'OutOfTheLoop', 'NoStupidQuestions', 'pennystocks', 'Advice', 'conspiracywhatever', 'removalbot', 'unpopularopinion', 'technology', 'wallstreetbets', 'TrueOffMyChest', 'explainlikeimfive', 'worldnews', 'rant', 'DebateRightists', 'SAtechnews', 'AutoNewspaper', 'investing', 'Romania', 'niuz', 'CoronavirusUK', 'news', 'QAnonCasualties', 'stocks', 'funny', 'skeptic', 'China_Flu', 'newsbotbot', 'facepalm', 'askscience', 'ConspiracyHeadlines', 'u_snehawiseguy', 'TooAfraidToAsk', 'newzealand', 'Wuhan_Flu', 'videos', 'CovIdiots', 'relationships', 'conspiracy', 'unitedkingdom', 'conspiracywhatever', 'AutoNewspaper', 'worldnews', 'news', 'ConspiracyHeadlines', 'uknews', 'whatisthisthing', 'Ilford', 'Coronavirus', 'badunitedkingdom', 'crimenews', 'Jokes', 'CoronavirusUK', 'unremovable', 'CasualUK', 'ukpolitics', 'BBCtech', 'JAAGNet', 'BBCauto', 'FreeKarma4You', 'INDEPENDENTauto', 'bprogramming', 'insanepeoplefacebook', 'UKNewsByABot', 'conspiracy_commons', 'Scotland', 'AskScienceDiscussion', 'britishproblems', 'biology', 'NoFilterNews', 'europe', 'HomeNetworking', 'businesstalkdaily', 'TheNewsFeed', 'GlobalNews', 'TrueOffMyChest', 'technology', 'u_jerryfranksonJF', 'myfriendwantstoknow', 'offbeat', 'Feedimo', 'JustBadNews', 'CellBoosters', 'Economics', 'belgium', 'glasgow', 'GUARDIANauto', 'CovIdiots']))"
   ]
  },
  {
   "cell_type": "code",
   "execution_count": null,
   "metadata": {},
   "outputs": [
    {
     "name": "stderr",
     "output_type": "stream",
     "text": [
      "1it [00:03,  3.09s/it]\n"
     ]
    },
    {
     "name": "stdout",
     "output_type": "stream",
     "text": [
      "Query uuid logged: d60d3733-e150-4751-92eb-d03683b0261e\n"
     ]
    },
    {
     "name": "stderr",
     "output_type": "stream",
     "text": [
      "1it [00:01,  1.62s/it]\n",
      "1it [00:02,  2.03s/it]\n",
      "1it [00:04,  4.45s/it]\n",
      "1it [00:03,  3.94s/it]\n",
      "1it [00:02,  2.05s/it]\n",
      "0it [00:00, ?it/s]"
     ]
    }
   ],
   "source": [
    "query_uuid = collector.collect_submissions(\n",
    "    query=None,\n",
    "    start_date=\"2020/01/01\",\n",
    "    end_date=\"2020/09/15\",\n",
    "    subreddits=top_subreddits\n",
    ")"
   ]
  },
  {
   "cell_type": "code",
   "execution_count": 22,
   "metadata": {},
   "outputs": [
    {
     "name": "stderr",
     "output_type": "stream",
     "text": [
      "Downloading: 100%|██████████| 8/8 [00:00<00:00, 47.88rows/s]\n"
     ]
    }
   ],
   "source": [
    "sql = \"\"\"\n",
    "SELECT *\n",
    "FROM `covid19.redditcollector_logging`\n",
    "\"\"\"\n",
    "logged_queries = collector.query_gbq(sql)"
   ]
  },
  {
   "cell_type": "code",
   "execution_count": 23,
   "metadata": {},
   "outputs": [
    {
     "data": {
      "text/html": [
       "<div>\n",
       "<style scoped>\n",
       "    .dataframe tbody tr th:only-of-type {\n",
       "        vertical-align: middle;\n",
       "    }\n",
       "\n",
       "    .dataframe tbody tr th {\n",
       "        vertical-align: top;\n",
       "    }\n",
       "\n",
       "    .dataframe thead th {\n",
       "        text-align: right;\n",
       "    }\n",
       "</style>\n",
       "<table border=\"1\" class=\"dataframe\">\n",
       "  <thead>\n",
       "    <tr style=\"text-align: right;\">\n",
       "      <th></th>\n",
       "      <th>uuid</th>\n",
       "      <th>query</th>\n",
       "      <th>subreddits</th>\n",
       "      <th>query_datetime</th>\n",
       "      <th>start_date</th>\n",
       "      <th>end_date</th>\n",
       "    </tr>\n",
       "  </thead>\n",
       "  <tbody>\n",
       "    <tr>\n",
       "      <th>0</th>\n",
       "      <td>57db734b-cd19-48e4-9afa-d3a737463481</td>\n",
       "      <td>None</td>\n",
       "      <td>[\"AskReddit\", \"stocks\", \"conspiracytheories\", ...</td>\n",
       "      <td>2020-09-16 15:26:54.709368+00:00</td>\n",
       "      <td>2020-01-01 00:00:00+00:00</td>\n",
       "      <td>2020-09-15 00:00:00+00:00</td>\n",
       "    </tr>\n",
       "    <tr>\n",
       "      <th>1</th>\n",
       "      <td>85d20e39-ef43-41ab-8b59-8b74e09e0b9f</td>\n",
       "      <td>None</td>\n",
       "      <td>[\"teenagers\", \"videos\", \"Coronavirus\", \"GUARDI...</td>\n",
       "      <td>2020-09-16 14:16:27.681825+00:00</td>\n",
       "      <td>2020-01-01 00:00:00+00:00</td>\n",
       "      <td>2020-09-15 00:00:00+00:00</td>\n",
       "    </tr>\n",
       "    <tr>\n",
       "      <th>2</th>\n",
       "      <td>bdaa892e-74dd-49d5-b32b-52351b406443</td>\n",
       "      <td>None</td>\n",
       "      <td>[\"biology\", \"Feedimo\", \"Scotland\", \"technology...</td>\n",
       "      <td>2020-09-16 15:26:35.830688+00:00</td>\n",
       "      <td>2020-01-01 00:00:00+00:00</td>\n",
       "      <td>2020-09-15 00:00:00+00:00</td>\n",
       "    </tr>\n",
       "    <tr>\n",
       "      <th>3</th>\n",
       "      <td>c102422c-c5eb-475b-8cc3-e6f5e3acbdc8</td>\n",
       "      <td>None</td>\n",
       "      <td>[\"conspiracytheories\", \"funny\", \"businesstalkd...</td>\n",
       "      <td>2020-09-16 15:25:36.634365+00:00</td>\n",
       "      <td>2020-01-01 00:00:00+00:00</td>\n",
       "      <td>2020-09-15 00:00:00+00:00</td>\n",
       "    </tr>\n",
       "    <tr>\n",
       "      <th>4</th>\n",
       "      <td>700a0855-0027-4d42-bcb5-4b301773424f</td>\n",
       "      <td>None</td>\n",
       "      <td>[\"nottheonion\", \"investing\", \"TrueOffMyChest\",...</td>\n",
       "      <td>2020-09-16 15:29:07.296664+00:00</td>\n",
       "      <td>2020-01-01 00:00:00+00:00</td>\n",
       "      <td>2020-09-15 00:00:00+00:00</td>\n",
       "    </tr>\n",
       "  </tbody>\n",
       "</table>\n",
       "</div>"
      ],
      "text/plain": [
       "                                   uuid query  \\\n",
       "0  57db734b-cd19-48e4-9afa-d3a737463481  None   \n",
       "1  85d20e39-ef43-41ab-8b59-8b74e09e0b9f  None   \n",
       "2  bdaa892e-74dd-49d5-b32b-52351b406443  None   \n",
       "3  c102422c-c5eb-475b-8cc3-e6f5e3acbdc8  None   \n",
       "4  700a0855-0027-4d42-bcb5-4b301773424f  None   \n",
       "\n",
       "                                          subreddits  \\\n",
       "0  [\"AskReddit\", \"stocks\", \"conspiracytheories\", ...   \n",
       "1  [\"teenagers\", \"videos\", \"Coronavirus\", \"GUARDI...   \n",
       "2  [\"biology\", \"Feedimo\", \"Scotland\", \"technology...   \n",
       "3  [\"conspiracytheories\", \"funny\", \"businesstalkd...   \n",
       "4  [\"nottheonion\", \"investing\", \"TrueOffMyChest\",...   \n",
       "\n",
       "                    query_datetime                start_date  \\\n",
       "0 2020-09-16 15:26:54.709368+00:00 2020-01-01 00:00:00+00:00   \n",
       "1 2020-09-16 14:16:27.681825+00:00 2020-01-01 00:00:00+00:00   \n",
       "2 2020-09-16 15:26:35.830688+00:00 2020-01-01 00:00:00+00:00   \n",
       "3 2020-09-16 15:25:36.634365+00:00 2020-01-01 00:00:00+00:00   \n",
       "4 2020-09-16 15:29:07.296664+00:00 2020-01-01 00:00:00+00:00   \n",
       "\n",
       "                   end_date  \n",
       "0 2020-09-15 00:00:00+00:00  \n",
       "1 2020-09-15 00:00:00+00:00  \n",
       "2 2020-09-15 00:00:00+00:00  \n",
       "3 2020-09-15 00:00:00+00:00  \n",
       "4 2020-09-15 00:00:00+00:00  "
      ]
     },
     "execution_count": 23,
     "metadata": {},
     "output_type": "execute_result"
    }
   ],
   "source": [
    "logged_queries.head()"
   ]
  },
  {
   "cell_type": "markdown",
   "metadata": {},
   "source": [
    "# Querying from the database\n",
    "\n",
    "Use SQL, as with pandas_gbq.\n",
    "Should be careful to only select one uuid, else data will be too large."
   ]
  },
  {
   "cell_type": "code",
   "execution_count": 27,
   "metadata": {},
   "outputs": [
    {
     "name": "stderr",
     "output_type": "stream",
     "text": [
      "Downloading: 100%|██████████| 1794/1794 [00:01<00:00, 1561.93rows/s]\n"
     ]
    }
   ],
   "source": [
    "sql = \"\"\"\n",
    "SELECT *\n",
    "FROM `covid19.redditcollector_submissions`\n",
    "WHERE uuid = '700a0855-0027-4d42-bcb5-4b301773424f'\n",
    "\"\"\"\n",
    "submissions = collector.query_gbq(sql)"
   ]
  },
  {
   "cell_type": "code",
   "execution_count": 28,
   "metadata": {},
   "outputs": [
    {
     "data": {
      "text/plain": [
       "(1794, 75)"
      ]
     },
     "execution_count": 28,
     "metadata": {},
     "output_type": "execute_result"
    }
   ],
   "source": [
    "submissions.shape"
   ]
  },
  {
   "cell_type": "code",
   "execution_count": 30,
   "metadata": {},
   "outputs": [
    {
     "data": {
      "text/plain": [
       "Index(['uuid', 'all_awardings', 'allow_live_comments', 'author',\n",
       "       'author_flair_css_class', 'author_flair_richtext', 'author_flair_text',\n",
       "       'author_flair_type', 'author_fullname', 'author_patreon_flair',\n",
       "       'author_premium', 'awarders', 'can_mod_post', 'contest_mode', 'created',\n",
       "       'created_utc', 'crosspost_parent', 'crosspost_parent_list',\n",
       "       'distinguished', 'domain', 'full_link', 'gildings', 'id',\n",
       "       'is_crosspostable', 'is_meta', 'is_original_content',\n",
       "       'is_reddit_media_domain', 'is_robot_indexable', 'is_self', 'is_video',\n",
       "       'link_flair_background_color', 'link_flair_richtext',\n",
       "       'link_flair_template_id', 'link_flair_text', 'link_flair_text_color',\n",
       "       'link_flair_type', 'locked', 'media', 'media_embed', 'media_only',\n",
       "       'no_follow', 'num_comments', 'num_crossposts', 'over_18',\n",
       "       'parent_whitelist_status', 'permalink', 'pinned', 'post_hint',\n",
       "       'preview', 'pwls', 'removed_by_category', 'retrieved_on', 'score',\n",
       "       'secure_media', 'secure_media_embed', 'selftext', 'send_replies',\n",
       "       'spoiler', 'stickied', 'subreddit', 'subreddit_id',\n",
       "       'subreddit_subscribers', 'subreddit_type', 'suggested_sort',\n",
       "       'thumbnail', 'thumbnail_height', 'thumbnail_width', 'title',\n",
       "       'total_awards_received', 'treatment_tags', 'upvote_ratio', 'url',\n",
       "       'url_overridden_by_dest', 'whitelist_status', 'wls'],\n",
       "      dtype='object')"
      ]
     },
     "execution_count": 30,
     "metadata": {},
     "output_type": "execute_result"
    }
   ],
   "source": [
    "submissions.columns"
   ]
  },
  {
   "cell_type": "code",
   "execution_count": 31,
   "metadata": {},
   "outputs": [
    {
     "data": {
      "text/plain": [
       "array(['nottheonion'], dtype=object)"
      ]
     },
     "execution_count": 31,
     "metadata": {},
     "output_type": "execute_result"
    }
   ],
   "source": [
    "submissions.subreddit.unique()"
   ]
  },
  {
   "cell_type": "code",
   "execution_count": null,
   "metadata": {},
   "outputs": [],
   "source": []
  },
  {
   "cell_type": "code",
   "execution_count": null,
   "metadata": {},
   "outputs": [],
   "source": []
  }
 ],
 "metadata": {
  "environment": {
   "name": "tf2-2-2-gpu.2-2.m50",
   "type": "gcloud",
   "uri": "gcr.io/deeplearning-platform-release/tf2-2-2-gpu.2-2:m50"
  },
  "kernelspec": {
   "display_name": "Python 3",
   "language": "python",
   "name": "python3"
  },
  "language_info": {
   "codemirror_mode": {
    "name": "ipython",
    "version": 3
   },
   "file_extension": ".py",
   "mimetype": "text/x-python",
   "name": "python",
   "nbconvert_exporter": "python",
   "pygments_lexer": "ipython3",
   "version": "3.7.6"
  }
 },
 "nbformat": 4,
 "nbformat_minor": 4
}
