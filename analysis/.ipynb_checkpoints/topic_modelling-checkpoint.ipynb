{
 "cells": [
  {
   "cell_type": "code",
   "execution_count": 1,
   "metadata": {
    "tags": []
   },
   "outputs": [
    {
     "data": {
      "text/html": [
       "        <script type=\"text/javascript\">\n",
       "        window.PlotlyConfig = {MathJaxConfig: 'local'};\n",
       "        if (window.MathJax) {MathJax.Hub.Config({SVG: {font: \"STIX-Web\"}});}\n",
       "        if (typeof require !== 'undefined') {\n",
       "        require.undef(\"plotly\");\n",
       "        requirejs.config({\n",
       "            paths: {\n",
       "                'plotly': ['https://cdn.plot.ly/plotly-latest.min']\n",
       "            }\n",
       "        });\n",
       "        require(['plotly'], function(Plotly) {\n",
       "            window._Plotly = Plotly;\n",
       "        });\n",
       "        }\n",
       "        </script>\n",
       "        "
      ]
     },
     "metadata": {},
     "output_type": "display_data"
    }
   ],
   "source": [
    "# Usual imports\n",
    "import numpy as np\n",
    "import pandas as pd\n",
    "from tqdm import tqdm\n",
    "import string\n",
    "import matplotlib.pyplot as plt\n",
    "from sklearn.decomposition import NMF, LatentDirichletAllocation, TruncatedSVD\n",
    "from sklearn.feature_extraction.text import CountVectorizer\n",
    "from sklearn.manifold import TSNE\n",
    "import concurrent.futures\n",
    "import time\n",
    "import pyLDAvis.sklearn\n",
    "from pylab import bone, pcolor, colorbar, plot, show, rcParams, savefig\n",
    "import warnings\n",
    "warnings.filterwarnings('ignore')\n",
    "\n",
    "# Plotly based imports for visualization\n",
    "from plotly import tools\n",
    "#import plotly.plotly as py\n",
    "from plotly.offline import init_notebook_mode, iplot\n",
    "init_notebook_mode(connected=True)\n",
    "import plotly.graph_objs as go\n",
    "import plotly.figure_factory as ff\n",
    "\n",
    "# spaCy based imports\n",
    "import spacy\n",
    "from spacy.lang.en.stop_words import STOP_WORDS\n",
    "from spacy.lang.en import English"
   ]
  },
  {
   "cell_type": "markdown",
   "metadata": {},
   "source": [
    "# Topic modelling \n",
    "\n",
    "This is a exploratry analysis of topic modelling using spaCy and scikit-learn\n",
    "\n",
    "# What is topic-modelling?\n",
    "\n",
    "In machine learning and natural language processing, a topic model is a type of statistical model for discovering the abstract \"topics\" that occur in a collection of documents. Topic modeling is a frequently used text-mining tool for discovery of hidden semantic structures in a text body. Intuitively, given that a document is about a particular topic, one would expect particular words to appear in the document more or less frequently: \"dog\" and \"bone\" will appear more often in documents about dogs, \"cat\" and \"meow\" will appear in documents about cats, and \"the\" and \"is\" will appear equally in both. A document typically concerns multiple topics in different proportions; thus, in a document that is 10% about cats and 90% about dogs, there would probably be about 9 times more dog words than cat words. \n",
    "\n",
    "The \"topics\" produced by topic modeling techniques are clusters of similar words. A topic model captures this intuition in a mathematical framework, which allows examining a set of documents and discovering, based on the statistics of the words in each, what the topics might be and what each document's balance of topics is. It involves various techniques of dimensionality reduction(mostly non-linear) and unsupervised learning like LDA, SVD, autoencoders etc.\n",
    "\n",
    "Source: [Wikipedia](https://en.wikipedia.org/wiki/Topic_model)\n",
    "\n",
    "It can help with the following:\n",
    "* discovering the hidden themes in the collection.\n",
    "* classifying the documents into the discovered themes.\n",
    "* using the classification to organize/summarize/search the documents.\n"
   ]
  },
  {
   "cell_type": "code",
   "execution_count": 2,
   "metadata": {},
   "outputs": [],
   "source": [
    "# Load Data\n",
    "data = pd.read_csv(\"../test_data.csv\")\n",
    "\n",
    "# Creating a spaCy object\n",
    "nlp = spacy.load('en_core_web_md')\n",
    "\n",
    "# List of puncation and stop words\n",
    "punctuations = string.punctuation\n",
    "stopwords = list(STOP_WORDS)\n",
    "\n",
    "# Parser for subsmissions\n",
    "parser = English()\n",
    "def spacy_tokenizer(sentence):\n",
    "    mytokens = parser(sentence)\n",
    "    mytokens = [ word.lemma_.lower().strip() if word.lemma_ != \"-PRON-\" else word.lower_ for word in mytokens ]\n",
    "    mytokens = [ word for word in mytokens if word not in stopwords and word not in punctuations ]\n",
    "    mytokens = \" \".join([i for i in mytokens])\n",
    "    return mytokens"
   ]
  },
  {
   "cell_type": "code",
   "execution_count": 3,
   "metadata": {
    "tags": []
   },
   "outputs": [
    {
     "name": "stderr",
     "output_type": "stream",
     "text": [
      "100%|██████████| 686/686 [00:00<00:00, 3417.56it/s]\n"
     ]
    }
   ],
   "source": [
    "tqdm.pandas()\n",
    "subs = data[\"title\"].progress_apply(spacy_tokenizer)\n"
   ]
  },
  {
   "cell_type": "markdown",
   "metadata": {},
   "source": [
    "# Feature Extraction \n",
    "\n",
    "In order to use textual data for predictive modeling, the text must be parsed to remove certain words – this process is called tokenization. These words need to then be encoded as integers, or floating-point values, for use as inputs in machine learning algorithms. This process is called feature extraction (or vectorization).\n",
    "\n",
    "CountVectorizer is used to convert a collection of text documents to a vector of term/token counts\n",
    "\n",
    "<details>\n",
    "    <summary>CountVectorizer Details</summary>\n",
    "        - min|max_df: When building the vocabulary ignore terms that have a document frequency strictly higher than the given threshold (corpus-specific stop words).  \n",
    "        - stop_words:  words to ignore . \n",
    "        - Lowercase: Convert all characters to lowercase before tokenizing . \n",
    "        - token_pattern: Regular expression denoting what constitutes a “token . \n",
    "        \n",
    "\n",
    "</details"
   ]
  },
  {
   "cell_type": "code",
   "execution_count": 4,
   "metadata": {},
   "outputs": [],
   "source": [
    "# Creating a vectorizer\n",
    "vectorizer = CountVectorizer(min_df=5, max_df=0.9, stop_words='english', lowercase=True, token_pattern='[a-zA-Z\\-][a-zA-Z\\-]{2,}')\n",
    "\n",
    "data_vectorized = vectorizer.fit_transform(subs)"
   ]
  },
  {
   "cell_type": "markdown",
   "metadata": {},
   "source": [
    "## Latent Dirichlet Allocation Model\n",
    "> Each document can be described by a distribution of topics and each topic can be described by a distribution of words\n",
    "\n",
    "<details>\n",
    "    <summary>LDA Details</summary>\n",
    "    <h3> Latent Dirichlet Allocation with online variational Bayes algorithm </h3>\n",
    "    - n_components: Number of topics.\n",
    "    - max_iter: The maximum number of iterations.\n",
    "    - learning_method: Method used to update _component.\n",
    "</details>"
   ]
  },
  {
   "cell_type": "code",
   "execution_count": 5,
   "metadata": {
    "tags": []
   },
   "outputs": [
    {
     "name": "stdout",
     "output_type": "stream",
     "text": [
      "iteration: 1 of max_iter: 10\n",
      "iteration: 2 of max_iter: 10\n",
      "iteration: 3 of max_iter: 10\n",
      "iteration: 4 of max_iter: 10\n",
      "iteration: 5 of max_iter: 10\n",
      "iteration: 6 of max_iter: 10\n",
      "iteration: 7 of max_iter: 10\n",
      "iteration: 8 of max_iter: 10\n",
      "iteration: 9 of max_iter: 10\n",
      "iteration: 10 of max_iter: 10\n"
     ]
    }
   ],
   "source": [
    "NumTopics = 10\n",
    "# Define LDA\n",
    "lda = LatentDirichletAllocation(n_components=NumTopics, max_iter=10, learning_method='online',verbose=True)\n",
    "\n",
    "# Fit LDA\n",
    "data_lda = lda.fit_transform(data_vectorized)"
   ]
  },
  {
   "cell_type": "markdown",
   "metadata": {},
   "source": [
    "## Non-Negative matrix factorization \n",
    "Imagine if you wanted to decompose a term-document matrix, where each column represented a document, and each element in the document represented the weight of a certain word (the weight might be the raw count or the tf-idf weighted count or some other encoding scheme; those details are not important here).\n",
    "\n",
    "What happens when we decompose this into two matrices? Imagine if the documents came from news articles. The word \"eat\" would be likely to appear in food-related articles, and therefore co-occur with words like \"tasty\" and \"food\". Therefore, these words would probably be grouped together into a \"food\" component vector, and each article would have a certain weight of the \"food\" topic.\n",
    "\n",
    "Therefore, an NMF decomposition of the term-document matrix would yield components that could be considered \"topics\", and decompose each document into a weighted sum of topics. This is called topic modeling and is an important application of NMF.\n",
    "\n",
    "Note that this interpretation would not be possible with other decomposition methods. We cannot interpret what it means to have a \"negative\" weight of the food topic. This is another example where the underlying components (topics) and their weights should be non-negative.\n",
    "\n",
    "Another interesting property of NMF is that it naturally produces sparse representations. This makes sense in the case of topic modeling: documents generally do not contain a large number of topics."
   ]
  },
  {
   "cell_type": "code",
   "execution_count": 6,
   "metadata": {},
   "outputs": [],
   "source": [
    "# Non-Negative Matrix Factorization Model\n",
    "nmf = NMF(n_components=NumTopics)\n",
    "data_nmf = nmf.fit_transform(data_vectorized) "
   ]
  },
  {
   "cell_type": "code",
   "execution_count": 7,
   "metadata": {},
   "outputs": [],
   "source": [
    "# Latent Semantic Indexing Model using Truncated SVD\n",
    "lsi = TruncatedSVD(n_components=NumTopics)\n",
    "data_lsi = lsi.fit_transform(data_vectorized)"
   ]
  },
  {
   "cell_type": "code",
   "execution_count": 8,
   "metadata": {},
   "outputs": [],
   "source": [
    "# Functions for printing keywords for each topic\n",
    "def selected_topics(model, vectorizer, top_n=10):\n",
    "    for idx, topic in enumerate(model.components_):\n",
    "        print(\"Topic %d:\" % (idx))\n",
    "        print([(vectorizer.get_feature_names()[i], topic[i])\n",
    "                        for i in topic.argsort()[:-top_n - 1:-1]]) "
   ]
  },
  {
   "cell_type": "code",
   "execution_count": 9,
   "metadata": {
    "tags": []
   },
   "outputs": [
    {
     "name": "stdout",
     "output_type": "stream",
     "text": [
      "LDA Model:\n",
      "Topic 0:\n",
      "[('friends', 10.937369319828564), ('way', 8.518202550574204), ('need', 7.4327768468229705), ('comet', 5.244548941849662), ('neowise', 5.244546724234394), ('black', 5.244504030759393), ('hope', 4.430143243479485), ('today', 0.12472105737713143), ('google', 0.11147554521719723), ('going', 0.11016414648887202)]\n",
      "Topic 1:\n",
      "[('help', 19.10321964465094), ('coronavirus', 12.154169427979438), ('man', 8.576453061324285), ('right', 7.112796068704016), ('end', 6.20784551486907), ('war', 5.4363001211562505), ('messiah', 5.436056020147923), ('proxy', 5.4359954373947), ('ncov', 5.4353716720583725), ('buddha', 5.435157337532205)]\n",
      "Topic 2:\n",
      "[('question', 7.526148362140667), ('says', 6.794412849073749), ('getting', 6.720167107001997), ('mask', 3.156280252134597), ('things', 0.9676154985597257), ('old', 0.893698577577342), ('coronavirus', 0.8823666695120634), ('home', 0.8822467383857536), ('masks', 0.8821682771004901), ('want', 0.8818770169745073)]\n",
      "Topic 3:\n",
      "[('know', 11.744921785316976), ('looking', 9.772680392700263), ('think', 8.761950848134505), ('area', 7.140932113669301), ('thing', 3.474456521540412), ('big', 3.4568201665875082), ('hair', 2.6531358255761224), ('real', 1.692151081564935), ('let', 1.1019979916395621), ('come', 1.0879528538270167)]\n",
      "Topic 4:\n",
      "[('people', 21.17682975444915), ('new', 17.74808301740794), ('covid', 10.300703688738938), ('masks', 10.170155747468344), ('going', 8.844322560990783), ('let', 5.967779966650224), ('children', 5.263782704792377), ('world', 5.210073634511338), ('come', 4.434583829125447), ('right', 4.294045412679642)]\n",
      "Topic 5:\n",
      "[('time', 20.828769793763648), ('got', 14.641143152649505), ('year', 11.80218315035007), ('old', 11.44390244757388), ('state', 6.167795112096701), ('workers', 5.524936914414964), ('pandemic', 5.467665792521282), ('dad', 5.254275321545623), ('thread', 5.211064933978214), ('afford', 2.8384585968596068)]\n",
      "Topic 6:\n",
      "[('trump', 13.907184939791032), ('years', 8.819704428695402), ('season', 6.024092550233314), ('google', 5.901659758625962), ('school', 5.45584134460129), ('feel', 5.242012291525355), ('cut', 4.431955977599724), ('corona', 3.6940159768254652), ('real', 3.568043330154199), ('work', 3.4319104608516895)]\n",
      "Topic 7:\n",
      "[('covid-', 19.898501173888466), ('corona', 12.411001515170252), ('cases', 9.515833091770261), ('break', 8.019658858217628), ('tax', 6.724560564927277), ('texas', 5.502528536058044), ('new', 5.163143171517666), ('apple', 4.900115535355048), ('open', 4.2964715235695765), ('appeal', 4.145556038530622)]\n",
      "Topic 8:\n",
      "[('day', 11.257963899925377), ('hours', 4.326065544064065), ('meme', 4.29653623534757), ('body', 4.254378500634592), ('look', 2.6868487262072325), ('face', 2.562951799020659), ('like', 1.7871659065843757), ('mask', 1.6969367034796896), ('work', 0.9238607427325862), ('thing', 0.8819636570591195)]\n",
      "Topic 9:\n",
      "[('today', 14.182680445959171), ('good', 12.27019088055216), ('like', 11.165818994708404), ('stop', 9.105686459414382), ('know', 6.460637961132364), ('china', 5.345078666112464), ('chinese', 4.6148242839123546), ('type', 4.422214687319329), ('look', 1.965855052880257), ('woman', 1.840021114434359)]\n"
     ]
    }
   ],
   "source": [
    "# Keywords for topics clustered by Latent Dirichlet Allocation\n",
    "print(\"LDA Model:\")\n",
    "selected_topics(lda, vectorizer)"
   ]
  },
  {
   "cell_type": "code",
   "execution_count": 10,
   "metadata": {
    "tags": []
   },
   "outputs": [
    {
     "name": "stdout",
     "output_type": "stream",
     "text": [
      "NMF Model:\n",
      "Topic 0:\n",
      "[('coronavirus', 1.1308793198374367), ('help', 1.1172027429670486), ('end', 0.8821779074319491), ('messiah', 0.8662332245138558), ('proxy', 0.8662332245138558), ('buddha', 0.8662332245138558), ('ncov', 0.8662332245138558), ('savior', 0.8662332245138558), ('war', 0.8662332245138558), ('need', 0.037793244951954554)]\n",
      "Topic 1:\n",
      "[('people', 2.8382878409461814), ('covid', 0.41423087360436656), ('right', 0.38540812326003376), ('feel', 0.3398902302895744), ('job', 0.16897273566996615), ('live', 0.16883914421487536), ('masks', 0.14844477069663622), ('black', 0.14344240391830004), ('let', 0.14129330131941809), ('things', 0.1401513154501205)]\n",
      "Topic 2:\n",
      "[('got', 1.6315267069988064), ('old', 1.616472250316497), ('dad', 1.2388687072978648), ('year', 1.09725321395198), ('man', 0.9521088702767379), ('getting', 0.7090386910715955), ('work', 0.4676498377931813), ('years', 0.2630087046489586), ('break', 0.19167023996465463), ('woman', 0.17322717689972125)]\n",
      "Topic 3:\n",
      "[('new', 2.0483093690037113), ('cases', 0.47447480690686805), ('covid', 0.3009076569727001), ('coronavirus', 0.24818249536935355), ('area', 0.20883707535454352), ('state', 0.17710516248123048), ('looking', 0.16752356024110207), ('live', 0.156628860774511), ('chinese', 0.09937440136545073), ('friends', 0.09592893176599876)]\n",
      "Topic 4:\n",
      "[('know', 2.0944814615544844), ('need', 0.4212522447822821), ('years', 0.3173411815395353), ('looking', 0.3122293441969655), ('today', 0.2873105169211314), ('come', 0.2614642596228996), ('stop', 0.25853981420929145), ('thing', 0.25172729043808906), ('look', 0.2367240521661001), ('live', 0.14525886810789138)]\n",
      "Topic 5:\n",
      "[('time', 2.2618169635517815), ('got', 0.36094861527516203), ('day', 0.35841142647530944), ('way', 0.3543612471153984), ('going', 0.34342277551279343), ('need', 0.17316219180151238), ('break', 0.16852041494517772), ('friends', 0.15624125401474537), ('feel', 0.1524214659570974), ('texas', 0.14766436189493196)]\n",
      "Topic 6:\n",
      "[('covid-', 2.2190655844661067), ('cases', 0.448910478355177), ('state', 0.29340217121404966), ('says', 0.25878251017217296), ('home', 0.25874456803412454), ('free', 0.23437788229216508), ('right', 0.16589772137165396), ('coronavirus', 0.1627672919537257), ('children', 0.13538001757519458), ('school', 0.1264141267914822)]\n",
      "Topic 7:\n",
      "[('corona', 2.2813652646176887), ('got', 0.25113829687338934), ('stop', 0.23719035194657015), ('school', 0.21754113482255472), ('china', 0.19696856158970844), ('positive', 0.17783418200414303), ('feel', 0.17236016336735588), ('day', 0.17080361948145), ('free', 0.13447323885471113), ('season', 0.1272074400182207)]\n",
      "Topic 8:\n",
      "[('like', 1.7381624003144447), ('good', 0.43983614308323365), ('today', 0.34855567166643026), ('year', 0.3450828889939105), ('day', 0.294640263584021), ('let', 0.2559963163254209), ('feel', 0.23363770665642397), ('look', 0.22075669238210932), ('season', 0.17407191667025115), ('body', 0.1702386117353584)]\n",
      "Topic 9:\n",
      "[('trump', 1.9988750291593183), ('says', 0.34984695808120553), ('going', 0.19729837658879698), ('google', 0.1958638375226485), ('big', 0.18218717206023757), ('real', 0.1803493355613443), ('coronavirus', 0.17511392569656284), ('getting', 0.16942669323562395), ('black', 0.1659852537122129), ('pandemic', 0.16276028241154541)]\n"
     ]
    }
   ],
   "source": [
    "# Keywords for topics clustered by Latent Semantic Indexing\n",
    "print(\"NMF Model:\")\n",
    "selected_topics(nmf, vectorizer)"
   ]
  },
  {
   "cell_type": "code",
   "execution_count": 11,
   "metadata": {
    "tags": []
   },
   "outputs": [
    {
     "name": "stdout",
     "output_type": "stream",
     "text": [
      "LSI Model:\n",
      "Topic 0:\n",
      "[('coronavirus', 0.4192092783840157), ('help', 0.3954223620100332), ('end', 0.31052600952638354), ('ncov', 0.3048996975729901), ('messiah', 0.3048996975729901), ('proxy', 0.3048996975729901), ('savior', 0.3048996975729901), ('war', 0.3048996975729901), ('buddha', 0.3048996975729901), ('people', 0.061840329604567035)]\n",
      "Topic 1:\n",
      "[('people', 0.761855798452057), ('know', 0.3191666347340562), ('like', 0.25379395554456013), ('new', 0.25167492013636755), ('covid', 0.15573918799030742), ('time', 0.15267595116948096), ('got', 0.13799938586166186), ('feel', 0.13293508926789235), ('right', 0.10558060381141336), ('looking', 0.10523429841917571)]\n",
      "Topic 2:\n",
      "[('new', 0.39111677895221575), ('time', 0.31888734506954475), ('got', 0.3064998131694848), ('covid-', 0.2694505629211784), ('old', 0.267109735291045), ('year', 0.25046524308605356), ('corona', 0.22078380954907414), ('cases', 0.19313673745965945), ('dad', 0.17501689987544708), ('day', 0.15886351561426273)]\n",
      "Topic 3:\n",
      "[('time', 0.5048507622315844), ('got', 0.346796115425255), ('dad', 0.14271096766873287), ('old', 0.12329698561075801), ('feel', 0.11939707145150279), ('way', 0.09390548266573845), ('good', 0.09049022271252342), ('people', 0.0753877021935658), ('break', 0.0714673434270715), ('going', 0.0701961597993904)]\n",
      "Topic 4:\n",
      "[('know', 0.6869670072196078), ('today', 0.22949085409593128), ('like', 0.22017243613566154), ('need', 0.16537479067751337), ('look', 0.14059308778696522), ('years', 0.12911969735991666), ('year', 0.10156534292890458), ('stop', 0.09871592606179486), ('thing', 0.09530345346675347), ('day', 0.0944303433333416)]\n",
      "Topic 5:\n",
      "[('covid-', 0.5922619097206825), ('time', 0.4375875298736975), ('know', 0.17245048329457474), ('need', 0.1483567468057134), ('says', 0.11063304870305597), ('home', 0.09655138368025551), ('state', 0.09467609904585683), ('cases', 0.0839412158098751), ('going', 0.08303356651593638), ('children', 0.06661710942633424)]\n",
      "Topic 6:\n",
      "[('covid-', 0.544929102217086), ('old', 0.2664590780434608), ('year', 0.24590643794953515), ('like', 0.19417125943411692), ('right', 0.16106153076323607), ('people', 0.12989214931993598), ('trump', 0.11992792560918557), ('dad', 0.10228444771052254), ('getting', 0.09943348310263526), ('let', 0.09583440327091687)]\n",
      "Topic 7:\n",
      "[('trump', 0.6323893079146549), ('corona', 0.5764089185792318), ('know', 0.24368628611114115), ('got', 0.13429034717488753), ('stop', 0.09088555264280995), ('says', 0.08152722116050592), ('coronavirus', 0.07422062131271082), ('getting', 0.06267112888771281), ('need', 0.05571836235680424), ('years', 0.055101693261445546)]\n",
      "Topic 8:\n",
      "[('got', 0.3658322443480886), ('man', 0.2560011091369176), ('dad', 0.24998093581832), ('old', 0.20812957912938376), ('know', 0.1493939406219371), ('getting', 0.13356770872582535), ('new', 0.12406581365032718), ('covid', 0.0996022863129331), ('years', 0.09788135344895257), ('people', 0.07713201209519652)]\n",
      "Topic 9:\n",
      "[('trump', 0.569760150242757), ('today', 0.2022903700082463), ('year', 0.20213469842608353), ('old', 0.17369583312524123), ('says', 0.1515115903152598), ('getting', 0.1253891390574461), ('man', 0.1127197733480407), ('time', 0.1091489540366581), ('new', 0.10746040546638254), ('going', 0.10205361248640164)]\n"
     ]
    }
   ],
   "source": [
    "# Keywords for topics clustered by Non-Negative Matrix Factorization\n",
    "print(\"LSI Model:\")\n",
    "selected_topics(lsi, vectorizer)"
   ]
  },
  {
   "cell_type": "code",
   "execution_count": 12,
   "metadata": {
    "tags": []
   },
   "outputs": [
    {
     "name": "stdout",
     "output_type": "stream",
     "text": [
      "[0.05 0.05 0.05 0.05 0.05 0.05 0.05 0.55 0.05 0.05]\n"
     ]
    }
   ],
   "source": [
    "# Transforming an individual sentence\n",
    "text = spacy_tokenizer(\"Aromas include tropical fruit, broom, brimstone and dried herb. The palate isn't overly expressive, offering unripened apple, citrus and dried sage alongside brisk acidity.\")\n",
    "x = lda.transform(vectorizer.transform([text]))[0]\n",
    "print(x)"
   ]
  },
  {
   "cell_type": "markdown",
   "metadata": {},
   "source": [
    "# Visualizing LDA results with pyLDAvis"
   ]
  },
  {
   "cell_type": "code",
   "execution_count": 13,
   "metadata": {},
   "outputs": [
    {
     "data": {
      "text/html": [
       "\n",
       "<link rel=\"stylesheet\" type=\"text/css\" href=\"https://cdn.rawgit.com/bmabey/pyLDAvis/files/ldavis.v1.0.0.css\">\n",
       "\n",
       "\n",
       "<div id=\"ldavis_el2600953425714725281807281\"></div>\n",
       "<script type=\"text/javascript\">\n",
       "\n",
       "var ldavis_el2600953425714725281807281_data = {\"mdsDat\": {\"x\": [32.42095184326172, 0.648955225944519, 71.01968383789062, 3.7859814167022705, -42.666500091552734, -3.6216893196105957, -3.632401704788208, -36.58440017700195, 44.391380310058594, 40.235809326171875], \"y\": [8.115229606628418, 71.70709991455078, 9.971006393432617, 33.18513488769531, -9.22206974029541, -43.52651596069336, -4.171707630157471, 35.804412841796875, 50.61538314819336, -31.591665267944336], \"topics\": [1, 2, 3, 4, 5, 6, 7, 8, 9, 10], \"cluster\": [1, 1, 1, 1, 1, 1, 1, 1, 1, 1], \"Freq\": [15.517490897423519, 13.212342853374635, 12.484740689735688, 11.729053828133063, 9.659581723558585, 9.445607798901351, 7.919497433227192, 7.251556617206359, 6.629355653838548, 6.150772504601078]}, \"tinfo\": {\"Term\": [\"time\", \"day\", \"help\", \"covid-\", \"know\", \"people\", \"trump\", \"today\", \"friends\", \"question\", \"got\", \"good\", \"new\", \"looking\", \"says\", \"getting\", \"way\", \"like\", \"think\", \"need\", \"corona\", \"year\", \"coronavirus\", \"years\", \"old\", \"area\", \"stop\", \"cases\", \"hours\", \"meme\", \"people\", \"covid\", \"going\", \"children\", \"masks\", \"life\", \"new\", \"world\", \"let\", \"job\", \"come\", \"want\", \"things\", \"better\", \"free\", \"face\", \"live\", \"right\", \"positive\", \"like\", \"appeal\", \"open\", \"type\", \"chinese\", \"meme\", \"texas\", \"home\", \"woman\", \"afford\", \"hair\", \"apple\", \"black\", \"know\", \"says\", \"think\", \"year\", \"feel\", \"mask\", \"looking\", \"old\", \"need\", \"help\", \"end\", \"war\", \"messiah\", \"ncov\", \"savior\", \"buddha\", \"proxy\", \"man\", \"coronavirus\", \"right\", \"woman\", \"live\", \"afford\", \"appeal\", \"better\", \"life\", \"open\", \"free\", \"type\", \"positive\", \"want\", \"chinese\", \"home\", \"things\", \"hair\", \"hope\", \"apple\", \"thing\", \"cut\", \"hours\", \"look\", \"looking\", \"know\", \"way\", \"need\", \"got\", \"children\", \"job\", \"covid-\", \"mask\", \"covid-\", \"cases\", \"break\", \"tax\", \"texas\", \"apple\", \"open\", \"appeal\", \"corona\", \"home\", \"positive\", \"free\", \"need\", \"state\", \"new\", \"coronavirus\", \"big\", \"children\", \"type\", \"better\", \"life\", \"want\", \"afford\", \"chinese\", \"things\", \"woman\", \"thing\", \"school\", \"hair\", \"cut\", \"hours\", \"look\", \"covid\", \"know\", \"man\", \"live\", \"old\", \"workers\", \"years\", \"time\", \"time\", \"got\", \"year\", \"old\", \"workers\", \"pandemic\", \"dad\", \"thread\", \"state\", \"afford\", \"positive\", \"work\", \"man\", \"better\", \"appeal\", \"life\", \"open\", \"free\", \"type\", \"getting\", \"want\", \"chinese\", \"home\", \"woman\", \"things\", \"cut\", \"hair\", \"thing\", \"hope\", \"apple\", \"real\", \"break\", \"years\", \"good\", \"children\", \"feel\", \"corona\", \"think\", \"texas\", \"going\", \"let\", \"need\", \"day\", \"like\", \"way\", \"friends\", \"today\", \"good\", \"china\", \"chinese\", \"stop\", \"type\", \"like\", \"woman\", \"know\", \"look\", \"afford\", \"world\", \"positive\", \"life\", \"appeal\", \"better\", \"open\", \"free\", \"meme\", \"home\", \"want\", \"things\", \"hope\", \"hair\", \"come\", \"pandemic\", \"thing\", \"apple\", \"cut\", \"job\", \"face\", \"let\", \"coronavirus\", \"workers\", \"corona\", \"season\", \"year\", \"school\", \"real\", \"old\", \"way\", \"need\", \"looking\", \"man\", \"trump\", \"years\", \"season\", \"google\", \"school\", \"feel\", \"cut\", \"real\", \"work\", \"hair\", \"better\", \"corona\", \"big\", \"mask\", \"appeal\", \"life\", \"open\", \"free\", \"positive\", \"type\", \"chinese\", \"want\", \"things\", \"home\", \"woman\", \"afford\", \"thing\", \"apple\", \"hope\", \"job\", \"look\", \"way\", \"world\", \"people\", \"end\", \"come\", \"right\", \"black\", \"know\", \"coronavirus\", \"face\", \"time\", \"covid-\", \"stop\", \"like\", \"going\", \"year\", \"looking\", \"think\", \"area\", \"thing\", \"know\", \"big\", \"hair\", \"real\", \"come\", \"job\", \"look\", \"let\", \"appeal\", \"better\", \"life\", \"open\", \"free\", \"positive\", \"type\", \"want\", \"chinese\", \"home\", \"woman\", \"afford\", \"things\", \"hope\", \"apple\", \"cut\", \"mask\", \"children\", \"live\", \"dad\", \"thread\", \"time\", \"friends\", \"new\", \"years\", \"proxy\", \"tax\", \"end\", \"war\", \"like\", \"need\", \"covid\", \"right\", \"state\", \"got\", \"friends\", \"way\", \"comet\", \"neowise\", \"black\", \"hope\", \"need\", \"appeal\", \"better\", \"life\", \"open\", \"free\", \"type\", \"positive\", \"want\", \"chinese\", \"home\", \"woman\", \"things\", \"afford\", \"thing\", \"hair\", \"cut\", \"apple\", \"job\", \"thread\", \"dad\", \"big\", \"children\", \"china\", \"google\", \"texas\", \"today\", \"come\", \"going\", \"good\", \"meme\", \"real\", \"work\", \"day\", \"hours\", \"time\", \"messiah\", \"know\", \"like\", \"state\", \"savior\", \"coronavirus\", \"got\", \"new\", \"help\", \"day\", \"body\", \"hours\", \"meme\", \"look\", \"face\", \"mask\", \"thing\", \"work\", \"like\", \"appeal\", \"better\", \"life\", \"open\", \"free\", \"positive\", \"type\", \"hair\", \"want\", \"home\", \"chinese\", \"things\", \"woman\", \"afford\", \"cut\", \"apple\", \"hope\", \"thread\", \"job\", \"big\", \"neowise\", \"comet\", \"let\", \"got\", \"good\", \"years\", \"need\", \"think\", \"messiah\", \"black\", \"corona\", \"right\", \"state\", \"new\", \"trump\", \"getting\", \"masks\", \"question\", \"says\", \"getting\", \"mask\", \"things\", \"want\", \"home\", \"stop\", \"masks\", \"old\", \"coronavirus\", \"better\", \"appeal\", \"life\", \"open\", \"free\", \"positive\", \"type\", \"chinese\", \"afford\", \"woman\", \"hair\", \"job\", \"cut\", \"hope\", \"thing\", \"apple\", \"dad\", \"thread\", \"big\", \"hours\", \"texas\", \"covid-\", \"trump\", \"need\", \"friends\", \"pandemic\", \"got\", \"know\", \"neowise\", \"help\", \"workers\", \"right\", \"cases\", \"year\", \"think\"], \"Freq\": [19.0, 14.0, 19.0, 18.0, 18.0, 19.0, 14.0, 13.0, 11.0, 9.0, 13.0, 11.0, 21.0, 10.0, 9.0, 9.0, 9.0, 14.0, 9.0, 11.0, 15.0, 11.0, 17.0, 9.0, 11.0, 7.0, 10.0, 9.0, 5.0, 5.0, 18.943138120396988, 9.2142050994233, 7.911440276795559, 4.708568939205346, 9.097427106140204, 3.7629294028854607, 15.876049053111728, 4.660524999274343, 5.338309911881044, 3.80149931294488, 3.9668323802788876, 3.151727232752898, 3.1467999033875085, 2.6833888966988195, 2.4139596399963343, 2.98659689168456, 2.370395963763289, 3.8411176880976634, 0.8265490002324413, 1.839132334806803, 0.09297661752693868, 0.09309223932553785, 0.09378503650941443, 0.0947944431391503, 0.10985594017067804, 0.1069156003575784, 0.09270506707187026, 0.0923657754318389, 0.09223531125326635, 0.09269278602848036, 0.09320913380222513, 0.1003452422943384, 0.16640619393489844, 0.10959589528698951, 0.10792306723884466, 0.11219734025006212, 0.09629288353700388, 0.09731155499815762, 0.10144192270731098, 0.10209114443639086, 0.09778394487267554, 19.074751176808515, 6.198594307287404, 5.428198704847389, 5.427954967609245, 5.4272716393656655, 5.426702825624873, 5.427057624250344, 5.427894475139137, 8.563672049394352, 12.136056743942497, 7.102196263544557, 2.651979900041845, 2.5617035415585416, 1.0603843530924384, 0.13121891183730996, 0.10266305154240259, 0.10299837434886887, 0.10358441194093206, 0.10415993451690406, 0.1036342112222183, 0.10340602601697456, 0.10410382424635073, 0.10424377967973988, 0.10381366185673545, 0.10365045689137892, 0.1036157917208667, 0.10448693954501213, 0.10382369233305117, 0.10327923286303117, 0.10373942044971958, 0.10859714464639027, 0.10592885586037995, 0.1102564892748544, 0.11496010903603741, 0.10865371882133873, 0.10975779378108733, 0.11077643349945664, 0.10413981488591158, 0.10397598760629106, 0.1041798851587507, 0.10399032122784388, 17.63053473642222, 8.43124938930599, 7.105604228101375, 5.958117025552706, 4.875368232278177, 4.341616305851498, 3.8067736749812604, 3.6730590460254477, 10.996435933281836, 3.1952064833990192, 2.135429579991479, 1.5836725025604588, 3.3016517360882003, 2.390326581053912, 4.574664907627059, 3.1525508229767514, 0.38670498525786645, 0.11646910269811, 0.10067926014784002, 0.09179204021701112, 0.09158190887436139, 0.09171546821388979, 0.09248562597323982, 0.0914665201679663, 0.09224882034777936, 0.0921093505995911, 0.09303788438346239, 0.11148113902501552, 0.09191463697598945, 0.09219345899589992, 0.09530353018871181, 0.0974875331073429, 0.10054733812104039, 0.1080804912240835, 0.09771571139397922, 0.0929071247668085, 0.09711003812729566, 0.09248399816057688, 0.09341570407987534, 0.09305013940871139, 18.359973864179974, 12.90575527436322, 10.40329200073886, 10.087477653365335, 4.870076262510396, 4.8195933817857215, 4.631495692446854, 4.593406952965165, 5.4367376556064215, 2.502021298852841, 1.154126247024096, 0.8149422477144741, 0.8138622758404823, 0.0916274395487752, 0.09101785445097145, 0.09113065970403485, 0.09149415452151882, 0.09195264883415855, 0.09175122364326965, 0.16526020145360396, 0.0913446422523262, 0.09149776153766656, 0.09107426238107916, 0.09179160962738979, 0.0915616823925485, 0.09327779379880619, 0.09136959483919194, 0.09156722103599965, 0.09148792200713073, 0.09081882208583755, 0.10004364511337867, 0.12343679581122874, 0.11818542081191331, 0.10972374799504282, 0.09301866202415125, 0.09407928882789102, 0.10332854593883256, 0.09671388924252884, 0.09264061815420518, 0.09504833691130546, 0.09381429692151845, 0.0964176197481234, 0.09536676662851866, 0.09535407160697303, 0.09300232447257757, 0.09265686825014337, 12.716199900437038, 11.001460594712606, 4.792400777894755, 4.137654255359061, 8.164164009040057, 3.9649603740894395, 10.011280091223014, 1.6497640485750815, 5.792611919245355, 1.7625868341997288, 0.8284993615906088, 0.7900526725980752, 0.12794086992277412, 0.09579382869450837, 0.09303687418717722, 0.09297008251020701, 0.09308938433343547, 0.09376784228513421, 0.11448499972375965, 0.0933012263844827, 0.09232393387629309, 0.09297481934712708, 0.09501704692000709, 0.09322795601207304, 0.10448451936735303, 0.10209665848105555, 0.09266747713990925, 0.09295643575212575, 0.0930680715175501, 0.09292262805025134, 0.10203015434698434, 0.10153341575858005, 0.1197735735690565, 0.09415854551999608, 0.1045498180359119, 0.0946876258584446, 0.09741644725404958, 0.09401247818097545, 0.09375958072926027, 0.09565347192341597, 0.09482080202296525, 0.09423145213228418, 0.09419386824052565, 0.09401678437235858, 13.662353731160863, 8.664436565041697, 5.918040472378673, 5.797763067966857, 5.359793133818437, 5.14972846769295, 4.353932916621594, 3.505229154262497, 3.371492857312331, 1.7964493075281027, 1.121193526355906, 3.6289840958070685, 1.0422717709180567, 0.18161747011859022, 0.10264788345213724, 0.10173681465657194, 0.10183230352087266, 0.1020634921814557, 0.10220435508974282, 0.10218214560953154, 0.10328388502034568, 0.10138826660512124, 0.10308517788901694, 0.10179495297529305, 0.10213976475623542, 0.10199619974221748, 0.10168003272867335, 0.10198540641165647, 0.1019312017319162, 0.10173813988400222, 0.11222825757539077, 0.1192700117042293, 0.1067104517173511, 0.12632540033689618, 0.10702048127623275, 0.10353781154618202, 0.1109584166748003, 0.10356428540420476, 0.1128380211510599, 0.10953622271915198, 0.10386695232995848, 0.10902561748948461, 0.10810574737646275, 0.10466701757435672, 0.10487107424276111, 0.10392410049056355, 0.10382948449873299, 9.609832906140083, 8.615945697485321, 7.021938879502292, 3.4165597635416427, 11.549209768170336, 3.399217292759791, 2.608925180866963, 1.6639538481100506, 1.0698237039293035, 0.8662485902361465, 0.9934151484308739, 1.0836347999744673, 0.10213665033869364, 0.10170196736210624, 0.10245167424522426, 0.10160933068307523, 0.10125441761027375, 0.10196192122599897, 0.10140392072031564, 0.10217344827808063, 0.10192396328132926, 0.10172295932927429, 0.10210146973408693, 0.10183948200021682, 0.10161949233808854, 0.10220713836952348, 0.10183268841683342, 0.10146067371027269, 0.12352013758015369, 0.105003860095446, 0.10477341029003225, 0.10235991442007537, 0.10229181389983093, 0.1094546496237563, 0.10595023563297179, 0.10642058715070281, 0.10390417367891516, 0.10261641240088684, 0.10276829955974376, 0.10278887982827167, 0.10244750774498344, 0.10327876318864754, 0.10288165604560069, 0.10271030207428111, 0.10261250236524379, 0.102606271153877, 0.10244970391807369, 10.767359421675398, 8.38579605448508, 5.163027946682504, 5.163025763537732, 5.16298373368788, 4.361281328003845, 7.317242151251092, 0.10223817035578708, 0.10181362571711115, 0.1025629906272474, 0.1016500614719025, 0.10174807863497472, 0.10280902431834067, 0.10150233827234478, 0.1020277676763938, 0.10279649891673359, 0.10212564088226336, 0.10207922188288443, 0.10162038624984814, 0.1017250676035737, 0.10245690218549491, 0.10155672320614681, 0.10213183985352196, 0.10194659660983495, 0.10305839109387305, 0.10220550074776501, 0.10195718443884173, 0.10172948956965046, 0.1021992686054058, 0.10234137314426045, 0.10974277515752792, 0.10286241736815394, 0.12278239976740798, 0.10282395434402834, 0.10845176074262591, 0.10745031172435178, 0.10265609095054853, 0.10267700258254259, 0.10264474546382074, 0.10670076420541809, 0.10250013557046297, 0.10586481516382427, 0.10265252023908247, 0.10402793846547546, 0.10349073584831954, 0.1029275203481274, 0.10248171627095982, 0.10347367127775751, 0.10279357345418198, 0.10268710324940368, 0.10263118421023772, 13.13029980189374, 4.961933230611411, 5.045542698585153, 5.011102307779421, 3.13370424803646, 2.9892017595799203, 1.9791578530175666, 1.0286449072409616, 1.07750998627376, 2.0843932666484757, 0.121045532697767, 0.12043744996957179, 0.12080063382717342, 0.12009390679321676, 0.12105455507800542, 0.12058963668581063, 0.12055050773858345, 0.1267634404421605, 0.1211606464786771, 0.12119640300009131, 0.12084050296232259, 0.12167647169249383, 0.1216818843661873, 0.12085762376977918, 0.12157766533890445, 0.12062077238540408, 0.12023892033469244, 0.12093488295707161, 0.12040094492914132, 0.12068491920500322, 0.1284397592989254, 0.128207836217785, 0.1282227283925417, 0.12985694298360972, 0.12768853575035755, 0.12402263974420714, 0.12440210153296014, 0.12271480035721452, 0.12150188317589736, 0.12128960180971085, 0.12317609468496367, 0.1222123839503754, 0.1218283859919744, 0.1219306391171528, 0.12169572911375275, 0.12159437541968712, 0.12154893623561595, 9.050675443722756, 8.170716622723521, 8.08143136255644, 3.795629158096544, 1.1636196113052892, 1.0605135957809426, 1.060958209458055, 1.0599712447189187, 1.0608638547372007, 1.0747297795586597, 1.061102434318847, 0.12456784779249426, 0.12402382059180882, 0.12523018301797761, 0.12453971328791395, 0.1257184334649751, 0.12525514910957117, 0.12363191802413628, 0.12431585293534445, 0.12403983071994627, 0.12373820692731051, 0.12515057543925612, 0.13108496791774177, 0.12500603844009797, 0.12479489544406872, 0.12381266314331973, 0.12388239671226599, 0.12480404760292907, 0.12385312780688665, 0.12452439696981091, 0.1314316942093559, 0.12868315578546496, 0.1478509701717499, 0.13910606063229478, 0.13366750385488596, 0.13097937962755224, 0.12497568549641627, 0.13050385955254235, 0.13170098374245068, 0.12530125845375095, 0.12679289804343546, 0.1249045365532169, 0.12543136839809532, 0.12533288552572247, 0.12531655319928273, 0.12506037649971974], \"Total\": [19.0, 14.0, 19.0, 18.0, 18.0, 19.0, 14.0, 13.0, 11.0, 9.0, 13.0, 11.0, 21.0, 10.0, 9.0, 9.0, 9.0, 14.0, 9.0, 11.0, 15.0, 11.0, 17.0, 9.0, 11.0, 7.0, 10.0, 9.0, 5.0, 5.0, 19.899449496303433, 10.154878881810891, 8.855463561996888, 5.669888244548909, 10.966226137799682, 4.697216470881429, 21.297933794699656, 6.293007509963078, 7.268971193981635, 5.504122801865804, 5.878503189860674, 5.0184788261609725, 5.118856821841079, 4.632155927714404, 4.839351545162675, 6.795635633546292, 5.7631944886045705, 11.783064902300717, 4.898965123571233, 14.662048187659064, 4.63340136146404, 4.7377591808596655, 4.905387622023089, 5.0728174629996605, 5.953530051972192, 5.827866652315072, 5.063898866738163, 5.12975123194245, 5.126084154598127, 5.23166599305923, 5.272692250360733, 6.094462133895974, 18.29197491236003, 9.087716090514501, 9.561803545183599, 11.362267664850064, 6.077653802232837, 6.660025498031949, 10.548129115452012, 11.985992091742789, 11.480235321464853, 19.99760246252515, 7.123414012120199, 6.34682536070253, 6.347417503634728, 6.347597507696354, 6.347386689747393, 6.3490312993008695, 6.35016817257983, 10.212494443023367, 17.090876815036193, 11.783064902300717, 5.12975123194245, 5.7631944886045705, 5.126084154598127, 4.63340136146404, 4.632155927714404, 4.697216470881429, 4.7377591808596655, 4.839351545162675, 4.905387622023089, 4.898965123571233, 5.0184788261609725, 5.0728174629996605, 5.063898866738163, 5.118856821841079, 5.23166599305923, 5.286279702098466, 5.272692250360733, 5.246581467801223, 5.279125966955132, 5.965168250329247, 6.6170831681522655, 10.548129115452012, 18.29197491236003, 9.333638250651763, 11.480235321464853, 13.863515351346651, 5.669888244548909, 5.504122801865804, 18.593337020133188, 6.660025498031949, 18.593337020133188, 9.362688966399473, 8.068301233624595, 6.89101318549435, 5.827866652315072, 5.272692250360733, 4.7377591808596655, 4.63340136146404, 15.48167481360729, 5.063898866738163, 4.898965123571233, 4.839351545162675, 11.480235321464853, 8.669675577480005, 21.297933794699656, 17.090876815036193, 5.556578633395291, 5.669888244548909, 4.905387622023089, 4.632155927714404, 4.697216470881429, 5.0184788261609725, 5.126084154598127, 5.0728174629996605, 5.118856821841079, 5.12975123194245, 5.246581467801223, 6.303589157519043, 5.23166599305923, 5.279125966955132, 5.965168250329247, 6.6170831681522655, 10.154878881810891, 18.29197491236003, 10.212494443023367, 5.7631944886045705, 11.985992091742789, 5.804800717863492, 9.619248766093262, 19.313492934120777, 19.313492934120777, 13.863515351346651, 11.362267664850064, 11.985992091742789, 5.804800717863492, 5.763409610723099, 5.564640666652305, 5.526284431491603, 8.669675577480005, 5.126084154598127, 4.898965123571233, 5.973248481110281, 10.212494443023367, 4.632155927714404, 4.63340136146404, 4.697216470881429, 4.7377591808596655, 4.839351545162675, 4.905387622023089, 9.055691282802973, 5.0184788261609725, 5.0728174629996605, 5.063898866738163, 5.12975123194245, 5.118856821841079, 5.279125966955132, 5.23166599305923, 5.246581467801223, 5.286279702098466, 5.272692250360733, 5.998556167266162, 8.068301233624595, 9.619248766093262, 11.963527555900374, 5.669888244548909, 6.077653802232837, 15.48167481360729, 9.561803545183599, 5.827866652315072, 8.855463561996888, 7.268971193981635, 11.480235321464853, 14.042179618886005, 14.662048187659064, 9.333638250651763, 11.701484743744926, 13.671099839534682, 11.963527555900374, 5.721722135957436, 5.0728174629996605, 10.032974713382014, 4.905387622023089, 14.662048187659064, 5.12975123194245, 18.29197491236003, 6.6170831681522655, 5.126084154598127, 6.293007509963078, 4.898965123571233, 4.697216470881429, 4.63340136146404, 4.632155927714404, 4.7377591808596655, 4.839351545162675, 5.953530051972192, 5.063898866738163, 5.0184788261609725, 5.118856821841079, 5.286279702098466, 5.23166599305923, 5.878503189860674, 5.763409610723099, 5.246581467801223, 5.272692250360733, 5.279125966955132, 5.504122801865804, 6.795635633546292, 7.268971193981635, 17.090876815036193, 5.804800717863492, 15.48167481360729, 6.843250043047422, 11.362267664850064, 6.303589157519043, 5.998556167266162, 11.985992091742789, 9.333638250651763, 11.480235321464853, 10.548129115452012, 10.212494443023367, 14.602177910553696, 9.619248766093262, 6.843250043047422, 6.72690418664428, 6.303589157519043, 6.077653802232837, 5.279125966955132, 5.998556167266162, 5.973248481110281, 5.23166599305923, 4.632155927714404, 15.48167481360729, 5.556578633395291, 6.660025498031949, 4.63340136146404, 4.697216470881429, 4.7377591808596655, 4.839351545162675, 4.898965123571233, 4.905387622023089, 5.0728174629996605, 5.0184788261609725, 5.118856821841079, 5.063898866738163, 5.12975123194245, 5.126084154598127, 5.246581467801223, 5.272692250360733, 5.286279702098466, 5.504122801865804, 6.6170831681522655, 9.333638250651763, 6.293007509963078, 19.899449496303433, 7.123414012120199, 5.878503189860674, 11.783064902300717, 6.094462133895974, 18.29197491236003, 17.090876815036193, 6.795635633546292, 19.313492934120777, 18.593337020133188, 10.032974713382014, 14.662048187659064, 8.855463561996888, 11.362267664850064, 10.548129115452012, 9.561803545183599, 7.944336591002738, 5.246581467801223, 18.29197491236003, 5.556578633395291, 5.23166599305923, 5.998556167266162, 5.878503189860674, 5.504122801865804, 6.6170831681522655, 7.268971193981635, 4.63340136146404, 4.632155927714404, 4.697216470881429, 4.7377591808596655, 4.839351545162675, 4.898965123571233, 4.905387622023089, 5.0184788261609725, 5.0728174629996605, 5.063898866738163, 5.12975123194245, 5.126084154598127, 5.118856821841079, 5.286279702098466, 5.272692250360733, 5.279125966955132, 6.660025498031949, 5.669888244548909, 5.7631944886045705, 5.564640666652305, 5.526284431491603, 19.313492934120777, 11.701484743744926, 21.297933794699656, 9.619248766093262, 6.35016817257983, 6.89101318549435, 7.123414012120199, 6.34682536070253, 14.662048187659064, 11.480235321464853, 10.154878881810891, 11.783064902300717, 8.669675577480005, 13.863515351346651, 11.701484743744926, 9.333638250651763, 6.091365699648648, 6.091666487274812, 6.094462133895974, 5.286279702098466, 11.480235321464853, 4.63340136146404, 4.632155927714404, 4.697216470881429, 4.7377591808596655, 4.839351545162675, 4.905387622023089, 4.898965123571233, 5.0184788261609725, 5.0728174629996605, 5.063898866738163, 5.12975123194245, 5.118856821841079, 5.126084154598127, 5.246581467801223, 5.23166599305923, 5.279125966955132, 5.272692250360733, 5.504122801865804, 5.526284431491603, 5.564640666652305, 5.556578633395291, 5.669888244548909, 5.721722135957436, 6.72690418664428, 5.827866652315072, 13.671099839534682, 5.878503189860674, 8.855463561996888, 11.963527555900374, 5.953530051972192, 5.998556167266162, 5.973248481110281, 14.042179618886005, 5.965168250329247, 19.313492934120777, 6.347417503634728, 18.29197491236003, 14.662048187659064, 8.669675577480005, 6.347386689747393, 17.090876815036193, 13.863515351346651, 21.297933794699656, 19.99760246252515, 14.042179618886005, 5.8652949057290105, 5.965168250329247, 5.953530051972192, 6.6170831681522655, 6.795635633546292, 6.660025498031949, 5.246581467801223, 5.973248481110281, 14.662048187659064, 4.63340136146404, 4.632155927714404, 4.697216470881429, 4.7377591808596655, 4.839351545162675, 4.898965123571233, 4.905387622023089, 5.23166599305923, 5.0184788261609725, 5.063898866738163, 5.0728174629996605, 5.118856821841079, 5.12975123194245, 5.126084154598127, 5.279125966955132, 5.272692250360733, 5.286279702098466, 5.526284431491603, 5.504122801865804, 5.556578633395291, 6.091666487274812, 6.091365699648648, 7.268971193981635, 13.863515351346651, 11.963527555900374, 9.619248766093262, 11.480235321464853, 9.561803545183599, 6.347417503634728, 6.094462133895974, 15.48167481360729, 11.783064902300717, 8.669675577480005, 21.297933794699656, 14.602177910553696, 9.055691282802973, 10.966226137799682, 9.949049754881385, 9.087716090514501, 9.055691282802973, 6.660025498031949, 5.118856821841079, 5.0184788261609725, 5.063898866738163, 10.032974713382014, 10.966226137799682, 11.985992091742789, 17.090876815036193, 4.632155927714404, 4.63340136146404, 4.697216470881429, 4.7377591808596655, 4.839351545162675, 4.898965123571233, 4.905387622023089, 5.0728174629996605, 5.126084154598127, 5.12975123194245, 5.23166599305923, 5.504122801865804, 5.279125966955132, 5.286279702098466, 5.246581467801223, 5.272692250360733, 5.564640666652305, 5.526284431491603, 5.556578633395291, 5.965168250329247, 5.827866652315072, 18.593337020133188, 14.602177910553696, 11.480235321464853, 11.701484743744926, 5.763409610723099, 13.863515351346651, 18.29197491236003, 6.091666487274812, 19.99760246252515, 5.804800717863492, 11.783064902300717, 9.362688966399473, 11.362267664850064, 9.561803545183599], \"Category\": [\"Default\", \"Default\", \"Default\", \"Default\", \"Default\", \"Default\", \"Default\", \"Default\", \"Default\", \"Default\", \"Default\", \"Default\", \"Default\", \"Default\", \"Default\", \"Default\", \"Default\", \"Default\", \"Default\", \"Default\", \"Default\", \"Default\", \"Default\", \"Default\", \"Default\", \"Default\", \"Default\", \"Default\", \"Default\", \"Default\", \"Topic1\", \"Topic1\", \"Topic1\", \"Topic1\", \"Topic1\", \"Topic1\", \"Topic1\", \"Topic1\", \"Topic1\", \"Topic1\", \"Topic1\", \"Topic1\", \"Topic1\", \"Topic1\", \"Topic1\", \"Topic1\", \"Topic1\", \"Topic1\", \"Topic1\", \"Topic1\", \"Topic1\", \"Topic1\", \"Topic1\", \"Topic1\", \"Topic1\", \"Topic1\", \"Topic1\", \"Topic1\", \"Topic1\", \"Topic1\", \"Topic1\", \"Topic1\", \"Topic1\", \"Topic1\", \"Topic1\", \"Topic1\", \"Topic1\", \"Topic1\", \"Topic1\", \"Topic1\", \"Topic1\", \"Topic2\", \"Topic2\", \"Topic2\", \"Topic2\", \"Topic2\", \"Topic2\", \"Topic2\", \"Topic2\", \"Topic2\", \"Topic2\", \"Topic2\", \"Topic2\", \"Topic2\", \"Topic2\", \"Topic2\", \"Topic2\", \"Topic2\", \"Topic2\", \"Topic2\", \"Topic2\", \"Topic2\", \"Topic2\", \"Topic2\", \"Topic2\", \"Topic2\", \"Topic2\", \"Topic2\", \"Topic2\", \"Topic2\", \"Topic2\", \"Topic2\", \"Topic2\", \"Topic2\", \"Topic2\", \"Topic2\", \"Topic2\", \"Topic2\", \"Topic2\", \"Topic2\", \"Topic2\", \"Topic2\", \"Topic3\", \"Topic3\", \"Topic3\", \"Topic3\", \"Topic3\", \"Topic3\", \"Topic3\", \"Topic3\", \"Topic3\", \"Topic3\", \"Topic3\", \"Topic3\", \"Topic3\", \"Topic3\", \"Topic3\", \"Topic3\", \"Topic3\", \"Topic3\", \"Topic3\", \"Topic3\", \"Topic3\", \"Topic3\", \"Topic3\", \"Topic3\", \"Topic3\", \"Topic3\", \"Topic3\", \"Topic3\", \"Topic3\", \"Topic3\", \"Topic3\", \"Topic3\", \"Topic3\", \"Topic3\", \"Topic3\", \"Topic3\", \"Topic3\", \"Topic3\", \"Topic3\", \"Topic3\", \"Topic4\", \"Topic4\", \"Topic4\", \"Topic4\", \"Topic4\", \"Topic4\", \"Topic4\", \"Topic4\", \"Topic4\", \"Topic4\", \"Topic4\", \"Topic4\", \"Topic4\", \"Topic4\", \"Topic4\", \"Topic4\", \"Topic4\", \"Topic4\", \"Topic4\", \"Topic4\", \"Topic4\", \"Topic4\", \"Topic4\", \"Topic4\", \"Topic4\", \"Topic4\", \"Topic4\", \"Topic4\", \"Topic4\", \"Topic4\", \"Topic4\", \"Topic4\", \"Topic4\", \"Topic4\", \"Topic4\", \"Topic4\", \"Topic4\", \"Topic4\", \"Topic4\", \"Topic4\", \"Topic4\", \"Topic4\", \"Topic4\", \"Topic4\", \"Topic4\", \"Topic4\", \"Topic5\", \"Topic5\", \"Topic5\", \"Topic5\", \"Topic5\", \"Topic5\", \"Topic5\", \"Topic5\", \"Topic5\", \"Topic5\", \"Topic5\", \"Topic5\", \"Topic5\", \"Topic5\", \"Topic5\", \"Topic5\", \"Topic5\", \"Topic5\", \"Topic5\", \"Topic5\", \"Topic5\", \"Topic5\", \"Topic5\", \"Topic5\", \"Topic5\", \"Topic5\", \"Topic5\", \"Topic5\", \"Topic5\", \"Topic5\", \"Topic5\", \"Topic5\", \"Topic5\", \"Topic5\", \"Topic5\", \"Topic5\", \"Topic5\", \"Topic5\", \"Topic5\", \"Topic5\", \"Topic5\", \"Topic5\", \"Topic5\", \"Topic5\", \"Topic6\", \"Topic6\", \"Topic6\", \"Topic6\", \"Topic6\", \"Topic6\", \"Topic6\", \"Topic6\", \"Topic6\", \"Topic6\", \"Topic6\", \"Topic6\", \"Topic6\", \"Topic6\", \"Topic6\", \"Topic6\", \"Topic6\", \"Topic6\", \"Topic6\", \"Topic6\", \"Topic6\", \"Topic6\", \"Topic6\", \"Topic6\", \"Topic6\", \"Topic6\", \"Topic6\", \"Topic6\", \"Topic6\", \"Topic6\", \"Topic6\", \"Topic6\", \"Topic6\", \"Topic6\", \"Topic6\", \"Topic6\", \"Topic6\", \"Topic6\", \"Topic6\", \"Topic6\", \"Topic6\", \"Topic6\", \"Topic6\", \"Topic6\", \"Topic6\", \"Topic6\", \"Topic6\", \"Topic7\", \"Topic7\", \"Topic7\", \"Topic7\", \"Topic7\", \"Topic7\", \"Topic7\", \"Topic7\", \"Topic7\", \"Topic7\", \"Topic7\", \"Topic7\", \"Topic7\", \"Topic7\", \"Topic7\", \"Topic7\", \"Topic7\", \"Topic7\", \"Topic7\", \"Topic7\", \"Topic7\", \"Topic7\", \"Topic7\", \"Topic7\", \"Topic7\", \"Topic7\", \"Topic7\", \"Topic7\", \"Topic7\", \"Topic7\", \"Topic7\", \"Topic7\", \"Topic7\", \"Topic7\", \"Topic7\", \"Topic7\", \"Topic7\", \"Topic7\", \"Topic7\", \"Topic7\", \"Topic7\", \"Topic7\", \"Topic7\", \"Topic7\", \"Topic7\", \"Topic7\", \"Topic7\", \"Topic8\", \"Topic8\", \"Topic8\", \"Topic8\", \"Topic8\", \"Topic8\", \"Topic8\", \"Topic8\", \"Topic8\", \"Topic8\", \"Topic8\", \"Topic8\", \"Topic8\", \"Topic8\", \"Topic8\", \"Topic8\", \"Topic8\", \"Topic8\", \"Topic8\", \"Topic8\", \"Topic8\", \"Topic8\", \"Topic8\", \"Topic8\", \"Topic8\", \"Topic8\", \"Topic8\", \"Topic8\", \"Topic8\", \"Topic8\", \"Topic8\", \"Topic8\", \"Topic8\", \"Topic8\", \"Topic8\", \"Topic8\", \"Topic8\", \"Topic8\", \"Topic8\", \"Topic8\", \"Topic8\", \"Topic8\", \"Topic8\", \"Topic8\", \"Topic8\", \"Topic8\", \"Topic8\", \"Topic8\", \"Topic8\", \"Topic8\", \"Topic8\", \"Topic9\", \"Topic9\", \"Topic9\", \"Topic9\", \"Topic9\", \"Topic9\", \"Topic9\", \"Topic9\", \"Topic9\", \"Topic9\", \"Topic9\", \"Topic9\", \"Topic9\", \"Topic9\", \"Topic9\", \"Topic9\", \"Topic9\", \"Topic9\", \"Topic9\", \"Topic9\", \"Topic9\", \"Topic9\", \"Topic9\", \"Topic9\", \"Topic9\", \"Topic9\", \"Topic9\", \"Topic9\", \"Topic9\", \"Topic9\", \"Topic9\", \"Topic9\", \"Topic9\", \"Topic9\", \"Topic9\", \"Topic9\", \"Topic9\", \"Topic9\", \"Topic9\", \"Topic9\", \"Topic9\", \"Topic9\", \"Topic9\", \"Topic9\", \"Topic9\", \"Topic9\", \"Topic9\", \"Topic10\", \"Topic10\", \"Topic10\", \"Topic10\", \"Topic10\", \"Topic10\", \"Topic10\", \"Topic10\", \"Topic10\", \"Topic10\", \"Topic10\", \"Topic10\", \"Topic10\", \"Topic10\", \"Topic10\", \"Topic10\", \"Topic10\", \"Topic10\", \"Topic10\", \"Topic10\", \"Topic10\", \"Topic10\", \"Topic10\", \"Topic10\", \"Topic10\", \"Topic10\", \"Topic10\", \"Topic10\", \"Topic10\", \"Topic10\", \"Topic10\", \"Topic10\", \"Topic10\", \"Topic10\", \"Topic10\", \"Topic10\", \"Topic10\", \"Topic10\", \"Topic10\", \"Topic10\", \"Topic10\", \"Topic10\", \"Topic10\", \"Topic10\", \"Topic10\", \"Topic10\"], \"logprob\": [30.0, 29.0, 28.0, 27.0, 26.0, 25.0, 24.0, 23.0, 22.0, 21.0, 20.0, 19.0, 18.0, 17.0, 16.0, 15.0, 14.0, 13.0, 12.0, 11.0, 10.0, 9.0, 8.0, 7.0, 6.0, 5.0, 4.0, 3.0, 2.0, 1.0, -1.8221, -2.5428, -2.6952, -3.2141, -2.5555, -3.4383, -1.9987, -3.2244, -3.0886, -3.4281, -3.3855, -3.6156, -3.6171, -3.7764, -3.8822, -3.6694, -3.9005, -3.4178, -4.954, -4.1542, -7.1389, -7.1377, -7.1303, -7.1196, -6.9721, -6.9992, -7.1418, -7.1455, -7.1469, -7.142, -7.1364, -7.0627, -6.5568, -6.9745, -6.9899, -6.951, -7.1039, -7.0934, -7.0518, -7.0454, -7.0885, -1.6543, -2.7784, -2.9111, -2.9111, -2.9113, -2.9114, -2.9113, -2.9111, -2.4552, -2.1065, -2.6423, -3.6274, -3.662, -4.5441, -6.6336, -6.879, -6.8757, -6.8701, -6.8645, -6.8696, -6.8718, -6.8651, -6.8637, -6.8679, -6.8694, -6.8698, -6.8614, -6.8678, -6.873, -6.8686, -6.8228, -6.8477, -6.8076, -6.7659, -6.8223, -6.8122, -6.8029, -6.8647, -6.8663, -6.8643, -6.8662, -1.6764, -2.4141, -2.5852, -2.7613, -2.9619, -3.0778, -3.2093, -3.245, -2.1485, -3.3844, -3.7874, -4.0863, -3.3516, -3.6746, -3.0255, -3.3978, -5.4961, -6.6962, -6.8419, -6.9343, -6.9366, -6.9351, -6.9268, -6.9378, -6.9293, -6.9308, -6.9208, -6.74, -6.9329, -6.9299, -6.8967, -6.8741, -6.8432, -6.7709, -6.8717, -6.9222, -6.878, -6.9268, -6.9168, -6.9207, -1.5734, -1.9259, -2.1415, -2.1723, -2.9005, -2.9109, -2.9507, -2.959, -2.7904, -3.5665, -4.3403, -4.6883, -4.6896, -6.8736, -6.8803, -6.8791, -6.8751, -6.8701, -6.8723, -6.2839, -6.8767, -6.8751, -6.8797, -6.8719, -6.8744, -6.8558, -6.8765, -6.8743, -6.8752, -6.8825, -6.7858, -6.5756, -6.6191, -6.6934, -6.8586, -6.8472, -6.7535, -6.8196, -6.8626, -6.837, -6.8501, -6.8227, -6.8336, -6.8338, -6.8587, -6.8625, -1.7466, -1.8915, -2.7225, -2.8694, -2.1897, -2.912, -1.9858, -3.7889, -2.5329, -3.7227, -4.4776, -4.5252, -6.3457, -6.6351, -6.6643, -6.665, -6.6637, -6.6564, -6.4568, -6.6614, -6.6719, -6.6649, -6.6432, -6.6622, -6.5482, -6.5713, -6.6682, -6.6651, -6.6639, -6.6655, -6.572, -6.5769, -6.4117, -6.6523, -6.5476, -6.6467, -6.6183, -6.6538, -6.6565, -6.6365, -6.6453, -6.6515, -6.6519, -6.6538, -1.6525, -2.1079, -2.4891, -2.5096, -2.5882, -2.6282, -2.796, -3.0128, -3.0517, -3.6813, -4.1527, -2.9781, -4.2257, -5.973, -6.5435, -6.5525, -6.5515, -6.5493, -6.5479, -6.5481, -6.5374, -6.5559, -6.5393, -6.5519, -6.5485, -6.5499, -6.553, -6.55, -6.5506, -6.5525, -6.4543, -6.3935, -6.5047, -6.336, -6.5018, -6.5349, -6.4657, -6.5347, -6.4489, -6.4786, -6.5317, -6.4833, -6.4917, -6.5241, -6.5221, -6.5312, -6.5321, -1.8281, -1.9373, -2.1418, -2.8622, -1.6443, -2.8673, -3.1319, -3.5817, -4.0234, -4.2345, -4.0975, -4.0106, -6.3723, -6.3766, -6.3692, -6.3775, -6.381, -6.374, -6.3795, -6.372, -6.3744, -6.3764, -6.3727, -6.3752, -6.3774, -6.3716, -6.3753, -6.379, -6.1822, -6.3446, -6.3468, -6.3701, -6.3708, -6.3031, -6.3357, -6.3312, -6.3552, -6.3676, -6.3662, -6.366, -6.3693, -6.3612, -6.3651, -6.3667, -6.3677, -6.3677, -6.3693, -1.6262, -1.8762, -2.3612, -2.3612, -2.3612, -2.53, -2.0125, -6.2832, -6.2874, -6.28, -6.289, -6.288, -6.2776, -6.2904, -6.2853, -6.2778, -6.2843, -6.2848, -6.2893, -6.2882, -6.2811, -6.2899, -6.2843, -6.2861, -6.2752, -6.2835, -6.286, -6.2882, -6.2836, -6.2822, -6.2124, -6.2771, -6.1001, -6.2775, -6.2242, -6.2335, -6.2791, -6.2789, -6.2792, -6.2405, -6.2807, -6.2484, -6.2792, -6.2659, -6.271, -6.2765, -6.2808, -6.2712, -6.2778, -6.2788, -6.2794, -1.3381, -2.3113, -2.2945, -2.3014, -2.7708, -2.818, -3.2304, -3.8848, -3.8384, -3.1786, -6.0246, -6.0297, -6.0267, -6.0325, -6.0246, -6.0284, -6.0287, -5.9785, -6.0237, -6.0234, -6.0263, -6.0194, -6.0194, -6.0262, -6.0203, -6.0282, -6.0313, -6.0256, -6.03, -6.0276, -5.9654, -5.9672, -5.967, -5.9544, -5.9712, -6.0003, -5.9973, -6.0109, -6.0209, -6.0226, -6.0072, -6.0151, -6.0182, -6.0174, -6.0193, -6.0201, -6.0205, -1.6353, -1.7376, -1.7486, -2.5043, -3.6866, -3.7794, -3.779, -3.7799, -3.779, -3.7661, -3.7788, -5.921, -5.9254, -5.9157, -5.9213, -5.9118, -5.9155, -5.9286, -5.9231, -5.9253, -5.9277, -5.9164, -5.87, -5.9175, -5.9192, -5.9271, -5.9265, -5.9191, -5.9268, -5.9214, -5.8674, -5.8885, -5.7497, -5.8106, -5.8505, -5.8708, -5.9178, -5.8745, -5.8653, -5.9152, -5.9033, -5.9183, -5.9141, -5.9149, -5.915, -5.9171], \"loglift\": [30.0, 29.0, 28.0, 27.0, 26.0, 25.0, 24.0, 23.0, 22.0, 21.0, 20.0, 19.0, 18.0, 17.0, 16.0, 15.0, 14.0, 13.0, 12.0, 11.0, 10.0, 9.0, 8.0, 7.0, 6.0, 5.0, 4.0, 3.0, 2.0, 1.0, 1.814, 1.766, 1.7505, 1.6774, 1.6764, 1.6414, 1.5694, 1.5629, 1.5545, 1.4931, 1.4699, 1.398, 1.3767, 1.3173, 1.1677, 1.0411, 0.9748, 0.7423, 0.0837, -0.2128, -2.0455, -2.0665, -2.0939, -2.1167, -2.1294, -2.1352, -2.1373, -2.1539, -2.1546, -2.17, -2.1722, -2.2433, -2.8366, -2.5547, -2.6209, -2.7546, -2.2818, -2.3628, -2.781, -2.9024, -2.9024, 1.9768, 1.885, 1.8677, 1.8675, 1.8674, 1.8673, 1.8671, 1.8671, 1.8479, 1.6817, 1.5178, 1.3643, 1.2132, 0.4483, -1.5402, -1.7853, -1.796, -1.7989, -1.8146, -1.8332, -1.8341, -1.8515, -1.8609, -1.8633, -1.8756, -1.8978, -1.8998, -1.9036, -1.9039, -1.9056, -1.982, -2.1106, -2.5369, -3.0456, -2.4292, -2.6261, -2.8055, -1.9732, -1.9451, -3.1604, -2.1356, 2.0275, 1.9759, 1.9536, 1.9352, 1.9022, 1.8864, 1.8619, 1.8484, 1.7386, 1.6202, 1.2503, 0.9636, 0.8345, 0.7923, 0.5426, 0.3903, -0.5844, -1.8046, -1.8055, -1.8406, -1.8568, -1.9215, -1.9344, -1.935, -1.9355, -1.9392, -1.9517, -1.9544, -1.961, -1.967, -2.056, -2.137, -2.5344, -3.0507, -2.5686, -2.047, -2.735, -2.0587, -2.5538, -3.2548, 2.0925, 2.0715, 2.0549, 1.9707, 1.9675, 1.9643, 1.9595, 1.9582, 1.6764, 1.4259, 0.6974, 0.1512, -0.3865, -1.7799, -1.7869, -1.7993, -1.8039, -1.8202, -1.8359, -1.8605, -1.8631, -1.8722, -1.8751, -1.8802, -1.8806, -1.8928, -1.9045, -1.9052, -1.9136, -1.9183, -1.9506, -2.0369, -2.2562, -2.5486, -1.967, -2.0251, -2.8664, -2.4507, -1.9986, -2.3913, -2.207, -2.6366, -2.849, -2.8923, -2.4657, -2.6955, 2.2648, 2.2534, 2.16, 2.1335, 2.1311, 2.1244, 1.9557, 1.2028, 1.1873, 1.0143, 0.5147, 0.2621, -1.308, -1.5553, -1.5708, -1.5713, -1.5925, -1.6065, -1.6141, -1.6568, -1.6584, -1.6711, -1.6816, -1.6902, -1.6928, -1.6961, -1.6991, -1.7009, -1.701, -1.7443, -1.8615, -1.9338, -2.6235, -1.7842, -2.6605, -1.9432, -2.4218, -1.8682, -1.8213, -2.4935, -2.2522, -2.4654, -2.3811, -2.3507, 2.2931, 2.2551, 2.2144, 2.211, 2.1974, 2.1939, 2.1669, 1.8224, 1.7877, 1.2907, 0.941, 0.9089, 0.686, -1.2424, -1.4501, -1.4727, -1.4804, -1.4993, -1.5102, -1.5117, -1.5345, -1.5423, -1.5455, -1.5473, -1.5568, -1.5575, -1.5839, -1.5858, -1.589, -1.6312, -1.7173, -2.0004, -1.7175, -2.7, -1.8385, -1.6795, -2.3056, -1.7153, -2.7286, -2.6904, -1.8213, -2.8174, -2.7878, -2.2032, -2.5807, -2.0855, -2.3357, 2.4427, 2.4317, 2.4124, 2.1069, 2.076, 2.0444, 1.8401, 1.2535, 0.832, 0.6868, 0.6396, 0.6325, -1.2789, -1.2829, -1.2895, -1.3063, -1.3311, -1.3363, -1.3431, -1.3584, -1.3716, -1.3718, -1.381, -1.3829, -1.3836, -1.41, -1.4111, -1.416, -1.4516, -1.4531, -1.4716, -1.4599, -1.4536, -2.6372, -2.1687, -2.7631, -1.9922, -1.5894, -1.6697, -1.7026, -1.5905, -2.4197, -2.179, -2.058, -2.2076, -1.9008, -2.3718, 2.5408, 2.5169, 2.4586, 2.4586, 2.4581, 2.4316, 2.1736, -1.1898, -1.1937, -1.2003, -1.2178, -1.2381, -1.2413, -1.2527, -1.2717, -1.2749, -1.2797, -1.2931, -1.2955, -1.2959, -1.3119, -1.3179, -1.3213, -1.3219, -1.354, -1.3663, -1.3757, -1.3765, -1.392, -1.3998, -1.4918, -1.4131, -2.0887, -1.4221, -1.7785, -2.0886, -1.4364, -1.4437, -1.4398, -2.2558, -1.4399, -2.5824, -1.5005, -2.5456, -2.3296, -1.8096, -1.5022, -2.483, -2.2803, -2.7107, -2.6483, 2.6465, 2.5464, 2.5462, 2.5413, 1.9662, 1.8924, 1.5002, 1.0843, 1.001, 0.7629, -0.9312, -0.936, -0.9469, -0.9614, -0.9746, -0.9907, -0.9924, -1.0065, -1.0101, -1.0188, -1.0235, -1.0257, -1.0277, -1.0338, -1.0573, -1.064, -1.0697, -1.1084, -1.1088, -1.1159, -1.1456, -1.1473, -1.3239, -1.9569, -1.8264, -1.6374, -1.8112, -1.642, -1.2422, -1.2033, -2.1201, -1.855, -1.5513, -2.4493, -2.0737, -1.5968, -1.7886, 2.694, 2.6822, 2.6748, 2.2263, 1.3072, 1.2342, 1.2256, 0.541, 0.4529, 0.3769, 0.0094, -0.8273, -0.832, -0.836, -0.8501, -0.8619, -0.8778, -0.8922, -0.9202, -0.9329, -0.9361, -0.9444, -0.9488, -0.9546, -0.9576, -0.958, -0.9624, -1.0089, -1.0096, -1.0096, -1.0266, -1.0245, -2.0458, -1.8651, -1.6644, -1.7038, -1.0426, -1.877, -2.1451, -1.0954, -2.2722, -1.0503, -1.7541, -1.5249, -1.7186, -1.5481]}, \"token.table\": {\"Topic\": [2, 4, 5, 3, 3, 7, 1, 6, 6, 7, 8, 9, 3, 2, 3, 1, 5, 5, 1, 7, 8, 3, 6, 2, 3, 10, 1, 3, 6, 4, 9, 2, 1, 9, 6, 1, 3, 8, 10, 1, 5, 6, 4, 6, 7, 2, 3, 10, 8, 9, 1, 7, 5, 7, 1, 7, 1, 1, 5, 9, 1, 2, 5, 7, 9, 7, 2, 4, 9, 10, 1, 10, 9, 2, 2, 3, 8, 8, 1, 3, 4, 10, 3, 4, 1, 1, 3, 4, 2, 10, 6, 7, 1, 2, 2, 10, 6, 6, 3, 4, 5, 10, 3, 3, 7, 9, 1, 10, 7, 4, 4, 5, 6, 5, 1, 10, 2, 8, 2, 5, 4, 6, 9, 4, 1, 5, 4, 6], \"Freq\": [0.19508068339123819, 0.5852420501737146, 0.19508068339123819, 0.8632966773109634, 0.7586257285784769, 0.8811308433139358, 0.6476465919575074, 0.21588219731916916, 0.17996685838115462, 0.5399005751434639, 0.8204169441288622, 0.8524720547497413, 0.8675927927464512, 0.7875217122572038, 0.8544553844210944, 0.8818515964238013, 0.8738627778825775, 0.7885164465655183, 0.6804453226969847, 0.17011133067424616, 0.8208339880641876, 0.7105174428758692, 0.2583699792275888, 0.7021289855323662, 0.17553224638309156, 0.05851074879436385, 0.8862734952083501, 0.9680887288015749, 0.7577011848245592, 0.8985306149171366, 0.9257822042466736, 0.8422927531365219, 0.4414598077022642, 0.4414598077022642, 0.8226858854913842, 0.41327851083667655, 0.41327851083667655, 0.9400516465126438, 0.8834223418362591, 0.9033970885874231, 0.9194612499199565, 0.8919407551414975, 0.9377131031010275, 0.3822874018818038, 0.5734311028227057, 0.9501138966836337, 0.5924288930225825, 0.19747629767419417, 0.756675814639952, 0.8381993248428533, 0.726727971738579, 0.18168199293464474, 0.3280126956628261, 0.6560253913256522, 0.6878552502917833, 0.13757105005835665, 0.8515681627185905, 0.13640659029366614, 0.6820329514683307, 0.13640659029366614, 0.34702975996290825, 0.5205446399443624, 0.30224797681641863, 0.15112398840820931, 0.45337196522462797, 0.9480354184659102, 0.8812734293479416, 0.09791926992754907, 0.30029915059499457, 0.6005983011899891, 0.8207016604351919, 0.09118907338168798, 0.8398378703646048, 0.7877219352810565, 0.7876995971999776, 0.2613186852007147, 0.6097435988016677, 0.8207934578238568, 0.7512465835527137, 0.23476455736022303, 0.8343072416082312, 0.08343072416082313, 0.8442809875520522, 0.8675420172630557, 0.954800282466582, 0.20412474365014932, 0.40824948730029864, 0.20412474365014932, 0.787380721913809, 0.9046090050544029, 0.6668271311399586, 0.3334135655699793, 0.3394702510056594, 0.5940729392599039, 0.7877257593390746, 0.8803091910353771, 0.7931989022533145, 0.8767763799739944, 0.23068913964844523, 0.5767228491211132, 0.7973706929939307, 0.09967133662424134, 0.8706992482078048, 0.8579468780422063, 0.5718008990065798, 0.19060029966885994, 0.5860683555749469, 0.1953561185249823, 0.9412450232292645, 0.9047670386828871, 0.9319909175103042, 0.9509110570903765, 0.9587610893222666, 0.8154299533928192, 0.5977907058930315, 0.1992635686310105, 0.7877954277674579, 0.8571148554467883, 0.5848236813745078, 0.38988245424967183, 0.1674130924173649, 0.5022392772520947, 0.1674130924173649, 0.8613560125523644, 0.7945326605893936, 0.15890653211787875, 0.8801060048018117, 0.9356239992174813], \"Term\": [\"afford\", \"afford\", \"afford\", \"appeal\", \"apple\", \"area\", \"better\", \"better\", \"big\", \"big\", \"black\", \"body\", \"break\", \"buddha\", \"cases\", \"children\", \"china\", \"chinese\", \"come\", \"come\", \"comet\", \"corona\", \"corona\", \"coronavirus\", \"coronavirus\", \"coronavirus\", \"covid\", \"covid-\", \"cut\", \"dad\", \"day\", \"end\", \"face\", \"face\", \"feel\", \"free\", \"free\", \"friends\", \"getting\", \"going\", \"good\", \"google\", \"got\", \"hair\", \"hair\", \"help\", \"home\", \"home\", \"hope\", \"hours\", \"job\", \"job\", \"know\", \"know\", \"let\", \"let\", \"life\", \"like\", \"like\", \"like\", \"live\", \"live\", \"look\", \"look\", \"look\", \"looking\", \"man\", \"man\", \"mask\", \"mask\", \"masks\", \"masks\", \"meme\", \"messiah\", \"ncov\", \"need\", \"need\", \"neowise\", \"new\", \"new\", \"old\", \"old\", \"open\", \"pandemic\", \"people\", \"positive\", \"positive\", \"positive\", \"proxy\", \"question\", \"real\", \"real\", \"right\", \"right\", \"savior\", \"says\", \"school\", \"season\", \"state\", \"state\", \"stop\", \"stop\", \"tax\", \"texas\", \"thing\", \"thing\", \"things\", \"things\", \"think\", \"thread\", \"time\", \"today\", \"trump\", \"type\", \"want\", \"want\", \"war\", \"way\", \"woman\", \"woman\", \"work\", \"work\", \"work\", \"workers\", \"world\", \"world\", \"year\", \"years\"]}, \"R\": 30, \"lambda.step\": 0.01, \"plot.opts\": {\"xlab\": \"PC1\", \"ylab\": \"PC2\"}, \"topic.order\": [5, 2, 8, 6, 10, 7, 4, 1, 9, 3]};\n",
       "\n",
       "function LDAvis_load_lib(url, callback){\n",
       "  var s = document.createElement('script');\n",
       "  s.src = url;\n",
       "  s.async = true;\n",
       "  s.onreadystatechange = s.onload = callback;\n",
       "  s.onerror = function(){console.warn(\"failed to load library \" + url);};\n",
       "  document.getElementsByTagName(\"head\")[0].appendChild(s);\n",
       "}\n",
       "\n",
       "if(typeof(LDAvis) !== \"undefined\"){\n",
       "   // already loaded: just create the visualization\n",
       "   !function(LDAvis){\n",
       "       new LDAvis(\"#\" + \"ldavis_el2600953425714725281807281\", ldavis_el2600953425714725281807281_data);\n",
       "   }(LDAvis);\n",
       "}else if(typeof define === \"function\" && define.amd){\n",
       "   // require.js is available: use it to load d3/LDAvis\n",
       "   require.config({paths: {d3: \"https://cdnjs.cloudflare.com/ajax/libs/d3/3.5.5/d3.min\"}});\n",
       "   require([\"d3\"], function(d3){\n",
       "      window.d3 = d3;\n",
       "      LDAvis_load_lib(\"https://cdn.rawgit.com/bmabey/pyLDAvis/files/ldavis.v1.0.0.js\", function(){\n",
       "        new LDAvis(\"#\" + \"ldavis_el2600953425714725281807281\", ldavis_el2600953425714725281807281_data);\n",
       "      });\n",
       "    });\n",
       "}else{\n",
       "    // require.js not available: dynamically load d3 & LDAvis\n",
       "    LDAvis_load_lib(\"https://cdnjs.cloudflare.com/ajax/libs/d3/3.5.5/d3.min.js\", function(){\n",
       "         LDAvis_load_lib(\"https://cdn.rawgit.com/bmabey/pyLDAvis/files/ldavis.v1.0.0.js\", function(){\n",
       "                 new LDAvis(\"#\" + \"ldavis_el2600953425714725281807281\", ldavis_el2600953425714725281807281_data);\n",
       "            })\n",
       "         });\n",
       "}\n",
       "</script>"
      ],
      "text/plain": [
       "PreparedData(topic_coordinates=               x          y  topics  cluster       Freq\n",
       "topic                                                  \n",
       "4      32.420952   8.115230       1        1  15.517491\n",
       "1       0.648955  71.707100       2        1  13.212343\n",
       "7      71.019684   9.971006       3        1  12.484741\n",
       "5       3.785981  33.185135       4        1  11.729054\n",
       "9     -42.666500  -9.222070       5        1   9.659582\n",
       "6      -3.621689 -43.526516       6        1   9.445608\n",
       "3      -3.632402  -4.171708       7        1   7.919497\n",
       "0     -36.584400  35.804413       8        1   7.251557\n",
       "8      44.391380  50.615383       9        1   6.629356\n",
       "2      40.235809 -31.591665      10        1   6.150773, topic_info=       Term       Freq      Total Category  logprob  loglift\n",
       "76     time  19.000000  19.000000  Default  30.0000  30.0000\n",
       "22      day  14.000000  14.000000  Default  29.0000  29.0000\n",
       "34     help  19.000000  19.000000  Default  28.0000  28.0000\n",
       "19   covid-  18.000000  18.000000  Default  27.0000  27.0000\n",
       "39     know  18.000000  18.000000  Default  26.0000  26.0000\n",
       "..      ...        ...        ...      ...      ...      ...\n",
       "85  workers   0.124905   5.804801  Topic10  -5.9183  -1.0503\n",
       "63    right   0.125431  11.783065  Topic10  -5.9141  -1.7541\n",
       "10    cases   0.125333   9.362689  Topic10  -5.9149  -1.5249\n",
       "87     year   0.125317  11.362268  Topic10  -5.9150  -1.7186\n",
       "74    think   0.125060   9.561804  Topic10  -5.9171  -1.5481\n",
       "\n",
       "[480 rows x 6 columns], token_table=      Topic      Freq     Term\n",
       "term                          \n",
       "0         2  0.195081   afford\n",
       "0         4  0.585242   afford\n",
       "0         5  0.195081   afford\n",
       "1         3  0.863297   appeal\n",
       "2         3  0.758626    apple\n",
       "...     ...       ...      ...\n",
       "85        4  0.861356  workers\n",
       "86        1  0.794533    world\n",
       "86        5  0.158907    world\n",
       "87        4  0.880106     year\n",
       "88        6  0.935624    years\n",
       "\n",
       "[128 rows x 3 columns], R=30, lambda_step=0.01, plot_opts={'xlab': 'PC1', 'ylab': 'PC2'}, topic_order=[5, 2, 8, 6, 10, 7, 4, 1, 9, 3])"
      ]
     },
     "execution_count": 13,
     "metadata": {},
     "output_type": "execute_result"
    }
   ],
   "source": [
    "pyLDAvis.enable_notebook()\n",
    "dash = pyLDAvis.sklearn.prepare(lda, data_vectorized, vectorizer, mds='tsne')\n",
    "dash"
   ]
  },
  {
   "cell_type": "markdown",
   "metadata": {},
   "source": [
    "## How to interpret this graph?\n",
    "1. Topics on the left while their respective keywords are on the right.\n",
    "2. Larger topics are more frequent and closer the topics, mor the similarity\n",
    "3. Selection of keywords is based on their frequency and discriminancy.\n",
    "\n",
    "**Hover over the topics on the left to get information about their keywords on the right.**"
   ]
  },
  {
   "cell_type": "markdown",
   "metadata": {},
   "source": [
    "# Visualizing LSI(SVD) scatterplot\n",
    "We will be visualizing our data for 2  topics to see similarity between keywords which is measured by distance with the markers using LSI model"
   ]
  },
  {
   "cell_type": "code",
   "execution_count": 14,
   "metadata": {},
   "outputs": [],
   "source": [
    "svd_2d = TruncatedSVD(n_components=2)\n",
    "data_2d = svd_2d.fit_transform(data_vectorized)"
   ]
  },
  {
   "cell_type": "code",
   "execution_count": 15,
   "metadata": {},
   "outputs": [
    {
     "data": {
      "application/vnd.plotly.v1+json": {
       "config": {
        "linkText": "Export to plot.ly",
        "plotlyServerURL": "https://plot.ly",
        "showLink": false
       },
       "data": [
        {
         "hoverinfo": "text",
         "hovertext": [
          "afford",
          "appeal",
          "apple",
          "area",
          "better",
          "big",
          "black",
          "body",
          "break",
          "buddha",
          "cases",
          "children",
          "china",
          "chinese",
          "come",
          "comet",
          "corona",
          "coronavirus",
          "covid",
          "covid-",
          "cut",
          "dad",
          "day",
          "end",
          "face",
          "feel",
          "free",
          "friends",
          "getting",
          "going",
          "good",
          "google",
          "got",
          "hair",
          "help",
          "home",
          "hope",
          "hours",
          "job",
          "know",
          "let",
          "life",
          "like",
          "live",
          "look",
          "looking",
          "man",
          "mask",
          "masks",
          "meme",
          "messiah",
          "ncov",
          "need",
          "neowise",
          "new",
          "old",
          "open",
          "pandemic",
          "people",
          "positive",
          "proxy",
          "question",
          "real",
          "right",
          "savior",
          "says",
          "school",
          "season",
          "state",
          "stop",
          "tax",
          "texas",
          "thing",
          "things",
          "think",
          "thread",
          "time",
          "today",
          "trump",
          "type",
          "want",
          "war",
          "way",
          "woman",
          "work",
          "workers",
          "world",
          "year",
          "years"
         ],
         "marker": {
          "color": "#FFBAD2",
          "line": {
           "width": 1
          }
         },
         "mode": "markers",
         "text": [
          "afford",
          "appeal",
          "apple",
          "area",
          "better",
          "big",
          "black",
          "body",
          "break",
          "buddha",
          "cases",
          "children",
          "china",
          "chinese",
          "come",
          "comet",
          "corona",
          "coronavirus",
          "covid",
          "covid-",
          "cut",
          "dad",
          "day",
          "end",
          "face",
          "feel",
          "free",
          "friends",
          "getting",
          "going",
          "good",
          "google",
          "got",
          "hair",
          "help",
          "home",
          "hope",
          "hours",
          "job",
          "know",
          "let",
          "life",
          "like",
          "live",
          "look",
          "looking",
          "man",
          "mask",
          "masks",
          "meme",
          "messiah",
          "ncov",
          "need",
          "neowise",
          "new",
          "old",
          "open",
          "pandemic",
          "people",
          "positive",
          "proxy",
          "question",
          "real",
          "right",
          "savior",
          "says",
          "school",
          "season",
          "state",
          "stop",
          "tax",
          "texas",
          "thing",
          "things",
          "think",
          "thread",
          "time",
          "today",
          "trump",
          "type",
          "want",
          "war",
          "way",
          "woman",
          "work",
          "workers",
          "world",
          "year",
          "years"
         ],
         "type": "scattergl",
         "x": [
          1.7466484976407766e-17,
          0.002931702542514761,
          0.0011375816468845944,
          0.00960516747905428,
          8.443984984050872e-18,
          -7.912280137327465e-19,
          0.016357049149523073,
          1.3444290985967465e-18,
          0.026849385147908387,
          0.016579988824467266,
          -2.301825587490343e-19,
          0.0014446065066572693,
          0.0005677332898886109,
          0.06451042637785803,
          0.00010959471058151624,
          0,
          0.005563008048886698,
          0.006417023103236108,
          0,
          0,
          0.5029307363170975,
          0.002048421153412564,
          0.003163213428466361,
          0.0005797109981347452,
          0,
          0.0005677332898886109,
          0.007893186492631247,
          0.009221884178510519,
          0,
          0,
          0.0005677332898886109,
          0.0005677332898886109,
          0.0009675083921359396,
          0.004505838423354487,
          0.0025913889345347773,
          0.008794179284114068,
          0,
          0,
          0.010690116766847254,
          0.054027786968052535,
          0.01431014692522868,
          0,
          0.05085766550365521,
          0.3271240254603528,
          0,
          0,
          0.0010778847543662501,
          0,
          0.006028058959473686,
          0,
          0.45282315218057584,
          0.010980861321178521,
          0,
          0,
          0.0030552616747414963,
          0.0015389082358588727,
          0,
          0.006028058959473686,
          0,
          0.005498465391702653,
          0.00010959471058151624,
          0.0014446065066572688,
          0,
          0,
          0,
          0,
          0,
          0.05007055768127181,
          0,
          0,
          0,
          0.013899972360333971,
          0.15035696744104396,
          0.07405422642453198,
          0.026742891643382175,
          0.0026514561033801785,
          -1.0794217606472248e-06,
          0,
          0.0028465021581523873,
          0,
          0.0022865942737387043,
          0,
          0.003211346651859989,
          0.04936999885241839,
          0,
          0,
          0.0014464810839782169,
          0,
          0.00288315096189402,
          0.026832749756456685,
          0,
          0.006028058959473686,
          0.00019650071445272791,
          0,
          0,
          0,
          0.008339474073691481,
          0,
          0,
          0.0027685127911204564,
          0,
          0,
          0,
          0.02684938514790839,
          0,
          0.45429020594529673,
          0.023391652836395726,
          0,
          0.006589270813419184,
          0.0014761633893951417,
          0,
          0.030557887173506194,
          0.0410973602176063,
          0.032599223449151365,
          0.43647955871008304,
          0.0010778847543662501,
          0.016605705645228272,
          0.013899972360333971,
          0.09056362513283135,
          0.016299611724575683,
          2.9546054614773323,
          0.0020837228134915706,
          0.0014446065066572688,
          0,
          0,
          0.05679479334105844,
          0,
          0.003514586895474136,
          0,
          0,
          0.0007262629282482862,
          0.005608060102284171,
          0,
          0.0007262629282482862,
          0,
          -1.0794217606472248e-06,
          0.0023993999127205506,
          0.8145386599763789,
          0.013899972360333971,
          0.4354426356783077,
          0.02519433281556633,
          0.07022642814127161,
          0.0703811899672307,
          0.008954059856429364,
          0.02031063228595888,
          0.002170162910484188,
          0.010282538538036887,
          0,
          0.00018198932506736994,
          0,
          0,
          0.49223596013616944,
          0.016673165160206463,
          0.001361784379273191,
          0,
          0.013899972360333971,
          0,
          0.019231314267090432,
          0,
          0.02153141678191802,
          0,
          0.005498465391702653,
          0,
          0.054027786968052535,
          -1.0794217606472248e-06,
          0,
          0,
          0,
          0.0058879738295471275,
          0,
          0.009373890282248816,
          0.055442455944957274,
          0,
          0,
          0,
          0,
          0.021131087045440262,
          0.027724953126140272,
          0,
          0.14294360481951604,
          -1.0794217606472248e-06,
          0.06481285806251713,
          0.0585113076149534,
          0.02545900833070415,
          0,
          0.006623293011624701,
          0,
          0,
          0,
          0.00288315096189402,
          0.02153141678191802,
          0.061753791146567774,
          0,
          0,
          0.05007055768127181,
          0.02684938514790839,
          0.009298142619281583,
          0.03710139927246002,
          0,
          0.01635704914952308,
          0.0028773345810487443,
          0.0003715786084295736,
          -0.0002721368015904564,
          0.006564791805508299,
          0,
          0,
          7.521944337574413e-05,
          0.0004853940082704458,
          0,
          0.010980861321178521,
          0.010357879796444378,
          0.00019650071445272791,
          0,
          0.05820930970161061,
          0,
          0.024752411077899827,
          0,
          0.013899972360333971,
          0.03335044558878019,
          0,
          0.004548552688457005,
          0.003059066915949402,
          0,
          0.03335044558878019,
          0.02031063228595888,
          0.022696564737717227,
          0.042753756817958524,
          0.13023437121081127,
          0.016299611724575683,
          0.00019650071445272791,
          0.3953956360226466,
          0,
          0.0028465021581523873,
          0.032455277063392844,
          0.02153141678191802,
          0.01152652435117634,
          0,
          0.034750500982545104,
          0,
          0,
          0.034750500982545104,
          0.16522792403547593,
          0.010357879796444378,
          0.0014464810839782169,
          0.015119727530373116,
          0.03923239317991037,
          0,
          0.3953956360226466,
          0,
          0,
          0.0682911044793075,
          0.002469213907377317,
          0.3592698782369725,
          0.03668402481139307,
          0.001178926453617561,
          0.023788381539620568,
          0.010980861321178521,
          0,
          0.013899972360333971,
          0.05007055768127181,
          0,
          0.0029006926151320645,
          0,
          0.016299611724575683,
          0,
          0.009328332387574063,
          0.003211346651859989,
          -0.0002721368015904564,
          0.03234785053961102,
          0.21226607618579676,
          0.006417023103236108,
          7.521944337574413e-05,
          0.011919721322108844,
          0,
          0,
          0,
          0,
          0,
          0.013899972360333971,
          0,
          0.00026040219162574296,
          0.00026040219162574296,
          0.006677425294861849,
          7.521944337574413e-05,
          0,
          0.002170162910484188,
          0.012775427286368386,
          0.007190428021576333,
          0.08725966643229248,
          0,
          0,
          0,
          0.008339474073691481,
          0.4655896828011779,
          0.012688246673993622,
          0,
          0.14318620140269664,
          0.001361784379273191,
          0,
          0,
          0,
          0.002931702542514737,
          0.005498465391702653,
          0.12907268700487057,
          0,
          0.0201830369145033,
          0.008954059856429364,
          0,
          0.006417023103236108,
          0,
          0,
          0,
          0.006028058959473686,
          0,
          0.017336534756350924,
          0,
          0,
          0.006288461151099427,
          0,
          0,
          0,
          0,
          0.017336534756350924,
          0,
          0.08306172116947193,
          0.05968369099193986,
          0.0016934772954683057,
          0.07298536990973988,
          0,
          0,
          0,
          0.008794179284114068,
          0,
          0,
          0.06614895375723501,
          0.02303796259963838,
          0,
          0.0954665015096614,
          0,
          0.002170162910484188,
          0.061753791146567774,
          0,
          0.03520367208234121,
          0.00010959471058151624,
          0,
          0.46503258956772453,
          0.06480585410583385,
          0.015844967315372428,
          0.05007055768127181,
          0.0065879250378839075,
          0,
          0.0027003503328426625,
          0,
          0.3953956360226466,
          0.001361784379273191,
          0.019871636044997205,
          0,
          0,
          0.04229692426425966,
          0.009298142619281583,
          0,
          0,
          0.022040664862693102,
          0.4528601786358258,
          0.009328332387574063,
          -0.0002721368015904564,
          0.00010959471058151624,
          0.09309013358742292,
          0,
          2.9546054614773323,
          0,
          0,
          0.0054870875189280445,
          2.9546054614773323,
          0.009052347992838584,
          0.0023859324517583403,
          0.028020627189514504,
          0.00019650071445272791,
          0.029647404096595643,
          0,
          0.009221884178510519,
          0.006417023103236108,
          0,
          0,
          0,
          0.010980861321178521,
          0.009221884178510519,
          6.075970078202566e-05,
          0.031358864269054904,
          0.007443942294892821,
          0,
          0,
          0.012729504165352075,
          0.03304013645131096,
          0,
          0.0336361464809266,
          0.02590652790881405,
          0.003059066915949402,
          0.017336534756350924,
          0.017336534756350924,
          0,
          0.0336361464809266,
          0,
          0,
          0.017336534756350924,
          0.010642580960596238,
          6.075970078202566e-05,
          0,
          0.0004101745648947016,
          0,
          0,
          0,
          0.017336534756350924,
          0,
          0,
          0.0027003503328426625,
          0,
          0,
          0,
          2.9546054614773323,
          0,
          0,
          0.017336534756350924,
          0.017336534756350924,
          0,
          0,
          0.003514586895474136,
          0,
          0,
          0,
          0.002931702542514737,
          0,
          0.003961035716260268,
          0,
          0.01118913346088999,
          0,
          0.0027003503328426625,
          0,
          0,
          0,
          0.061753791146567774,
          0,
          0.017336534756350924,
          0,
          0,
          0.008705636676330869,
          0.00017712385658567935,
          6.075970078202566e-05,
          0.010357879796444378,
          0.005224493264715226,
          0.0020837228134915706,
          0,
          0.001361784379273191,
          0.055557645200199866,
          0.0009675083921359396,
          0,
          0.004313924819220936,
          0,
          0,
          0.002170162910484188,
          -1.0794217606472248e-06,
          0.06309091293550169,
          0,
          0,
          0,
          0,
          0,
          0,
          0,
          0.03227578424449362,
          0.003899210934650678,
          0,
          0,
          0,
          0.022257679710166314,
          0.003652459485004584,
          0,
          0,
          0.06519577868780849,
          0.0744166102877493,
          0.0292791786307356,
          0,
          0.42688460286453145,
          0,
          0.016579988824467262,
          0,
          0.4278486606300629,
          0.016299611724575683,
          0,
          0,
          0,
          6.075970078202566e-05,
          0,
          0,
          0.004548552688457005,
          0.003211346651859989,
          0.005462705783232087,
          6.075970078202566e-05,
          0,
          0,
          0.10746448507718848,
          0.001178926453617561,
          0.0020837228134915706,
          0,
          0,
          0.016579988824467262,
          0.006417023103236108,
          0,
          0,
          0,
          0,
          0.03178343090646966,
          0.052456490133030165,
          0,
          0,
          0.02684938514790839,
          0,
          0.0017300325767342242,
          6.075970078202566e-05,
          0.006028058959473686,
          0.3953956360226466,
          0,
          0,
          0,
          0.010364469033087222,
          0,
          0,
          0,
          0,
          0.002931702542514737,
          0,
          0,
          0,
          0.02944077408244316,
          0.030823337841479295,
          0.001178926453617561,
          0,
          0,
          0.05007055768127181,
          0.006417023103236108,
          0.005498465391702653,
          0.002931702542514737,
          0.016673165160206463,
          0.04294878375271787,
          0,
          0.004097525867807819,
          2.9546054614773323,
          0,
          0.004548552688457005,
          0,
          0.017267120116711627,
          -1.0794217606472248e-06,
          0.8145386599763789,
          0,
          0,
          0,
          0.025912745035243743,
          0,
          0.0027685127911204564,
          0,
          0,
          0.011831394437478108,
          -0.0002721368015904564,
          0.11182434882783959,
          0,
          0.0004101745648947016,
          0,
          0,
          0,
          0.0027003503328426625,
          0.014439868696586231,
          0.43012388527491047,
          0,
          0.002170162910484188,
          0.003652459485004584,
          0.03543035981633198,
          6.075970078202566e-05,
          0.3953956360226466,
          0,
          0.016673165160206463,
          6.075970078202566e-05,
          0,
          0.0005677332898886109,
          0,
          0.016299611724575683,
          0,
          0.02302237850116559,
          0,
          0,
          0,
          0,
          0,
          0.0037703153881523377,
          0.061753791146567774,
          0,
          0.05007055768127181,
          0,
          0,
          0,
          0,
          0,
          0,
          0.009298142619281583,
          0.02601453950813016,
          0,
          0,
          0,
          0.015119727530373116,
          2.9546054614773323,
          0,
          0.009298142619281583,
          0.006028058959473686,
          0.036177717535482455,
          0,
          0.00961313331066805,
          0.00961313331066805,
          0,
          0.001361784379273191,
          0.4167035660455508,
          0.02012470068028493,
          0,
          0,
          0.002931702542514737,
          0,
          0.009328332387574063,
          0.006028058959473686,
          0.006780253456681635,
          0,
          0.02656603220877734,
          0,
          0.0024771877702569113,
          0.08102704773372765,
          0,
          0,
          0.030746401983694334,
          0.0037047740759898902,
          0,
          0,
          0,
          0.008954059856429364,
          0.022824564340908574,
          0.02031063228595888,
          0,
          0,
          0.013899972360333971,
          0,
          0,
          0,
          0.026646251881549444,
          0.004097525867807819,
          0.016600322693176645,
          0.02944077408244316,
          0,
          0,
          0.06531058705354852,
          0,
          0.4165267230680869,
          0,
          0.054027786968052535,
          0,
          0.004097525867807819,
          0,
          0,
          0,
          0,
          0,
          0,
          0,
          0,
          0,
          0.021307930022904153,
          0.00288315096189402,
          0,
          0,
          0,
          0,
          0,
          0,
          0,
          0,
          0,
          0,
          0,
          0,
          0.3953956360226466,
          0
         ],
         "y": [
          -2.690578778048669e-16,
          0.031437096717492535,
          0.01050968232411067,
          0.10919720762309848,
          -6.5649771226300376e-18,
          -3.60162642834014e-18,
          0.0885230426683535,
          7.672561531396604e-19,
          0.31851780456620093,
          0.023015998340073535,
          3.9164756921112436e-19,
          0.014621342230915485,
          0.0020679923122793042,
          0.301678036701927,
          0.0009075412970272035,
          0,
          0.07005622658526002,
          0.049390210573373804,
          0,
          0,
          0.26875240387639004,
          0.025178548906562077,
          0.03316138645567092,
          0.0054367585518553824,
          0,
          0.0020679923122793042,
          0.0665798283636389,
          0.01029651296436113,
          0,
          0,
          0.0020679923122793042,
          0.0020679923122793042,
          0.0093602783719868,
          0.03977127825300483,
          0.025431371968803025,
          0.004433592063641301,
          0,
          0,
          0.11830150227243993,
          0.07860788281675858,
          0.15643576928472921,
          0,
          0.48082303765753426,
          -0.01245091972231553,
          0,
          0,
          0.011480307248960063,
          0,
          0.07992612165938077,
          0,
          0.047643232226074354,
          0.03489466693979113,
          0,
          0,
          0.026908929463475558,
          0.015231685198094697,
          0,
          0.07992612165938077,
          0,
          0.04904597060149697,
          0.0009075412970272035,
          0.014621342230915485,
          0,
          0,
          0,
          0,
          0,
          0.2518719502630995,
          0,
          0,
          0,
          0.15199363699713558,
          1.8417092518207392,
          0.920036345108873,
          0.3020081562425774,
          0.025152548737468184,
          2.2613917074686482e-06,
          0,
          0.020045498703934163,
          0,
          0.021718761331607318,
          0,
          0.024805989638574572,
          0.4238157962654389,
          0,
          0,
          0.013097621985409931,
          0,
          0.032844089797655844,
          0.17792157975895795,
          0,
          0.07992612165938077,
          0.0002949315330978128,
          0,
          0,
          0,
          0.07743514500890032,
          0,
          0,
          0.027498396461201686,
          0,
          0,
          0,
          0.31851780456620093,
          0,
          0.012399312302211652,
          0.1614410445327937,
          0,
          0.06891294707261554,
          0.017189617790265104,
          0,
          0.2424463769581233,
          0.11873713479331047,
          0.10560629085531303,
          0.023874865955408605,
          0.011480307248960063,
          0.050808973317647804,
          0.15199363699713558,
          0.92113436640113,
          0.05280314542765652,
          -0.30517183266284814,
          0.023084556425188887,
          0.014621342230915485,
          0,
          0,
          0.6750414586500052,
          0,
          0.044877677678697936,
          0,
          0,
          0.00957670900351307,
          0.049953511898524164,
          0,
          0.00957670900351307,
          0,
          2.2613917074686482e-06,
          0.03202965068261165,
          -0.058350237838859294,
          0.15199363699713558,
          0.03371490755622699,
          0.08348552246275512,
          0.8425287197297431,
          0.2945111415951381,
          0.0018424858601985602,
          0.042639191332038535,
          0.027821293732413627,
          0.0960792720104143,
          0,
          0.01018549121407187,
          0,
          0,
          0.3890180672541674,
          0.04168959180326724,
          0.01316466070569604,
          0,
          0.15199363699713558,
          0,
          0.08424024214514937,
          0,
          0.25575999028890145,
          0,
          0.04904597060149697,
          0,
          0.07860788281675858,
          2.2613917074686482e-06,
          0,
          0,
          0,
          0.05056414033375353,
          0,
          0.009870350615496685,
          0.1328736324925676,
          0,
          0,
          0,
          0,
          0.05099885270379685,
          0.18774669868097862,
          0,
          1.7464332019899667,
          2.2613917074686482e-06,
          0.7943264922892862,
          0.39273372849654153,
          0.025249581593469357,
          0,
          0.07327852934043576,
          0,
          0,
          0,
          0.032844089797655844,
          0.25575999028890145,
          0.7615957236272695,
          0,
          0,
          0.2518719502630995,
          0.31851780456620093,
          0.1050855477162938,
          0.4517798771412425,
          0,
          0.08852304266835348,
          0.02371182844494815,
          0.004895656013791208,
          0.00030439110527940075,
          0.054398943163081366,
          0,
          0,
          0.0015767446735194717,
          0.006018876961113187,
          0,
          0.03489466693979113,
          0.016127902926826535,
          0.0002949315330978128,
          0,
          0.4424508819701247,
          0,
          0.1643614561009133,
          0,
          0.15199363699713558,
          0.2637022850467171,
          0,
          0.04492310191160903,
          0.03273076866201668,
          0,
          0.2637022850467171,
          0.042639191332038535,
          0.06347673346756046,
          0.3727554117230231,
          0.3364341240292743,
          0.05280314542765652,
          0.0002949315330978128,
          -0.0392619999674298,
          0,
          0.020045498703934163,
          0.16777023775226654,
          0.25575999028890145,
          0.12897209226087772,
          0,
          0.09244527777086596,
          0,
          0,
          0.09244527777086596,
          1.6606953460608138,
          0.016127902926826535,
          0.013097621985409931,
          0.1359354432556282,
          0.4078991377103266,
          0,
          -0.0392619999674298,
          0,
          0,
          0.41215584860203647,
          0.022529710513522375,
          3.7793489596638064,
          0.4166023235452112,
          0.006656930286932505,
          0.16184838117281694,
          0.03489466693979113,
          0,
          0.15199363699713558,
          0.2518719502630995,
          0,
          0.028396345903790744,
          0,
          0.05280314542765652,
          0,
          0.1051368415667439,
          0.024805989638574572,
          0.00030439110527940075,
          0.3675637751676979,
          2.476785302646709,
          0.049390210573373804,
          0.0015767446735194717,
          0.1305682135355469,
          0,
          0,
          0,
          0,
          0,
          0.15199363699713558,
          0,
          0.00318438079434201,
          0.00318438079434201,
          0.05257459136771581,
          0.0015767446735194717,
          0,
          0.027821293732413627,
          0.1485955056478655,
          0.06294243053432164,
          0.9441132556298052,
          0,
          0,
          0,
          0.07743514500890032,
          0.02950524441002521,
          0.03529543569561978,
          0,
          1.2471371737617667,
          0.01316466070569604,
          0,
          0,
          0,
          0.03143709671749289,
          0.04904597060149697,
          0.6359539464369333,
          0,
          0.06300860253077226,
          0.0018424858601985602,
          0,
          0.049390210573373804,
          0,
          0,
          0,
          0.07992612165938077,
          0,
          0.04296310382683811,
          0,
          0,
          0.0831105024537228,
          0,
          0,
          0,
          0,
          0.04296310382683811,
          0,
          0.8999522117348746,
          0.25850101623646854,
          0.013744268757779517,
          0.3940987437193216,
          0,
          0,
          0,
          0.004433592063641301,
          0,
          0,
          0.41545779622612117,
          0.14648358934602082,
          0,
          1.155285351430121,
          0,
          0.027821293732413627,
          0.7615957236272695,
          0,
          0.2941639923764469,
          0.0009075412970272035,
          0,
          0.12237050909332371,
          0.7207339531738669,
          0.07716137611589034,
          0.2518719502630995,
          0.06703349064143992,
          0,
          0.023948744983728468,
          0,
          -0.0392619999674298,
          0.01316466070569604,
          0.13340072034705136,
          0,
          0,
          0.20952882435382758,
          0.1050855477162938,
          0,
          0,
          0.05076629257045453,
          0.016880453613290537,
          0.1051368415667439,
          0.00030439110527940075,
          0.0009075412970272035,
          0.46829500043099803,
          0,
          -0.30517183266284814,
          0,
          0,
          0.06103347318906384,
          -0.30517183266284814,
          0.08636975465432901,
          0.020837542135521914,
          0.05293269092545264,
          0.0002949315330978128,
          0.21579163311650512,
          0,
          0.01029651296436113,
          0.049390210573373804,
          0,
          0,
          0,
          0.03489466693979113,
          0.01029651296436113,
          5.4233290053613513e-05,
          0.20831347865761507,
          0.07472729901831222,
          0,
          0,
          0.012624790796734679,
          0.05526398212877321,
          0,
          0.09576624925449462,
          0.2908634485223569,
          0.03273076866201668,
          0.04296310382683811,
          0.04296310382683811,
          0,
          0.09576624925449462,
          0,
          0,
          0.04296310382683811,
          0.012786723128132907,
          5.4233290053613513e-05,
          0,
          0.004442132287593717,
          0,
          0,
          0,
          0.04296310382683811,
          0,
          0,
          0.023948744983728468,
          0,
          0,
          0,
          -0.30517183266284814,
          0,
          0,
          0.04296310382683811,
          0.04296310382683811,
          0,
          0,
          0.044877677678697936,
          0,
          0,
          0,
          0.03143709671749289,
          0,
          0.04432439704661591,
          0,
          0.031146420995143753,
          0,
          0.023948744983728468,
          0,
          0,
          0,
          0.7615957236272695,
          0,
          0.04296310382683811,
          0,
          0,
          0.004863243855105449,
          0.0020670244923986607,
          5.4233290053613513e-05,
          0.016127902926826535,
          0.06686444764040016,
          0.023084556425188887,
          0,
          0.01316466070569604,
          0.3129054234521634,
          0.0093602783719868,
          0,
          0.03825803952128087,
          0,
          0,
          0.027821293732413627,
          2.2613917074686482e-06,
          0.7429739324869863,
          0,
          0,
          0,
          0,
          0,
          0,
          0,
          0.35688111027694436,
          0.04079737508947969,
          0,
          0,
          0,
          0.2653366992924145,
          0.0282092324193846,
          0,
          0,
          0.3794637178152586,
          0.41635737885527013,
          0.3236205669076162,
          0,
          0.027864755663193574,
          0,
          0.023015998340073535,
          0,
          -0.01422499401632405,
          0.05280314542765652,
          0,
          0,
          0,
          5.4233290053613513e-05,
          0,
          0,
          0.04492310191160903,
          0.024805989638574572,
          0.049262191283968054,
          5.4233290053613513e-05,
          0,
          0,
          1.068318980485952,
          0.006656930286932505,
          0.023084556425188887,
          0,
          0,
          0.023015998340073535,
          0.049390210573373804,
          0,
          0,
          0,
          0,
          0.3890220628639428,
          0.27270949239862147,
          0,
          0,
          0.31851780456620093,
          0,
          0.008127101238415996,
          5.4233290053613513e-05,
          0.07992612165938077,
          -0.0392619999674298,
          0,
          0,
          0,
          0.11043852027787826,
          0,
          0,
          0,
          0,
          0.03143709671749289,
          0,
          0,
          0,
          0.34394917653500406,
          0.22808290057600136,
          0.006656930286932505,
          0,
          0,
          0.2518719502630995,
          0.049390210573373804,
          0.04904597060149697,
          0.03143709671749289,
          0.04168959180326724,
          0.20814811435186495,
          0,
          0.04582953786901819,
          -0.30517183266284814,
          0,
          0.04492310191160903,
          0,
          0.06216342379964331,
          2.2613917074686482e-06,
          -0.058350237838859294,
          0,
          0,
          0,
          0.059432211401025545,
          0,
          0.027498396461201686,
          0,
          0,
          0.025554314305146705,
          0.00030439110527940075,
          1.0134676738903692,
          0,
          0.004442132287593717,
          0,
          0,
          0,
          0.023948744983728468,
          0.04980608643882744,
          0.01580642906836163,
          0,
          0.027821293732413627,
          0.0282092324193846,
          0.1785746345876667,
          5.4233290053613513e-05,
          -0.0392619999674298,
          0,
          0.04168959180326724,
          5.4233290053613513e-05,
          0,
          0.0020679923122793042,
          0,
          0.05280314542765652,
          0,
          0.15623435486249737,
          0,
          0,
          0,
          0,
          0,
          0.03208830225573552,
          0.7615957236272695,
          0,
          0.2518719502630995,
          0,
          0,
          0,
          0,
          0,
          0,
          0.1050855477162938,
          0.31087419739670197,
          0,
          0,
          0,
          0.1359354432556282,
          -0.30517183266284814,
          0,
          0.1050855477162938,
          0.07992612165938077,
          0.4236546461329449,
          0,
          0.00662906597336906,
          0.00662906597336906,
          0,
          0.01316466070569604,
          0.09909448814017502,
          0.21061631660214564,
          0,
          0,
          0.03143709671749289,
          0,
          0.1051368415667439,
          0.07992612165938077,
          0.05850029824672787,
          0,
          0.06507447431829855,
          0,
          0.031932953639218345,
          0.5189516911486655,
          0,
          0,
          0.15585389459961826,
          0.034189400843784065,
          0,
          0,
          0,
          0.0018424858601985602,
          0.06474312146157639,
          0.042639191332038535,
          0,
          0,
          0.15199363699713558,
          0,
          0,
          0,
          0.2649075355165059,
          0.04582953786901819,
          0.17594238198086407,
          0.34394917653500406,
          0,
          0,
          0.4057635264521465,
          0,
          0.011736852736367048,
          0,
          0.07860788281675858,
          0,
          0.04582953786901819,
          0,
          0,
          0,
          0,
          0,
          0,
          0,
          0,
          0,
          0.13835648810760484,
          0.032844089797655844,
          0,
          0,
          0,
          0,
          0,
          0,
          0,
          0,
          0,
          0,
          0,
          0,
          -0.0392619999674298,
          0
         ]
        }
       ],
       "layout": {
        "template": {
         "data": {
          "bar": [
           {
            "error_x": {
             "color": "#2a3f5f"
            },
            "error_y": {
             "color": "#2a3f5f"
            },
            "marker": {
             "line": {
              "color": "#E5ECF6",
              "width": 0.5
             }
            },
            "type": "bar"
           }
          ],
          "barpolar": [
           {
            "marker": {
             "line": {
              "color": "#E5ECF6",
              "width": 0.5
             }
            },
            "type": "barpolar"
           }
          ],
          "carpet": [
           {
            "aaxis": {
             "endlinecolor": "#2a3f5f",
             "gridcolor": "white",
             "linecolor": "white",
             "minorgridcolor": "white",
             "startlinecolor": "#2a3f5f"
            },
            "baxis": {
             "endlinecolor": "#2a3f5f",
             "gridcolor": "white",
             "linecolor": "white",
             "minorgridcolor": "white",
             "startlinecolor": "#2a3f5f"
            },
            "type": "carpet"
           }
          ],
          "choropleth": [
           {
            "colorbar": {
             "outlinewidth": 0,
             "ticks": ""
            },
            "type": "choropleth"
           }
          ],
          "contour": [
           {
            "colorbar": {
             "outlinewidth": 0,
             "ticks": ""
            },
            "colorscale": [
             [
              0,
              "#0d0887"
             ],
             [
              0.1111111111111111,
              "#46039f"
             ],
             [
              0.2222222222222222,
              "#7201a8"
             ],
             [
              0.3333333333333333,
              "#9c179e"
             ],
             [
              0.4444444444444444,
              "#bd3786"
             ],
             [
              0.5555555555555556,
              "#d8576b"
             ],
             [
              0.6666666666666666,
              "#ed7953"
             ],
             [
              0.7777777777777778,
              "#fb9f3a"
             ],
             [
              0.8888888888888888,
              "#fdca26"
             ],
             [
              1,
              "#f0f921"
             ]
            ],
            "type": "contour"
           }
          ],
          "contourcarpet": [
           {
            "colorbar": {
             "outlinewidth": 0,
             "ticks": ""
            },
            "type": "contourcarpet"
           }
          ],
          "heatmap": [
           {
            "colorbar": {
             "outlinewidth": 0,
             "ticks": ""
            },
            "colorscale": [
             [
              0,
              "#0d0887"
             ],
             [
              0.1111111111111111,
              "#46039f"
             ],
             [
              0.2222222222222222,
              "#7201a8"
             ],
             [
              0.3333333333333333,
              "#9c179e"
             ],
             [
              0.4444444444444444,
              "#bd3786"
             ],
             [
              0.5555555555555556,
              "#d8576b"
             ],
             [
              0.6666666666666666,
              "#ed7953"
             ],
             [
              0.7777777777777778,
              "#fb9f3a"
             ],
             [
              0.8888888888888888,
              "#fdca26"
             ],
             [
              1,
              "#f0f921"
             ]
            ],
            "type": "heatmap"
           }
          ],
          "heatmapgl": [
           {
            "colorbar": {
             "outlinewidth": 0,
             "ticks": ""
            },
            "colorscale": [
             [
              0,
              "#0d0887"
             ],
             [
              0.1111111111111111,
              "#46039f"
             ],
             [
              0.2222222222222222,
              "#7201a8"
             ],
             [
              0.3333333333333333,
              "#9c179e"
             ],
             [
              0.4444444444444444,
              "#bd3786"
             ],
             [
              0.5555555555555556,
              "#d8576b"
             ],
             [
              0.6666666666666666,
              "#ed7953"
             ],
             [
              0.7777777777777778,
              "#fb9f3a"
             ],
             [
              0.8888888888888888,
              "#fdca26"
             ],
             [
              1,
              "#f0f921"
             ]
            ],
            "type": "heatmapgl"
           }
          ],
          "histogram": [
           {
            "marker": {
             "colorbar": {
              "outlinewidth": 0,
              "ticks": ""
             }
            },
            "type": "histogram"
           }
          ],
          "histogram2d": [
           {
            "colorbar": {
             "outlinewidth": 0,
             "ticks": ""
            },
            "colorscale": [
             [
              0,
              "#0d0887"
             ],
             [
              0.1111111111111111,
              "#46039f"
             ],
             [
              0.2222222222222222,
              "#7201a8"
             ],
             [
              0.3333333333333333,
              "#9c179e"
             ],
             [
              0.4444444444444444,
              "#bd3786"
             ],
             [
              0.5555555555555556,
              "#d8576b"
             ],
             [
              0.6666666666666666,
              "#ed7953"
             ],
             [
              0.7777777777777778,
              "#fb9f3a"
             ],
             [
              0.8888888888888888,
              "#fdca26"
             ],
             [
              1,
              "#f0f921"
             ]
            ],
            "type": "histogram2d"
           }
          ],
          "histogram2dcontour": [
           {
            "colorbar": {
             "outlinewidth": 0,
             "ticks": ""
            },
            "colorscale": [
             [
              0,
              "#0d0887"
             ],
             [
              0.1111111111111111,
              "#46039f"
             ],
             [
              0.2222222222222222,
              "#7201a8"
             ],
             [
              0.3333333333333333,
              "#9c179e"
             ],
             [
              0.4444444444444444,
              "#bd3786"
             ],
             [
              0.5555555555555556,
              "#d8576b"
             ],
             [
              0.6666666666666666,
              "#ed7953"
             ],
             [
              0.7777777777777778,
              "#fb9f3a"
             ],
             [
              0.8888888888888888,
              "#fdca26"
             ],
             [
              1,
              "#f0f921"
             ]
            ],
            "type": "histogram2dcontour"
           }
          ],
          "mesh3d": [
           {
            "colorbar": {
             "outlinewidth": 0,
             "ticks": ""
            },
            "type": "mesh3d"
           }
          ],
          "parcoords": [
           {
            "line": {
             "colorbar": {
              "outlinewidth": 0,
              "ticks": ""
             }
            },
            "type": "parcoords"
           }
          ],
          "pie": [
           {
            "automargin": true,
            "type": "pie"
           }
          ],
          "scatter": [
           {
            "marker": {
             "colorbar": {
              "outlinewidth": 0,
              "ticks": ""
             }
            },
            "type": "scatter"
           }
          ],
          "scatter3d": [
           {
            "line": {
             "colorbar": {
              "outlinewidth": 0,
              "ticks": ""
             }
            },
            "marker": {
             "colorbar": {
              "outlinewidth": 0,
              "ticks": ""
             }
            },
            "type": "scatter3d"
           }
          ],
          "scattercarpet": [
           {
            "marker": {
             "colorbar": {
              "outlinewidth": 0,
              "ticks": ""
             }
            },
            "type": "scattercarpet"
           }
          ],
          "scattergeo": [
           {
            "marker": {
             "colorbar": {
              "outlinewidth": 0,
              "ticks": ""
             }
            },
            "type": "scattergeo"
           }
          ],
          "scattergl": [
           {
            "marker": {
             "colorbar": {
              "outlinewidth": 0,
              "ticks": ""
             }
            },
            "type": "scattergl"
           }
          ],
          "scattermapbox": [
           {
            "marker": {
             "colorbar": {
              "outlinewidth": 0,
              "ticks": ""
             }
            },
            "type": "scattermapbox"
           }
          ],
          "scatterpolar": [
           {
            "marker": {
             "colorbar": {
              "outlinewidth": 0,
              "ticks": ""
             }
            },
            "type": "scatterpolar"
           }
          ],
          "scatterpolargl": [
           {
            "marker": {
             "colorbar": {
              "outlinewidth": 0,
              "ticks": ""
             }
            },
            "type": "scatterpolargl"
           }
          ],
          "scatterternary": [
           {
            "marker": {
             "colorbar": {
              "outlinewidth": 0,
              "ticks": ""
             }
            },
            "type": "scatterternary"
           }
          ],
          "surface": [
           {
            "colorbar": {
             "outlinewidth": 0,
             "ticks": ""
            },
            "colorscale": [
             [
              0,
              "#0d0887"
             ],
             [
              0.1111111111111111,
              "#46039f"
             ],
             [
              0.2222222222222222,
              "#7201a8"
             ],
             [
              0.3333333333333333,
              "#9c179e"
             ],
             [
              0.4444444444444444,
              "#bd3786"
             ],
             [
              0.5555555555555556,
              "#d8576b"
             ],
             [
              0.6666666666666666,
              "#ed7953"
             ],
             [
              0.7777777777777778,
              "#fb9f3a"
             ],
             [
              0.8888888888888888,
              "#fdca26"
             ],
             [
              1,
              "#f0f921"
             ]
            ],
            "type": "surface"
           }
          ],
          "table": [
           {
            "cells": {
             "fill": {
              "color": "#EBF0F8"
             },
             "line": {
              "color": "white"
             }
            },
            "header": {
             "fill": {
              "color": "#C8D4E3"
             },
             "line": {
              "color": "white"
             }
            },
            "type": "table"
           }
          ]
         },
         "layout": {
          "annotationdefaults": {
           "arrowcolor": "#2a3f5f",
           "arrowhead": 0,
           "arrowwidth": 1
          },
          "coloraxis": {
           "colorbar": {
            "outlinewidth": 0,
            "ticks": ""
           }
          },
          "colorscale": {
           "diverging": [
            [
             0,
             "#8e0152"
            ],
            [
             0.1,
             "#c51b7d"
            ],
            [
             0.2,
             "#de77ae"
            ],
            [
             0.3,
             "#f1b6da"
            ],
            [
             0.4,
             "#fde0ef"
            ],
            [
             0.5,
             "#f7f7f7"
            ],
            [
             0.6,
             "#e6f5d0"
            ],
            [
             0.7,
             "#b8e186"
            ],
            [
             0.8,
             "#7fbc41"
            ],
            [
             0.9,
             "#4d9221"
            ],
            [
             1,
             "#276419"
            ]
           ],
           "sequential": [
            [
             0,
             "#0d0887"
            ],
            [
             0.1111111111111111,
             "#46039f"
            ],
            [
             0.2222222222222222,
             "#7201a8"
            ],
            [
             0.3333333333333333,
             "#9c179e"
            ],
            [
             0.4444444444444444,
             "#bd3786"
            ],
            [
             0.5555555555555556,
             "#d8576b"
            ],
            [
             0.6666666666666666,
             "#ed7953"
            ],
            [
             0.7777777777777778,
             "#fb9f3a"
            ],
            [
             0.8888888888888888,
             "#fdca26"
            ],
            [
             1,
             "#f0f921"
            ]
           ],
           "sequentialminus": [
            [
             0,
             "#0d0887"
            ],
            [
             0.1111111111111111,
             "#46039f"
            ],
            [
             0.2222222222222222,
             "#7201a8"
            ],
            [
             0.3333333333333333,
             "#9c179e"
            ],
            [
             0.4444444444444444,
             "#bd3786"
            ],
            [
             0.5555555555555556,
             "#d8576b"
            ],
            [
             0.6666666666666666,
             "#ed7953"
            ],
            [
             0.7777777777777778,
             "#fb9f3a"
            ],
            [
             0.8888888888888888,
             "#fdca26"
            ],
            [
             1,
             "#f0f921"
            ]
           ]
          },
          "colorway": [
           "#636efa",
           "#EF553B",
           "#00cc96",
           "#ab63fa",
           "#FFA15A",
           "#19d3f3",
           "#FF6692",
           "#B6E880",
           "#FF97FF",
           "#FECB52"
          ],
          "font": {
           "color": "#2a3f5f"
          },
          "geo": {
           "bgcolor": "white",
           "lakecolor": "white",
           "landcolor": "#E5ECF6",
           "showlakes": true,
           "showland": true,
           "subunitcolor": "white"
          },
          "hoverlabel": {
           "align": "left"
          },
          "hovermode": "closest",
          "mapbox": {
           "style": "light"
          },
          "paper_bgcolor": "white",
          "plot_bgcolor": "#E5ECF6",
          "polar": {
           "angularaxis": {
            "gridcolor": "white",
            "linecolor": "white",
            "ticks": ""
           },
           "bgcolor": "#E5ECF6",
           "radialaxis": {
            "gridcolor": "white",
            "linecolor": "white",
            "ticks": ""
           }
          },
          "scene": {
           "xaxis": {
            "backgroundcolor": "#E5ECF6",
            "gridcolor": "white",
            "gridwidth": 2,
            "linecolor": "white",
            "showbackground": true,
            "ticks": "",
            "zerolinecolor": "white"
           },
           "yaxis": {
            "backgroundcolor": "#E5ECF6",
            "gridcolor": "white",
            "gridwidth": 2,
            "linecolor": "white",
            "showbackground": true,
            "ticks": "",
            "zerolinecolor": "white"
           },
           "zaxis": {
            "backgroundcolor": "#E5ECF6",
            "gridcolor": "white",
            "gridwidth": 2,
            "linecolor": "white",
            "showbackground": true,
            "ticks": "",
            "zerolinecolor": "white"
           }
          },
          "shapedefaults": {
           "line": {
            "color": "#2a3f5f"
           }
          },
          "ternary": {
           "aaxis": {
            "gridcolor": "white",
            "linecolor": "white",
            "ticks": ""
           },
           "baxis": {
            "gridcolor": "white",
            "linecolor": "white",
            "ticks": ""
           },
           "bgcolor": "#E5ECF6",
           "caxis": {
            "gridcolor": "white",
            "linecolor": "white",
            "ticks": ""
           }
          },
          "title": {
           "x": 0.05
          },
          "xaxis": {
           "automargin": true,
           "gridcolor": "white",
           "linecolor": "white",
           "ticks": "",
           "title": {
            "standoff": 15
           },
           "zerolinecolor": "white",
           "zerolinewidth": 2
          },
          "yaxis": {
           "automargin": true,
           "gridcolor": "white",
           "linecolor": "white",
           "ticks": "",
           "title": {
            "standoff": 15
           },
           "zerolinecolor": "white",
           "zerolinewidth": 2
          }
         }
        }
       }
      },
      "text/html": [
       "<div>\n",
       "        \n",
       "        \n",
       "            <div id=\"5a91c973-d189-4926-9e0f-5e8e580e76ba\" class=\"plotly-graph-div\" style=\"height:525px; width:100%;\"></div>\n",
       "            <script type=\"text/javascript\">\n",
       "                require([\"plotly\"], function(Plotly) {\n",
       "                    window.PLOTLYENV=window.PLOTLYENV || {};\n",
       "                    \n",
       "                if (document.getElementById(\"5a91c973-d189-4926-9e0f-5e8e580e76ba\")) {\n",
       "                    Plotly.newPlot(\n",
       "                        '5a91c973-d189-4926-9e0f-5e8e580e76ba',\n",
       "                        [{\"hoverinfo\": \"text\", \"hovertext\": [\"afford\", \"appeal\", \"apple\", \"area\", \"better\", \"big\", \"black\", \"body\", \"break\", \"buddha\", \"cases\", \"children\", \"china\", \"chinese\", \"come\", \"comet\", \"corona\", \"coronavirus\", \"covid\", \"covid-\", \"cut\", \"dad\", \"day\", \"end\", \"face\", \"feel\", \"free\", \"friends\", \"getting\", \"going\", \"good\", \"google\", \"got\", \"hair\", \"help\", \"home\", \"hope\", \"hours\", \"job\", \"know\", \"let\", \"life\", \"like\", \"live\", \"look\", \"looking\", \"man\", \"mask\", \"masks\", \"meme\", \"messiah\", \"ncov\", \"need\", \"neowise\", \"new\", \"old\", \"open\", \"pandemic\", \"people\", \"positive\", \"proxy\", \"question\", \"real\", \"right\", \"savior\", \"says\", \"school\", \"season\", \"state\", \"stop\", \"tax\", \"texas\", \"thing\", \"things\", \"think\", \"thread\", \"time\", \"today\", \"trump\", \"type\", \"want\", \"war\", \"way\", \"woman\", \"work\", \"workers\", \"world\", \"year\", \"years\"], \"marker\": {\"color\": \"#FFBAD2\", \"line\": {\"width\": 1}}, \"mode\": \"markers\", \"text\": [\"afford\", \"appeal\", \"apple\", \"area\", \"better\", \"big\", \"black\", \"body\", \"break\", \"buddha\", \"cases\", \"children\", \"china\", \"chinese\", \"come\", \"comet\", \"corona\", \"coronavirus\", \"covid\", \"covid-\", \"cut\", \"dad\", \"day\", \"end\", \"face\", \"feel\", \"free\", \"friends\", \"getting\", \"going\", \"good\", \"google\", \"got\", \"hair\", \"help\", \"home\", \"hope\", \"hours\", \"job\", \"know\", \"let\", \"life\", \"like\", \"live\", \"look\", \"looking\", \"man\", \"mask\", \"masks\", \"meme\", \"messiah\", \"ncov\", \"need\", \"neowise\", \"new\", \"old\", \"open\", \"pandemic\", \"people\", \"positive\", \"proxy\", \"question\", \"real\", \"right\", \"savior\", \"says\", \"school\", \"season\", \"state\", \"stop\", \"tax\", \"texas\", \"thing\", \"things\", \"think\", \"thread\", \"time\", \"today\", \"trump\", \"type\", \"want\", \"war\", \"way\", \"woman\", \"work\", \"workers\", \"world\", \"year\", \"years\"], \"type\": \"scattergl\", \"x\": [1.7466484976407766e-17, 0.002931702542514761, 0.0011375816468845944, 0.00960516747905428, 8.443984984050872e-18, -7.912280137327465e-19, 0.016357049149523073, 1.3444290985967465e-18, 0.026849385147908387, 0.016579988824467266, -2.301825587490343e-19, 0.0014446065066572693, 0.0005677332898886109, 0.06451042637785803, 0.00010959471058151624, 0.0, 0.005563008048886698, 0.006417023103236108, 0.0, 0.0, 0.5029307363170975, 0.002048421153412564, 0.003163213428466361, 0.0005797109981347452, 0.0, 0.0005677332898886109, 0.007893186492631247, 0.009221884178510519, 0.0, 0.0, 0.0005677332898886109, 0.0005677332898886109, 0.0009675083921359396, 0.004505838423354487, 0.0025913889345347773, 0.008794179284114068, 0.0, 0.0, 0.010690116766847254, 0.054027786968052535, 0.01431014692522868, 0.0, 0.05085766550365521, 0.3271240254603528, 0.0, 0.0, 0.0010778847543662501, 0.0, 0.006028058959473686, 0.0, 0.45282315218057584, 0.010980861321178521, 0.0, 0.0, 0.0030552616747414963, 0.0015389082358588727, 0.0, 0.006028058959473686, 0.0, 0.005498465391702653, 0.00010959471058151624, 0.0014446065066572688, 0.0, 0.0, 0.0, 0.0, 0.0, 0.05007055768127181, 0.0, 0.0, 0.0, 0.013899972360333971, 0.15035696744104396, 0.07405422642453198, 0.026742891643382175, 0.0026514561033801785, -1.0794217606472248e-06, 0.0, 0.0028465021581523873, 0.0, 0.0022865942737387043, 0.0, 0.003211346651859989, 0.04936999885241839, 0.0, 0.0, 0.0014464810839782169, 0.0, 0.00288315096189402, 0.026832749756456685, 0.0, 0.006028058959473686, 0.00019650071445272791, 0.0, 0.0, 0.0, 0.008339474073691481, 0.0, 0.0, 0.0027685127911204564, 0.0, 0.0, 0.0, 0.02684938514790839, 0.0, 0.45429020594529673, 0.023391652836395726, 0.0, 0.006589270813419184, 0.0014761633893951417, 0.0, 0.030557887173506194, 0.0410973602176063, 0.032599223449151365, 0.43647955871008304, 0.0010778847543662501, 0.016605705645228272, 0.013899972360333971, 0.09056362513283135, 0.016299611724575683, 2.9546054614773323, 0.0020837228134915706, 0.0014446065066572688, 0.0, 0.0, 0.05679479334105844, 0.0, 0.003514586895474136, 0.0, 0.0, 0.0007262629282482862, 0.005608060102284171, 0.0, 0.0007262629282482862, 0.0, -1.0794217606472248e-06, 0.0023993999127205506, 0.8145386599763789, 0.013899972360333971, 0.4354426356783077, 0.02519433281556633, 0.07022642814127161, 0.0703811899672307, 0.008954059856429364, 0.02031063228595888, 0.002170162910484188, 0.010282538538036887, 0.0, 0.00018198932506736994, 0.0, 0.0, 0.49223596013616944, 0.016673165160206463, 0.001361784379273191, 0.0, 0.013899972360333971, 0.0, 0.019231314267090432, 0.0, 0.02153141678191802, 0.0, 0.005498465391702653, 0.0, 0.054027786968052535, -1.0794217606472248e-06, 0.0, 0.0, 0.0, 0.0058879738295471275, 0.0, 0.009373890282248816, 0.055442455944957274, 0.0, 0.0, 0.0, 0.0, 0.021131087045440262, 0.027724953126140272, 0.0, 0.14294360481951604, -1.0794217606472248e-06, 0.06481285806251713, 0.0585113076149534, 0.02545900833070415, 0.0, 0.006623293011624701, 0.0, 0.0, 0.0, 0.00288315096189402, 0.02153141678191802, 0.061753791146567774, 0.0, 0.0, 0.05007055768127181, 0.02684938514790839, 0.009298142619281583, 0.03710139927246002, 0.0, 0.01635704914952308, 0.0028773345810487443, 0.0003715786084295736, -0.0002721368015904564, 0.006564791805508299, 0.0, 0.0, 7.521944337574413e-05, 0.0004853940082704458, 0.0, 0.010980861321178521, 0.010357879796444378, 0.00019650071445272791, 0.0, 0.05820930970161061, 0.0, 0.024752411077899827, 0.0, 0.013899972360333971, 0.03335044558878019, 0.0, 0.004548552688457005, 0.003059066915949402, 0.0, 0.03335044558878019, 0.02031063228595888, 0.022696564737717227, 0.042753756817958524, 0.13023437121081127, 0.016299611724575683, 0.00019650071445272791, 0.3953956360226466, 0.0, 0.0028465021581523873, 0.032455277063392844, 0.02153141678191802, 0.01152652435117634, 0.0, 0.034750500982545104, 0.0, 0.0, 0.034750500982545104, 0.16522792403547593, 0.010357879796444378, 0.0014464810839782169, 0.015119727530373116, 0.03923239317991037, 0.0, 0.3953956360226466, 0.0, 0.0, 0.0682911044793075, 0.002469213907377317, 0.3592698782369725, 0.03668402481139307, 0.001178926453617561, 0.023788381539620568, 0.010980861321178521, 0.0, 0.013899972360333971, 0.05007055768127181, 0.0, 0.0029006926151320645, 0.0, 0.016299611724575683, 0.0, 0.009328332387574063, 0.003211346651859989, -0.0002721368015904564, 0.03234785053961102, 0.21226607618579676, 0.006417023103236108, 7.521944337574413e-05, 0.011919721322108844, 0.0, 0.0, 0.0, 0.0, 0.0, 0.013899972360333971, 0.0, 0.00026040219162574296, 0.00026040219162574296, 0.006677425294861849, 7.521944337574413e-05, 0.0, 0.002170162910484188, 0.012775427286368386, 0.007190428021576333, 0.08725966643229248, 0.0, 0.0, 0.0, 0.008339474073691481, 0.4655896828011779, 0.012688246673993622, 0.0, 0.14318620140269664, 0.001361784379273191, 0.0, 0.0, 0.0, 0.002931702542514737, 0.005498465391702653, 0.12907268700487057, 0.0, 0.0201830369145033, 0.008954059856429364, 0.0, 0.006417023103236108, 0.0, 0.0, 0.0, 0.006028058959473686, 0.0, 0.017336534756350924, 0.0, 0.0, 0.006288461151099427, 0.0, 0.0, 0.0, 0.0, 0.017336534756350924, 0.0, 0.08306172116947193, 0.05968369099193986, 0.0016934772954683057, 0.07298536990973988, 0.0, 0.0, 0.0, 0.008794179284114068, 0.0, 0.0, 0.06614895375723501, 0.02303796259963838, 0.0, 0.0954665015096614, 0.0, 0.002170162910484188, 0.061753791146567774, 0.0, 0.03520367208234121, 0.00010959471058151624, 0.0, 0.46503258956772453, 0.06480585410583385, 0.015844967315372428, 0.05007055768127181, 0.0065879250378839075, 0.0, 0.0027003503328426625, 0.0, 0.3953956360226466, 0.001361784379273191, 0.019871636044997205, 0.0, 0.0, 0.04229692426425966, 0.009298142619281583, 0.0, 0.0, 0.022040664862693102, 0.4528601786358258, 0.009328332387574063, -0.0002721368015904564, 0.00010959471058151624, 0.09309013358742292, 0.0, 2.9546054614773323, 0.0, 0.0, 0.0054870875189280445, 2.9546054614773323, 0.009052347992838584, 0.0023859324517583403, 0.028020627189514504, 0.00019650071445272791, 0.029647404096595643, 0.0, 0.009221884178510519, 0.006417023103236108, 0.0, 0.0, 0.0, 0.010980861321178521, 0.009221884178510519, 6.075970078202566e-05, 0.031358864269054904, 0.007443942294892821, 0.0, 0.0, 0.012729504165352075, 0.03304013645131096, 0.0, 0.0336361464809266, 0.02590652790881405, 0.003059066915949402, 0.017336534756350924, 0.017336534756350924, 0.0, 0.0336361464809266, 0.0, 0.0, 0.017336534756350924, 0.010642580960596238, 6.075970078202566e-05, 0.0, 0.0004101745648947016, 0.0, 0.0, 0.0, 0.017336534756350924, 0.0, 0.0, 0.0027003503328426625, 0.0, 0.0, 0.0, 2.9546054614773323, 0.0, 0.0, 0.017336534756350924, 0.017336534756350924, 0.0, 0.0, 0.003514586895474136, 0.0, 0.0, 0.0, 0.002931702542514737, 0.0, 0.003961035716260268, 0.0, 0.01118913346088999, 0.0, 0.0027003503328426625, 0.0, 0.0, 0.0, 0.061753791146567774, 0.0, 0.017336534756350924, 0.0, 0.0, 0.008705636676330869, 0.00017712385658567935, 6.075970078202566e-05, 0.010357879796444378, 0.005224493264715226, 0.0020837228134915706, 0.0, 0.001361784379273191, 0.055557645200199866, 0.0009675083921359396, 0.0, 0.004313924819220936, 0.0, 0.0, 0.002170162910484188, -1.0794217606472248e-06, 0.06309091293550169, 0.0, 0.0, 0.0, 0.0, 0.0, 0.0, 0.0, 0.03227578424449362, 0.003899210934650678, 0.0, 0.0, 0.0, 0.022257679710166314, 0.003652459485004584, 0.0, 0.0, 0.06519577868780849, 0.0744166102877493, 0.0292791786307356, 0.0, 0.42688460286453145, 0.0, 0.016579988824467262, 0.0, 0.4278486606300629, 0.016299611724575683, 0.0, 0.0, 0.0, 6.075970078202566e-05, 0.0, 0.0, 0.004548552688457005, 0.003211346651859989, 0.005462705783232087, 6.075970078202566e-05, 0.0, 0.0, 0.10746448507718848, 0.001178926453617561, 0.0020837228134915706, 0.0, 0.0, 0.016579988824467262, 0.006417023103236108, 0.0, 0.0, 0.0, 0.0, 0.03178343090646966, 0.052456490133030165, 0.0, 0.0, 0.02684938514790839, 0.0, 0.0017300325767342242, 6.075970078202566e-05, 0.006028058959473686, 0.3953956360226466, 0.0, 0.0, 0.0, 0.010364469033087222, 0.0, 0.0, 0.0, 0.0, 0.002931702542514737, 0.0, 0.0, 0.0, 0.02944077408244316, 0.030823337841479295, 0.001178926453617561, 0.0, 0.0, 0.05007055768127181, 0.006417023103236108, 0.005498465391702653, 0.002931702542514737, 0.016673165160206463, 0.04294878375271787, 0.0, 0.004097525867807819, 2.9546054614773323, 0.0, 0.004548552688457005, 0.0, 0.017267120116711627, -1.0794217606472248e-06, 0.8145386599763789, 0.0, 0.0, 0.0, 0.025912745035243743, 0.0, 0.0027685127911204564, 0.0, 0.0, 0.011831394437478108, -0.0002721368015904564, 0.11182434882783959, 0.0, 0.0004101745648947016, 0.0, 0.0, 0.0, 0.0027003503328426625, 0.014439868696586231, 0.43012388527491047, 0.0, 0.002170162910484188, 0.003652459485004584, 0.03543035981633198, 6.075970078202566e-05, 0.3953956360226466, 0.0, 0.016673165160206463, 6.075970078202566e-05, 0.0, 0.0005677332898886109, 0.0, 0.016299611724575683, 0.0, 0.02302237850116559, 0.0, 0.0, 0.0, 0.0, 0.0, 0.0037703153881523377, 0.061753791146567774, 0.0, 0.05007055768127181, 0.0, 0.0, 0.0, 0.0, 0.0, 0.0, 0.009298142619281583, 0.02601453950813016, 0.0, 0.0, 0.0, 0.015119727530373116, 2.9546054614773323, 0.0, 0.009298142619281583, 0.006028058959473686, 0.036177717535482455, 0.0, 0.00961313331066805, 0.00961313331066805, 0.0, 0.001361784379273191, 0.4167035660455508, 0.02012470068028493, 0.0, 0.0, 0.002931702542514737, 0.0, 0.009328332387574063, 0.006028058959473686, 0.006780253456681635, 0.0, 0.02656603220877734, 0.0, 0.0024771877702569113, 0.08102704773372765, 0.0, 0.0, 0.030746401983694334, 0.0037047740759898902, 0.0, 0.0, 0.0, 0.008954059856429364, 0.022824564340908574, 0.02031063228595888, 0.0, 0.0, 0.013899972360333971, 0.0, 0.0, 0.0, 0.026646251881549444, 0.004097525867807819, 0.016600322693176645, 0.02944077408244316, 0.0, 0.0, 0.06531058705354852, 0.0, 0.4165267230680869, 0.0, 0.054027786968052535, 0.0, 0.004097525867807819, 0.0, 0.0, 0.0, 0.0, 0.0, 0.0, 0.0, 0.0, 0.0, 0.021307930022904153, 0.00288315096189402, 0.0, 0.0, 0.0, 0.0, 0.0, 0.0, 0.0, 0.0, 0.0, 0.0, 0.0, 0.0, 0.3953956360226466, 0.0], \"y\": [-2.690578778048669e-16, 0.031437096717492535, 0.01050968232411067, 0.10919720762309848, -6.5649771226300376e-18, -3.60162642834014e-18, 0.0885230426683535, 7.672561531396604e-19, 0.31851780456620093, 0.023015998340073535, 3.9164756921112436e-19, 0.014621342230915485, 0.0020679923122793042, 0.301678036701927, 0.0009075412970272035, 0.0, 0.07005622658526002, 0.049390210573373804, 0.0, 0.0, 0.26875240387639004, 0.025178548906562077, 0.03316138645567092, 0.0054367585518553824, 0.0, 0.0020679923122793042, 0.0665798283636389, 0.01029651296436113, 0.0, 0.0, 0.0020679923122793042, 0.0020679923122793042, 0.0093602783719868, 0.03977127825300483, 0.025431371968803025, 0.004433592063641301, 0.0, 0.0, 0.11830150227243993, 0.07860788281675858, 0.15643576928472921, 0.0, 0.48082303765753426, -0.01245091972231553, 0.0, 0.0, 0.011480307248960063, 0.0, 0.07992612165938077, 0.0, 0.047643232226074354, 0.03489466693979113, 0.0, 0.0, 0.026908929463475558, 0.015231685198094697, 0.0, 0.07992612165938077, 0.0, 0.04904597060149697, 0.0009075412970272035, 0.014621342230915485, 0.0, 0.0, 0.0, 0.0, 0.0, 0.2518719502630995, 0.0, 0.0, 0.0, 0.15199363699713558, 1.8417092518207392, 0.920036345108873, 0.3020081562425774, 0.025152548737468184, 2.2613917074686482e-06, 0.0, 0.020045498703934163, 0.0, 0.021718761331607318, 0.0, 0.024805989638574572, 0.4238157962654389, 0.0, 0.0, 0.013097621985409931, 0.0, 0.032844089797655844, 0.17792157975895795, 0.0, 0.07992612165938077, 0.0002949315330978128, 0.0, 0.0, 0.0, 0.07743514500890032, 0.0, 0.0, 0.027498396461201686, 0.0, 0.0, 0.0, 0.31851780456620093, 0.0, 0.012399312302211652, 0.1614410445327937, 0.0, 0.06891294707261554, 0.017189617790265104, 0.0, 0.2424463769581233, 0.11873713479331047, 0.10560629085531303, 0.023874865955408605, 0.011480307248960063, 0.050808973317647804, 0.15199363699713558, 0.92113436640113, 0.05280314542765652, -0.30517183266284814, 0.023084556425188887, 0.014621342230915485, 0.0, 0.0, 0.6750414586500052, 0.0, 0.044877677678697936, 0.0, 0.0, 0.00957670900351307, 0.049953511898524164, 0.0, 0.00957670900351307, 0.0, 2.2613917074686482e-06, 0.03202965068261165, -0.058350237838859294, 0.15199363699713558, 0.03371490755622699, 0.08348552246275512, 0.8425287197297431, 0.2945111415951381, 0.0018424858601985602, 0.042639191332038535, 0.027821293732413627, 0.0960792720104143, 0.0, 0.01018549121407187, 0.0, 0.0, 0.3890180672541674, 0.04168959180326724, 0.01316466070569604, 0.0, 0.15199363699713558, 0.0, 0.08424024214514937, 0.0, 0.25575999028890145, 0.0, 0.04904597060149697, 0.0, 0.07860788281675858, 2.2613917074686482e-06, 0.0, 0.0, 0.0, 0.05056414033375353, 0.0, 0.009870350615496685, 0.1328736324925676, 0.0, 0.0, 0.0, 0.0, 0.05099885270379685, 0.18774669868097862, 0.0, 1.7464332019899667, 2.2613917074686482e-06, 0.7943264922892862, 0.39273372849654153, 0.025249581593469357, 0.0, 0.07327852934043576, 0.0, 0.0, 0.0, 0.032844089797655844, 0.25575999028890145, 0.7615957236272695, 0.0, 0.0, 0.2518719502630995, 0.31851780456620093, 0.1050855477162938, 0.4517798771412425, 0.0, 0.08852304266835348, 0.02371182844494815, 0.004895656013791208, 0.00030439110527940075, 0.054398943163081366, 0.0, 0.0, 0.0015767446735194717, 0.006018876961113187, 0.0, 0.03489466693979113, 0.016127902926826535, 0.0002949315330978128, 0.0, 0.4424508819701247, 0.0, 0.1643614561009133, 0.0, 0.15199363699713558, 0.2637022850467171, 0.0, 0.04492310191160903, 0.03273076866201668, 0.0, 0.2637022850467171, 0.042639191332038535, 0.06347673346756046, 0.3727554117230231, 0.3364341240292743, 0.05280314542765652, 0.0002949315330978128, -0.0392619999674298, 0.0, 0.020045498703934163, 0.16777023775226654, 0.25575999028890145, 0.12897209226087772, 0.0, 0.09244527777086596, 0.0, 0.0, 0.09244527777086596, 1.6606953460608138, 0.016127902926826535, 0.013097621985409931, 0.1359354432556282, 0.4078991377103266, 0.0, -0.0392619999674298, 0.0, 0.0, 0.41215584860203647, 0.022529710513522375, 3.7793489596638064, 0.4166023235452112, 0.006656930286932505, 0.16184838117281694, 0.03489466693979113, 0.0, 0.15199363699713558, 0.2518719502630995, 0.0, 0.028396345903790744, 0.0, 0.05280314542765652, 0.0, 0.1051368415667439, 0.024805989638574572, 0.00030439110527940075, 0.3675637751676979, 2.476785302646709, 0.049390210573373804, 0.0015767446735194717, 0.1305682135355469, 0.0, 0.0, 0.0, 0.0, 0.0, 0.15199363699713558, 0.0, 0.00318438079434201, 0.00318438079434201, 0.05257459136771581, 0.0015767446735194717, 0.0, 0.027821293732413627, 0.1485955056478655, 0.06294243053432164, 0.9441132556298052, 0.0, 0.0, 0.0, 0.07743514500890032, 0.02950524441002521, 0.03529543569561978, 0.0, 1.2471371737617667, 0.01316466070569604, 0.0, 0.0, 0.0, 0.03143709671749289, 0.04904597060149697, 0.6359539464369333, 0.0, 0.06300860253077226, 0.0018424858601985602, 0.0, 0.049390210573373804, 0.0, 0.0, 0.0, 0.07992612165938077, 0.0, 0.04296310382683811, 0.0, 0.0, 0.0831105024537228, 0.0, 0.0, 0.0, 0.0, 0.04296310382683811, 0.0, 0.8999522117348746, 0.25850101623646854, 0.013744268757779517, 0.3940987437193216, 0.0, 0.0, 0.0, 0.004433592063641301, 0.0, 0.0, 0.41545779622612117, 0.14648358934602082, 0.0, 1.155285351430121, 0.0, 0.027821293732413627, 0.7615957236272695, 0.0, 0.2941639923764469, 0.0009075412970272035, 0.0, 0.12237050909332371, 0.7207339531738669, 0.07716137611589034, 0.2518719502630995, 0.06703349064143992, 0.0, 0.023948744983728468, 0.0, -0.0392619999674298, 0.01316466070569604, 0.13340072034705136, 0.0, 0.0, 0.20952882435382758, 0.1050855477162938, 0.0, 0.0, 0.05076629257045453, 0.016880453613290537, 0.1051368415667439, 0.00030439110527940075, 0.0009075412970272035, 0.46829500043099803, 0.0, -0.30517183266284814, 0.0, 0.0, 0.06103347318906384, -0.30517183266284814, 0.08636975465432901, 0.020837542135521914, 0.05293269092545264, 0.0002949315330978128, 0.21579163311650512, 0.0, 0.01029651296436113, 0.049390210573373804, 0.0, 0.0, 0.0, 0.03489466693979113, 0.01029651296436113, 5.4233290053613513e-05, 0.20831347865761507, 0.07472729901831222, 0.0, 0.0, 0.012624790796734679, 0.05526398212877321, 0.0, 0.09576624925449462, 0.2908634485223569, 0.03273076866201668, 0.04296310382683811, 0.04296310382683811, 0.0, 0.09576624925449462, 0.0, 0.0, 0.04296310382683811, 0.012786723128132907, 5.4233290053613513e-05, 0.0, 0.004442132287593717, 0.0, 0.0, 0.0, 0.04296310382683811, 0.0, 0.0, 0.023948744983728468, 0.0, 0.0, 0.0, -0.30517183266284814, 0.0, 0.0, 0.04296310382683811, 0.04296310382683811, 0.0, 0.0, 0.044877677678697936, 0.0, 0.0, 0.0, 0.03143709671749289, 0.0, 0.04432439704661591, 0.0, 0.031146420995143753, 0.0, 0.023948744983728468, 0.0, 0.0, 0.0, 0.7615957236272695, 0.0, 0.04296310382683811, 0.0, 0.0, 0.004863243855105449, 0.0020670244923986607, 5.4233290053613513e-05, 0.016127902926826535, 0.06686444764040016, 0.023084556425188887, 0.0, 0.01316466070569604, 0.3129054234521634, 0.0093602783719868, 0.0, 0.03825803952128087, 0.0, 0.0, 0.027821293732413627, 2.2613917074686482e-06, 0.7429739324869863, 0.0, 0.0, 0.0, 0.0, 0.0, 0.0, 0.0, 0.35688111027694436, 0.04079737508947969, 0.0, 0.0, 0.0, 0.2653366992924145, 0.0282092324193846, 0.0, 0.0, 0.3794637178152586, 0.41635737885527013, 0.3236205669076162, 0.0, 0.027864755663193574, 0.0, 0.023015998340073535, 0.0, -0.01422499401632405, 0.05280314542765652, 0.0, 0.0, 0.0, 5.4233290053613513e-05, 0.0, 0.0, 0.04492310191160903, 0.024805989638574572, 0.049262191283968054, 5.4233290053613513e-05, 0.0, 0.0, 1.068318980485952, 0.006656930286932505, 0.023084556425188887, 0.0, 0.0, 0.023015998340073535, 0.049390210573373804, 0.0, 0.0, 0.0, 0.0, 0.3890220628639428, 0.27270949239862147, 0.0, 0.0, 0.31851780456620093, 0.0, 0.008127101238415996, 5.4233290053613513e-05, 0.07992612165938077, -0.0392619999674298, 0.0, 0.0, 0.0, 0.11043852027787826, 0.0, 0.0, 0.0, 0.0, 0.03143709671749289, 0.0, 0.0, 0.0, 0.34394917653500406, 0.22808290057600136, 0.006656930286932505, 0.0, 0.0, 0.2518719502630995, 0.049390210573373804, 0.04904597060149697, 0.03143709671749289, 0.04168959180326724, 0.20814811435186495, 0.0, 0.04582953786901819, -0.30517183266284814, 0.0, 0.04492310191160903, 0.0, 0.06216342379964331, 2.2613917074686482e-06, -0.058350237838859294, 0.0, 0.0, 0.0, 0.059432211401025545, 0.0, 0.027498396461201686, 0.0, 0.0, 0.025554314305146705, 0.00030439110527940075, 1.0134676738903692, 0.0, 0.004442132287593717, 0.0, 0.0, 0.0, 0.023948744983728468, 0.04980608643882744, 0.01580642906836163, 0.0, 0.027821293732413627, 0.0282092324193846, 0.1785746345876667, 5.4233290053613513e-05, -0.0392619999674298, 0.0, 0.04168959180326724, 5.4233290053613513e-05, 0.0, 0.0020679923122793042, 0.0, 0.05280314542765652, 0.0, 0.15623435486249737, 0.0, 0.0, 0.0, 0.0, 0.0, 0.03208830225573552, 0.7615957236272695, 0.0, 0.2518719502630995, 0.0, 0.0, 0.0, 0.0, 0.0, 0.0, 0.1050855477162938, 0.31087419739670197, 0.0, 0.0, 0.0, 0.1359354432556282, -0.30517183266284814, 0.0, 0.1050855477162938, 0.07992612165938077, 0.4236546461329449, 0.0, 0.00662906597336906, 0.00662906597336906, 0.0, 0.01316466070569604, 0.09909448814017502, 0.21061631660214564, 0.0, 0.0, 0.03143709671749289, 0.0, 0.1051368415667439, 0.07992612165938077, 0.05850029824672787, 0.0, 0.06507447431829855, 0.0, 0.031932953639218345, 0.5189516911486655, 0.0, 0.0, 0.15585389459961826, 0.034189400843784065, 0.0, 0.0, 0.0, 0.0018424858601985602, 0.06474312146157639, 0.042639191332038535, 0.0, 0.0, 0.15199363699713558, 0.0, 0.0, 0.0, 0.2649075355165059, 0.04582953786901819, 0.17594238198086407, 0.34394917653500406, 0.0, 0.0, 0.4057635264521465, 0.0, 0.011736852736367048, 0.0, 0.07860788281675858, 0.0, 0.04582953786901819, 0.0, 0.0, 0.0, 0.0, 0.0, 0.0, 0.0, 0.0, 0.0, 0.13835648810760484, 0.032844089797655844, 0.0, 0.0, 0.0, 0.0, 0.0, 0.0, 0.0, 0.0, 0.0, 0.0, 0.0, 0.0, -0.0392619999674298, 0.0]}],\n",
       "                        {\"template\": {\"data\": {\"bar\": [{\"error_x\": {\"color\": \"#2a3f5f\"}, \"error_y\": {\"color\": \"#2a3f5f\"}, \"marker\": {\"line\": {\"color\": \"#E5ECF6\", \"width\": 0.5}}, \"type\": \"bar\"}], \"barpolar\": [{\"marker\": {\"line\": {\"color\": \"#E5ECF6\", \"width\": 0.5}}, \"type\": \"barpolar\"}], \"carpet\": [{\"aaxis\": {\"endlinecolor\": \"#2a3f5f\", \"gridcolor\": \"white\", \"linecolor\": \"white\", \"minorgridcolor\": \"white\", \"startlinecolor\": \"#2a3f5f\"}, \"baxis\": {\"endlinecolor\": \"#2a3f5f\", \"gridcolor\": \"white\", \"linecolor\": \"white\", \"minorgridcolor\": \"white\", \"startlinecolor\": \"#2a3f5f\"}, \"type\": \"carpet\"}], \"choropleth\": [{\"colorbar\": {\"outlinewidth\": 0, \"ticks\": \"\"}, \"type\": \"choropleth\"}], \"contour\": [{\"colorbar\": {\"outlinewidth\": 0, \"ticks\": \"\"}, \"colorscale\": [[0.0, \"#0d0887\"], [0.1111111111111111, \"#46039f\"], [0.2222222222222222, \"#7201a8\"], [0.3333333333333333, \"#9c179e\"], [0.4444444444444444, \"#bd3786\"], [0.5555555555555556, \"#d8576b\"], [0.6666666666666666, \"#ed7953\"], [0.7777777777777778, \"#fb9f3a\"], [0.8888888888888888, \"#fdca26\"], [1.0, \"#f0f921\"]], \"type\": \"contour\"}], \"contourcarpet\": [{\"colorbar\": {\"outlinewidth\": 0, \"ticks\": \"\"}, \"type\": \"contourcarpet\"}], \"heatmap\": [{\"colorbar\": {\"outlinewidth\": 0, \"ticks\": \"\"}, \"colorscale\": [[0.0, \"#0d0887\"], [0.1111111111111111, \"#46039f\"], [0.2222222222222222, \"#7201a8\"], [0.3333333333333333, \"#9c179e\"], [0.4444444444444444, \"#bd3786\"], [0.5555555555555556, \"#d8576b\"], [0.6666666666666666, \"#ed7953\"], [0.7777777777777778, \"#fb9f3a\"], [0.8888888888888888, \"#fdca26\"], [1.0, \"#f0f921\"]], \"type\": \"heatmap\"}], \"heatmapgl\": [{\"colorbar\": {\"outlinewidth\": 0, \"ticks\": \"\"}, \"colorscale\": [[0.0, \"#0d0887\"], [0.1111111111111111, \"#46039f\"], [0.2222222222222222, \"#7201a8\"], [0.3333333333333333, \"#9c179e\"], [0.4444444444444444, \"#bd3786\"], [0.5555555555555556, \"#d8576b\"], [0.6666666666666666, \"#ed7953\"], [0.7777777777777778, \"#fb9f3a\"], [0.8888888888888888, \"#fdca26\"], [1.0, \"#f0f921\"]], \"type\": \"heatmapgl\"}], \"histogram\": [{\"marker\": {\"colorbar\": {\"outlinewidth\": 0, \"ticks\": \"\"}}, \"type\": \"histogram\"}], \"histogram2d\": [{\"colorbar\": {\"outlinewidth\": 0, \"ticks\": \"\"}, \"colorscale\": [[0.0, \"#0d0887\"], [0.1111111111111111, \"#46039f\"], [0.2222222222222222, \"#7201a8\"], [0.3333333333333333, \"#9c179e\"], [0.4444444444444444, \"#bd3786\"], [0.5555555555555556, \"#d8576b\"], [0.6666666666666666, \"#ed7953\"], [0.7777777777777778, \"#fb9f3a\"], [0.8888888888888888, \"#fdca26\"], [1.0, \"#f0f921\"]], \"type\": \"histogram2d\"}], \"histogram2dcontour\": [{\"colorbar\": {\"outlinewidth\": 0, \"ticks\": \"\"}, \"colorscale\": [[0.0, \"#0d0887\"], [0.1111111111111111, \"#46039f\"], [0.2222222222222222, \"#7201a8\"], [0.3333333333333333, \"#9c179e\"], [0.4444444444444444, \"#bd3786\"], [0.5555555555555556, \"#d8576b\"], [0.6666666666666666, \"#ed7953\"], [0.7777777777777778, \"#fb9f3a\"], [0.8888888888888888, \"#fdca26\"], [1.0, \"#f0f921\"]], \"type\": \"histogram2dcontour\"}], \"mesh3d\": [{\"colorbar\": {\"outlinewidth\": 0, \"ticks\": \"\"}, \"type\": \"mesh3d\"}], \"parcoords\": [{\"line\": {\"colorbar\": {\"outlinewidth\": 0, \"ticks\": \"\"}}, \"type\": \"parcoords\"}], \"pie\": [{\"automargin\": true, \"type\": \"pie\"}], \"scatter\": [{\"marker\": {\"colorbar\": {\"outlinewidth\": 0, \"ticks\": \"\"}}, \"type\": \"scatter\"}], \"scatter3d\": [{\"line\": {\"colorbar\": {\"outlinewidth\": 0, \"ticks\": \"\"}}, \"marker\": {\"colorbar\": {\"outlinewidth\": 0, \"ticks\": \"\"}}, \"type\": \"scatter3d\"}], \"scattercarpet\": [{\"marker\": {\"colorbar\": {\"outlinewidth\": 0, \"ticks\": \"\"}}, \"type\": \"scattercarpet\"}], \"scattergeo\": [{\"marker\": {\"colorbar\": {\"outlinewidth\": 0, \"ticks\": \"\"}}, \"type\": \"scattergeo\"}], \"scattergl\": [{\"marker\": {\"colorbar\": {\"outlinewidth\": 0, \"ticks\": \"\"}}, \"type\": \"scattergl\"}], \"scattermapbox\": [{\"marker\": {\"colorbar\": {\"outlinewidth\": 0, \"ticks\": \"\"}}, \"type\": \"scattermapbox\"}], \"scatterpolar\": [{\"marker\": {\"colorbar\": {\"outlinewidth\": 0, \"ticks\": \"\"}}, \"type\": \"scatterpolar\"}], \"scatterpolargl\": [{\"marker\": {\"colorbar\": {\"outlinewidth\": 0, \"ticks\": \"\"}}, \"type\": \"scatterpolargl\"}], \"scatterternary\": [{\"marker\": {\"colorbar\": {\"outlinewidth\": 0, \"ticks\": \"\"}}, \"type\": \"scatterternary\"}], \"surface\": [{\"colorbar\": {\"outlinewidth\": 0, \"ticks\": \"\"}, \"colorscale\": [[0.0, \"#0d0887\"], [0.1111111111111111, \"#46039f\"], [0.2222222222222222, \"#7201a8\"], [0.3333333333333333, \"#9c179e\"], [0.4444444444444444, \"#bd3786\"], [0.5555555555555556, \"#d8576b\"], [0.6666666666666666, \"#ed7953\"], [0.7777777777777778, \"#fb9f3a\"], [0.8888888888888888, \"#fdca26\"], [1.0, \"#f0f921\"]], \"type\": \"surface\"}], \"table\": [{\"cells\": {\"fill\": {\"color\": \"#EBF0F8\"}, \"line\": {\"color\": \"white\"}}, \"header\": {\"fill\": {\"color\": \"#C8D4E3\"}, \"line\": {\"color\": \"white\"}}, \"type\": \"table\"}]}, \"layout\": {\"annotationdefaults\": {\"arrowcolor\": \"#2a3f5f\", \"arrowhead\": 0, \"arrowwidth\": 1}, \"coloraxis\": {\"colorbar\": {\"outlinewidth\": 0, \"ticks\": \"\"}}, \"colorscale\": {\"diverging\": [[0, \"#8e0152\"], [0.1, \"#c51b7d\"], [0.2, \"#de77ae\"], [0.3, \"#f1b6da\"], [0.4, \"#fde0ef\"], [0.5, \"#f7f7f7\"], [0.6, \"#e6f5d0\"], [0.7, \"#b8e186\"], [0.8, \"#7fbc41\"], [0.9, \"#4d9221\"], [1, \"#276419\"]], \"sequential\": [[0.0, \"#0d0887\"], [0.1111111111111111, \"#46039f\"], [0.2222222222222222, \"#7201a8\"], [0.3333333333333333, \"#9c179e\"], [0.4444444444444444, \"#bd3786\"], [0.5555555555555556, \"#d8576b\"], [0.6666666666666666, \"#ed7953\"], [0.7777777777777778, \"#fb9f3a\"], [0.8888888888888888, \"#fdca26\"], [1.0, \"#f0f921\"]], \"sequentialminus\": [[0.0, \"#0d0887\"], [0.1111111111111111, \"#46039f\"], [0.2222222222222222, \"#7201a8\"], [0.3333333333333333, \"#9c179e\"], [0.4444444444444444, \"#bd3786\"], [0.5555555555555556, \"#d8576b\"], [0.6666666666666666, \"#ed7953\"], [0.7777777777777778, \"#fb9f3a\"], [0.8888888888888888, \"#fdca26\"], [1.0, \"#f0f921\"]]}, \"colorway\": [\"#636efa\", \"#EF553B\", \"#00cc96\", \"#ab63fa\", \"#FFA15A\", \"#19d3f3\", \"#FF6692\", \"#B6E880\", \"#FF97FF\", \"#FECB52\"], \"font\": {\"color\": \"#2a3f5f\"}, \"geo\": {\"bgcolor\": \"white\", \"lakecolor\": \"white\", \"landcolor\": \"#E5ECF6\", \"showlakes\": true, \"showland\": true, \"subunitcolor\": \"white\"}, \"hoverlabel\": {\"align\": \"left\"}, \"hovermode\": \"closest\", \"mapbox\": {\"style\": \"light\"}, \"paper_bgcolor\": \"white\", \"plot_bgcolor\": \"#E5ECF6\", \"polar\": {\"angularaxis\": {\"gridcolor\": \"white\", \"linecolor\": \"white\", \"ticks\": \"\"}, \"bgcolor\": \"#E5ECF6\", \"radialaxis\": {\"gridcolor\": \"white\", \"linecolor\": \"white\", \"ticks\": \"\"}}, \"scene\": {\"xaxis\": {\"backgroundcolor\": \"#E5ECF6\", \"gridcolor\": \"white\", \"gridwidth\": 2, \"linecolor\": \"white\", \"showbackground\": true, \"ticks\": \"\", \"zerolinecolor\": \"white\"}, \"yaxis\": {\"backgroundcolor\": \"#E5ECF6\", \"gridcolor\": \"white\", \"gridwidth\": 2, \"linecolor\": \"white\", \"showbackground\": true, \"ticks\": \"\", \"zerolinecolor\": \"white\"}, \"zaxis\": {\"backgroundcolor\": \"#E5ECF6\", \"gridcolor\": \"white\", \"gridwidth\": 2, \"linecolor\": \"white\", \"showbackground\": true, \"ticks\": \"\", \"zerolinecolor\": \"white\"}}, \"shapedefaults\": {\"line\": {\"color\": \"#2a3f5f\"}}, \"ternary\": {\"aaxis\": {\"gridcolor\": \"white\", \"linecolor\": \"white\", \"ticks\": \"\"}, \"baxis\": {\"gridcolor\": \"white\", \"linecolor\": \"white\", \"ticks\": \"\"}, \"bgcolor\": \"#E5ECF6\", \"caxis\": {\"gridcolor\": \"white\", \"linecolor\": \"white\", \"ticks\": \"\"}}, \"title\": {\"x\": 0.05}, \"xaxis\": {\"automargin\": true, \"gridcolor\": \"white\", \"linecolor\": \"white\", \"ticks\": \"\", \"title\": {\"standoff\": 15}, \"zerolinecolor\": \"white\", \"zerolinewidth\": 2}, \"yaxis\": {\"automargin\": true, \"gridcolor\": \"white\", \"linecolor\": \"white\", \"ticks\": \"\", \"title\": {\"standoff\": 15}, \"zerolinecolor\": \"white\", \"zerolinewidth\": 2}}}},\n",
       "                        {\"responsive\": true}\n",
       "                    ).then(function(){\n",
       "                            \n",
       "var gd = document.getElementById('5a91c973-d189-4926-9e0f-5e8e580e76ba');\n",
       "var x = new MutationObserver(function (mutations, observer) {{\n",
       "        var display = window.getComputedStyle(gd).display;\n",
       "        if (!display || display === 'none') {{\n",
       "            console.log([gd, 'removed!']);\n",
       "            Plotly.purge(gd);\n",
       "            observer.disconnect();\n",
       "        }}\n",
       "}});\n",
       "\n",
       "// Listen for the removal of the full notebook cells\n",
       "var notebookContainer = gd.closest('#notebook-container');\n",
       "if (notebookContainer) {{\n",
       "    x.observe(notebookContainer, {childList: true});\n",
       "}}\n",
       "\n",
       "// Listen for the clearing of the current output cell\n",
       "var outputEl = gd.closest('.output');\n",
       "if (outputEl) {{\n",
       "    x.observe(outputEl, {childList: true});\n",
       "}}\n",
       "\n",
       "                        })\n",
       "                };\n",
       "                });\n",
       "            </script>\n",
       "        </div>"
      ]
     },
     "metadata": {},
     "output_type": "display_data"
    }
   ],
   "source": [
    "trace = go.Scattergl(\n",
    "    x = data_2d[:,0],\n",
    "    y = data_2d[:,1],\n",
    "    mode = 'markers',\n",
    "    marker = dict(\n",
    "        color = '#FFBAD2',\n",
    "        line = dict(width = 1)\n",
    "    ),\n",
    "    text = vectorizer.get_feature_names(),\n",
    "    hovertext = vectorizer.get_feature_names(),\n",
    "    hoverinfo = 'text' \n",
    ")\n",
    "data = [trace]\n",
    "iplot(data, filename='scatter-mode')"
   ]
  },
  {
   "cell_type": "code",
   "execution_count": null,
   "metadata": {},
   "outputs": [],
   "source": []
  }
 ],
 "metadata": {
  "kernelspec": {
   "display_name": "Python 3.7.6 64-bit ('venv': venv)",
   "language": "python",
   "name": "python37664bitvenvvenv756d012eff2d49698cf7b8385fe1cde1"
  },
  "language_info": {
   "codemirror_mode": {
    "name": "ipython",
    "version": 3
   },
   "file_extension": ".py",
   "mimetype": "text/x-python",
   "name": "python",
   "nbconvert_exporter": "python",
   "pygments_lexer": "ipython3",
   "version": "3.7.6"
  }
 },
 "nbformat": 4,
 "nbformat_minor": 2
}
