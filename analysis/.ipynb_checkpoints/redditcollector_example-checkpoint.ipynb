{
 "cells": [
  {
   "cell_type": "code",
   "execution_count": 1,
   "metadata": {},
   "outputs": [],
   "source": [
    "from redditcollector import RedditCollector\n",
    "import pandas as pd\n",
    "import pandas_gbq"
   ]
  },
  {
   "cell_type": "code",
   "execution_count": 2,
   "metadata": {},
   "outputs": [],
   "source": [
    "collector = RedditCollector(r\"../redditcollector_disinfo_config.yaml\")"
   ]
  },
  {
   "cell_type": "code",
   "execution_count": 3,
   "metadata": {},
   "outputs": [],
   "source": [
    "top_subreddits = list(set(['Coronavirus', 'insanepeoplefacebook', 'newsbotbot', 'worldnews', 'conspiracywhatever', 'AskReddit', 'conspiracytheories', 'memes', 'news', 'conspiracy_commons', 'AutoNewspaper', 'teenagers', 'ConspiracyHeadlines', 'technology', 'copypasta', 'unitedkingdom', 'tradeflags', 'OutOfTheLoop', 'nottheonion', 'removalbot', 'unpopularopinion', 'China_Flu', 'JAAGNet', 'businesstalkdaily', 'ukpolitics', 'NoStupidQuestions', 'Showerthoughts', 'unremovable', 'dangerous_tech', 'videos', 'wallstreetbets', 'rant', 'TheNewsFeed', 'Wuhan_Flu', 'skeptic', 'discordservers', 'technews', 'dankmemes', 'INDEPENDENTauto', 'CoronavirusUK', 'FreeKarma4U', 'TrueOffMyChest', 'facepalm', 'CoronavirusFOS', 'BannedDotVideo', 'europe', 'explainlikeimfive', 'TooAfraidToAsk', 'FreeKarma4You', 'conspiracy', 'insanepeoplefacebook', 'AskReddit', 'teenagers', 'copypasta', 'conspiracy_commons', 'Coronavirus', 'conspiracytheories', 'memes', 'relationship_advice', 'Showerthoughts', 'JAAGNet', 'tradeflags', 'OutOfTheLoop', 'NoStupidQuestions', 'pennystocks', 'Advice', 'conspiracywhatever', 'removalbot', 'unpopularopinion', 'technology', 'wallstreetbets', 'TrueOffMyChest', 'explainlikeimfive', 'worldnews', 'rant', 'DebateRightists', 'SAtechnews', 'AutoNewspaper', 'investing', 'Romania', 'niuz', 'CoronavirusUK', 'news', 'QAnonCasualties', 'stocks', 'funny', 'skeptic', 'China_Flu', 'newsbotbot', 'facepalm', 'askscience', 'ConspiracyHeadlines', 'u_snehawiseguy', 'TooAfraidToAsk', 'newzealand', 'Wuhan_Flu', 'videos', 'CovIdiots', 'relationships', 'conspiracy', 'unitedkingdom', 'conspiracywhatever', 'AutoNewspaper', 'worldnews', 'news', 'ConspiracyHeadlines', 'uknews', 'whatisthisthing', 'Ilford', 'Coronavirus', 'badunitedkingdom', 'crimenews', 'Jokes', 'CoronavirusUK', 'unremovable', 'CasualUK', 'ukpolitics', 'BBCtech', 'JAAGNet', 'BBCauto', 'FreeKarma4You', 'INDEPENDENTauto', 'bprogramming', 'insanepeoplefacebook', 'UKNewsByABot', 'conspiracy_commons', 'Scotland', 'AskScienceDiscussion', 'britishproblems', 'biology', 'NoFilterNews', 'europe', 'HomeNetworking', 'businesstalkdaily', 'TheNewsFeed', 'GlobalNews', 'TrueOffMyChest', 'technology', 'u_jerryfranksonJF', 'myfriendwantstoknow', 'offbeat', 'Feedimo', 'JustBadNews', 'CellBoosters', 'Economics', 'belgium', 'glasgow', 'GUARDIANauto', 'CovIdiots']))"
   ]
  },
  {
   "cell_type": "code",
   "execution_count": 4,
   "metadata": {},
   "outputs": [
    {
     "name": "stderr",
     "output_type": "stream",
     "text": [
      "1it [00:02,  2.16s/it]\n"
     ]
    },
    {
     "name": "stdout",
     "output_type": "stream",
     "text": [
      "Query uuid logged: 3a9e63da-05b0-4c9e-8c4d-dbbc63c69cc4\n"
     ]
    },
    {
     "name": "stderr",
     "output_type": "stream",
     "text": [
      "/opt/conda/lib/python3.7/site-packages/psaw/PushshiftAPI.py:192: UserWarning: Got non 200 code 502\n",
      "  warnings.warn(\"Got non 200 code %s\" % response.status_code)\n",
      "/opt/conda/lib/python3.7/site-packages/psaw/PushshiftAPI.py:180: UserWarning: Unable to connect to pushshift.io. Retrying after backoff.\n",
      "  warnings.warn(\"Unable to connect to pushshift.io. Retrying after backoff.\")\n",
      "/opt/conda/lib/python3.7/site-packages/psaw/PushshiftAPI.py:192: UserWarning: Got non 200 code 525\n",
      "  warnings.warn(\"Got non 200 code %s\" % response.status_code)\n",
      "1it [00:06,  6.59s/it]\n",
      "1it [00:07,  7.87s/it]"
     ]
    },
    {
     "name": "stdout",
     "output_type": "stream",
     "text": [
      "Query complete\n"
     ]
    },
    {
     "name": "stderr",
     "output_type": "stream",
     "text": [
      "\n"
     ]
    }
   ],
   "source": [
    "query_uuid = collector.collect_submissions(\n",
    "    query=None,\n",
    "    start_date=\"2020/09/07\",\n",
    "    end_date=\"2020/09/08\",\n",
    "    subreddits=\"CovIdiots\"\n",
    ")"
   ]
  },
  {
   "cell_type": "code",
   "execution_count": 5,
   "metadata": {},
   "outputs": [
    {
     "name": "stderr",
     "output_type": "stream",
     "text": [
      "Downloading: 100%|██████████| 94/94 [00:00<00:00, 500.36rows/s]\n"
     ]
    }
   ],
   "source": [
    "sql = \"\"\"\n",
    "SELECT *\n",
    "FROM `covid19.redditcollector_logging`\n",
    "\"\"\"\n",
    "logged_queries = collector.query_gbq(sql)"
   ]
  },
  {
   "cell_type": "code",
   "execution_count": 7,
   "metadata": {},
   "outputs": [
    {
     "data": {
      "text/html": [
       "<div>\n",
       "<style scoped>\n",
       "    .dataframe tbody tr th:only-of-type {\n",
       "        vertical-align: middle;\n",
       "    }\n",
       "\n",
       "    .dataframe tbody tr th {\n",
       "        vertical-align: top;\n",
       "    }\n",
       "\n",
       "    .dataframe thead th {\n",
       "        text-align: right;\n",
       "    }\n",
       "</style>\n",
       "<table border=\"1\" class=\"dataframe\">\n",
       "  <thead>\n",
       "    <tr style=\"text-align: right;\">\n",
       "      <th></th>\n",
       "      <th>uuid</th>\n",
       "      <th>query</th>\n",
       "      <th>subreddits</th>\n",
       "      <th>start_date</th>\n",
       "      <th>end_date</th>\n",
       "    </tr>\n",
       "  </thead>\n",
       "  <tbody>\n",
       "    <tr>\n",
       "      <th>89</th>\n",
       "      <td>3a9e63da-05b0-4c9e-8c4d-dbbc63c69cc4</td>\n",
       "      <td>None</td>\n",
       "      <td>OutOfTheLoop</td>\n",
       "      <td>2020/09/07</td>\n",
       "      <td>2020/09/08</td>\n",
       "    </tr>\n",
       "    <tr>\n",
       "      <th>90</th>\n",
       "      <td>3a9e63da-05b0-4c9e-8c4d-dbbc63c69cc4</td>\n",
       "      <td>None</td>\n",
       "      <td>Jokes</td>\n",
       "      <td>2020/09/07</td>\n",
       "      <td>2020/09/08</td>\n",
       "    </tr>\n",
       "    <tr>\n",
       "      <th>91</th>\n",
       "      <td>3a9e63da-05b0-4c9e-8c4d-dbbc63c69cc4</td>\n",
       "      <td>None</td>\n",
       "      <td>myfriendwantstoknow</td>\n",
       "      <td>2020/09/07</td>\n",
       "      <td>2020/09/08</td>\n",
       "    </tr>\n",
       "    <tr>\n",
       "      <th>92</th>\n",
       "      <td>3a9e63da-05b0-4c9e-8c4d-dbbc63c69cc4</td>\n",
       "      <td>None</td>\n",
       "      <td>crimenews</td>\n",
       "      <td>2020/09/07</td>\n",
       "      <td>2020/09/08</td>\n",
       "    </tr>\n",
       "    <tr>\n",
       "      <th>93</th>\n",
       "      <td>3a9e63da-05b0-4c9e-8c4d-dbbc63c69cc4</td>\n",
       "      <td>None</td>\n",
       "      <td>unpopularopinion</td>\n",
       "      <td>2020/09/07</td>\n",
       "      <td>2020/09/08</td>\n",
       "    </tr>\n",
       "  </tbody>\n",
       "</table>\n",
       "</div>"
      ],
      "text/plain": [
       "                                    uuid query           subreddits  \\\n",
       "89  3a9e63da-05b0-4c9e-8c4d-dbbc63c69cc4  None         OutOfTheLoop   \n",
       "90  3a9e63da-05b0-4c9e-8c4d-dbbc63c69cc4  None                Jokes   \n",
       "91  3a9e63da-05b0-4c9e-8c4d-dbbc63c69cc4  None  myfriendwantstoknow   \n",
       "92  3a9e63da-05b0-4c9e-8c4d-dbbc63c69cc4  None            crimenews   \n",
       "93  3a9e63da-05b0-4c9e-8c4d-dbbc63c69cc4  None     unpopularopinion   \n",
       "\n",
       "    start_date    end_date  \n",
       "89  2020/09/07  2020/09/08  \n",
       "90  2020/09/07  2020/09/08  \n",
       "91  2020/09/07  2020/09/08  \n",
       "92  2020/09/07  2020/09/08  \n",
       "93  2020/09/07  2020/09/08  "
      ]
     },
     "execution_count": 7,
     "metadata": {},
     "output_type": "execute_result"
    }
   ],
   "source": [
    "logged_queries.tail()"
   ]
  },
  {
   "cell_type": "markdown",
   "metadata": {},
   "source": [
    "# Querying from the database\n",
    "\n",
    "Use SQL, as with pandas_gbq.\n",
    "Should be careful to only select one uuid, else data will be too large."
   ]
  },
  {
   "cell_type": "code",
   "execution_count": 8,
   "metadata": {},
   "outputs": [
    {
     "name": "stderr",
     "output_type": "stream",
     "text": [
      "Downloading: 100%|██████████| 12856/12856 [00:06<00:00, 1895.09rows/s]\n"
     ]
    }
   ],
   "source": [
    "sql = \"\"\"\n",
    "SELECT *\n",
    "FROM `covid19.redditcollector_submissions`\n",
    "WHERE uuid=\"3a9e63da-05b0-4c9e-8c4d-dbbc63c69cc4\"\n",
    "\"\"\"\n",
    "submissions = collector.query_gbq(sql)"
   ]
  },
  {
   "cell_type": "code",
   "execution_count": 10,
   "metadata": {},
   "outputs": [
    {
     "data": {
      "text/plain": [
       "(12856, 74)"
      ]
     },
     "execution_count": 10,
     "metadata": {},
     "output_type": "execute_result"
    }
   ],
   "source": [
    "submissions.shape"
   ]
  },
  {
   "cell_type": "code",
   "execution_count": null,
   "metadata": {},
   "outputs": [],
   "source": []
  },
  {
   "cell_type": "code",
   "execution_count": null,
   "metadata": {},
   "outputs": [],
   "source": []
  },
  {
   "cell_type": "code",
   "execution_count": null,
   "metadata": {},
   "outputs": [],
   "source": []
  }
 ],
 "metadata": {
  "environment": {
   "name": "tf2-2-2-gpu.2-2.m50",
   "type": "gcloud",
   "uri": "gcr.io/deeplearning-platform-release/tf2-2-2-gpu.2-2:m50"
  },
  "kernelspec": {
   "display_name": "Python 3",
   "language": "python",
   "name": "python3"
  },
  "language_info": {
   "codemirror_mode": {
    "name": "ipython",
    "version": 3
   },
   "file_extension": ".py",
   "mimetype": "text/x-python",
   "name": "python",
   "nbconvert_exporter": "python",
   "pygments_lexer": "ipython3",
   "version": "3.7.6"
  }
 },
 "nbformat": 4,
 "nbformat_minor": 4
}
