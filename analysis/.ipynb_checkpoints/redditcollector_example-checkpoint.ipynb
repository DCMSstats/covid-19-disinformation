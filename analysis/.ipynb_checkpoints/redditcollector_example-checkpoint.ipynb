{
 "cells": [
  {
   "cell_type": "code",
   "execution_count": 12,
   "metadata": {},
   "outputs": [],
   "source": [
    "from redditcollector import RedditCollector\n",
    "import pandas as pd\n",
    "import pandas_gbq"
   ]
  },
  {
   "cell_type": "code",
   "execution_count": null,
   "metadata": {},
   "outputs": [],
   "source": []
  },
  {
   "cell_type": "code",
   "execution_count": 13,
   "metadata": {},
   "outputs": [],
   "source": [
    "collector = RedditCollector(r\"../redditcollector_disinfo_config.yaml\")"
   ]
  },
  {
   "cell_type": "code",
   "execution_count": 10,
   "metadata": {},
   "outputs": [],
   "source": [
    "top_subreddits = list(set(['Coronavirus', 'insanepeoplefacebook', 'newsbotbot', 'worldnews', 'conspiracywhatever', 'AskReddit', 'conspiracytheories', 'memes', 'news', 'conspiracy_commons', 'AutoNewspaper', 'teenagers', 'ConspiracyHeadlines', 'technology', 'copypasta', 'unitedkingdom', 'tradeflags', 'OutOfTheLoop', 'nottheonion', 'removalbot', 'unpopularopinion', 'China_Flu', 'JAAGNet', 'businesstalkdaily', 'ukpolitics', 'NoStupidQuestions', 'Showerthoughts', 'unremovable', 'dangerous_tech', 'videos', 'wallstreetbets', 'rant', 'TheNewsFeed', 'Wuhan_Flu', 'skeptic', 'discordservers', 'technews', 'dankmemes', 'INDEPENDENTauto', 'CoronavirusUK', 'FreeKarma4U', 'TrueOffMyChest', 'facepalm', 'CoronavirusFOS', 'BannedDotVideo', 'europe', 'explainlikeimfive', 'TooAfraidToAsk', 'FreeKarma4You', 'conspiracy', 'insanepeoplefacebook', 'AskReddit', 'teenagers', 'copypasta', 'conspiracy_commons', 'Coronavirus', 'conspiracytheories', 'memes', 'relationship_advice', 'Showerthoughts', 'JAAGNet', 'tradeflags', 'OutOfTheLoop', 'NoStupidQuestions', 'pennystocks', 'Advice', 'conspiracywhatever', 'removalbot', 'unpopularopinion', 'technology', 'wallstreetbets', 'TrueOffMyChest', 'explainlikeimfive', 'worldnews', 'rant', 'DebateRightists', 'SAtechnews', 'AutoNewspaper', 'investing', 'Romania', 'niuz', 'CoronavirusUK', 'news', 'QAnonCasualties', 'stocks', 'funny', 'skeptic', 'China_Flu', 'newsbotbot', 'facepalm', 'askscience', 'ConspiracyHeadlines', 'u_snehawiseguy', 'TooAfraidToAsk', 'newzealand', 'Wuhan_Flu', 'videos', 'CovIdiots', 'relationships', 'conspiracy', 'unitedkingdom', 'conspiracywhatever', 'AutoNewspaper', 'worldnews', 'news', 'ConspiracyHeadlines', 'uknews', 'whatisthisthing', 'Ilford', 'Coronavirus', 'badunitedkingdom', 'crimenews', 'Jokes', 'CoronavirusUK', 'unremovable', 'CasualUK', 'ukpolitics', 'BBCtech', 'JAAGNet', 'BBCauto', 'FreeKarma4You', 'INDEPENDENTauto', 'bprogramming', 'insanepeoplefacebook', 'UKNewsByABot', 'conspiracy_commons', 'Scotland', 'AskScienceDiscussion', 'britishproblems', 'biology', 'NoFilterNews', 'europe', 'HomeNetworking', 'businesstalkdaily', 'TheNewsFeed', 'GlobalNews', 'TrueOffMyChest', 'technology', 'u_jerryfranksonJF', 'myfriendwantstoknow', 'offbeat', 'Feedimo', 'JustBadNews', 'CellBoosters', 'Economics', 'belgium', 'glasgow', 'GUARDIANauto', 'CovIdiots']))"
   ]
  },
  {
   "cell_type": "code",
   "execution_count": null,
   "metadata": {},
   "outputs": [
    {
     "name": "stderr",
     "output_type": "stream",
     "text": [
      "1it [00:03,  3.09s/it]\n"
     ]
    },
    {
     "name": "stdout",
     "output_type": "stream",
     "text": [
      "Query uuid logged: d60d3733-e150-4751-92eb-d03683b0261e\n"
     ]
    },
    {
     "name": "stderr",
     "output_type": "stream",
     "text": [
      "1it [00:01,  1.62s/it]\n",
      "1it [00:02,  2.03s/it]\n",
      "1it [00:04,  4.45s/it]\n",
      "1it [00:03,  3.94s/it]\n",
      "1it [00:02,  2.05s/it]\n",
      "0it [00:00, ?it/s]"
     ]
    }
   ],
   "source": [
    "query_uuid = collector.collect_submissions(\n",
    "    query=None,\n",
    "    start_date=\"2020/01/01\",\n",
    "    end_date=\"2020/09/15\",\n",
    "    subreddits=top_subreddits\n",
    ")"
   ]
  },
  {
   "cell_type": "code",
   "execution_count": 14,
   "metadata": {},
   "outputs": [
    {
     "name": "stderr",
     "output_type": "stream",
     "text": [
      "Downloading: 100%|██████████| 1/1 [00:00<00:00,  8.67rows/s]\n"
     ]
    }
   ],
   "source": [
    "sql = \"\"\"\n",
    "SELECT *\n",
    "FROM `covid19.redditcollector_logging`\n",
    "\"\"\"\n",
    "logged_queries = collector.query_gbq(sql)"
   ]
  },
  {
   "cell_type": "code",
   "execution_count": 15,
   "metadata": {},
   "outputs": [
    {
     "data": {
      "text/html": [
       "<div>\n",
       "<style scoped>\n",
       "    .dataframe tbody tr th:only-of-type {\n",
       "        vertical-align: middle;\n",
       "    }\n",
       "\n",
       "    .dataframe tbody tr th {\n",
       "        vertical-align: top;\n",
       "    }\n",
       "\n",
       "    .dataframe thead th {\n",
       "        text-align: right;\n",
       "    }\n",
       "</style>\n",
       "<table border=\"1\" class=\"dataframe\">\n",
       "  <thead>\n",
       "    <tr style=\"text-align: right;\">\n",
       "      <th></th>\n",
       "      <th>uuid</th>\n",
       "      <th>query</th>\n",
       "      <th>subreddits</th>\n",
       "      <th>query_datetime</th>\n",
       "      <th>start_date</th>\n",
       "      <th>end_date</th>\n",
       "    </tr>\n",
       "  </thead>\n",
       "  <tbody>\n",
       "    <tr>\n",
       "      <th>0</th>\n",
       "      <td>d60d3733-e150-4751-92eb-d03683b0261e</td>\n",
       "      <td>None</td>\n",
       "      <td>[\"ConspiracyHeadlines\", \"copypasta\", \"unitedki...</td>\n",
       "      <td>2020-09-15 16:37:20.224250+00:00</td>\n",
       "      <td>2020-01-01 00:00:00+00:00</td>\n",
       "      <td>2020-09-15 00:00:00+00:00</td>\n",
       "    </tr>\n",
       "  </tbody>\n",
       "</table>\n",
       "</div>"
      ],
      "text/plain": [
       "                                   uuid query  \\\n",
       "0  d60d3733-e150-4751-92eb-d03683b0261e  None   \n",
       "\n",
       "                                          subreddits  \\\n",
       "0  [\"ConspiracyHeadlines\", \"copypasta\", \"unitedki...   \n",
       "\n",
       "                    query_datetime                start_date  \\\n",
       "0 2020-09-15 16:37:20.224250+00:00 2020-01-01 00:00:00+00:00   \n",
       "\n",
       "                   end_date  \n",
       "0 2020-09-15 00:00:00+00:00  "
      ]
     },
     "execution_count": 15,
     "metadata": {},
     "output_type": "execute_result"
    }
   ],
   "source": [
    "logged_queries.head()"
   ]
  },
  {
   "cell_type": "markdown",
   "metadata": {},
   "source": [
    "# Querying from the database\n",
    "\n",
    "Use SQL, as with pandas_gbq.\n",
    "Should be careful to only select one uuid, else data will be too large."
   ]
  },
  {
   "cell_type": "code",
   "execution_count": 18,
   "metadata": {},
   "outputs": [
    {
     "name": "stderr",
     "output_type": "stream",
     "text": [
      "Downloading: 0rows [00:00, ?rows/s]\n"
     ]
    }
   ],
   "source": [
    "sql = \"\"\"\n",
    "SELECT *\n",
    "FROM `covid19.redditcollector_submissions`\n",
    "\"\"\"\n",
    "submissions = collector.query_gbq(sql)"
   ]
  },
  {
   "cell_type": "code",
   "execution_count": 19,
   "metadata": {},
   "outputs": [
    {
     "data": {
      "text/plain": [
       "(0, 1)"
      ]
     },
     "execution_count": 19,
     "metadata": {},
     "output_type": "execute_result"
    }
   ],
   "source": [
    "submissions.shape"
   ]
  },
  {
   "cell_type": "code",
   "execution_count": null,
   "metadata": {},
   "outputs": [],
   "source": []
  },
  {
   "cell_type": "code",
   "execution_count": null,
   "metadata": {},
   "outputs": [],
   "source": []
  },
  {
   "cell_type": "code",
   "execution_count": null,
   "metadata": {},
   "outputs": [],
   "source": []
  }
 ],
 "metadata": {
  "environment": {
   "name": "tf2-2-2-gpu.2-2.m50",
   "type": "gcloud",
   "uri": "gcr.io/deeplearning-platform-release/tf2-2-2-gpu.2-2:m50"
  },
  "kernelspec": {
   "display_name": "Python 3",
   "language": "python",
   "name": "python3"
  },
  "language_info": {
   "codemirror_mode": {
    "name": "ipython",
    "version": 3
   },
   "file_extension": ".py",
   "mimetype": "text/x-python",
   "name": "python",
   "nbconvert_exporter": "python",
   "pygments_lexer": "ipython3",
   "version": "3.7.6"
  }
 },
 "nbformat": 4,
 "nbformat_minor": 4
}
