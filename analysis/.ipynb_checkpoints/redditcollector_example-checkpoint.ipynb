{
 "cells": [
  {
   "cell_type": "code",
   "execution_count": 1,
   "metadata": {},
   "outputs": [],
   "source": [
    "from redditcollector import RedditCollector"
   ]
  },
  {
   "cell_type": "code",
   "execution_count": 4,
   "metadata": {},
   "outputs": [
    {
     "name": "stdout",
     "output_type": "stream",
     "text": [
      "  all_awardings associated_award            author  \\\n",
      "0            []             None         Isaiahall   \n",
      "1            []             None         BlackOrre   \n",
      "2            []             None      Tehlaserw0lf   \n",
      "3            []             None           Serenyx   \n",
      "4            []             None  grandmas_noodles   \n",
      "\n",
      "  author_flair_background_color author_flair_css_class author_flair_richtext  \\\n",
      "0                          None                   None                    []   \n",
      "1                          None                   None                    []   \n",
      "2                          None                   None                    []   \n",
      "3                          None                   None                    []   \n",
      "4                          None                   None                    []   \n",
      "\n",
      "  author_flair_template_id author_flair_text author_flair_text_color  \\\n",
      "0                     None              None                    None   \n",
      "1                     None              None                    None   \n",
      "2                     None              None                    None   \n",
      "3                     None              None                    None   \n",
      "4                     None              None                    None   \n",
      "\n",
      "  author_flair_type  ... score  send_replies  stickied          subreddit  \\\n",
      "0              text  ...     1          True     False     Showerthoughts   \n",
      "1              text  ...     3          True     False           Teachers   \n",
      "2              text  ...     1          True     False           Portland   \n",
      "3              text  ...     1          True     False          AskReddit   \n",
      "4              text  ...     0          True     False  interestingasfuck   \n",
      "\n",
      "  subreddit_id top_awarded_type  total_awards_received treatment_tags  \\\n",
      "0     t5_2szyo             None                      0             []   \n",
      "1     t5_2qqcs             None                      0             []   \n",
      "2     t5_2qi2i             None                      0             []   \n",
      "3     t5_2qh1i             None                      0             []   \n",
      "4     t5_2qhsa             None                      0             []   \n",
      "\n",
      "        created        edited  \n",
      "0  1.599516e+09           NaN  \n",
      "1  1.599513e+09           NaN  \n",
      "2  1.599509e+09  1.599509e+09  \n",
      "3  1.599505e+09           NaN  \n",
      "4  1.599504e+09           NaN  \n",
      "\n",
      "[5 rows x 36 columns]\n"
     ]
    }
   ],
   "source": [
    "collector = RedditCollector(r\"../redditcollector_example_config.yaml\")\n",
    "\n",
    "submissions = collector.collect_submissions(\n",
    "    query=\"5G coronavirus\",\n",
    "    start_date=\"2020/09/07\",\n",
    "    end_date=\"2020/09/08\",\n",
    "    write_to_gbq=False\n",
    ")\n",
    "print(submissions.head())"
   ]
  }
 ],
 "metadata": {
  "environment": {
   "name": "tf2-2-2-gpu.2-2.m50",
   "type": "gcloud",
   "uri": "gcr.io/deeplearning-platform-release/tf2-2-2-gpu.2-2:m50"
  },
  "kernelspec": {
   "display_name": "Python 3",
   "language": "python",
   "name": "python3"
  },
  "language_info": {
   "codemirror_mode": {
    "name": "ipython",
    "version": 3
   },
   "file_extension": ".py",
   "mimetype": "text/x-python",
   "name": "python",
   "nbconvert_exporter": "python",
   "pygments_lexer": "ipython3",
   "version": "3.7.6"
  }
 },
 "nbformat": 4,
 "nbformat_minor": 4
}
