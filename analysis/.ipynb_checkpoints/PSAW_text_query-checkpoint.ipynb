{
 "cells": [
  {
   "cell_type": "code",
   "execution_count": 1,
   "metadata": {},
   "outputs": [],
   "source": [
    "import pandas as pd\n",
    "import datetime as dt\n",
    "from psaw import PushshiftAPI\n",
    "\n",
    "api = PushshiftAPI()\n",
    "query = \"coronavirus|trump\"\n",
    "start_epoch = int(dt.datetime(2020, 9, 1).timestamp())\n",
    "end_epoch = int(dt.datetime(2020, 9, 2).timestamp())"
   ]
  },
  {
   "cell_type": "code",
   "execution_count": 2,
   "metadata": {},
   "outputs": [
    {
     "name": "stdout",
     "output_type": "stream",
     "text": [
      "9492\n"
     ]
    }
   ],
   "source": [
    "gen = api.search_submissions(\n",
    "    q=query,\n",
    "    after=start_epoch,\n",
    "    before=end_epoch,\n",
    "    )\n",
    "\n",
    "submissions = pd.DataFrame([thing.d_ for thing in gen])\n",
    "print(len(submissions))"
   ]
  },
  {
   "cell_type": "code",
   "execution_count": 3,
   "metadata": {},
   "outputs": [
    {
     "data": {
      "text/plain": [
       "Index(['all_awardings', 'allow_live_comments', 'author',\n",
       "       'author_flair_css_class', 'author_flair_richtext', 'author_flair_text',\n",
       "       'author_flair_type', 'author_fullname', 'author_patreon_flair',\n",
       "       'author_premium', 'awarders', 'can_mod_post', 'content_categories',\n",
       "       'contest_mode', 'created_utc', 'domain', 'full_link', 'gildings', 'id',\n",
       "       'is_crosspostable', 'is_meta', 'is_original_content',\n",
       "       'is_reddit_media_domain', 'is_robot_indexable', 'is_self', 'is_video',\n",
       "       'link_flair_background_color', 'link_flair_css_class',\n",
       "       'link_flair_richtext', 'link_flair_template_id', 'link_flair_text',\n",
       "       'link_flair_text_color', 'link_flair_type', 'locked', 'media_only',\n",
       "       'no_follow', 'num_comments', 'num_crossposts', 'over_18',\n",
       "       'parent_whitelist_status', 'permalink', 'pinned', 'post_hint',\n",
       "       'preview', 'pwls', 'removed_by_category', 'retrieved_on', 'score',\n",
       "       'selftext', 'send_replies', 'spoiler', 'stickied', 'subreddit',\n",
       "       'subreddit_id', 'subreddit_subscribers', 'subreddit_type', 'thumbnail',\n",
       "       'thumbnail_height', 'thumbnail_width', 'title', 'total_awards_received',\n",
       "       'treatment_tags', 'upvote_ratio', 'url', 'url_overridden_by_dest',\n",
       "       'whitelist_status', 'wls', 'created', 'suggested_sort', 'media',\n",
       "       'media_embed', 'secure_media', 'secure_media_embed',\n",
       "       'author_flair_background_color', 'author_flair_template_id',\n",
       "       'author_flair_text_color', 'discussion_type', 'event_end',\n",
       "       'event_is_live', 'event_start', 'crosspost_parent',\n",
       "       'crosspost_parent_list', 'poll_data', 'distinguished', 'media_metadata',\n",
       "       'banned_by', 'gallery_data', 'is_gallery', 'author_cakeday',\n",
       "       'rpan_video', 'edited', 'gilded', 'collections'],\n",
       "      dtype='object')"
      ]
     },
     "execution_count": 3,
     "metadata": {},
     "output_type": "execute_result"
    }
   ],
   "source": [
    "submissions.columns"
   ]
  },
  {
   "cell_type": "code",
   "execution_count": 4,
   "metadata": {},
   "outputs": [
    {
     "name": "stderr",
     "output_type": "stream",
     "text": [
      "/opt/conda/lib/python3.7/site-packages/psaw/PushshiftAPI.py:192: UserWarning: Got non 200 code 429\n",
      "  warnings.warn(\"Got non 200 code %s\" % response.status_code)\n",
      "/opt/conda/lib/python3.7/site-packages/psaw/PushshiftAPI.py:180: UserWarning: Unable to connect to pushshift.io. Retrying after backoff.\n",
      "  warnings.warn(\"Unable to connect to pushshift.io. Retrying after backoff.\")\n"
     ]
    },
    {
     "name": "stdout",
     "output_type": "stream",
     "text": [
      "46721\n"
     ]
    }
   ],
   "source": [
    "gen = api.search_comments(\n",
    "    q=query,\n",
    "    after=start_epoch,\n",
    "    before=end_epoch,\n",
    "    )\n",
    "\n",
    "comments = pd.DataFrame([thing.d_ for thing in gen])\n",
    "print(len(comments))"
   ]
  },
  {
   "cell_type": "code",
   "execution_count": 10,
   "metadata": {},
   "outputs": [
    {
     "ename": "SyntaxError",
     "evalue": "invalid syntax (<ipython-input-10-0914c07705ff>, line 1)",
     "output_type": "error",
     "traceback": [
      "\u001b[0;36m  File \u001b[0;32m\"<ipython-input-10-0914c07705ff>\"\u001b[0;36m, line \u001b[0;32m1\u001b[0m\n\u001b[0;31m    comments.columns[comm in submissions.columns for comm in comments.columns]\u001b[0m\n\u001b[0m                                                   ^\u001b[0m\n\u001b[0;31mSyntaxError\u001b[0m\u001b[0;31m:\u001b[0m invalid syntax\n"
     ]
    }
   ],
   "source": [
    "comments.columns"
   ]
  },
  {
   "cell_type": "code",
   "execution_count": 22,
   "metadata": {},
   "outputs": [
    {
     "data": {
      "text/plain": [
       "{'after': 1598918400,\n",
       " 'agg_size': 100,\n",
       " 'api_version': '3.0',\n",
       " 'before': 1598918421,\n",
       " 'es_query': {'query': {'bool': {'filter': {'bool': {'must': [{'range': {'created_utc': {'gt': 1598918400}}},\n",
       "       {'range': {'created_utc': {'lt': 1598918421}}},\n",
       "       {'simple_query_string': {'default_operator': 'and',\n",
       "         'fields': ['body'],\n",
       "         'query': 'coronavirus'}}],\n",
       "      'should': []}},\n",
       "    'must_not': []}},\n",
       "  'size': 100,\n",
       "  'sort': {'created_utc': 'desc'}},\n",
       " 'execution_time_milliseconds': 53.19,\n",
       " 'index': 'rc_delta2',\n",
       " 'limit': '1000',\n",
       " 'metadata': 'true',\n",
       " 'q': 'coronavirus',\n",
       " 'ranges': [{'range': {'created_utc': {'gt': 1598918400}}},\n",
       "  {'range': {'created_utc': {'lt': 1598918421}}}],\n",
       " 'results_returned': 0,\n",
       " 'shards': {'failed': 0, 'skipped': 0, 'successful': 4, 'total': 4},\n",
       " 'size': 100,\n",
       " 'sort': 'desc',\n",
       " 'sort_type': 'created_utc',\n",
       " 'timed_out': False,\n",
       " 'total_results': 0}"
      ]
     },
     "execution_count": 22,
     "metadata": {},
     "output_type": "execute_result"
    }
   ],
   "source": [
    "api.metadata_"
   ]
  }
 ],
 "metadata": {
  "environment": {
   "name": "tf2-2-2-gpu.2-2.m50",
   "type": "gcloud",
   "uri": "gcr.io/deeplearning-platform-release/tf2-2-2-gpu.2-2:m50"
  },
  "kernelspec": {
   "display_name": "Python 3",
   "language": "python",
   "name": "python3"
  },
  "language_info": {
   "codemirror_mode": {
    "name": "ipython",
    "version": 3
   },
   "file_extension": ".py",
   "mimetype": "text/x-python",
   "name": "python",
   "nbconvert_exporter": "python",
   "pygments_lexer": "ipython3",
   "version": "3.7.6"
  }
 },
 "nbformat": 4,
 "nbformat_minor": 4
}
