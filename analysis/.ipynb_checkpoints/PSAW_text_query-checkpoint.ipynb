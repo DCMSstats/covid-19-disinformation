{
 "cells": [
  {
   "cell_type": "code",
   "execution_count": 25,
   "metadata": {},
   "outputs": [],
   "source": [
    "import pandas as pd\n",
    "import datetime as dt\n",
    "from psaw import PushshiftAPI\n",
    "\n",
    "api = PushshiftAPI()\n",
    "query = \"coronavirus|trump\"\n",
    "start_epoch = int(dt.datetime(2020, 9, 1).timestamp())\n",
    "end_epoch = int(dt.datetime(2020, 9, 2).timestamp())"
   ]
  },
  {
   "cell_type": "code",
   "execution_count": 26,
   "metadata": {},
   "outputs": [
    {
     "name": "stdout",
     "output_type": "stream",
     "text": [
      "9492\n"
     ]
    }
   ],
   "source": [
    "gen = api.search_submissions(\n",
    "    q=query,\n",
    "    after=start_epoch,\n",
    "    before=end_epoch,\n",
    "    )\n",
    "\n",
    "submissions = pd.DataFrame([thing.d_ for thing in gen])\n",
    "print(len(submissions))"
   ]
  },
  {
   "cell_type": "code",
   "execution_count": 20,
   "metadata": {},
   "outputs": [
    {
     "name": "stdout",
     "output_type": "stream",
     "text": [
      "4623\n"
     ]
    }
   ],
   "source": [
    "gen = api.search_comments(\n",
    "    q=query,\n",
    "    after=start_epoch,\n",
    "    before=end_epoch,\n",
    "    )\n",
    "\n",
    "comments = pd.DataFrame([thing.d_ for thing in gen])\n",
    "print(len(comments))"
   ]
  },
  {
   "cell_type": "code",
   "execution_count": 22,
   "metadata": {},
   "outputs": [
    {
     "data": {
      "text/plain": [
       "{'after': 1598918400,\n",
       " 'agg_size': 100,\n",
       " 'api_version': '3.0',\n",
       " 'before': 1598918421,\n",
       " 'es_query': {'query': {'bool': {'filter': {'bool': {'must': [{'range': {'created_utc': {'gt': 1598918400}}},\n",
       "       {'range': {'created_utc': {'lt': 1598918421}}},\n",
       "       {'simple_query_string': {'default_operator': 'and',\n",
       "         'fields': ['body'],\n",
       "         'query': 'coronavirus'}}],\n",
       "      'should': []}},\n",
       "    'must_not': []}},\n",
       "  'size': 100,\n",
       "  'sort': {'created_utc': 'desc'}},\n",
       " 'execution_time_milliseconds': 53.19,\n",
       " 'index': 'rc_delta2',\n",
       " 'limit': '1000',\n",
       " 'metadata': 'true',\n",
       " 'q': 'coronavirus',\n",
       " 'ranges': [{'range': {'created_utc': {'gt': 1598918400}}},\n",
       "  {'range': {'created_utc': {'lt': 1598918421}}}],\n",
       " 'results_returned': 0,\n",
       " 'shards': {'failed': 0, 'skipped': 0, 'successful': 4, 'total': 4},\n",
       " 'size': 100,\n",
       " 'sort': 'desc',\n",
       " 'sort_type': 'created_utc',\n",
       " 'timed_out': False,\n",
       " 'total_results': 0}"
      ]
     },
     "execution_count": 22,
     "metadata": {},
     "output_type": "execute_result"
    }
   ],
   "source": [
    "api.metadata_"
   ]
  }
 ],
 "metadata": {
  "environment": {
   "name": "tf2-2-2-gpu.2-2.m50",
   "type": "gcloud",
   "uri": "gcr.io/deeplearning-platform-release/tf2-2-2-gpu.2-2:m50"
  },
  "kernelspec": {
   "display_name": "Python 3",
   "language": "python",
   "name": "python3"
  },
  "language_info": {
   "codemirror_mode": {
    "name": "ipython",
    "version": 3
   },
   "file_extension": ".py",
   "mimetype": "text/x-python",
   "name": "python",
   "nbconvert_exporter": "python",
   "pygments_lexer": "ipython3",
   "version": "3.7.6"
  }
 },
 "nbformat": 4,
 "nbformat_minor": 4
}
