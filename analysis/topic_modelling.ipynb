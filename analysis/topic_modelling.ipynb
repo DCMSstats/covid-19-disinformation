{
 "metadata": {
  "language_info": {
   "codemirror_mode": {
    "name": "ipython",
    "version": 3
   },
   "file_extension": ".py",
   "mimetype": "text/x-python",
   "name": "python",
   "nbconvert_exporter": "python",
   "pygments_lexer": "ipython3",
   "version": "3.7.6-final"
  },
  "orig_nbformat": 2,
  "kernelspec": {
   "name": "python37664bitvenvvenv756d012eff2d49698cf7b8385fe1cde1",
   "display_name": "Python 3.7.6 64-bit ('venv': venv)"
  }
 },
 "nbformat": 4,
 "nbformat_minor": 2,
 "cells": [
  {
   "cell_type": "code",
   "execution_count": 2,
   "metadata": {
    "tags": []
   },
   "outputs": [
    {
     "output_type": "display_data",
     "data": {
      "text/html": "        <script type=\"text/javascript\">\n        window.PlotlyConfig = {MathJaxConfig: 'local'};\n        if (window.MathJax) {MathJax.Hub.Config({SVG: {font: \"STIX-Web\"}});}\n        if (typeof require !== 'undefined') {\n        require.undef(\"plotly\");\n        requirejs.config({\n            paths: {\n                'plotly': ['https://cdn.plot.ly/plotly-latest.min']\n            }\n        });\n        require(['plotly'], function(Plotly) {\n            window._Plotly = Plotly;\n        });\n        }\n        </script>\n        "
     },
     "metadata": {}
    }
   ],
   "source": [
    "# Usual imports\n",
    "import numpy as np\n",
    "import pandas as pd\n",
    "from tqdm import tqdm\n",
    "import string\n",
    "import matplotlib.pyplot as plt\n",
    "from sklearn.decomposition import NMF, LatentDirichletAllocation, TruncatedSVD\n",
    "from sklearn.feature_extraction.text import CountVectorizer\n",
    "from sklearn.manifold import TSNE\n",
    "import concurrent.futures\n",
    "import time\n",
    "import pyLDAvis.sklearn\n",
    "from pylab import bone, pcolor, colorbar, plot, show, rcParams, savefig\n",
    "import warnings\n",
    "warnings.filterwarnings('ignore')\n",
    "\n",
    "# Plotly based imports for visualization\n",
    "from plotly import tools\n",
    "#import plotly.plotly as py\n",
    "from plotly.offline import init_notebook_mode, iplot\n",
    "init_notebook_mode(connected=True)\n",
    "import plotly.graph_objs as go\n",
    "import plotly.figure_factory as ff\n",
    "\n",
    "# spaCy based imports\n",
    "import spacy\n",
    "from spacy.lang.en.stop_words import STOP_WORDS\n",
    "from spacy.lang.en import English"
   ]
  },
  {
   "cell_type": "markdown",
   "metadata": {},
   "source": [
    "# Topic modelling \n",
    "\n",
    "This is a exploratry analysis of topic modelling using spaCy and scikit-learn\n",
    "\n",
    "# What is topic-modelling?\n",
    "\n",
    "> In machine learning and natural language processing, a topic model is a type of statistical model for discovering the abstract \"topics\" that occur in a collection of documents. Topic modeling is a frequently used text-mining tool for discovery of hidden semantic structures in a text body. Intuitively, given that a document is about a particular topic, one would expect particular words to appear in the document more or less frequently: \"dog\" and \"bone\" will appear more often in documents about dogs, \"cat\" and \"meow\" will appear in documents about cats, and \"the\" and \"is\" will appear equally in both. A document typically concerns multiple topics in different proportions; thus, in a document that is 10% about cats and 90% about dogs, there would probably be about 9 times more dog words than cat words. \n",
    "\n",
    "> The \"topics\" produced by topic modeling techniques are clusters of similar words. A topic model captures this intuition in a mathematical framework, which allows examining a set of documents and discovering, based on the statistics of the words in each, what the topics might be and what each document's balance of topics is. It involves various techniques of dimensionality reduction(mostly non-linear) and unsupervised learning like LDA, SVD, autoencoders etc.\n",
    "\n",
    "> Source: [Wikipedia](https://en.wikipedia.org/wiki/Topic_model)\n",
    "\n",
    "It can help with the following:\n",
    "* discovering the hidden themes in the collection.\n",
    "* classifying the documents into the discovered themes.\n",
    "* using the classification to organize/summarize/search the documents.\n"
   ]
  },
  {
   "cell_type": "code",
   "execution_count": 3,
   "metadata": {},
   "outputs": [],
   "source": [
    "# Load Data\n",
    "data = pd.read_csv(\"../test_data.csv\")\n",
    "\n",
    "# Creating a spaCy object\n",
    "nlp = spacy.load('en_core_web_md')\n",
    "\n",
    "# List of puncation and stop words\n",
    "punctuations = string.punctuation\n",
    "stopwords = list(STOP_WORDS)\n",
    "\n",
    "# Parser for subsmissions\n",
    "parser = English()\n",
    "def spacy_tokenizer(sentence):\n",
    "    mytokens = parser(sentence)\n",
    "    mytokens = [ word.lemma_.lower().strip() if word.lemma_ != \"-PRON-\" else word.lower_ for word in mytokens ]\n",
    "    mytokens = [ word for word in mytokens if word not in stopwords and word not in punctuations ]\n",
    "    mytokens = \" \".join([i for i in mytokens])\n",
    "    return mytokens"
   ]
  },
  {
   "cell_type": "markdown",
   "metadata": {},
   "source": [
    "\n",
    "> “Lemmatisation (or lemmatization) in linguistics, is the process of grouping together the different inflected forms of a word so they can be analysed as a single item.”\n",
    "\n"
   ]
  },
  {
   "cell_type": "code",
   "execution_count": 4,
   "metadata": {
    "tags": []
   },
   "outputs": [
    {
     "output_type": "stream",
     "name": "stderr",
     "text": "100%|██████████| 686/686 [00:00<00:00, 3514.50it/s]\n"
    }
   ],
   "source": [
    "tqdm.pandas()\n",
    "subs = data[\"title\"].progress_apply(spacy_tokenizer)\n"
   ]
  },
  {
   "cell_type": "markdown",
   "metadata": {},
   "source": [
    "# Feature Extraction \n",
    "\n",
    "In order to use textual data for predictive modeling, the text must be parsed to remove certain words – this process is called tokenization. These words need to then be encoded as integers, or floating-point values, for use as inputs in machine learning algorithms. This process is called feature extraction (or vectorization).\n",
    "\n",
    "CountVectorizer is used to convert a collection of text documents to a vector of term/token counts\n",
    "\n",
    "<details>\n",
    "    <summary>CountVectorizer Details</summary>\n",
    "        <ul>\n",
    "        <li> min|max_df: When building the vocabulary ignore terms that have a document frequency strictly higher than the given threshold (corpus-specific stop words).  \n",
    "        <li> stop_words:  words to ignore . \n",
    "        <li> Lowercase: Convert all characters to lowercase before tokenizing . \n",
    "        <li> token_pattern: Regular expression denoting what constitutes a “token . \n",
    "        \n",
    "\n",
    "</details"
   ]
  },
  {
   "cell_type": "code",
   "execution_count": 5,
   "metadata": {},
   "outputs": [],
   "source": [
    "# Creating a vectorizer\n",
    "vectorizer = CountVectorizer(min_df=5, max_df=0.9, stop_words='english', lowercase=True, token_pattern='[a-zA-Z\\-][a-zA-Z\\-]{2,}')\n",
    "\n",
    "data_vectorized = vectorizer.fit_transform(subs)"
   ]
  },
  {
   "cell_type": "markdown",
   "metadata": {},
   "source": [
    "# Different Methods\n",
    "\n",
    "I am going to look at three differenet methods LDA, NMF and LSI-SVD"
   ]
  },
  {
   "cell_type": "markdown",
   "metadata": {},
   "source": [
    "## Latent Dirichlet Allocation Model\n",
    "> Each document can be described by a distribution of topics and each topic can be described by a distribution of words\n",
    "\n",
    "<details>\n",
    "    <summary>LDA Details</summary>\n",
    "    <h3> Latent Dirichlet Allocation with online variational Bayes algorithm </h3>\n",
    "    <ul>\n",
    "    <li> n_components: Number of topics.\n",
    "    <li> max_iter: The maximum number of iterations.\n",
    "    <li> learning_method: Method used to update _component.\n",
    "</details>"
   ]
  },
  {
   "cell_type": "code",
   "execution_count": 6,
   "metadata": {
    "tags": []
   },
   "outputs": [
    {
     "output_type": "stream",
     "name": "stdout",
     "text": "iteration: 1 of max_iter: 10\niteration: 2 of max_iter: 10\niteration: 3 of max_iter: 10\niteration: 4 of max_iter: 10\niteration: 5 of max_iter: 10\niteration: 6 of max_iter: 10\niteration: 7 of max_iter: 10\niteration: 8 of max_iter: 10\niteration: 9 of max_iter: 10\niteration: 10 of max_iter: 10\n"
    }
   ],
   "source": [
    "NumTopics = 10\n",
    "# Define LDA\n",
    "lda = LatentDirichletAllocation(n_components=NumTopics, max_iter=10, learning_method='online',verbose=True)\n",
    "\n",
    "# Fit LDA\n",
    "data_lda = lda.fit_transform(data_vectorized)"
   ]
  },
  {
   "cell_type": "markdown",
   "metadata": {},
   "source": [
    "## Non-Negative matrix factorization \n",
    "Imagine if you wanted to decompose a term-document matrix, where each column represented a document, and each element in the document represented the weight of a certain word (the weight might be the raw count or the tf-idf weighted count or some other encoding scheme; those details are not important here).\n",
    "\n",
    "What happens when we decompose this into two matrices? Imagine if the documents came from news articles. The word \"eat\" would be likely to appear in food-related articles, and therefore co-occur with words like \"tasty\" and \"food\". Therefore, these words would probably be grouped together into a \"food\" component vector, and each article would have a certain weight of the \"food\" topic.\n",
    "\n",
    "Therefore, an NMF decomposition of the term-document matrix would yield components that could be considered \"topics\", and decompose each document into a weighted sum of topics. This is called topic modeling and is an important application of NMF.\n",
    "\n",
    "Note that this interpretation would not be possible with other decomposition methods. We cannot interpret what it means to have a \"negative\" weight of the food topic. This is another example where the underlying components (topics) and their weights should be non-negative.\n",
    "\n",
    "Another interesting property of NMF is that it naturally produces sparse representations. This makes sense in the case of topic modeling: documents generally do not contain a large number of topics."
   ]
  },
  {
   "cell_type": "code",
   "execution_count": 7,
   "metadata": {},
   "outputs": [],
   "source": [
    "# Non-Negative Matrix Factorization Model\n",
    "nmf = NMF(n_components=NumTopics)\n",
    "data_nmf = nmf.fit_transform(data_vectorized) "
   ]
  },
  {
   "cell_type": "markdown",
   "metadata": {},
   "source": [
    "# Latent Semantic Indexing Model using Truncated SVD\n",
    "\n",
    "> Latent Semantic Indexing (LSI) [Deerwester et al] tries to overcome the\n",
    "problems of lexical matching by using statistically derived conceptual indices\n",
    "instead of individual words for retrieval. LSI assumes that there is some\n",
    "underlying or latent structure in word usage that is partially obscured by\n",
    "variability in word choice. A truncated singular value decomposition (SVD) is\n",
    "used to estimate the structure in word usage across documents. Retrieval is then\n",
    "performed using the database of singular values and vectors obtained from the\n",
    "truncated SVD. Performance data shows that these statistically derived vectors are\n",
    "more robust indicators of meaning than individual terms. \n",
    "\n",
    "> Latent Semantic Indexing is a technique that projects queries and documents into\n",
    "a space with “latent” semantic dimensions.\n",
    "In the latent semantic space, a query and a document can have high cosine\n",
    "similarity even if they do not share any terms - as long as their terms are\n",
    "semantically similar in a sense to be described later. We can look at LSI as a\n",
    "similarity metric that is an alternative to word overlap measures like tf.idf.\n",
    "The latent semantic space that we project into has fewer dimensions than the\n",
    "original space (which has as many dimensions as terms). LSI is thus a method for\n",
    "dimensionality reduction. A dimensionality reduction technique takes a set of\n",
    "objects that exist in a high-dimensional space and represents them in a lowdimensional space, often in a two-dimensional or three-dimensional space for the\n",
    "purpose of visualization.\n",
    "Latent semantic indexing is the application of a particular mathematical\n",
    "technique, called Singular Value Decomposition or SVD, to a word-by-document\n",
    "matrix. SVD (and hence LSI) is a least-squares method. The projection into the\n",
    "latent semantic space is chosen such that the representations in the original space\n",
    "are changed as little as possible when measured by the sum of the squares of the\n",
    "differences. \n",
    "\n",
    "> -- <cite>Rosario. B. [Latent Semantic Indexing: An Overview](https://www.cse.msu.edu/~cse960/Papers/LSI/LSI.pdf) </cite>\n"
   ]
  },
  {
   "cell_type": "code",
   "execution_count": 8,
   "metadata": {},
   "outputs": [],
   "source": [
    "# Latent Semantic Indexing Model using Truncated SVD\n",
    "lsi = TruncatedSVD(n_components=NumTopics)\n",
    "data_lsi = lsi.fit_transform(data_vectorized)"
   ]
  },
  {
   "cell_type": "code",
   "execution_count": 9,
   "metadata": {},
   "outputs": [],
   "source": [
    "# Functions for printing keywords for each topic\n",
    "def selected_topics(model, vectorizer, top_n=10):\n",
    "    for idx, topic in enumerate(model.components_):\n",
    "        print(\"Topic %d:\" % (idx))\n",
    "        print([(vectorizer.get_feature_names()[i], topic[i])\n",
    "                        for i in topic.argsort()[:-top_n - 1:-1]]) "
   ]
  },
  {
   "cell_type": "code",
   "execution_count": 10,
   "metadata": {
    "tags": []
   },
   "outputs": [
    {
     "output_type": "stream",
     "name": "stdout",
     "text": "LDA Model:\nTopic 0:\n[('know', 9.786762052304141), ('day', 8.68957117267419), ('think', 8.500672207931789), ('good', 8.412240736059823), ('area', 7.122788658094914), ('state', 7.077361499636743), ('thread', 5.210995898034292), ('real', 5.146456991191833), ('hair', 4.35515226308807), ('thing', 4.248092811387372)]\nTopic 1:\n[('new', 22.64334194842441), ('today', 14.189993951773763), ('cases', 9.4905425039299), ('season', 6.026694894146353), ('chinese', 4.591961388840565), ('coronavirus', 4.042957331970942), ('year', 2.074395338828453), ('like', 1.9317663771987144), ('state', 1.7876166069617303), ('corona', 1.1857620719471111)]\nTopic 2:\n[('friends', 10.933857809026174), ('going', 8.837096365479693), ('way', 8.445376712804213), ('google', 5.908777835697299), ('mask', 4.769234891315201), ('hours', 4.332160501321969), ('work', 4.25260348491225), ('school', 2.792083750276947), ('day', 1.6793749452608968), ('like', 1.1444135703710463)]\nTopic 3:\n[('people', 21.17153252101002), ('covid-', 19.4139810824408), ('masks', 10.946318606698108), ('stop', 9.879599110823893), ('looking', 9.77532231157409), ('know', 8.541611046562323), ('need', 7.358571815366788), ('black', 5.252814675802811), ('live', 5.088427145455791), ('job', 5.026331121179967)]\nTopic 4:\n[('covid', 10.137487748205443), ('let', 6.899920351026875), ('children', 5.257449136870131), ('positive', 4.462236676918208), ('open', 4.296804803076787), ('better', 3.982857591463074), ('things', 3.4428901926346933), ('workers', 2.7877933511313535), ('think', 0.1160323137267577), ('texas', 0.10922165305469789)]\nTopic 5:\n[('man', 9.386262924503592), ('pandemic', 5.462471793280797), ('woman', 4.386181209581952), ('looking', 0.11712726768382117), ('good', 0.11567514722683078), ('meme', 0.11092539198343553), ('time', 0.10945270859354622), ('come', 0.10944384529658537), ('mask', 0.1090977337681756), ('stop', 0.10494477595376353)]\nTopic 6:\n[('right', 8.009025287916016), ('question', 7.526312019790207), ('neowise', 5.244623974746987), ('comet', 5.244473055312474), ('hope', 4.431826531530142), ('big', 2.8451542205825313), ('appeal', 1.845160190979856), ('better', 0.11907050830652602), ('need', 0.11061611603925008), ('tax', 0.10857580100667058)]\nTopic 7:\n[('help', 19.104841380910745), ('coronavirus', 11.792158215065646), ('corona', 10.624216202197744), ('end', 6.205417910348938), ('face', 5.808175235347281), ('messiah', 5.436078113751251), ('war', 5.435862050025388), ('buddha', 5.43522580236134), ('ncov', 5.435212867590413), ('proxy', 5.435157372347571)]\nTopic 8:\n[('time', 19.11377991674361), ('break', 8.048087228933491), ('tax', 6.719550052782221), ('world', 5.940696560174257), ('texas', 5.512871559394075), ('china', 5.340712151649614), ('says', 5.215765180721321), ('apple', 4.894116533227429), ('cut', 4.43207863844376), ('want', 4.299140033347715)]\nTopic 9:\n[('got', 14.64282995906845), ('trump', 13.919078758727341), ('old', 12.200253664764604), ('year', 9.852578029023553), ('like', 9.093768613659464), ('getting', 6.789647151866245), ('years', 6.2885913813372305), ('dad', 5.254023787030713), ('feel', 5.106177948659544), ('type', 4.429683750832026)]\n"
    }
   ],
   "source": [
    "# Keywords for topics clustered by Latent Dirichlet Allocation\n",
    "print(\"LDA Model:\")\n",
    "selected_topics(lda, vectorizer)"
   ]
  },
  {
   "cell_type": "code",
   "execution_count": 11,
   "metadata": {
    "tags": []
   },
   "outputs": [
    {
     "output_type": "stream",
     "name": "stdout",
     "text": "NMF Model:\nTopic 0:\n[('coronavirus', 1.1336080305803033), ('help', 1.1199209104887107), ('end', 0.8843060178051088), ('messiah', 0.868322933846821), ('proxy', 0.868322933846821), ('buddha', 0.868322933846821), ('ncov', 0.868322933846821), ('savior', 0.868322933846821), ('war', 0.868322933846821), ('need', 0.03787592941769745)]\nTopic 1:\n[('people', 2.856426989074114), ('covid', 0.41693528322531437), ('right', 0.38792605159497323), ('feel', 0.3414572463114982), ('job', 0.17006820714189916), ('live', 0.16995003863177263), ('masks', 0.14943887123465444), ('black', 0.14437620124965708), ('let', 0.14206228075815439), ('things', 0.14081095327660212)]\nTopic 2:\n[('new', 3.267390038865004), ('cases', 0.7568590300158673), ('covid', 0.47995278138834974), ('coronavirus', 0.3959271752108882), ('area', 0.33313844379507335), ('state', 0.2824960112697608), ('looking', 0.26723934749713163), ('live', 0.24985153266101007), ('chinese', 0.1585185910917167), ('friends', 0.1530436581644465)]\nTopic 3:\n[('time', 1.9682439756731769), ('got', 0.3178130317361455), ('day', 0.3113220882818927), ('way', 0.3083994961113955), ('going', 0.29859374070252154), ('need', 0.15044413738066095), ('break', 0.14774398308547013), ('friends', 0.13624765375359663), ('feel', 0.13272594845910388), ('texas', 0.12879132683771277)]\nTopic 4:\n[('know', 2.069224090719889), ('need', 0.4164479642129514), ('years', 0.3135147440186725), ('looking', 0.308339798161434), ('today', 0.2857576456403783), ('come', 0.2582837437208524), ('stop', 0.25538546642907123), ('thing', 0.24867936544150063), ('look', 0.23395484740836356), ('live', 0.14343006346102521)]\nTopic 5:\n[('covid-', 2.1793012957476825), ('cases', 0.44089877647932973), ('state', 0.2881895906775834), ('says', 0.2541520405686148), ('home', 0.25411915028794196), ('free', 0.23020068219298062), ('right', 0.16298169395264128), ('coronavirus', 0.1598644154484363), ('children', 0.1329711645051058), ('school', 0.12416186359409308)]\nTopic 6:\n[('old', 1.2112413598424407), ('got', 1.2110248473322567), ('dad', 0.9244783750302514), ('year', 0.8248117937421375), ('man', 0.7110499848283681), ('getting', 0.5300502096757298), ('work', 0.34951696069260785), ('years', 0.1957819436888448), ('break', 0.141267564242168), ('woman', 0.12947031667071207)]\nTopic 7:\n[('corona', 2.2844434987624633), ('got', 0.25451998172827545), ('stop', 0.23707153857235191), ('school', 0.2176977566362399), ('china', 0.19719747965161297), ('positive', 0.1783725385781806), ('feel', 0.1724661323013303), ('day', 0.17032905206063986), ('free', 0.1348739366631922), ('season', 0.12738427690686538)]\nTopic 8:\n[('like', 1.8850321892469055), ('good', 0.4755726316730413), ('today', 0.37307702169695656), ('year', 0.3699775631890372), ('day', 0.32003908219800886), ('let', 0.2770262560577158), ('feel', 0.25415713367069187), ('look', 0.2391184035786165), ('season', 0.18768507100343737), ('body', 0.18470391813570156)]\nTopic 9:\n[('trump', 2.0888371332360545), ('says', 0.3655874898007347), ('going', 0.20623787653419706), ('google', 0.20468324172107596), ('big', 0.1903925117110364), ('real', 0.1884690142417891), ('coronavirus', 0.18303070552734813), ('getting', 0.17697498146193835), ('black', 0.17345160481353164), ('pandemic', 0.17009021498429533)]\n"
    }
   ],
   "source": [
    "# Keywords for topics clustered by Latent Semantic Indexing\n",
    "print(\"NMF Model:\")\n",
    "selected_topics(nmf, vectorizer)"
   ]
  },
  {
   "cell_type": "code",
   "execution_count": 12,
   "metadata": {
    "tags": []
   },
   "outputs": [
    {
     "output_type": "stream",
     "name": "stdout",
     "text": "LSI Model:\nTopic 0:\n[('coronavirus', 0.4192004906943542), ('help', 0.39543246418687805), ('end', 0.3105242372962239), ('ncov', 0.30489958301171094), ('messiah', 0.30489958301171094), ('proxy', 0.30489958301171094), ('savior', 0.30489958301171094), ('war', 0.30489958301171094), ('buddha', 0.30489958301171094), ('people', 0.061841441070258796)]\nTopic 1:\n[('people', 0.7618666108319347), ('know', 0.3191375143951639), ('like', 0.2537965973843211), ('new', 0.25164855118301455), ('covid', 0.15577984033206252), ('time', 0.15270084935675501), ('got', 0.13796437836125564), ('feel', 0.13292701685099478), ('right', 0.10558486578747142), ('looking', 0.10524596905744742)]\nTopic 2:\n[('new', 0.39131514947274704), ('time', 0.3182285571600684), ('got', 0.3065525054755035), ('covid-', 0.2695373279029546), ('old', 0.2668691410500394), ('year', 0.2510113298577992), ('corona', 0.22176196232226936), ('cases', 0.1917460694214443), ('dad', 0.1745779350377186), ('day', 0.15762625436999972)]\nTopic 3:\n[('time', 0.5039460407832047), ('got', 0.34779194397427515), ('dad', 0.14324091228298683), ('old', 0.12294017272237136), ('feel', 0.12017117048570164), ('way', 0.09506091127682603), ('good', 0.09371379945733109), ('people', 0.07487721322776802), ('going', 0.07127698484065634), ('break', 0.07102280554975314)]\nTopic 4:\n[('know', 0.6795845661638078), ('today', 0.2468956682035172), ('like', 0.22100838504683543), ('need', 0.17445878424925426), ('look', 0.13723978516543794), ('years', 0.11906943343617771), ('year', 0.10919262208222652), ('stop', 0.10098895404489489), ('day', 0.09910485985793793), ('thing', 0.0925839422852324)]\nTopic 5:\n[('covid-', 0.603559686447786), ('time', 0.4314352892293349), ('know', 0.17166705520521167), ('need', 0.14912117286044987), ('says', 0.11175767175001358), ('home', 0.09649898580511), ('state', 0.09547472609562715), ('cases', 0.0801469865965915), ('going', 0.07349101880895581), ('children', 0.06842805945247744)]\nTopic 6:\n[('covid-', 0.5274744052102625), ('old', 0.2762065841454764), ('year', 0.25030199474463577), ('like', 0.19664309393916216), ('right', 0.1496957480742158), ('people', 0.13694846700992008), ('dad', 0.1113872303801352), ('trump', 0.10116435714660131), ('getting', 0.10049773851303959), ('man', 0.09432142175711358)]\nTopic 7:\n[('trump', 0.663579885525178), ('corona', 0.5436726653213694), ('know', 0.22949474818238363), ('got', 0.14663808759430763), ('stop', 0.09763857716653829), ('says', 0.0820984134029207), ('years', 0.06780650217330392), ('getting', 0.06757788178348459), ('coronavirus', 0.06233842771615912), ('dad', 0.061130585283721145)]\nTopic 8:\n[('got', 0.35697358858220585), ('man', 0.25405852363535325), ('dad', 0.249071222284726), ('old', 0.20538180800912179), ('know', 0.16112108572395462), ('getting', 0.1274938283814464), ('new', 0.12082501644009644), ('years', 0.08984063388145991), ('covid', 0.08688592221331108), ('break', 0.08127158020778665)]\nTopic 9:\n[('trump', 0.5232112306140227), ('today', 0.26711651641629774), ('year', 0.2275531095947851), ('old', 0.19321361841074958), ('says', 0.13013715930202835), ('getting', 0.12133399508986871), ('going', 0.12092742246666244), ('new', 0.1166465014466474), ('comet', 0.11241065481323179), ('neowise', 0.11241065481323176)]\n"
    }
   ],
   "source": [
    "# Keywords for topics clustered by Non-Negative Matrix Factorization\n",
    "print(\"LSI Model:\")\n",
    "selected_topics(lsi, vectorizer)"
   ]
  },
  {
   "cell_type": "code",
   "execution_count": 13,
   "metadata": {
    "tags": []
   },
   "outputs": [
    {
     "output_type": "stream",
     "name": "stdout",
     "text": "[0.05 0.05 0.05 0.05 0.05 0.05 0.05 0.05 0.55 0.05]\n"
    }
   ],
   "source": [
    "# Transforming an individual sentence\n",
    "text = spacy_tokenizer(\"Aromas include tropical fruit, broom, brimstone and dried herb. The palate isn't overly expressive, offering unripened apple, citrus and dried sage alongside brisk acidity.\")\n",
    "x = lda.transform(vectorizer.transform([text]))[0]\n",
    "print(x)"
   ]
  },
  {
   "cell_type": "markdown",
   "metadata": {},
   "source": [
    "# Visualizing LDA results with pyLDAvis"
   ]
  },
  {
   "cell_type": "code",
   "execution_count": 14,
   "metadata": {},
   "outputs": [
    {
     "output_type": "execute_result",
     "data": {
      "text/plain": "PreparedData(topic_coordinates=               x          y  topics  cluster       Freq\ntopic                                                  \n3      32.420952   8.115230       1        1  14.458664\n7       0.648955  71.707100       2        1  13.666874\n9      71.019684   9.971006       3        1  13.570341\n0       3.785981  33.185135       4        1  10.987898\n8     -42.666500  -9.222070       5        1  10.549061\n1      -3.621689 -43.526516       6        1   9.949210\n2      -3.632402  -4.171708       7        1   8.015830\n4     -36.584400  35.804413       8        1   7.443917\n6      44.391380  50.615383       9        1   6.437986\n5      40.235809 -31.591665      10        1   4.920220, topic_info=           Term       Freq      Total Category  logprob  loglift\n54          new  22.000000  22.000000  Default  30.0000  30.0000\n46          man  13.000000  13.000000  Default  29.0000  29.0000\n76         time  20.000000  20.000000  Default  28.0000  28.0000\n34         help  19.000000  19.000000  Default  27.0000  27.0000\n58       people  18.000000  18.000000  Default  26.0000  26.0000\n..          ...        ...        ...      ...      ...      ...\n17  coronavirus   0.137040  16.770463  Topic10  -5.6024  -1.7953\n29        going   0.136988   9.555389  Topic10  -5.6028  -1.2332\n87         year   0.136984  11.717394  Topic10  -5.6028  -1.4372\n63        right   0.136982  12.670523  Topic10  -5.6028  -1.5154\n11     children   0.136945   6.898117  Topic10  -5.6031  -0.9076\n\n[471 rows x 6 columns], token_table=      Topic      Freq    Term\nterm                         \n0         4  0.770930  afford\n0         6  0.192733  afford\n1         5  0.390280  appeal\n1         9  0.390280  appeal\n2         5  0.914287   apple\n...     ...       ...     ...\n86        5  0.771243   world\n87        3  0.768089    year\n87        6  0.170686    year\n88        3  0.668258   years\n88        4  0.222753   years\n\n[121 rows x 3 columns], R=30, lambda_step=0.01, plot_opts={'xlab': 'PC1', 'ylab': 'PC2'}, topic_order=[4, 8, 10, 1, 9, 2, 3, 5, 7, 6])",
      "text/html": "\n<link rel=\"stylesheet\" type=\"text/css\" href=\"https://cdn.rawgit.com/bmabey/pyLDAvis/files/ldavis.v1.0.0.css\">\n\n\n<div id=\"ldavis_el3611353860296483680811247\"></div>\n<script type=\"text/javascript\">\n\nvar ldavis_el3611353860296483680811247_data = {\"mdsDat\": {\"x\": [32.42095184326172, 0.648955225944519, 71.01968383789062, 3.7859814167022705, -42.666500091552734, -3.6216893196105957, -3.632401704788208, -36.58440017700195, 44.391380310058594, 40.235809326171875], \"y\": [8.115229606628418, 71.70709991455078, 9.971006393432617, 33.18513488769531, -9.22206974029541, -43.52651596069336, -4.171707630157471, 35.804412841796875, 50.61538314819336, -31.591665267944336], \"topics\": [1, 2, 3, 4, 5, 6, 7, 8, 9, 10], \"cluster\": [1, 1, 1, 1, 1, 1, 1, 1, 1, 1], \"Freq\": [14.458663544851557, 13.66687420119315, 13.570341189457816, 10.987897564253464, 10.549060614627312, 9.949210090126849, 8.015830209952982, 7.443917335992754, 6.437985628060909, 4.920219621483192]}, \"tinfo\": {\"Term\": [\"new\", \"man\", \"time\", \"help\", \"people\", \"covid\", \"today\", \"covid-\", \"friends\", \"right\", \"question\", \"got\", \"pandemic\", \"trump\", \"going\", \"know\", \"way\", \"let\", \"cases\", \"old\", \"coronavirus\", \"woman\", \"comet\", \"neowise\", \"corona\", \"good\", \"children\", \"break\", \"think\", \"masks\", \"people\", \"covid-\", \"masks\", \"stop\", \"looking\", \"black\", \"job\", \"live\", \"free\", \"body\", \"need\", \"know\", \"school\", \"look\", \"right\", \"like\", \"home\", \"think\", \"mask\", \"life\", \"feel\", \"covid\", \"thing\", \"type\", \"hair\", \"want\", \"hours\", \"children\", \"cut\", \"appeal\", \"new\", \"positive\", \"let\", \"things\", \"getting\", \"cases\", \"old\", \"time\", \"help\", \"end\", \"face\", \"buddha\", \"war\", \"savior\", \"messiah\", \"proxy\", \"ncov\", \"meme\", \"coronavirus\", \"corona\", \"come\", \"need\", \"mask\", \"free\", \"big\", \"body\", \"live\", \"life\", \"feel\", \"thing\", \"want\", \"hair\", \"hours\", \"home\", \"type\", \"cut\", \"appeal\", \"afford\", \"better\", \"area\", \"black\", \"new\", \"school\", \"china\", \"covid\", \"people\", \"look\", \"years\", \"getting\", \"got\", \"trump\", \"old\", \"getting\", \"dad\", \"feel\", \"type\", \"life\", \"year\", \"years\", \"like\", \"good\", \"corona\", \"says\", \"things\", \"work\", \"time\", \"free\", \"better\", \"thing\", \"body\", \"live\", \"home\", \"way\", \"hair\", \"job\", \"want\", \"cut\", \"appeal\", \"hours\", \"chinese\", \"pandemic\", \"let\", \"look\", \"break\", \"man\", \"going\", \"know\", \"area\", \"think\", \"thread\", \"real\", \"hair\", \"thing\", \"state\", \"day\", \"afford\", \"good\", \"know\", \"look\", \"workers\", \"years\", \"come\", \"feel\", \"body\", \"free\", \"life\", \"home\", \"want\", \"type\", \"cut\", \"meme\", \"appeal\", \"hours\", \"job\", \"live\", \"chinese\", \"black\", \"let\", \"world\", \"old\", \"things\", \"comet\", \"neowise\", \"got\", \"friends\", \"year\", \"today\", \"face\", \"war\", \"need\", \"looking\", \"break\", \"time\", \"tax\", \"world\", \"texas\", \"china\", \"apple\", \"cut\", \"want\", \"says\", \"home\", \"appeal\", \"big\", \"coronavirus\", \"hair\", \"chinese\", \"free\", \"body\", \"life\", \"thing\", \"type\", \"meme\", \"hours\", \"afford\", \"job\", \"live\", \"real\", \"black\", \"better\", \"things\", \"day\", \"end\", \"positive\", \"woman\", \"covid-\", \"way\", \"going\", \"years\", \"stop\", \"new\", \"man\", \"corona\", \"need\", \"new\", \"today\", \"cases\", \"season\", \"chinese\", \"coronavirus\", \"state\", \"year\", \"look\", \"afford\", \"like\", \"day\", \"corona\", \"right\", \"covid-\", \"body\", \"free\", \"life\", \"thing\", \"home\", \"type\", \"want\", \"hair\", \"better\", \"cut\", \"real\", \"hours\", \"appeal\", \"meme\", \"job\", \"live\", \"going\", \"things\", \"area\", \"good\", \"black\", \"looking\", \"neowise\", \"need\", \"woman\", \"masks\", \"old\", \"trump\", \"friends\", \"going\", \"way\", \"google\", \"mask\", \"hours\", \"work\", \"school\", \"body\", \"day\", \"like\", \"world\", \"free\", \"life\", \"thing\", \"home\", \"hair\", \"type\", \"want\", \"cut\", \"appeal\", \"job\", \"afford\", \"meme\", \"live\", \"chinese\", \"black\", \"better\", \"apple\", \"real\", \"big\", \"right\", \"people\", \"things\", \"open\", \"today\", \"area\", \"pandemic\", \"ncov\", \"look\", \"proxy\", \"new\", \"year\", \"got\", \"says\", \"covid\", \"let\", \"children\", \"positive\", \"open\", \"better\", \"things\", \"workers\", \"free\", \"body\", \"life\", \"home\", \"thing\", \"want\", \"hair\", \"type\", \"cut\", \"appeal\", \"job\", \"hours\", \"meme\", \"afford\", \"chinese\", \"live\", \"black\", \"apple\", \"big\", \"china\", \"mask\", \"real\", \"texas\", \"dad\", \"think\", \"come\", \"area\", \"world\", \"corona\", \"ncov\", \"need\", \"right\", \"look\", \"end\", \"getting\", \"covid-\", \"time\", \"people\", \"coronavirus\", \"masks\", \"question\", \"comet\", \"neowise\", \"hope\", \"right\", \"big\", \"appeal\", \"free\", \"body\", \"better\", \"life\", \"thing\", \"want\", \"type\", \"home\", \"hair\", \"cut\", \"hours\", \"afford\", \"job\", \"meme\", \"apple\", \"live\", \"chinese\", \"black\", \"real\", \"mask\", \"things\", \"dad\", \"feel\", \"open\", \"school\", \"tax\", \"need\", \"think\", \"china\", \"good\", \"google\", \"workers\", \"end\", \"years\", \"woman\", \"like\", \"today\", \"old\", \"coronavirus\", \"people\", \"covid\", \"let\", \"man\", \"pandemic\", \"woman\", \"body\", \"free\", \"life\", \"meme\", \"thing\", \"want\", \"home\", \"type\", \"hair\", \"cut\", \"appeal\", \"hours\", \"job\", \"afford\", \"live\", \"chinese\", \"mask\", \"black\", \"apple\", \"better\", \"things\", \"real\", \"feel\", \"thread\", \"dad\", \"open\", \"work\", \"come\", \"looking\", \"good\", \"world\", \"hope\", \"time\", \"stop\", \"buddha\", \"proxy\", \"ncov\", \"area\", \"trump\", \"face\", \"masks\", \"got\", \"help\", \"way\", \"coronavirus\", \"going\", \"year\", \"right\", \"children\"], \"Freq\": [22.0, 13.0, 20.0, 19.0, 18.0, 12.0, 14.0, 17.0, 11.0, 12.0, 9.0, 14.0, 8.0, 13.0, 9.0, 17.0, 9.0, 8.0, 9.0, 12.0, 16.0, 6.0, 6.0, 6.0, 16.0, 12.0, 6.0, 8.0, 8.0, 10.0, 17.820313596769, 16.340963069513837, 9.213637704683359, 8.315768081055422, 8.22799714328062, 4.421352336946978, 4.23071861858555, 4.282985530515975, 3.679130604540884, 2.886858568217886, 6.1937914623823405, 7.189568696565254, 2.3476338986805336, 1.3412974312074684, 2.4338053336993806, 2.484507542908365, 0.7772987321513167, 0.31454495648030156, 0.1098747396272114, 0.08724891550612852, 0.1044387888362165, 0.2268823422338151, 0.08667855232428993, 0.08844683692349578, 0.08755073083582339, 0.08677555359729477, 0.09053968808742961, 0.11928591246567384, 0.0869944822818173, 0.08774868486847517, 0.19931860370838209, 0.0948345369638904, 0.11197307844784839, 0.09177361590741194, 0.09927038280000816, 0.1090287298032138, 0.11065624669017343, 0.11189088389982235, 18.59605873319381, 6.040160900794697, 5.6534972290908865, 5.290479844018661, 5.291099147717319, 5.289722306601759, 5.291309457431813, 5.290413236370379, 5.290467253714713, 4.21461600413614, 11.478120251633358, 10.34128180135669, 3.642032149648603, 3.7122556584611757, 0.1540946208544343, 0.10668471570059797, 0.13148693091303437, 0.10149030695147863, 0.11450088661390315, 0.10127369991746098, 0.11987628418820376, 0.10123149551640685, 0.1026028663034148, 0.10197059172533439, 0.10548216690553312, 0.10047917787771057, 0.10031408849360962, 0.1003453366954461, 0.09981110956847382, 0.1009913606253989, 0.10606709329349583, 0.11059110450628344, 0.101607869361192, 0.12744602462101223, 0.10315215187551263, 0.10216837323100667, 0.10689676059274886, 0.10616077067907917, 0.10210398734139198, 0.10223057338871541, 0.10219440707422317, 13.236462773237962, 12.58222408801247, 11.028483149031274, 6.137537075846514, 4.749402298677179, 4.615756279345639, 4.004235808856949, 3.804321670491948, 8.906289471785218, 5.684605089853194, 8.220359729616156, 3.5957363255726396, 3.9953692602352104, 1.5360606833116695, 0.9374618723391507, 0.8351828857463018, 1.6285346191478256, 0.09784654822386323, 0.11288204814473046, 0.0993386567374505, 0.09380641453506246, 0.10442250633962356, 0.09449932698153887, 0.17640561328022, 0.09455125027049338, 0.09888223078380229, 0.09349733354801061, 0.09540629155980646, 0.09350324933565446, 0.09388464029469508, 0.09575708189166915, 0.10673896715491113, 0.10722804043100054, 0.09688145442541239, 0.09985937611706183, 0.10382619662970077, 0.10049703337426308, 0.1003827897950194, 6.514428305539476, 7.774626246214488, 4.765922563155788, 4.706895951287237, 3.9831768903253577, 3.8852614310842717, 6.472881099647888, 7.947391271526096, 3.5564108446905216, 7.693747743269081, 8.950870620126175, 2.80798883377793, 2.5969317494064064, 2.4350356129609745, 1.6329436286694483, 0.1916217960070807, 0.09459320598310628, 0.094249473150833, 0.09461774463560745, 0.09560445670312394, 0.09478939627293982, 0.0954855882867543, 0.09460470384316846, 0.09529644806629366, 0.09409785278008584, 0.0942888606004326, 0.09481015549750348, 0.09521203734107475, 0.0939138434686646, 0.09518525197029092, 0.13082626598800912, 0.10046655734690305, 0.11736959822516636, 0.09642902963210329, 0.10059523309838965, 0.10034535423789658, 0.11215964685118292, 0.10642816606319007, 0.10118400301130327, 0.0987181657155326, 0.0959629613225936, 0.09568372329756053, 0.09629077222236113, 0.09583883732144645, 7.42883893024671, 17.643098081640595, 6.20252410366394, 5.483598353698951, 5.0886917217600445, 4.929778867801111, 4.51754589593607, 4.091058831074448, 3.9683489924782944, 4.814445758772233, 3.2878752353253695, 2.2461823227703133, 1.815265846998861, 0.7350198071260341, 0.12098423053543626, 0.1187346771909114, 0.09594188013663794, 0.09593674824339088, 0.09629758036745191, 0.09728598632481777, 0.09551354422973578, 0.09703705010879436, 0.0960168944330207, 0.09619735950128216, 0.09534819732028152, 0.09604000310965789, 0.10083091949534015, 0.0948480108420911, 0.09493281281790043, 0.0960524218536215, 0.171593970712444, 0.1033429550597106, 0.09743741183451185, 0.10006287137169324, 0.11121203790916669, 0.10264050609789394, 0.10240879927320429, 0.10149706368347289, 0.10074576086780405, 0.1050465815009712, 0.10075799140321408, 0.09948779897776547, 0.09810927332172228, 21.328516818163706, 13.36602721185807, 8.939457606108858, 5.676744347213556, 4.325321144437307, 3.8081959653513358, 1.683815531861674, 1.9539419566466278, 0.95446147364061, 0.7833168162945175, 1.8195949943560734, 0.9619560548475122, 1.116908729792176, 0.5618354790345551, 0.5628516387981046, 0.10311141062012717, 0.09865509666274803, 0.098909152051483, 0.09778595472931881, 0.09834492373289346, 0.0983003350890208, 0.09740034880446867, 0.09747722600031733, 0.10710760573886731, 0.09743273817984545, 0.1082517665923929, 0.09788889116165606, 0.09715001666057803, 0.09777958065668364, 0.09779337455002618, 0.098092050535706, 0.10313722914985309, 0.0984527405024955, 0.09956846077555136, 0.10104252538526365, 0.09791337761728525, 0.09915051874291313, 0.09850078525790937, 0.09930118779859112, 0.09838749259289548, 0.09877562178540854, 0.09840404955451022, 0.09839082115611363, 10.63491359597163, 8.595480015166027, 8.214470427076387, 5.74722507261413, 4.638838539326838, 4.213714264457195, 4.136332428123802, 2.7157449781722036, 0.8986140526385953, 1.6334589081033541, 1.1131239907753536, 0.1464188379689486, 0.10146724623672682, 0.10098779108682139, 0.10076552208650677, 0.10124527581051299, 0.10158329107564597, 0.10146256740678217, 0.10068553265780357, 0.10113812989374668, 0.10016769472027635, 0.10108824984378435, 0.10103398101955803, 0.10043484488875871, 0.1008525521020006, 0.10078018089751195, 0.1003141293485828, 0.10097050877691709, 0.10019187268484882, 0.10168067658827157, 0.10280743771582757, 0.1230879875882603, 0.12253674678992624, 0.10142741700871048, 0.10151229109107109, 0.10968648158103211, 0.10321050773408541, 0.10282414230484808, 0.1017025061004128, 0.1013075667642155, 0.10126177577636926, 0.1019384737845664, 0.10165792172586306, 0.10160816064186953, 0.1013231267322115, 11.459073423420778, 7.799436692998102, 5.942842761014414, 5.0439614807464075, 4.856962883459964, 4.502087569347095, 3.891726676874178, 3.151227354685928, 0.11685729457147129, 0.11652833447082775, 0.11773419016353136, 0.12005734060385949, 0.11786186632210226, 0.11932604578758865, 0.11702758419362386, 0.11661400565049895, 0.11730034535277607, 0.11689022851705874, 0.11828137315802367, 0.11713531140236218, 0.1170235928098584, 0.11702316366008532, 0.11747893814233148, 0.11658834052357342, 0.11766791707043633, 0.11885245806737595, 0.1223268991484997, 0.12262969499563621, 0.1171505377524658, 0.117289908546106, 0.12346046405853664, 0.11754202843365143, 0.13115900462811247, 0.11960211911754819, 0.12341405816423544, 0.11895847219544498, 0.12235940731741246, 0.11778966927507915, 0.11939545105992234, 0.11952270152205326, 0.11750134855117793, 0.11790730937631096, 0.11790160454791627, 0.11869497057570882, 0.11849982404642853, 0.11834205451182656, 0.11782924016948336, 0.11780660445271764, 8.3728960918215, 5.834388453870265, 5.8345563492139725, 4.930332804155243, 8.90990651944308, 3.1651864274966584, 2.0527098147427716, 0.11510273689465945, 0.11488452188866224, 0.13246394662212013, 0.11482085058725235, 0.1156947938965604, 0.11528171920727799, 0.11615089811250211, 0.11541061838643715, 0.11542404185691083, 0.11550911723227981, 0.11577704365504363, 0.11597163947826718, 0.11548194949792806, 0.11480247918163218, 0.12073753511287981, 0.11504592342344265, 0.11469676436193334, 0.1159533307224623, 0.1172517005866583, 0.11545375379461259, 0.11495169375853602, 0.11513419198134486, 0.11481597486228481, 0.11576038098249876, 0.11622375025758876, 0.12078876048783341, 0.1230585767959335, 0.11942687688485792, 0.11557302642689529, 0.11882769128226774, 0.11605533938856094, 0.1159793022757091, 0.11594798328000017, 0.11619347018349481, 0.1158458231528596, 0.11648397923152493, 0.11643139336466334, 0.11637763409491758, 0.1162322722401824, 0.11598495491749213, 0.11584293623988537, 0.11578079197438285, 12.364664670148748, 7.195795870765595, 5.7779821719469355, 0.13713983155549406, 0.13678721718612544, 0.1363855739809121, 0.14612367949969005, 0.13644410991196787, 0.1370012603619889, 0.13712393343403237, 0.13670044302405182, 0.135671708613317, 0.1372550545074173, 0.1362602771457476, 0.13639652412269224, 0.1368910825111219, 0.13661211087115568, 0.13598996839704178, 0.1367763385930085, 0.14371607797125463, 0.13625258438737442, 0.136674434519232, 0.13668403589575892, 0.13650923341096044, 0.13631031542724295, 0.13658859660476871, 0.13660828844986167, 0.13603387314982068, 0.13604632465887867, 0.13688886546139578, 0.1441720158691892, 0.1542935032067399, 0.15238060318936703, 0.13763698507815528, 0.13676104833411418, 0.14418369162296624, 0.13824532446930168, 0.13689164794987027, 0.13687006107706548, 0.13685926695274622, 0.13732847124911188, 0.13788874346786897, 0.136894360817334, 0.13723651382863827, 0.13720785691488294, 0.13718112353391845, 0.13713230342106614, 0.1370398795386161, 0.13698780235682398, 0.13698371071510762, 0.13698189633686847, 0.1369445119678425], \"Total\": [22.0, 13.0, 20.0, 19.0, 18.0, 12.0, 14.0, 17.0, 11.0, 12.0, 9.0, 14.0, 8.0, 13.0, 9.0, 17.0, 9.0, 8.0, 9.0, 12.0, 16.0, 6.0, 6.0, 6.0, 16.0, 12.0, 6.0, 8.0, 8.0, 10.0, 18.802420919996504, 17.776299709891784, 10.168891507411486, 9.27364163278491, 9.20159841271964, 5.37543497200891, 5.189790224440918, 5.259729798901998, 4.642722813304546, 4.64296339510463, 10.77637556879464, 17.004975366100624, 5.918715631567294, 5.868815561679639, 12.670523043598255, 14.298414842830322, 4.927939021006795, 8.965368904104054, 5.661882774676374, 4.752597168788598, 5.693585976144461, 12.529843601324107, 4.838348368933692, 4.9532241160733985, 4.95541754543226, 4.915709049019082, 5.16112428512006, 6.89811661314645, 5.037045030620752, 5.124521251109434, 22.420931621065076, 5.977044607079245, 8.798134598112966, 5.666080163650647, 7.0950369166860145, 9.902474678689664, 12.021658863313586, 20.15625422176387, 19.536531592199218, 6.987605153023802, 6.595183127728788, 6.227339760522704, 6.229297027239514, 6.2277092058613714, 6.22971915850151, 6.229666536356808, 6.230121322938146, 5.1640979869097245, 16.770462774737, 16.211089238072983, 6.1320204854548415, 10.77637556879464, 5.661882774676374, 4.642722813304546, 5.848739883008774, 4.64296339510463, 5.259729798901998, 4.752597168788598, 5.693585976144461, 4.838348368933692, 4.915709049019082, 4.95541754543226, 5.16112428512006, 4.927939021006795, 4.9532241160733985, 5.037045030620752, 5.124521251109434, 5.188536978082586, 5.475775928233567, 7.482118748727438, 5.37543497200891, 22.420931621065076, 5.918715631567294, 5.879655718967285, 12.529843601324107, 18.802420919996504, 5.868815561679639, 8.978567167872923, 7.0950369166860145, 14.20264917678995, 13.534833162571633, 12.021658863313586, 7.0950369166860145, 5.693459934517329, 5.693585976144461, 4.9532241160733985, 4.752597168788598, 11.717394122040538, 8.978567167872923, 14.298414842830322, 12.165240955435461, 16.211089238072983, 7.203695507431853, 5.666080163650647, 5.816172832511944, 20.15625422176387, 4.642722813304546, 5.475775928233567, 4.838348368933692, 4.64296339510463, 5.259729798901998, 4.927939021006795, 9.243793522011643, 4.95541754543226, 5.189790224440918, 4.915709049019082, 5.037045030620752, 5.124521251109434, 5.16112428512006, 5.291530635911127, 8.115136674717697, 8.798134598112966, 5.868815561679639, 8.37941070702163, 13.283236452494991, 9.555389415800931, 17.004975366100624, 7.482118748727438, 8.965368904104054, 5.71109189296804, 5.672470065181625, 4.95541754543226, 4.838348368933692, 9.0038322158817, 11.36626689465445, 5.188536978082586, 12.165240955435461, 17.004975366100624, 5.868815561679639, 6.58049036742175, 8.978567167872923, 6.1320204854548415, 5.693585976144461, 4.64296339510463, 4.642722813304546, 4.752597168788598, 4.927939021006795, 4.915709049019082, 4.9532241160733985, 5.037045030620752, 5.1640979869097245, 5.124521251109434, 5.16112428512006, 5.189790224440918, 5.259729798901998, 5.291530635911127, 5.37543497200891, 8.798134598112966, 6.483042979000901, 12.021658863313586, 5.666080163650647, 6.763344935163161, 6.7648878522074325, 14.20264917678995, 11.587376178753594, 11.717394122040538, 14.324880108119547, 6.595183127728788, 6.229297027239514, 10.77637556879464, 9.20159841271964, 8.37941070702163, 20.15625422176387, 7.1510283603852125, 6.483042979000901, 6.045018765707212, 5.879655718967285, 5.468744551297348, 5.037045030620752, 4.915709049019082, 7.203695507431853, 4.927939021006795, 5.124521251109434, 5.848739883008774, 16.770462774737, 4.95541754543226, 5.291530635911127, 4.642722813304546, 4.64296339510463, 4.752597168788598, 4.838348368933692, 4.9532241160733985, 5.1640979869097245, 5.16112428512006, 5.188536978082586, 5.189790224440918, 5.259729798901998, 5.672470065181625, 5.37543497200891, 5.475775928233567, 5.666080163650647, 11.36626689465445, 6.987605153023802, 5.977044607079245, 6.68879256983297, 17.776299709891784, 9.243793522011643, 9.555389415800931, 8.978567167872923, 9.27364163278491, 22.420931621065076, 13.283236452494991, 16.211089238072983, 10.77637556879464, 22.420931621065076, 14.324880108119547, 9.902474678689664, 6.617592624566308, 5.291530635911127, 16.770462774737, 9.0038322158817, 11.717394122040538, 5.868815561679639, 5.188536978082586, 14.298414842830322, 11.36626689465445, 16.211089238072983, 12.670523043598255, 17.776299709891784, 4.64296339510463, 4.642722813304546, 4.752597168788598, 4.838348368933692, 4.927939021006795, 4.9532241160733985, 4.915709049019082, 4.95541754543226, 5.475775928233567, 5.037045030620752, 5.672470065181625, 5.16112428512006, 5.124521251109434, 5.1640979869097245, 5.189790224440918, 5.259729798901998, 9.555389415800931, 5.666080163650647, 7.482118748727438, 12.165240955435461, 5.37543497200891, 9.20159841271964, 6.7648878522074325, 10.77637556879464, 6.68879256983297, 10.168891507411486, 12.021658863313586, 13.534833162571633, 11.587376178753594, 9.555389415800931, 9.243793522011643, 6.687569044604093, 5.661882774676374, 5.16112428512006, 5.816172832511944, 5.918715631567294, 4.64296339510463, 11.36626689465445, 14.298414842830322, 6.483042979000901, 4.642722813304546, 4.752597168788598, 4.838348368933692, 4.927939021006795, 4.95541754543226, 4.9532241160733985, 4.915709049019082, 5.037045030620752, 5.124521251109434, 5.189790224440918, 5.188536978082586, 5.1640979869097245, 5.259729798901998, 5.291530635911127, 5.37543497200891, 5.475775928233567, 5.468744551297348, 5.672470065181625, 5.848739883008774, 12.670523043598255, 18.802420919996504, 5.666080163650647, 5.780301498617855, 14.324880108119547, 7.482118748727438, 8.115136674717697, 6.230121322938146, 5.868815561679639, 6.229666536356808, 22.420931621065076, 11.717394122040538, 14.20264917678995, 7.203695507431853, 12.529843601324107, 8.798134598112966, 6.89811661314645, 5.977044607079245, 5.780301498617855, 5.475775928233567, 5.666080163650647, 6.58049036742175, 4.642722813304546, 4.64296339510463, 4.752597168788598, 4.927939021006795, 4.838348368933692, 4.915709049019082, 4.95541754543226, 4.9532241160733985, 5.037045030620752, 5.124521251109434, 5.189790224440918, 5.16112428512006, 5.1640979869097245, 5.188536978082586, 5.291530635911127, 5.259729798901998, 5.37543497200891, 5.468744551297348, 5.848739883008774, 5.879655718967285, 5.661882774676374, 5.672470065181625, 6.045018765707212, 5.693459934517329, 8.965368904104054, 6.1320204854548415, 7.482118748727438, 6.483042979000901, 16.211089238072983, 6.230121322938146, 10.77637556879464, 12.670523043598255, 5.868815561679639, 6.987605153023802, 7.0950369166860145, 17.776299709891784, 20.15625422176387, 18.802420919996504, 16.770462774737, 10.168891507411486, 9.297699698173462, 6.763344935163161, 6.7648878522074325, 5.855735726771057, 12.670523043598255, 5.848739883008774, 5.124521251109434, 4.642722813304546, 4.64296339510463, 5.475775928233567, 4.752597168788598, 4.838348368933692, 4.915709049019082, 4.9532241160733985, 4.927939021006795, 4.95541754543226, 5.037045030620752, 5.16112428512006, 5.188536978082586, 5.189790224440918, 5.1640979869097245, 5.468744551297348, 5.259729798901998, 5.291530635911127, 5.37543497200891, 5.672470065181625, 5.661882774676374, 5.666080163650647, 5.693459934517329, 5.693585976144461, 5.780301498617855, 5.918715631567294, 7.1510283603852125, 10.77637556879464, 8.965368904104054, 5.879655718967285, 12.165240955435461, 6.687569044604093, 6.58049036742175, 6.987605153023802, 8.978567167872923, 6.68879256983297, 14.298414842830322, 14.324880108119547, 12.021658863313586, 16.770462774737, 18.802420919996504, 12.529843601324107, 8.798134598112966, 13.283236452494991, 8.115136674717697, 6.68879256983297, 4.64296339510463, 4.642722813304546, 4.752597168788598, 5.1640979869097245, 4.838348368933692, 4.915709049019082, 4.927939021006795, 4.9532241160733985, 4.95541754543226, 5.037045030620752, 5.124521251109434, 5.16112428512006, 5.189790224440918, 5.188536978082586, 5.259729798901998, 5.291530635911127, 5.661882774676374, 5.37543497200891, 5.468744551297348, 5.475775928233567, 5.666080163650647, 5.672470065181625, 5.693585976144461, 5.71109189296804, 5.693459934517329, 5.780301498617855, 5.816172832511944, 6.1320204854548415, 9.20159841271964, 12.165240955435461, 6.483042979000901, 5.855735726771057, 20.15625422176387, 9.27364163278491, 6.227339760522704, 6.229666536356808, 6.230121322938146, 7.482118748727438, 13.534833162571633, 6.595183127728788, 10.168891507411486, 14.20264917678995, 19.536531592199218, 9.243793522011643, 16.770462774737, 9.555389415800931, 11.717394122040538, 12.670523043598255, 6.89811661314645], \"Category\": [\"Default\", \"Default\", \"Default\", \"Default\", \"Default\", \"Default\", \"Default\", \"Default\", \"Default\", \"Default\", \"Default\", \"Default\", \"Default\", \"Default\", \"Default\", \"Default\", \"Default\", \"Default\", \"Default\", \"Default\", \"Default\", \"Default\", \"Default\", \"Default\", \"Default\", \"Default\", \"Default\", \"Default\", \"Default\", \"Default\", \"Topic1\", \"Topic1\", \"Topic1\", \"Topic1\", \"Topic1\", \"Topic1\", \"Topic1\", \"Topic1\", \"Topic1\", \"Topic1\", \"Topic1\", \"Topic1\", \"Topic1\", \"Topic1\", \"Topic1\", \"Topic1\", \"Topic1\", \"Topic1\", \"Topic1\", \"Topic1\", \"Topic1\", \"Topic1\", \"Topic1\", \"Topic1\", \"Topic1\", \"Topic1\", \"Topic1\", \"Topic1\", \"Topic1\", \"Topic1\", \"Topic1\", \"Topic1\", \"Topic1\", \"Topic1\", \"Topic1\", \"Topic1\", \"Topic1\", \"Topic1\", \"Topic2\", \"Topic2\", \"Topic2\", \"Topic2\", \"Topic2\", \"Topic2\", \"Topic2\", \"Topic2\", \"Topic2\", \"Topic2\", \"Topic2\", \"Topic2\", \"Topic2\", \"Topic2\", \"Topic2\", \"Topic2\", \"Topic2\", \"Topic2\", \"Topic2\", \"Topic2\", \"Topic2\", \"Topic2\", \"Topic2\", \"Topic2\", \"Topic2\", \"Topic2\", \"Topic2\", \"Topic2\", \"Topic2\", \"Topic2\", \"Topic2\", \"Topic2\", \"Topic2\", \"Topic2\", \"Topic2\", \"Topic2\", \"Topic2\", \"Topic2\", \"Topic2\", \"Topic2\", \"Topic2\", \"Topic3\", \"Topic3\", \"Topic3\", \"Topic3\", \"Topic3\", \"Topic3\", \"Topic3\", \"Topic3\", \"Topic3\", \"Topic3\", \"Topic3\", \"Topic3\", \"Topic3\", \"Topic3\", \"Topic3\", \"Topic3\", \"Topic3\", \"Topic3\", \"Topic3\", \"Topic3\", \"Topic3\", \"Topic3\", \"Topic3\", \"Topic3\", \"Topic3\", \"Topic3\", \"Topic3\", \"Topic3\", \"Topic3\", \"Topic3\", \"Topic3\", \"Topic3\", \"Topic3\", \"Topic3\", \"Topic3\", \"Topic3\", \"Topic3\", \"Topic3\", \"Topic4\", \"Topic4\", \"Topic4\", \"Topic4\", \"Topic4\", \"Topic4\", \"Topic4\", \"Topic4\", \"Topic4\", \"Topic4\", \"Topic4\", \"Topic4\", \"Topic4\", \"Topic4\", \"Topic4\", \"Topic4\", \"Topic4\", \"Topic4\", \"Topic4\", \"Topic4\", \"Topic4\", \"Topic4\", \"Topic4\", \"Topic4\", \"Topic4\", \"Topic4\", \"Topic4\", \"Topic4\", \"Topic4\", \"Topic4\", \"Topic4\", \"Topic4\", \"Topic4\", \"Topic4\", \"Topic4\", \"Topic4\", \"Topic4\", \"Topic4\", \"Topic4\", \"Topic4\", \"Topic4\", \"Topic4\", \"Topic4\", \"Topic4\", \"Topic5\", \"Topic5\", \"Topic5\", \"Topic5\", \"Topic5\", \"Topic5\", \"Topic5\", \"Topic5\", \"Topic5\", \"Topic5\", \"Topic5\", \"Topic5\", \"Topic5\", \"Topic5\", \"Topic5\", \"Topic5\", \"Topic5\", \"Topic5\", \"Topic5\", \"Topic5\", \"Topic5\", \"Topic5\", \"Topic5\", \"Topic5\", \"Topic5\", \"Topic5\", \"Topic5\", \"Topic5\", \"Topic5\", \"Topic5\", \"Topic5\", \"Topic5\", \"Topic5\", \"Topic5\", \"Topic5\", \"Topic5\", \"Topic5\", \"Topic5\", \"Topic5\", \"Topic5\", \"Topic5\", \"Topic5\", \"Topic5\", \"Topic6\", \"Topic6\", \"Topic6\", \"Topic6\", \"Topic6\", \"Topic6\", \"Topic6\", \"Topic6\", \"Topic6\", \"Topic6\", \"Topic6\", \"Topic6\", \"Topic6\", \"Topic6\", \"Topic6\", \"Topic6\", \"Topic6\", \"Topic6\", \"Topic6\", \"Topic6\", \"Topic6\", \"Topic6\", \"Topic6\", \"Topic6\", \"Topic6\", \"Topic6\", \"Topic6\", \"Topic6\", \"Topic6\", \"Topic6\", \"Topic6\", \"Topic6\", \"Topic6\", \"Topic6\", \"Topic6\", \"Topic6\", \"Topic6\", \"Topic6\", \"Topic6\", \"Topic6\", \"Topic6\", \"Topic6\", \"Topic6\", \"Topic7\", \"Topic7\", \"Topic7\", \"Topic7\", \"Topic7\", \"Topic7\", \"Topic7\", \"Topic7\", \"Topic7\", \"Topic7\", \"Topic7\", \"Topic7\", \"Topic7\", \"Topic7\", \"Topic7\", \"Topic7\", \"Topic7\", \"Topic7\", \"Topic7\", \"Topic7\", \"Topic7\", \"Topic7\", \"Topic7\", \"Topic7\", \"Topic7\", \"Topic7\", \"Topic7\", \"Topic7\", \"Topic7\", \"Topic7\", \"Topic7\", \"Topic7\", \"Topic7\", \"Topic7\", \"Topic7\", \"Topic7\", \"Topic7\", \"Topic7\", \"Topic7\", \"Topic7\", \"Topic7\", \"Topic7\", \"Topic7\", \"Topic7\", \"Topic7\", \"Topic8\", \"Topic8\", \"Topic8\", \"Topic8\", \"Topic8\", \"Topic8\", \"Topic8\", \"Topic8\", \"Topic8\", \"Topic8\", \"Topic8\", \"Topic8\", \"Topic8\", \"Topic8\", \"Topic8\", \"Topic8\", \"Topic8\", \"Topic8\", \"Topic8\", \"Topic8\", \"Topic8\", \"Topic8\", \"Topic8\", \"Topic8\", \"Topic8\", \"Topic8\", \"Topic8\", \"Topic8\", \"Topic8\", \"Topic8\", \"Topic8\", \"Topic8\", \"Topic8\", \"Topic8\", \"Topic8\", \"Topic8\", \"Topic8\", \"Topic8\", \"Topic8\", \"Topic8\", \"Topic8\", \"Topic8\", \"Topic8\", \"Topic8\", \"Topic8\", \"Topic8\", \"Topic8\", \"Topic8\", \"Topic9\", \"Topic9\", \"Topic9\", \"Topic9\", \"Topic9\", \"Topic9\", \"Topic9\", \"Topic9\", \"Topic9\", \"Topic9\", \"Topic9\", \"Topic9\", \"Topic9\", \"Topic9\", \"Topic9\", \"Topic9\", \"Topic9\", \"Topic9\", \"Topic9\", \"Topic9\", \"Topic9\", \"Topic9\", \"Topic9\", \"Topic9\", \"Topic9\", \"Topic9\", \"Topic9\", \"Topic9\", \"Topic9\", \"Topic9\", \"Topic9\", \"Topic9\", \"Topic9\", \"Topic9\", \"Topic9\", \"Topic9\", \"Topic9\", \"Topic9\", \"Topic9\", \"Topic9\", \"Topic9\", \"Topic9\", \"Topic9\", \"Topic9\", \"Topic9\", \"Topic9\", \"Topic9\", \"Topic9\", \"Topic9\", \"Topic10\", \"Topic10\", \"Topic10\", \"Topic10\", \"Topic10\", \"Topic10\", \"Topic10\", \"Topic10\", \"Topic10\", \"Topic10\", \"Topic10\", \"Topic10\", \"Topic10\", \"Topic10\", \"Topic10\", \"Topic10\", \"Topic10\", \"Topic10\", \"Topic10\", \"Topic10\", \"Topic10\", \"Topic10\", \"Topic10\", \"Topic10\", \"Topic10\", \"Topic10\", \"Topic10\", \"Topic10\", \"Topic10\", \"Topic10\", \"Topic10\", \"Topic10\", \"Topic10\", \"Topic10\", \"Topic10\", \"Topic10\", \"Topic10\", \"Topic10\", \"Topic10\", \"Topic10\", \"Topic10\", \"Topic10\", \"Topic10\", \"Topic10\", \"Topic10\", \"Topic10\", \"Topic10\", \"Topic10\", \"Topic10\", \"Topic10\", \"Topic10\", \"Topic10\"], \"logprob\": [30.0, 29.0, 28.0, 27.0, 26.0, 25.0, 24.0, 23.0, 22.0, 21.0, 20.0, 19.0, 18.0, 17.0, 16.0, 15.0, 14.0, 13.0, 12.0, 11.0, 10.0, 9.0, 8.0, 7.0, 6.0, 5.0, 4.0, 3.0, 2.0, 1.0, -1.8125, -1.8992, -2.4722, -2.5747, -2.5853, -3.2064, -3.2505, -3.2382, -3.3902, -3.6327, -2.8693, -2.7202, -3.8394, -4.3992, -3.8034, -3.7828, -4.9448, -5.8495, -6.9013, -7.1318, -6.952, -6.1762, -7.1384, -7.1182, -7.1284, -7.1373, -7.0948, -6.8191, -7.1348, -7.1261, -6.3057, -7.0485, -6.8823, -7.0813, -7.0027, -6.909, -6.8942, -6.8831, -1.7136, -2.8381, -2.9042, -2.9706, -2.9705, -2.9708, -2.9705, -2.9706, -2.9706, -3.198, -2.1961, -2.3004, -3.344, -3.3249, -6.5067, -6.8744, -6.6654, -6.9243, -6.8037, -6.9265, -6.7578, -6.9269, -6.9134, -6.9196, -6.8857, -6.9343, -6.936, -6.9357, -6.941, -6.9292, -6.8802, -6.8384, -6.9232, -6.6966, -6.9081, -6.9177, -6.8724, -6.8793, -6.9183, -6.917, -6.9174, -2.0465, -2.0971, -2.229, -2.815, -3.0714, -3.1, -3.2421, -3.2933, -2.4427, -2.8917, -2.5228, -3.3497, -3.2443, -4.2002, -4.694, -4.8095, -4.1418, -6.9538, -6.8108, -6.9387, -6.996, -6.8887, -6.9886, -6.3644, -6.988, -6.9433, -6.9993, -6.979, -6.9992, -6.9951, -6.9754, -6.8668, -6.8622, -6.9637, -6.9334, -6.8945, -6.9271, -6.9282, -2.5443, -2.3675, -2.8569, -2.8693, -3.0363, -3.0612, -2.5507, -2.3455, -3.1496, -2.3779, -2.2266, -3.3859, -3.464, -3.5284, -3.928, -6.0706, -6.7765, -6.7802, -6.7763, -6.7659, -6.7744, -6.7671, -6.7764, -6.7691, -6.7818, -6.7797, -6.7742, -6.77, -6.7837, -6.7703, -6.4522, -6.7163, -6.5608, -6.7573, -6.715, -6.7175, -6.6062, -6.6586, -6.7092, -6.7338, -6.7621, -6.765, -6.7587, -6.7634, -2.3722, -1.5072, -2.5526, -2.6758, -2.7506, -2.7823, -2.8696, -2.9688, -2.9992, -2.806, -3.1873, -3.5684, -3.7814, -4.6854, -6.4897, -6.5084, -6.7216, -6.7217, -6.7179, -6.7077, -6.7261, -6.7102, -6.7208, -6.7189, -6.7278, -6.7206, -6.6719, -6.7331, -6.7322, -6.7204, -6.1402, -6.6473, -6.7061, -6.6795, -6.5739, -6.6541, -6.6564, -6.6653, -6.6727, -6.6309, -6.6726, -6.6853, -6.6993, -1.259, -1.7263, -2.1286, -2.5827, -2.8546, -2.9819, -3.798, -3.6492, -4.3656, -4.5633, -3.7204, -4.3578, -4.2085, -4.8956, -4.8938, -6.591, -6.6352, -6.6326, -6.644, -6.6383, -6.6388, -6.648, -6.6472, -6.553, -6.6476, -6.5423, -6.643, -6.6505, -6.6441, -6.6439, -6.6409, -6.5907, -6.6372, -6.626, -6.6113, -6.6427, -6.6302, -6.6367, -6.6286, -6.6379, -6.6339, -6.6377, -6.6378, -1.7388, -1.9517, -1.9971, -2.3542, -2.5685, -2.6646, -2.6832, -3.1039, -4.2099, -3.6123, -3.9958, -6.0242, -6.391, -6.3957, -6.3979, -6.3932, -6.3898, -6.391, -6.3987, -6.3942, -6.4039, -6.3947, -6.3953, -6.4012, -6.3971, -6.3978, -6.4024, -6.3959, -6.4036, -6.3889, -6.3779, -6.1978, -6.2023, -6.3914, -6.3905, -6.3131, -6.374, -6.3777, -6.3887, -6.3926, -6.393, -6.3864, -6.3891, -6.3896, -6.3924, -1.5902, -1.9749, -2.2468, -2.4108, -2.4485, -2.5244, -2.6701, -2.8812, -6.1757, -6.1786, -6.1683, -6.1487, -6.1672, -6.1548, -6.1743, -6.1778, -6.172, -6.1755, -6.1636, -6.1734, -6.1743, -6.1743, -6.1704, -6.1781, -6.1688, -6.1588, -6.13, -6.1275, -6.1732, -6.1721, -6.1208, -6.1699, -6.0603, -6.1525, -6.1212, -6.1579, -6.1297, -6.1678, -6.1543, -6.1532, -6.1703, -6.1668, -6.1668, -6.1601, -6.1618, -6.1631, -6.1675, -6.1677, -1.7588, -2.12, -2.12, -2.2884, -1.6966, -2.7316, -3.1646, -6.0457, -6.0476, -5.9052, -6.0481, -6.0406, -6.0441, -6.0366, -6.043, -6.0429, -6.0422, -6.0399, -6.0382, -6.0424, -6.0483, -5.9979, -6.0462, -6.0492, -6.0383, -6.0272, -6.0426, -6.047, -6.0454, -6.0482, -6.04, -6.036, -5.9975, -5.9789, -6.0088, -6.0416, -6.0138, -6.0375, -6.0381, -6.0384, -6.0363, -6.0393, -6.0338, -6.0342, -6.0347, -6.0359, -6.0381, -6.0393, -6.0398, -1.1001, -1.6414, -1.8608, -5.6017, -5.6042, -5.6072, -5.5382, -5.6067, -5.6027, -5.6018, -5.6049, -5.6124, -5.6008, -5.6081, -5.6071, -5.6035, -5.6055, -5.6101, -5.6043, -5.5548, -5.6081, -5.6051, -5.605, -5.6063, -5.6077, -5.6057, -5.6055, -5.6098, -5.6097, -5.6035, -5.5516, -5.4838, -5.4963, -5.598, -5.6044, -5.5516, -5.5936, -5.6035, -5.6036, -5.6037, -5.6003, -5.5962, -5.6034, -5.601, -5.6012, -5.6014, -5.6017, -5.6024, -5.6028, -5.6028, -5.6028, -5.6031], \"loglift\": [30.0, 29.0, 28.0, 27.0, 26.0, 25.0, 24.0, 23.0, 22.0, 21.0, 20.0, 19.0, 18.0, 17.0, 16.0, 15.0, 14.0, 13.0, 12.0, 11.0, 10.0, 9.0, 8.0, 7.0, 6.0, 5.0, 4.0, 3.0, 2.0, 1.0, 1.8802, 1.8497, 1.8352, 1.8249, 1.822, 1.7385, 1.7296, 1.7284, 1.7013, 1.4587, 1.3801, 1.073, 1.0092, 0.4579, 0.2841, 0.1838, 0.087, -1.4161, -2.0083, -2.0638, -2.0646, -2.0776, -2.0882, -2.0915, -2.1021, -2.103, -2.1092, -2.1236, -2.1249, -2.1334, -2.789, -2.2097, -2.4302, -2.1891, -2.3354, -2.5751, -2.7542, -3.2599, 1.9409, 1.8445, 1.8361, 1.8272, 1.827, 1.827, 1.8269, 1.8268, 1.8267, 1.787, 1.611, 1.5406, 1.4692, 0.9245, -1.6137, -1.783, -1.8049, -1.8329, -1.8371, -1.8584, -1.8704, -1.8767, -1.8791, -1.8934, -1.9002, -1.9025, -1.9093, -1.9258, -1.9483, -1.949, -1.9538, -2.2242, -1.9783, -3.1799, -2.0595, -2.0624, -2.7738, -3.1866, -2.0612, -2.4852, -2.2501, 1.9268, 1.9243, 1.9111, 1.8523, 1.816, 1.7874, 1.7846, 1.7747, 1.723, 1.5402, 1.4437, 0.7784, 0.5967, 0.4519, 0.1982, 0.0565, -0.5186, -1.8624, -1.8845, -1.8885, -1.9046, -1.9221, -1.9568, -1.9616, -1.9618, -1.9632, -1.965, -1.9691, -2.0065, -2.0096, -2.0148, -2.3338, -2.4101, -2.1066, -2.4325, -2.8543, -2.5574, -3.135, 2.0699, 2.0659, 2.0275, 2.0218, 1.99, 1.989, 1.8783, 1.8506, 1.8307, 1.7502, 1.5666, 1.4712, 1.2786, 0.9035, 0.8852, -1.1832, -1.6851, -1.6887, -1.7082, -1.7341, -1.7402, -1.7404, -1.7665, -1.7841, -1.7891, -1.7942, -1.7942, -1.8034, -1.8231, -1.8254, -2.0, -1.9587, -2.4208, -1.8651, -1.9998, -2.0025, -2.6329, -2.4818, -2.5435, -2.7691, -2.0218, -1.9676, -2.5094, -2.3561, 2.1287, 2.116, 2.1068, 2.0817, 2.0769, 2.0729, 2.0581, 2.0411, 2.035, 1.8462, 1.8445, 1.4243, 1.0791, -0.8783, -1.4634, -1.5478, -1.6302, -1.6303, -1.6499, -1.6575, -1.6994, -1.7253, -1.7353, -1.7387, -1.7478, -1.7539, -1.7808, -1.7882, -1.8058, -1.8282, -1.9441, -1.9647, -1.8673, -1.9533, -2.825, -2.2513, -2.2868, -2.2334, -2.2732, -3.1142, -2.6324, -2.8443, -2.4499, 2.2577, 2.2384, 2.2054, 2.1543, 2.1061, 0.8252, 0.6311, 0.5165, 0.4914, 0.417, 0.2461, -0.1618, -0.3675, -0.8081, -1.1449, -1.4996, -1.5437, -1.5646, -1.5939, -1.6065, -1.6121, -1.6137, -1.6209, -1.6266, -1.6377, -1.6512, -1.6574, -1.6579, -1.6591, -1.6639, -1.6743, -2.2211, -1.745, -2.0117, -2.4831, -1.6978, -2.2228, -1.9218, -2.3793, -1.9116, -2.3266, -2.4977, -2.6164, 2.438, 2.4179, 2.4057, 2.3722, 2.3245, 2.3209, 2.1829, 1.7447, 0.8815, 0.5838, -0.0292, -1.2667, -1.2996, -1.3277, -1.3478, -1.3614, -1.3636, -1.3644, -1.3644, -1.3843, -1.4112, -1.4147, -1.415, -1.4162, -1.4304, -1.4372, -1.4575, -1.4695, -1.476, -1.4978, -1.5174, -2.1104, -2.5096, -1.4992, -1.5183, -2.3484, -1.7597, -1.8447, -1.5913, -1.5355, -1.5956, -2.8696, -2.2235, -2.4163, -1.7403, 2.5084, 2.4773, 2.4487, 2.428, 2.4237, 2.402, 2.2221, 1.8615, -1.0843, -1.0872, -1.1002, -1.1169, -1.117, -1.1206, -1.1481, -1.1512, -1.1621, -1.1828, -1.1836, -1.1878, -1.1893, -1.1941, -1.2098, -1.2114, -1.224, -1.2311, -1.2695, -1.2723, -1.2803, -1.281, -1.2933, -1.2825, -1.6269, -1.3393, -1.507, -1.4004, -2.2887, -1.3705, -1.9049, -2.0658, -1.3132, -1.4842, -1.4995, -2.4113, -2.5386, -2.4704, -2.3604, -1.8603, 2.6382, 2.5952, 2.595, 2.5709, 2.3908, 2.1289, 1.8281, -0.9543, -0.9562, -0.9788, -0.9801, -0.9904, -1.0099, -1.0099, -1.0112, -1.0167, -1.0323, -1.0543, -1.0579, -1.0624, -1.0633, -1.0702, -1.0795, -1.0886, -1.0935, -1.1361, -1.1497, -1.1548, -1.158, -1.1608, -1.1677, -1.1874, -1.338, -1.7295, -1.5755, -1.1864, -1.8857, -1.311, -1.2955, -1.3558, -1.6044, -1.313, -2.0672, -2.0695, -1.8947, -2.2288, -2.3453, -1.9407, -1.5876, 2.9402, 2.8916, 2.8654, -0.5103, -0.5128, -0.5391, -0.5532, -0.5566, -0.5684, -0.57, -0.5782, -0.5862, -0.5909, -0.6154, -0.6215, -0.6234, -0.6252, -0.6434, -0.6437, -0.6619, -0.6633, -0.6774, -0.6786, -0.714, -0.7166, -0.7183, -0.7212, -0.7224, -0.7374, -0.7374, -0.7385, -1.0765, -1.3681, -0.8405, -0.7451, -1.9284, -1.1941, -0.8057, -0.8062, -0.8064, -0.9861, -1.5748, -0.8631, -1.2936, -1.6279, -1.9469, -1.1989, -1.7953, -1.2332, -1.4372, -1.5154, -0.9076]}, \"token.table\": {\"Topic\": [4, 6, 5, 9, 5, 4, 8, 5, 9, 1, 1, 7, 5, 2, 6, 8, 5, 6, 2, 4, 9, 2, 3, 6, 2, 5, 6, 8, 1, 6, 5, 3, 4, 6, 7, 2, 2, 3, 1, 7, 3, 7, 3, 4, 7, 3, 4, 2, 1, 5, 9, 7, 1, 1, 4, 8, 3, 1, 3, 6, 7, 1, 1, 4, 6, 1, 10, 7, 1, 2, 2, 2, 1, 2, 9, 6, 3, 8, 10, 1, 8, 2, 9, 4, 1, 6, 9, 2, 3, 5, 1, 7, 6, 4, 6, 1, 5, 5, 4, 3, 8, 4, 4, 3, 5, 6, 3, 3, 5, 2, 7, 10, 3, 7, 4, 8, 5, 3, 6, 3, 4], \"Freq\": [0.7709302288673662, 0.19273255721684154, 0.39028036025160584, 0.39028036025160584, 0.9142866252207469, 0.9355638736942745, 0.9131126009410966, 0.3419540003497536, 0.5129310005246304, 0.7441258281104493, 0.6461390591972123, 0.21537968639907076, 0.8353809408260969, 0.8029110651223429, 0.9088637226579525, 0.8698026340356705, 0.8503899274017714, 0.7559249440707918, 0.6523135415949773, 0.32615677079748867, 0.8871349986610219, 0.616861695913328, 0.24674467836533118, 0.061686169591332794, 0.6559151138375492, 0.05962864671250447, 0.2385145868500179, 0.877904014606979, 0.9000748334084767, 0.056254677088029795, 0.7941163868267127, 0.8782006121948555, 0.7038370710582554, 0.08797963388228193, 0.17595926776456386, 0.8586632857186517, 0.9097548747014469, 0.8781811710492272, 0.8615633887375937, 0.9493089574643657, 0.8456615618009371, 0.9418768412637866, 0.3288056533079018, 0.6576113066158036, 0.8971869987407664, 0.9153221936400903, 0.8071973679971868, 0.9725370089533472, 0.20292458890769646, 0.6087737667230894, 0.8538636703055378, 0.7750249323645091, 0.7707440622864308, 0.41164423054410787, 0.5292568678424244, 0.9092836567555864, 0.8416450748800935, 0.13987564509662156, 0.5595025803864863, 0.13987564509662156, 0.06993782254831078, 0.7604953396722063, 0.17039213270382664, 0.51117639811148, 0.17039213270382664, 0.8694141649282764, 0.9033942927174228, 0.8830984672383637, 0.8850522196485672, 0.7745786408661198, 0.8026043988157396, 0.8025525893999739, 0.5567734681941039, 0.37118231212940256, 0.8869326633466889, 0.9366247734447363, 0.9150151509928987, 0.8650067822925093, 0.8625855953613388, 0.9573235317190925, 0.8365338271154898, 0.8026111784346112, 0.8604278756789278, 0.8814502223097949, 0.15784668029237311, 0.07892334014618656, 0.710310061315679, 0.8028634341651854, 0.2776352773290675, 0.6940881933226687, 0.3379111490562343, 0.5068667235843515, 0.9066741246244691, 0.666382919643561, 0.222127639881187, 0.8626600333269046, 0.839040162844046, 0.8271272917074304, 0.8267283988237388, 0.17648885492571315, 0.7059554197028526, 0.8923224560606603, 0.8754893273835089, 0.09922478541873543, 0.8930230687686188, 0.9075119583466121, 0.9604846874617836, 0.8075548180870414, 0.8137178096002632, 0.8026587876827779, 0.865445553381317, 0.8970228837803277, 0.1719343679764947, 0.6877374719059788, 0.4558930767306033, 0.4558930767306033, 0.7712427661200771, 0.7680888691002471, 0.17068641535561047, 0.6682580736789695, 0.22275269122632316], \"Term\": [\"afford\", \"afford\", \"appeal\", \"appeal\", \"apple\", \"area\", \"better\", \"big\", \"big\", \"black\", \"body\", \"body\", \"break\", \"buddha\", \"cases\", \"children\", \"china\", \"chinese\", \"come\", \"come\", \"comet\", \"corona\", \"corona\", \"corona\", \"coronavirus\", \"coronavirus\", \"coronavirus\", \"covid\", \"covid-\", \"covid-\", \"cut\", \"dad\", \"day\", \"day\", \"day\", \"end\", \"face\", \"feel\", \"free\", \"friends\", \"getting\", \"going\", \"good\", \"good\", \"google\", \"got\", \"hair\", \"help\", \"home\", \"home\", \"hope\", \"hours\", \"job\", \"know\", \"know\", \"let\", \"life\", \"like\", \"like\", \"like\", \"like\", \"live\", \"look\", \"look\", \"look\", \"looking\", \"man\", \"mask\", \"masks\", \"meme\", \"messiah\", \"ncov\", \"need\", \"need\", \"neowise\", \"new\", \"old\", \"open\", \"pandemic\", \"people\", \"positive\", \"proxy\", \"question\", \"real\", \"right\", \"right\", \"right\", \"savior\", \"says\", \"says\", \"school\", \"school\", \"season\", \"state\", \"state\", \"stop\", \"tax\", \"texas\", \"thing\", \"things\", \"things\", \"think\", \"thread\", \"time\", \"time\", \"today\", \"trump\", \"type\", \"want\", \"war\", \"way\", \"woman\", \"work\", \"work\", \"workers\", \"workers\", \"world\", \"year\", \"year\", \"years\", \"years\"]}, \"R\": 30, \"lambda.step\": 0.01, \"plot.opts\": {\"xlab\": \"PC1\", \"ylab\": \"PC2\"}, \"topic.order\": [4, 8, 10, 1, 9, 2, 3, 5, 7, 6]};\n\nfunction LDAvis_load_lib(url, callback){\n  var s = document.createElement('script');\n  s.src = url;\n  s.async = true;\n  s.onreadystatechange = s.onload = callback;\n  s.onerror = function(){console.warn(\"failed to load library \" + url);};\n  document.getElementsByTagName(\"head\")[0].appendChild(s);\n}\n\nif(typeof(LDAvis) !== \"undefined\"){\n   // already loaded: just create the visualization\n   !function(LDAvis){\n       new LDAvis(\"#\" + \"ldavis_el3611353860296483680811247\", ldavis_el3611353860296483680811247_data);\n   }(LDAvis);\n}else if(typeof define === \"function\" && define.amd){\n   // require.js is available: use it to load d3/LDAvis\n   require.config({paths: {d3: \"https://cdnjs.cloudflare.com/ajax/libs/d3/3.5.5/d3.min\"}});\n   require([\"d3\"], function(d3){\n      window.d3 = d3;\n      LDAvis_load_lib(\"https://cdn.rawgit.com/bmabey/pyLDAvis/files/ldavis.v1.0.0.js\", function(){\n        new LDAvis(\"#\" + \"ldavis_el3611353860296483680811247\", ldavis_el3611353860296483680811247_data);\n      });\n    });\n}else{\n    // require.js not available: dynamically load d3 & LDAvis\n    LDAvis_load_lib(\"https://cdnjs.cloudflare.com/ajax/libs/d3/3.5.5/d3.min.js\", function(){\n         LDAvis_load_lib(\"https://cdn.rawgit.com/bmabey/pyLDAvis/files/ldavis.v1.0.0.js\", function(){\n                 new LDAvis(\"#\" + \"ldavis_el3611353860296483680811247\", ldavis_el3611353860296483680811247_data);\n            })\n         });\n}\n</script>"
     },
     "metadata": {},
     "execution_count": 14
    }
   ],
   "source": [
    "pyLDAvis.enable_notebook()\n",
    "dash = pyLDAvis.sklearn.prepare(lda, data_vectorized, vectorizer, mds='tsne')\n",
    "dash"
   ]
  },
  {
   "cell_type": "markdown",
   "metadata": {},
   "source": [
    "## How to interpret this graph?\n",
    "1. Topics on the left while their respective keywords are on the right.\n",
    "2. Larger topics are more frequent and closer the topics, mor the similarity\n",
    "3. Selection of keywords is based on their frequency and discriminancy.\n",
    "\n",
    "**Hover over the topics on the left to get information about their keywords on the right.**"
   ]
  },
  {
   "cell_type": "markdown",
   "metadata": {},
   "source": [
    "# Visualizing LSI(SVD) scatterplot\n",
    "We will be visualizing our data for 2  topics to see similarity between keywords which is measured by distance with the markers using LSI model"
   ]
  },
  {
   "cell_type": "code",
   "execution_count": 15,
   "metadata": {},
   "outputs": [],
   "source": [
    "svd_2d = TruncatedSVD(n_components=2)\n",
    "data_2d = svd_2d.fit_transform(data_vectorized)"
   ]
  },
  {
   "cell_type": "code",
   "execution_count": 16,
   "metadata": {},
   "outputs": [
    {
     "output_type": "display_data",
     "data": {
      "application/vnd.plotly.v1+json": {
       "config": {
        "linkText": "Export to plot.ly",
        "plotlyServerURL": "https://plot.ly",
        "showLink": false
       },
       "data": [
        {
         "hoverinfo": "text",
         "hovertext": [
          "afford",
          "appeal",
          "apple",
          "area",
          "better",
          "big",
          "black",
          "body",
          "break",
          "buddha",
          "cases",
          "children",
          "china",
          "chinese",
          "come",
          "comet",
          "corona",
          "coronavirus",
          "covid",
          "covid-",
          "cut",
          "dad",
          "day",
          "end",
          "face",
          "feel",
          "free",
          "friends",
          "getting",
          "going",
          "good",
          "google",
          "got",
          "hair",
          "help",
          "home",
          "hope",
          "hours",
          "job",
          "know",
          "let",
          "life",
          "like",
          "live",
          "look",
          "looking",
          "man",
          "mask",
          "masks",
          "meme",
          "messiah",
          "ncov",
          "need",
          "neowise",
          "new",
          "old",
          "open",
          "pandemic",
          "people",
          "positive",
          "proxy",
          "question",
          "real",
          "right",
          "savior",
          "says",
          "school",
          "season",
          "state",
          "stop",
          "tax",
          "texas",
          "thing",
          "things",
          "think",
          "thread",
          "time",
          "today",
          "trump",
          "type",
          "want",
          "war",
          "way",
          "woman",
          "work",
          "workers",
          "world",
          "year",
          "years"
         ],
         "marker": {
          "color": "#FFBAD2",
          "line": {
           "width": 1
          }
         },
         "mode": "markers",
         "text": [
          "afford",
          "appeal",
          "apple",
          "area",
          "better",
          "big",
          "black",
          "body",
          "break",
          "buddha",
          "cases",
          "children",
          "china",
          "chinese",
          "come",
          "comet",
          "corona",
          "coronavirus",
          "covid",
          "covid-",
          "cut",
          "dad",
          "day",
          "end",
          "face",
          "feel",
          "free",
          "friends",
          "getting",
          "going",
          "good",
          "google",
          "got",
          "hair",
          "help",
          "home",
          "hope",
          "hours",
          "job",
          "know",
          "let",
          "life",
          "like",
          "live",
          "look",
          "looking",
          "man",
          "mask",
          "masks",
          "meme",
          "messiah",
          "ncov",
          "need",
          "neowise",
          "new",
          "old",
          "open",
          "pandemic",
          "people",
          "positive",
          "proxy",
          "question",
          "real",
          "right",
          "savior",
          "says",
          "school",
          "season",
          "state",
          "stop",
          "tax",
          "texas",
          "thing",
          "things",
          "think",
          "thread",
          "time",
          "today",
          "trump",
          "type",
          "want",
          "war",
          "way",
          "woman",
          "work",
          "workers",
          "world",
          "year",
          "years"
         ],
         "type": "scattergl",
         "x": [
          -6.393310743258223e-17,
          0.0027072244461840834,
          0.0021549002723013338,
          0.009550988816009631,
          2.1225742172910355e-17,
          1.739165217159449e-18,
          0.016371039539275333,
          2.1000356580082443e-19,
          0.02711850403392195,
          0.016605937935285864,
          -4.825212157244567e-19,
          0.0027661274792847184,
          0.00046574233411861304,
          0.06438801915588167,
          0.000037338268281301424,
          0,
          0.005530449014069866,
          0.00610244863456815,
          0,
          0,
          0.5033087541831234,
          0.002075913218856967,
          0.003644591394844272,
          0.0008438004601244978,
          0,
          0.00046574233411861304,
          0.0077317201464888905,
          0.009160341618420722,
          0,
          0,
          0.00046574233411861304,
          0.00046574233411861304,
          0.0009099247177388411,
          0.0052484861333238165,
          0.0028317170359756956,
          0.008845668786765775,
          0,
          0,
          0.010882586612006868,
          0.054180059376078865,
          0.013927029586392765,
          0,
          0.05139944039416204,
          0.32711752504442104,
          0,
          0,
          0.0009737154094682245,
          0,
          0.006013076679941682,
          0,
          0.45304750096409946,
          0.010964643066467683,
          0,
          0,
          0.003668902609417223,
          0.001867308092792105,
          0,
          0.006013076679941682,
          0,
          0.004645185027310589,
          0.000037338268281301424,
          0.002766127479284718,
          0,
          0,
          0,
          0,
          0,
          0.05000399537635935,
          0,
          0,
          0,
          0.01353919306843686,
          0.15062658606233545,
          0.0742610751754442,
          0.02628001134160351,
          0.002171197230174657,
          0.000003621796440738109,
          0,
          0.00265483086433133,
          0,
          0.0025202490820075674,
          0,
          0.003175506974197179,
          0.05030071067824406,
          0,
          0,
          0.0014016257280997924,
          0,
          0.0027770571996077595,
          0.02721846990413277,
          0,
          0.006013076679941682,
          0.00019854359218551655,
          0,
          0,
          0,
          0.008403677172677603,
          0,
          0,
          0.0031027209947146815,
          0,
          0,
          0,
          0.02711850403392195,
          0,
          0.4545668359680686,
          0.0234931092067176,
          0,
          0.006120822603957262,
          0.0016292715119207448,
          0,
          0.030805693773454015,
          0.04069995732749811,
          0.03181075072098245,
          0.43750990248017957,
          0.0009737154094682245,
          0.016674245814141415,
          0.01353919306843686,
          0.09000696500470286,
          0.015905375360491227,
          2.954501840520609,
          0.001705454896056043,
          0.002766127479284718,
          0,
          0,
          0.05677613563474428,
          0,
          0.003454535795212899,
          0,
          0,
          0.0007147863831060549,
          0.004682523295591889,
          0,
          0.0007147863831060549,
          0,
          0.000003621796440738109,
          0.002440186504392387,
          0.8146715377215877,
          0.01353919306843686,
          0.4352444171739004,
          0.025176848796322593,
          0.07039401235027883,
          0.07021833775908363,
          0.009034263527303433,
          0.02021434238272427,
          0.0026601097017523957,
          0.008843921972945193,
          0,
          0.0012544963232838274,
          0,
          0,
          0.4925285378691703,
          0.01677882795667465,
          0.0015963041340531215,
          0,
          0.01353919306843686,
          0,
          0.018612599806675234,
          0,
          0.021293983417473863,
          0,
          0.004645185027310589,
          0,
          0.054180059376078865,
          0.000003621796440738109,
          0,
          0,
          0,
          0.0057152257762801756,
          0,
          0.009689469246890278,
          0.055376530906027704,
          0,
          0,
          0,
          0,
          0.020863429874501075,
          0.0278901029452297,
          0,
          0.14249914666553237,
          0.000003621796440738109,
          0.06476778299400814,
          0.059580171196739216,
          0.025825413842883546,
          0,
          0.006596767232879713,
          0,
          0,
          0,
          0.0027770571996077595,
          0.021293983417473863,
          0.061754041014206756,
          0,
          0,
          0.05000399537635935,
          0.02711850403392195,
          0.008939761609026244,
          0.03754962497630241,
          0,
          0.016371039539275354,
          0.0028650335571783325,
          0.0009962433708677113,
          0.00026985497008888507,
          0.005646272505365127,
          0,
          0,
          0.0001721076098883002,
          0.0005599441278442014,
          0,
          0.010964643066467683,
          0.01041055818748457,
          0.00019854359218551655,
          0,
          0.05918710016512407,
          0,
          0.02500372905987931,
          0,
          0.01353919306843686,
          0.03345042257734268,
          0,
          0.005881012492582675,
          0.003013741979801429,
          0,
          0.03345042257734268,
          0.02021434238272427,
          0.02256491388613106,
          0.041945856787832185,
          0.13084813628451028,
          0.015905375360491227,
          0.00019854359218551655,
          0.3953324959081784,
          0,
          0.00265483086433133,
          0.03180893485608184,
          0.021293983417473863,
          0.01065826170725227,
          0,
          0.03459836616224659,
          0,
          0,
          0.03459836616224659,
          0.16476212423489472,
          0.01041055818748457,
          0.0014016257280997924,
          0.014951759735307239,
          0.03759351411368191,
          0,
          0.3953324959081784,
          0,
          0,
          0.06819627629114727,
          0.0026137532050126205,
          0.3596399326009282,
          0.03689077824099886,
          0.0012943517485369932,
          0.024344157580835288,
          0.010964643066467683,
          0,
          0.01353919306843686,
          0.05000399537635935,
          0,
          0.0034636122268452284,
          0,
          0.015905375360491227,
          0,
          0.009286282477953746,
          0.003175506974197179,
          0.00026985497008888507,
          0.031763689061232545,
          0.21254851126488375,
          0.00610244863456815,
          0.0001721076098883002,
          0.012117999513929445,
          0,
          0,
          0,
          0,
          0,
          0.01353919306843686,
          0,
          0.00027482289378327654,
          0.00027482289378327654,
          0.006377271528351424,
          0.0001721076098883002,
          0,
          0.0026601097017523957,
          0.012353663522886856,
          0.006935919080585531,
          0.08775171233995928,
          0,
          0,
          0,
          0.008403677172677603,
          0.4662174657282056,
          0.01326669499775658,
          0,
          0.14334721424264538,
          0.0015963041340531215,
          0,
          0,
          0,
          0.0027072244461840054,
          0.004645185027310589,
          0.12953700508852625,
          0,
          0.020825691531101625,
          0.009034263527303433,
          0,
          0.00610244863456815,
          0,
          0,
          0,
          0.006013076679941682,
          0,
          0.018170860666770292,
          0,
          0,
          0.0062878995737249595,
          0,
          0,
          0,
          0,
          0.018170860666770292,
          0,
          0.08354169532486828,
          0.05959158806842946,
          0.0020725984753641015,
          0.07311142710290672,
          0,
          0,
          0,
          0.008845668786765775,
          0,
          0,
          0.06549183954801524,
          0.023605882691139217,
          0,
          0.09476484324031462,
          0,
          0.0026601097017523957,
          0.061754041014206756,
          0,
          0.03490231948803564,
          0.000037338268281301424,
          0,
          0.4650847653538296,
          0.0641364938031347,
          0.015954838062679978,
          0.05000399537635935,
          0.0064452118646691,
          0,
          0.002493282049578561,
          0,
          0.3953324959081784,
          0.0015963041340531215,
          0.019825575334488258,
          0,
          0,
          0.043868591402147473,
          0.008939761609026244,
          0,
          0,
          0.02203257076320195,
          0.4533047588067638,
          0.009286282477953746,
          0.00026985497008888507,
          0.000037338268281301424,
          0.09443158990996818,
          0,
          2.954501840520609,
          0,
          0,
          0.005544279875195411,
          2.954501840520609,
          0.0094837717961966,
          0.002350571503406796,
          0.029023352574551405,
          0.00019854359218551655,
          0.03019133148333915,
          0,
          0.009160341618420722,
          0.00610244863456815,
          0,
          0,
          0,
          0.010964643066467683,
          0.009160341618420722,
          0.000009022041003905025,
          0.03272805039366344,
          0.007731776992969927,
          0,
          0,
          0.012912706921441773,
          0.03312704930416603,
          0,
          0.03407623602726152,
          0.02576306297365086,
          0.003013741979801429,
          0.018170860666770292,
          0.018170860666770292,
          0,
          0.03407623602726152,
          0,
          0,
          0.018170860666770292,
          0.0106773101765877,
          0.000009022041003905025,
          0,
          0.0003878365179559015,
          0,
          0,
          0,
          0.018170860666770292,
          0,
          0,
          0.002493282049578561,
          0,
          0,
          0,
          2.954501840520609,
          0,
          0,
          0.018170860666770292,
          0.018170860666770292,
          0,
          0,
          0.003454535795212899,
          0,
          0,
          0,
          0.0027072244461840054,
          0,
          0.0037507726090759835,
          0,
          0.011530060858050988,
          0,
          0.002493282049578561,
          0,
          0,
          0,
          0.061754041014206756,
          0,
          0.018170860666770292,
          0,
          0,
          0.008717890211700129,
          0.0002710039587389851,
          0.000009022041003905025,
          0.01041055818748457,
          0.006116204276157576,
          0.001705454896056043,
          0,
          0.0015963041340531215,
          0.05554827525155477,
          0.0009099247177388411,
          0,
          0.0044708099308136615,
          0,
          0,
          0.0026601097017523957,
          0.000003621796440738109,
          0.06452746099898424,
          0,
          0,
          0,
          0,
          0,
          0,
          0,
          0.031034185813508176,
          0.0036171491639228463,
          0,
          0,
          0,
          0.022008769800579923,
          0.00391007642471563,
          0,
          0,
          0.06385209383063091,
          0.0740219550291984,
          0.028751990697842338,
          0,
          0.42660648397016393,
          0,
          0.016605937935285867,
          0,
          0.42805693202510947,
          0.015905375360491227,
          0,
          0,
          0,
          0.000009022041003905025,
          0,
          0,
          0.005881012492582675,
          0.003175506974197179,
          0.005040508092554717,
          0.000009022041003905025,
          0,
          0,
          0.10686074395927954,
          0.0012943517485369932,
          0.001705454896056043,
          0,
          0,
          0.016605937935285867,
          0.00610244863456815,
          0,
          0,
          0,
          0,
          0.0317251043598543,
          0.05235456687976613,
          0,
          0,
          0.02711850403392195,
          0,
          0.0018182283804776711,
          0.000009022041003905025,
          0.006013076679941682,
          0.3953324959081784,
          0,
          0,
          0,
          0.009940849087080789,
          0,
          0,
          0,
          0,
          0.0027072244461840054,
          0,
          0,
          0,
          0.029950221069897656,
          0.03073538749431004,
          0.0012943517485369932,
          0,
          0,
          0.05000399537635935,
          0.00610244863456815,
          0.004645185027310589,
          0.0027072244461840054,
          0.01677882795667465,
          0.0433523238277623,
          0,
          0.004170891779895104,
          2.954501840520609,
          0,
          0.005881012492582675,
          0,
          0.016815300078230073,
          0.000003621796440738109,
          0.8146715377215877,
          0,
          0,
          0,
          0.02549296805256133,
          0,
          0.0031027209947146815,
          0,
          0,
          0.011899297084481767,
          0.00026985497008888507,
          0.11175803639056615,
          0,
          0.0003878365179559015,
          0,
          0,
          0,
          0.002493282049578561,
          0.01438402377952231,
          0.43030368487987697,
          0,
          0.0026601097017523957,
          0.00391007642471563,
          0.035166102118031506,
          0.000009022041003905025,
          0.3953324959081784,
          0,
          0.01677882795667465,
          0.000009022041003905025,
          0,
          0.00046574233411861304,
          0,
          0.015905375360491227,
          0,
          0.02318550067940164,
          0,
          0,
          0,
          0,
          0,
          0.004126068784512691,
          0.061754041014206756,
          0,
          0.05000399537635935,
          0,
          0,
          0,
          0,
          0,
          0,
          0.008939761609026244,
          0.025439624817922297,
          0,
          0,
          0,
          0.014951759735307239,
          2.954501840520609,
          0,
          0.008939761609026244,
          0.006013076679941682,
          0.03640478651187572,
          0,
          0.009587592692070105,
          0.009587592692070105,
          0,
          0.0015963041340531215,
          0.41712015021884,
          0.018899164478853512,
          0,
          0,
          0.0027072244461840054,
          0,
          0.009286282477953746,
          0.006013076679941682,
          0.0065480825626296315,
          0,
          0.026073489599401856,
          0,
          0.00327133690873575,
          0.07959299744480286,
          0,
          0,
          0.03075709346422533,
          0.0036681546650613405,
          0,
          0,
          0,
          0.009034263527303433,
          0.022936028349865176,
          0.02021434238272427,
          0,
          0,
          0.01353919306843686,
          0,
          0,
          0,
          0.025610021442559517,
          0.004170891779895104,
          0.016032475118015425,
          0.029950221069897656,
          0,
          0,
          0.06495906687808883,
          0,
          0.4161959257826796,
          0,
          0.054180059376078865,
          0,
          0.004170891779895104,
          0,
          0,
          0,
          0,
          0,
          0,
          0,
          0,
          0,
          0.021787654310661552,
          0.0027770571996077595,
          0,
          0,
          0,
          0,
          0,
          0,
          0,
          0,
          0,
          0,
          0,
          0,
          0.3953324959081784,
          0
         ],
         "y": [
          -3.313913825928736e-16,
          0.03167188069001773,
          0.0074071091442020395,
          0.10806037802186133,
          8.532798120700847e-18,
          1.9504089921794636e-18,
          0.0885546437451291,
          1.4903749896313448e-18,
          0.31889086488342,
          0.022905425775321512,
          -4.317765359553855e-19,
          0.010606623830120617,
          0.001998791379399715,
          0.3017111649235982,
          0.0010506693589596116,
          0,
          0.07004994543281669,
          0.04868741058781516,
          0,
          0,
          0.26893537118151756,
          0.02504650057557281,
          0.033215540697036854,
          0.005480142488473095,
          0,
          0.001998791379399715,
          0.06570365953194415,
          0.01017588942571663,
          0,
          0,
          0.001998791379399715,
          0.001998791379399715,
          0.009393442984841068,
          0.03978143941893478,
          0.025287025599775945,
          0.004387557676276955,
          0,
          0,
          0.11880041457626951,
          0.0796484851710997,
          0.15774288558907545,
          0,
          0.4801279746271106,
          -0.012533836584067027,
          0,
          0,
          0.011256822869054533,
          0,
          0.08121764631784321,
          0,
          0.04827623068462802,
          0.03510748400135528,
          0,
          0,
          0.02613156861382403,
          0.015596221801633559,
          0,
          0.08121764631784321,
          0,
          0.05074231455968239,
          0.0010506693589596116,
          0.010606623830120615,
          0,
          0,
          0,
          0,
          0,
          0.2515140107366406,
          0,
          0,
          0,
          0.15317226437220263,
          1.8426018376098312,
          0.9201274374633683,
          0.3035378363272127,
          0.025082522888165672,
          0.000001022779914471258,
          0,
          0.02024328196751557,
          0,
          0.02161347881354641,
          0,
          0.024789467243850203,
          0.42373430929302724,
          0,
          0,
          0.0128723458230316,
          0,
          0.032630428569076074,
          0.17769889165977396,
          0,
          0.08121764631784321,
          0.0002674219361232249,
          0,
          0,
          0,
          0.07761536416797331,
          0,
          0,
          0.02744495992290616,
          0,
          0,
          0,
          0.31889086488342,
          0,
          0.012555610765763479,
          0.16019728385533372,
          0,
          0.06843786479655062,
          0.017016248944129023,
          0,
          0.24096112654812024,
          0.11969527968030269,
          0.10699322020583663,
          0.023004171584540996,
          0.011256822869054533,
          0.05128538810626111,
          0.15317226437220263,
          0.921293656164487,
          0.05349661010291831,
          -0.3051080458741577,
          0.023083731508765956,
          0.010606623830120615,
          0,
          0,
          0.6760460764946933,
          0,
          0.04500344485724389,
          0,
          0,
          0.009750895342950313,
          0.05179298391864201,
          0,
          0.009750895342950313,
          0,
          0.000001022779914471258,
          0.03206922166803643,
          -0.05852847627048079,
          0.15317226437220263,
          0.03467992998667463,
          0.0838644802196285,
          0.8427227923947491,
          0.29492445534661954,
          0.0017947580084728067,
          0.043410444609979074,
          0.027864762211620354,
          0.09794960346557109,
          0,
          0.010620130270286927,
          0,
          0,
          0.38770438793522094,
          0.04310538061409725,
          0.013438287478503346,
          0,
          0.15317226437220263,
          0,
          0.08516849079293573,
          0,
          0.25500935250794016,
          0,
          0.05074231455968239,
          0,
          0.0796484851710997,
          0.000001022779914471258,
          0,
          0,
          0,
          0.05064056102850489,
          0,
          0.009867700164750047,
          0.13427375351057314,
          0,
          0,
          0,
          0,
          0.05097631842170445,
          0.1858009629343829,
          0,
          1.7462619671482413,
          0.000001022779914471258,
          0.7943372738279582,
          0.39156483856906926,
          0.02660836210353706,
          0,
          0.07268668622864384,
          0,
          0,
          0,
          0.032630428569076074,
          0.25500935250794016,
          0.7618554863632054,
          0,
          0,
          0.2515140107366406,
          0.31889086488342,
          0.10486086333594273,
          0.45211631540800995,
          0,
          0.0885546437451291,
          0.02407040000613335,
          0.003063837830658848,
          0.00043461746366830697,
          0.056473114115877764,
          0,
          0,
          0.0016013751038842488,
          0.006171996320757064,
          0,
          0.03510748400135528,
          0.016001515390426838,
          0.0002674219361232249,
          0,
          0.4400926502006587,
          0,
          0.16286706173758725,
          0,
          0.15317226437220263,
          0.261639491931964,
          0,
          0.04117546292396757,
          0.03248178746475308,
          0,
          0.261639491931964,
          0.043410444609979074,
          0.06433865739546896,
          0.3704836086783111,
          0.3372942729106505,
          0.05349661010291831,
          0.0002674219361232249,
          -0.039711796154237124,
          0,
          0.02024328196751557,
          0.16851458991343737,
          0.25500935250794016,
          0.13195996087752557,
          0,
          0.0936075987969366,
          0,
          0,
          0.0936075987969366,
          1.662512221017642,
          0.016001515390426838,
          0.0128723458230316,
          0.13659296349949188,
          0.4097875515310038,
          0,
          -0.039711796154237124,
          0,
          0,
          0.4132776279151036,
          0.022367027429545522,
          3.778795380258757,
          0.41636701835591416,
          0.006508287221153268,
          0.15935032862836726,
          0.03510748400135528,
          0,
          0.15317226437220263,
          0.2515140107366406,
          0,
          0.0290345092801369,
          0,
          0.05349661010291831,
          0,
          0.10536212709776617,
          0.024789467243850203,
          0.00043461746366830697,
          0.3696331794431023,
          2.477582257977868,
          0.04868741058781516,
          0.0016013751038842488,
          0.13064915269754213,
          0,
          0,
          0,
          0,
          0,
          0.15317226437220263,
          0,
          0.0032609905020417104,
          0.0032609905020417104,
          0.05194840108985685,
          0.0016013751038842488,
          0,
          0.027864762211620354,
          0.1481869078730337,
          0.06354822054839136,
          0.9422808876360179,
          0,
          0,
          0,
          0.07761536416797331,
          0.03072554149664549,
          0.03386771919530946,
          0,
          1.2459919185826431,
          0.013438287478503346,
          0,
          0,
          0,
          0.03167188069001744,
          0.05074231455968239,
          0.633269666094301,
          0,
          0.062064133668300235,
          0.0017947580084728067,
          0,
          0.04868741058781516,
          0,
          0,
          0,
          0.08121764631784321,
          0,
          0.04182085170078468,
          0,
          0,
          0.0844786368198849,
          0,
          0,
          0,
          0,
          0.04182085170078468,
          0,
          0.898969038709773,
          0.2581861178348534,
          0.01269328113532069,
          0.3936792761676085,
          0,
          0,
          0,
          0.004387557676276955,
          0,
          0,
          0.4153524734041018,
          0.1449735567693309,
          0,
          1.154356130776164,
          0,
          0.027864762211620354,
          0.7618554863632054,
          0,
          0.2924983492198428,
          0.0010506693589596116,
          0,
          0.12332429766458111,
          0.7192983547440162,
          0.07690908404815025,
          0.2515140107366406,
          0.06657617695757227,
          0,
          0.024123557397122748,
          0,
          -0.039711796154237124,
          0.013438287478503346,
          0.133558088602373,
          0,
          0,
          0.20690277024201562,
          0.10486086333594273,
          0,
          0,
          0.05127044903274228,
          0.017421360444876948,
          0.10536212709776617,
          0.00043461746366830697,
          0.0010506693589596116,
          0.4653930801369708,
          0,
          -0.3051080458741577,
          0,
          0,
          0.060907568657723385,
          -0.3051080458741577,
          0.08634744852001716,
          0.02092821278548988,
          0.05147561413202069,
          0.0002674219361232249,
          0.214728916514541,
          0,
          0.01017588942571663,
          0.04868741058781516,
          0,
          0,
          0,
          0.03510748400135528,
          0.01017588942571663,
          0.000020413885512590072,
          0.20684161504630388,
          0.07474379512055482,
          0,
          0,
          0.01330418105176853,
          0.0567146256617476,
          0,
          0.09531746180370297,
          0.28995401786091796,
          0.03248178746475308,
          0.04182085170078468,
          0.04182085170078468,
          0,
          0.09531746180370297,
          0,
          0,
          0.04182085170078468,
          0.012775620873760444,
          0.000020413885512590072,
          0,
          0.004570621216872817,
          0,
          0,
          0,
          0.04182085170078468,
          0,
          0,
          0.024123557397122748,
          0,
          0,
          0,
          -0.3051080458741577,
          0,
          0,
          0.04182085170078468,
          0.04182085170078468,
          0,
          0,
          0.04500344485724389,
          0,
          0,
          0,
          0.03167188069001744,
          0,
          0.0438872514381306,
          0,
          0.030138166788017704,
          0,
          0.024123557397122748,
          0,
          0,
          0,
          0.7618554863632054,
          0,
          0.04182085170078468,
          0,
          0,
          0.004719822830029663,
          0.002157934323130211,
          0.000020413885512590072,
          0.016001515390426838,
          0.06701550147201411,
          0.023083731508765956,
          0,
          0.013438287478503346,
          0.31242157939436394,
          0.009393442984841068,
          0,
          0.038214597426829644,
          0,
          0,
          0.027864762211620354,
          0.000001022779914471258,
          0.7435531170326144,
          0,
          0,
          0,
          0,
          0,
          0,
          0,
          0.3580641707031745,
          0.041065323674858496,
          0,
          0,
          0,
          0.2647602478508905,
          0.027968366194663204,
          0,
          0,
          0.38147720659535717,
          0.41719447404648047,
          0.3233803948242998,
          0,
          0.027266037657894197,
          0,
          0.02290542577532151,
          0,
          -0.01409685728621401,
          0.05349661010291831,
          0,
          0,
          0,
          0.000020413885512590072,
          0,
          0,
          0.04117546292396757,
          0.024789467243850203,
          0.04936272277967234,
          0.000020413885512590072,
          0,
          0,
          1.0699428582303085,
          0.006508287221153268,
          0.023083731508765956,
          0,
          0,
          0.02290542577532151,
          0.04868741058781516,
          0,
          0,
          0,
          0,
          0.38823480303253,
          0.2724422235221305,
          0,
          0,
          0.31889086488342,
          0,
          0.007860004422763217,
          0.000020413885512590072,
          0.08121764631784321,
          -0.039711796154237124,
          0,
          0,
          0,
          0.11059166289213809,
          0,
          0,
          0,
          0,
          0.03167188069001744,
          0,
          0,
          0,
          0.344177890483196,
          0.22878776251714827,
          0.006508287221153268,
          0,
          0,
          0.2515140107366406,
          0.04868741058781516,
          0.05074231455968239,
          0.03167188069001744,
          0.04310538061409725,
          0.2067336375321341,
          0,
          0.045922640678566266,
          -0.3051080458741577,
          0,
          0.04117546292396757,
          0,
          0.06289005308775938,
          0.000001022779914471258,
          -0.05852847627048079,
          0,
          0,
          0,
          0.06016871720113115,
          0,
          0.02744495992290616,
          0,
          0,
          0.02586515801460616,
          0.00043461746366830697,
          1.0133694970998464,
          0,
          0.004570621216872817,
          0,
          0,
          0,
          0.024123557397122748,
          0.05019715418695754,
          0.016290803885111598,
          0,
          0.027864762211620354,
          0.027968366194663204,
          0.18000340810947094,
          0.000020413885512590072,
          -0.039711796154237124,
          0,
          0.04310538061409725,
          0.000020413885512590072,
          0,
          0.001998791379399715,
          0,
          0.05349661010291831,
          0,
          0.15500705731482406,
          0,
          0,
          0,
          0,
          0,
          0.031795312820929206,
          0.7618554863632054,
          0,
          0.2515140107366406,
          0,
          0,
          0,
          0,
          0,
          0,
          0.10486086333594273,
          0.31016230568474257,
          0,
          0,
          0,
          0.13659296349949188,
          -0.3051080458741577,
          0,
          0.10486086333594273,
          0.08121764631784321,
          0.4242529919811862,
          0,
          0.006672107098212858,
          0.006672107098212858,
          0,
          0.013438287478503346,
          0.0974017561923306,
          0.21366547427483532,
          0,
          0,
          0.03167188069001744,
          0,
          0.10536212709776617,
          0.08121764631784321,
          0.058977599331518554,
          0,
          0.06556600279776416,
          0,
          0.031064276897538906,
          0.5202732268743265,
          0,
          0,
          0.15448075296359434,
          0.033945748388496205,
          0,
          0,
          0,
          0.0017947580084728067,
          0.06366959955702513,
          0.043410444609979074,
          0,
          0,
          0.15317226437220263,
          0,
          0,
          0,
          0.26855292437701755,
          0.045922640678566266,
          0.17729582176932543,
          0.344177890483196,
          0,
          0,
          0.4057891624753796,
          0,
          0.011264522267467339,
          0,
          0.0796484851710997,
          0,
          0.045922640678566266,
          0,
          0,
          0,
          0,
          0,
          0,
          0,
          0,
          0,
          0.13711355234656777,
          0.032630428569076074,
          0,
          0,
          0,
          0,
          0,
          0,
          0,
          0,
          0,
          0,
          0,
          0,
          -0.039711796154237124,
          0
         ]
        }
       ],
       "layout": {
        "template": {
         "data": {
          "bar": [
           {
            "error_x": {
             "color": "#2a3f5f"
            },
            "error_y": {
             "color": "#2a3f5f"
            },
            "marker": {
             "line": {
              "color": "#E5ECF6",
              "width": 0.5
             }
            },
            "type": "bar"
           }
          ],
          "barpolar": [
           {
            "marker": {
             "line": {
              "color": "#E5ECF6",
              "width": 0.5
             }
            },
            "type": "barpolar"
           }
          ],
          "carpet": [
           {
            "aaxis": {
             "endlinecolor": "#2a3f5f",
             "gridcolor": "white",
             "linecolor": "white",
             "minorgridcolor": "white",
             "startlinecolor": "#2a3f5f"
            },
            "baxis": {
             "endlinecolor": "#2a3f5f",
             "gridcolor": "white",
             "linecolor": "white",
             "minorgridcolor": "white",
             "startlinecolor": "#2a3f5f"
            },
            "type": "carpet"
           }
          ],
          "choropleth": [
           {
            "colorbar": {
             "outlinewidth": 0,
             "ticks": ""
            },
            "type": "choropleth"
           }
          ],
          "contour": [
           {
            "colorbar": {
             "outlinewidth": 0,
             "ticks": ""
            },
            "colorscale": [
             [
              0,
              "#0d0887"
             ],
             [
              0.1111111111111111,
              "#46039f"
             ],
             [
              0.2222222222222222,
              "#7201a8"
             ],
             [
              0.3333333333333333,
              "#9c179e"
             ],
             [
              0.4444444444444444,
              "#bd3786"
             ],
             [
              0.5555555555555556,
              "#d8576b"
             ],
             [
              0.6666666666666666,
              "#ed7953"
             ],
             [
              0.7777777777777778,
              "#fb9f3a"
             ],
             [
              0.8888888888888888,
              "#fdca26"
             ],
             [
              1,
              "#f0f921"
             ]
            ],
            "type": "contour"
           }
          ],
          "contourcarpet": [
           {
            "colorbar": {
             "outlinewidth": 0,
             "ticks": ""
            },
            "type": "contourcarpet"
           }
          ],
          "heatmap": [
           {
            "colorbar": {
             "outlinewidth": 0,
             "ticks": ""
            },
            "colorscale": [
             [
              0,
              "#0d0887"
             ],
             [
              0.1111111111111111,
              "#46039f"
             ],
             [
              0.2222222222222222,
              "#7201a8"
             ],
             [
              0.3333333333333333,
              "#9c179e"
             ],
             [
              0.4444444444444444,
              "#bd3786"
             ],
             [
              0.5555555555555556,
              "#d8576b"
             ],
             [
              0.6666666666666666,
              "#ed7953"
             ],
             [
              0.7777777777777778,
              "#fb9f3a"
             ],
             [
              0.8888888888888888,
              "#fdca26"
             ],
             [
              1,
              "#f0f921"
             ]
            ],
            "type": "heatmap"
           }
          ],
          "heatmapgl": [
           {
            "colorbar": {
             "outlinewidth": 0,
             "ticks": ""
            },
            "colorscale": [
             [
              0,
              "#0d0887"
             ],
             [
              0.1111111111111111,
              "#46039f"
             ],
             [
              0.2222222222222222,
              "#7201a8"
             ],
             [
              0.3333333333333333,
              "#9c179e"
             ],
             [
              0.4444444444444444,
              "#bd3786"
             ],
             [
              0.5555555555555556,
              "#d8576b"
             ],
             [
              0.6666666666666666,
              "#ed7953"
             ],
             [
              0.7777777777777778,
              "#fb9f3a"
             ],
             [
              0.8888888888888888,
              "#fdca26"
             ],
             [
              1,
              "#f0f921"
             ]
            ],
            "type": "heatmapgl"
           }
          ],
          "histogram": [
           {
            "marker": {
             "colorbar": {
              "outlinewidth": 0,
              "ticks": ""
             }
            },
            "type": "histogram"
           }
          ],
          "histogram2d": [
           {
            "colorbar": {
             "outlinewidth": 0,
             "ticks": ""
            },
            "colorscale": [
             [
              0,
              "#0d0887"
             ],
             [
              0.1111111111111111,
              "#46039f"
             ],
             [
              0.2222222222222222,
              "#7201a8"
             ],
             [
              0.3333333333333333,
              "#9c179e"
             ],
             [
              0.4444444444444444,
              "#bd3786"
             ],
             [
              0.5555555555555556,
              "#d8576b"
             ],
             [
              0.6666666666666666,
              "#ed7953"
             ],
             [
              0.7777777777777778,
              "#fb9f3a"
             ],
             [
              0.8888888888888888,
              "#fdca26"
             ],
             [
              1,
              "#f0f921"
             ]
            ],
            "type": "histogram2d"
           }
          ],
          "histogram2dcontour": [
           {
            "colorbar": {
             "outlinewidth": 0,
             "ticks": ""
            },
            "colorscale": [
             [
              0,
              "#0d0887"
             ],
             [
              0.1111111111111111,
              "#46039f"
             ],
             [
              0.2222222222222222,
              "#7201a8"
             ],
             [
              0.3333333333333333,
              "#9c179e"
             ],
             [
              0.4444444444444444,
              "#bd3786"
             ],
             [
              0.5555555555555556,
              "#d8576b"
             ],
             [
              0.6666666666666666,
              "#ed7953"
             ],
             [
              0.7777777777777778,
              "#fb9f3a"
             ],
             [
              0.8888888888888888,
              "#fdca26"
             ],
             [
              1,
              "#f0f921"
             ]
            ],
            "type": "histogram2dcontour"
           }
          ],
          "mesh3d": [
           {
            "colorbar": {
             "outlinewidth": 0,
             "ticks": ""
            },
            "type": "mesh3d"
           }
          ],
          "parcoords": [
           {
            "line": {
             "colorbar": {
              "outlinewidth": 0,
              "ticks": ""
             }
            },
            "type": "parcoords"
           }
          ],
          "pie": [
           {
            "automargin": true,
            "type": "pie"
           }
          ],
          "scatter": [
           {
            "marker": {
             "colorbar": {
              "outlinewidth": 0,
              "ticks": ""
             }
            },
            "type": "scatter"
           }
          ],
          "scatter3d": [
           {
            "line": {
             "colorbar": {
              "outlinewidth": 0,
              "ticks": ""
             }
            },
            "marker": {
             "colorbar": {
              "outlinewidth": 0,
              "ticks": ""
             }
            },
            "type": "scatter3d"
           }
          ],
          "scattercarpet": [
           {
            "marker": {
             "colorbar": {
              "outlinewidth": 0,
              "ticks": ""
             }
            },
            "type": "scattercarpet"
           }
          ],
          "scattergeo": [
           {
            "marker": {
             "colorbar": {
              "outlinewidth": 0,
              "ticks": ""
             }
            },
            "type": "scattergeo"
           }
          ],
          "scattergl": [
           {
            "marker": {
             "colorbar": {
              "outlinewidth": 0,
              "ticks": ""
             }
            },
            "type": "scattergl"
           }
          ],
          "scattermapbox": [
           {
            "marker": {
             "colorbar": {
              "outlinewidth": 0,
              "ticks": ""
             }
            },
            "type": "scattermapbox"
           }
          ],
          "scatterpolar": [
           {
            "marker": {
             "colorbar": {
              "outlinewidth": 0,
              "ticks": ""
             }
            },
            "type": "scatterpolar"
           }
          ],
          "scatterpolargl": [
           {
            "marker": {
             "colorbar": {
              "outlinewidth": 0,
              "ticks": ""
             }
            },
            "type": "scatterpolargl"
           }
          ],
          "scatterternary": [
           {
            "marker": {
             "colorbar": {
              "outlinewidth": 0,
              "ticks": ""
             }
            },
            "type": "scatterternary"
           }
          ],
          "surface": [
           {
            "colorbar": {
             "outlinewidth": 0,
             "ticks": ""
            },
            "colorscale": [
             [
              0,
              "#0d0887"
             ],
             [
              0.1111111111111111,
              "#46039f"
             ],
             [
              0.2222222222222222,
              "#7201a8"
             ],
             [
              0.3333333333333333,
              "#9c179e"
             ],
             [
              0.4444444444444444,
              "#bd3786"
             ],
             [
              0.5555555555555556,
              "#d8576b"
             ],
             [
              0.6666666666666666,
              "#ed7953"
             ],
             [
              0.7777777777777778,
              "#fb9f3a"
             ],
             [
              0.8888888888888888,
              "#fdca26"
             ],
             [
              1,
              "#f0f921"
             ]
            ],
            "type": "surface"
           }
          ],
          "table": [
           {
            "cells": {
             "fill": {
              "color": "#EBF0F8"
             },
             "line": {
              "color": "white"
             }
            },
            "header": {
             "fill": {
              "color": "#C8D4E3"
             },
             "line": {
              "color": "white"
             }
            },
            "type": "table"
           }
          ]
         },
         "layout": {
          "annotationdefaults": {
           "arrowcolor": "#2a3f5f",
           "arrowhead": 0,
           "arrowwidth": 1
          },
          "coloraxis": {
           "colorbar": {
            "outlinewidth": 0,
            "ticks": ""
           }
          },
          "colorscale": {
           "diverging": [
            [
             0,
             "#8e0152"
            ],
            [
             0.1,
             "#c51b7d"
            ],
            [
             0.2,
             "#de77ae"
            ],
            [
             0.3,
             "#f1b6da"
            ],
            [
             0.4,
             "#fde0ef"
            ],
            [
             0.5,
             "#f7f7f7"
            ],
            [
             0.6,
             "#e6f5d0"
            ],
            [
             0.7,
             "#b8e186"
            ],
            [
             0.8,
             "#7fbc41"
            ],
            [
             0.9,
             "#4d9221"
            ],
            [
             1,
             "#276419"
            ]
           ],
           "sequential": [
            [
             0,
             "#0d0887"
            ],
            [
             0.1111111111111111,
             "#46039f"
            ],
            [
             0.2222222222222222,
             "#7201a8"
            ],
            [
             0.3333333333333333,
             "#9c179e"
            ],
            [
             0.4444444444444444,
             "#bd3786"
            ],
            [
             0.5555555555555556,
             "#d8576b"
            ],
            [
             0.6666666666666666,
             "#ed7953"
            ],
            [
             0.7777777777777778,
             "#fb9f3a"
            ],
            [
             0.8888888888888888,
             "#fdca26"
            ],
            [
             1,
             "#f0f921"
            ]
           ],
           "sequentialminus": [
            [
             0,
             "#0d0887"
            ],
            [
             0.1111111111111111,
             "#46039f"
            ],
            [
             0.2222222222222222,
             "#7201a8"
            ],
            [
             0.3333333333333333,
             "#9c179e"
            ],
            [
             0.4444444444444444,
             "#bd3786"
            ],
            [
             0.5555555555555556,
             "#d8576b"
            ],
            [
             0.6666666666666666,
             "#ed7953"
            ],
            [
             0.7777777777777778,
             "#fb9f3a"
            ],
            [
             0.8888888888888888,
             "#fdca26"
            ],
            [
             1,
             "#f0f921"
            ]
           ]
          },
          "colorway": [
           "#636efa",
           "#EF553B",
           "#00cc96",
           "#ab63fa",
           "#FFA15A",
           "#19d3f3",
           "#FF6692",
           "#B6E880",
           "#FF97FF",
           "#FECB52"
          ],
          "font": {
           "color": "#2a3f5f"
          },
          "geo": {
           "bgcolor": "white",
           "lakecolor": "white",
           "landcolor": "#E5ECF6",
           "showlakes": true,
           "showland": true,
           "subunitcolor": "white"
          },
          "hoverlabel": {
           "align": "left"
          },
          "hovermode": "closest",
          "mapbox": {
           "style": "light"
          },
          "paper_bgcolor": "white",
          "plot_bgcolor": "#E5ECF6",
          "polar": {
           "angularaxis": {
            "gridcolor": "white",
            "linecolor": "white",
            "ticks": ""
           },
           "bgcolor": "#E5ECF6",
           "radialaxis": {
            "gridcolor": "white",
            "linecolor": "white",
            "ticks": ""
           }
          },
          "scene": {
           "xaxis": {
            "backgroundcolor": "#E5ECF6",
            "gridcolor": "white",
            "gridwidth": 2,
            "linecolor": "white",
            "showbackground": true,
            "ticks": "",
            "zerolinecolor": "white"
           },
           "yaxis": {
            "backgroundcolor": "#E5ECF6",
            "gridcolor": "white",
            "gridwidth": 2,
            "linecolor": "white",
            "showbackground": true,
            "ticks": "",
            "zerolinecolor": "white"
           },
           "zaxis": {
            "backgroundcolor": "#E5ECF6",
            "gridcolor": "white",
            "gridwidth": 2,
            "linecolor": "white",
            "showbackground": true,
            "ticks": "",
            "zerolinecolor": "white"
           }
          },
          "shapedefaults": {
           "line": {
            "color": "#2a3f5f"
           }
          },
          "ternary": {
           "aaxis": {
            "gridcolor": "white",
            "linecolor": "white",
            "ticks": ""
           },
           "baxis": {
            "gridcolor": "white",
            "linecolor": "white",
            "ticks": ""
           },
           "bgcolor": "#E5ECF6",
           "caxis": {
            "gridcolor": "white",
            "linecolor": "white",
            "ticks": ""
           }
          },
          "title": {
           "x": 0.05
          },
          "xaxis": {
           "automargin": true,
           "gridcolor": "white",
           "linecolor": "white",
           "ticks": "",
           "title": {
            "standoff": 15
           },
           "zerolinecolor": "white",
           "zerolinewidth": 2
          },
          "yaxis": {
           "automargin": true,
           "gridcolor": "white",
           "linecolor": "white",
           "ticks": "",
           "title": {
            "standoff": 15
           },
           "zerolinecolor": "white",
           "zerolinewidth": 2
          }
         }
        }
       }
      },
      "text/html": "<div>\n        \n        \n            <div id=\"f9468625-b286-47b0-a938-7a71675cceb1\" class=\"plotly-graph-div\" style=\"height:525px; width:100%;\"></div>\n            <script type=\"text/javascript\">\n                require([\"plotly\"], function(Plotly) {\n                    window.PLOTLYENV=window.PLOTLYENV || {};\n                    \n                if (document.getElementById(\"f9468625-b286-47b0-a938-7a71675cceb1\")) {\n                    Plotly.newPlot(\n                        'f9468625-b286-47b0-a938-7a71675cceb1',\n                        [{\"hoverinfo\": \"text\", \"hovertext\": [\"afford\", \"appeal\", \"apple\", \"area\", \"better\", \"big\", \"black\", \"body\", \"break\", \"buddha\", \"cases\", \"children\", \"china\", \"chinese\", \"come\", \"comet\", \"corona\", \"coronavirus\", \"covid\", \"covid-\", \"cut\", \"dad\", \"day\", \"end\", \"face\", \"feel\", \"free\", \"friends\", \"getting\", \"going\", \"good\", \"google\", \"got\", \"hair\", \"help\", \"home\", \"hope\", \"hours\", \"job\", \"know\", \"let\", \"life\", \"like\", \"live\", \"look\", \"looking\", \"man\", \"mask\", \"masks\", \"meme\", \"messiah\", \"ncov\", \"need\", \"neowise\", \"new\", \"old\", \"open\", \"pandemic\", \"people\", \"positive\", \"proxy\", \"question\", \"real\", \"right\", \"savior\", \"says\", \"school\", \"season\", \"state\", \"stop\", \"tax\", \"texas\", \"thing\", \"things\", \"think\", \"thread\", \"time\", \"today\", \"trump\", \"type\", \"want\", \"war\", \"way\", \"woman\", \"work\", \"workers\", \"world\", \"year\", \"years\"], \"marker\": {\"color\": \"#FFBAD2\", \"line\": {\"width\": 1}}, \"mode\": \"markers\", \"text\": [\"afford\", \"appeal\", \"apple\", \"area\", \"better\", \"big\", \"black\", \"body\", \"break\", \"buddha\", \"cases\", \"children\", \"china\", \"chinese\", \"come\", \"comet\", \"corona\", \"coronavirus\", \"covid\", \"covid-\", \"cut\", \"dad\", \"day\", \"end\", \"face\", \"feel\", \"free\", \"friends\", \"getting\", \"going\", \"good\", \"google\", \"got\", \"hair\", \"help\", \"home\", \"hope\", \"hours\", \"job\", \"know\", \"let\", \"life\", \"like\", \"live\", \"look\", \"looking\", \"man\", \"mask\", \"masks\", \"meme\", \"messiah\", \"ncov\", \"need\", \"neowise\", \"new\", \"old\", \"open\", \"pandemic\", \"people\", \"positive\", \"proxy\", \"question\", \"real\", \"right\", \"savior\", \"says\", \"school\", \"season\", \"state\", \"stop\", \"tax\", \"texas\", \"thing\", \"things\", \"think\", \"thread\", \"time\", \"today\", \"trump\", \"type\", \"want\", \"war\", \"way\", \"woman\", \"work\", \"workers\", \"world\", \"year\", \"years\"], \"type\": \"scattergl\", \"x\": [-6.393310743258223e-17, 0.0027072244461840834, 0.0021549002723013338, 0.009550988816009631, 2.1225742172910355e-17, 1.739165217159449e-18, 0.016371039539275333, 2.1000356580082443e-19, 0.02711850403392195, 0.016605937935285864, -4.825212157244567e-19, 0.0027661274792847184, 0.00046574233411861304, 0.06438801915588167, 3.7338268281301424e-05, 0.0, 0.005530449014069866, 0.00610244863456815, 0.0, 0.0, 0.5033087541831234, 0.002075913218856967, 0.003644591394844272, 0.0008438004601244978, 0.0, 0.00046574233411861304, 0.0077317201464888905, 0.009160341618420722, 0.0, 0.0, 0.00046574233411861304, 0.00046574233411861304, 0.0009099247177388411, 0.0052484861333238165, 0.0028317170359756956, 0.008845668786765775, 0.0, 0.0, 0.010882586612006868, 0.054180059376078865, 0.013927029586392765, 0.0, 0.05139944039416204, 0.32711752504442104, 0.0, 0.0, 0.0009737154094682245, 0.0, 0.006013076679941682, 0.0, 0.45304750096409946, 0.010964643066467683, 0.0, 0.0, 0.003668902609417223, 0.001867308092792105, 0.0, 0.006013076679941682, 0.0, 0.004645185027310589, 3.7338268281301424e-05, 0.002766127479284718, 0.0, 0.0, 0.0, 0.0, 0.0, 0.05000399537635935, 0.0, 0.0, 0.0, 0.01353919306843686, 0.15062658606233545, 0.0742610751754442, 0.02628001134160351, 0.002171197230174657, 3.621796440738109e-06, 0.0, 0.00265483086433133, 0.0, 0.0025202490820075674, 0.0, 0.003175506974197179, 0.05030071067824406, 0.0, 0.0, 0.0014016257280997924, 0.0, 0.0027770571996077595, 0.02721846990413277, 0.0, 0.006013076679941682, 0.00019854359218551655, 0.0, 0.0, 0.0, 0.008403677172677603, 0.0, 0.0, 0.0031027209947146815, 0.0, 0.0, 0.0, 0.02711850403392195, 0.0, 0.4545668359680686, 0.0234931092067176, 0.0, 0.006120822603957262, 0.0016292715119207448, 0.0, 0.030805693773454015, 0.04069995732749811, 0.03181075072098245, 0.43750990248017957, 0.0009737154094682245, 0.016674245814141415, 0.01353919306843686, 0.09000696500470286, 0.015905375360491227, 2.954501840520609, 0.001705454896056043, 0.002766127479284718, 0.0, 0.0, 0.05677613563474428, 0.0, 0.003454535795212899, 0.0, 0.0, 0.0007147863831060549, 0.004682523295591889, 0.0, 0.0007147863831060549, 0.0, 3.621796440738109e-06, 0.002440186504392387, 0.8146715377215877, 0.01353919306843686, 0.4352444171739004, 0.025176848796322593, 0.07039401235027883, 0.07021833775908363, 0.009034263527303433, 0.02021434238272427, 0.0026601097017523957, 0.008843921972945193, 0.0, 0.0012544963232838274, 0.0, 0.0, 0.4925285378691703, 0.01677882795667465, 0.0015963041340531215, 0.0, 0.01353919306843686, 0.0, 0.018612599806675234, 0.0, 0.021293983417473863, 0.0, 0.004645185027310589, 0.0, 0.054180059376078865, 3.621796440738109e-06, 0.0, 0.0, 0.0, 0.0057152257762801756, 0.0, 0.009689469246890278, 0.055376530906027704, 0.0, 0.0, 0.0, 0.0, 0.020863429874501075, 0.0278901029452297, 0.0, 0.14249914666553237, 3.621796440738109e-06, 0.06476778299400814, 0.059580171196739216, 0.025825413842883546, 0.0, 0.006596767232879713, 0.0, 0.0, 0.0, 0.0027770571996077595, 0.021293983417473863, 0.061754041014206756, 0.0, 0.0, 0.05000399537635935, 0.02711850403392195, 0.008939761609026244, 0.03754962497630241, 0.0, 0.016371039539275354, 0.0028650335571783325, 0.0009962433708677113, 0.00026985497008888507, 0.005646272505365127, 0.0, 0.0, 0.0001721076098883002, 0.0005599441278442014, 0.0, 0.010964643066467683, 0.01041055818748457, 0.00019854359218551655, 0.0, 0.05918710016512407, 0.0, 0.02500372905987931, 0.0, 0.01353919306843686, 0.03345042257734268, 0.0, 0.005881012492582675, 0.003013741979801429, 0.0, 0.03345042257734268, 0.02021434238272427, 0.02256491388613106, 0.041945856787832185, 0.13084813628451028, 0.015905375360491227, 0.00019854359218551655, 0.3953324959081784, 0.0, 0.00265483086433133, 0.03180893485608184, 0.021293983417473863, 0.01065826170725227, 0.0, 0.03459836616224659, 0.0, 0.0, 0.03459836616224659, 0.16476212423489472, 0.01041055818748457, 0.0014016257280997924, 0.014951759735307239, 0.03759351411368191, 0.0, 0.3953324959081784, 0.0, 0.0, 0.06819627629114727, 0.0026137532050126205, 0.3596399326009282, 0.03689077824099886, 0.0012943517485369932, 0.024344157580835288, 0.010964643066467683, 0.0, 0.01353919306843686, 0.05000399537635935, 0.0, 0.0034636122268452284, 0.0, 0.015905375360491227, 0.0, 0.009286282477953746, 0.003175506974197179, 0.00026985497008888507, 0.031763689061232545, 0.21254851126488375, 0.00610244863456815, 0.0001721076098883002, 0.012117999513929445, 0.0, 0.0, 0.0, 0.0, 0.0, 0.01353919306843686, 0.0, 0.00027482289378327654, 0.00027482289378327654, 0.006377271528351424, 0.0001721076098883002, 0.0, 0.0026601097017523957, 0.012353663522886856, 0.006935919080585531, 0.08775171233995928, 0.0, 0.0, 0.0, 0.008403677172677603, 0.4662174657282056, 0.01326669499775658, 0.0, 0.14334721424264538, 0.0015963041340531215, 0.0, 0.0, 0.0, 0.0027072244461840054, 0.004645185027310589, 0.12953700508852625, 0.0, 0.020825691531101625, 0.009034263527303433, 0.0, 0.00610244863456815, 0.0, 0.0, 0.0, 0.006013076679941682, 0.0, 0.018170860666770292, 0.0, 0.0, 0.0062878995737249595, 0.0, 0.0, 0.0, 0.0, 0.018170860666770292, 0.0, 0.08354169532486828, 0.05959158806842946, 0.0020725984753641015, 0.07311142710290672, 0.0, 0.0, 0.0, 0.008845668786765775, 0.0, 0.0, 0.06549183954801524, 0.023605882691139217, 0.0, 0.09476484324031462, 0.0, 0.0026601097017523957, 0.061754041014206756, 0.0, 0.03490231948803564, 3.7338268281301424e-05, 0.0, 0.4650847653538296, 0.0641364938031347, 0.015954838062679978, 0.05000399537635935, 0.0064452118646691, 0.0, 0.002493282049578561, 0.0, 0.3953324959081784, 0.0015963041340531215, 0.019825575334488258, 0.0, 0.0, 0.043868591402147473, 0.008939761609026244, 0.0, 0.0, 0.02203257076320195, 0.4533047588067638, 0.009286282477953746, 0.00026985497008888507, 3.7338268281301424e-05, 0.09443158990996818, 0.0, 2.954501840520609, 0.0, 0.0, 0.005544279875195411, 2.954501840520609, 0.0094837717961966, 0.002350571503406796, 0.029023352574551405, 0.00019854359218551655, 0.03019133148333915, 0.0, 0.009160341618420722, 0.00610244863456815, 0.0, 0.0, 0.0, 0.010964643066467683, 0.009160341618420722, 9.022041003905025e-06, 0.03272805039366344, 0.007731776992969927, 0.0, 0.0, 0.012912706921441773, 0.03312704930416603, 0.0, 0.03407623602726152, 0.02576306297365086, 0.003013741979801429, 0.018170860666770292, 0.018170860666770292, 0.0, 0.03407623602726152, 0.0, 0.0, 0.018170860666770292, 0.0106773101765877, 9.022041003905025e-06, 0.0, 0.0003878365179559015, 0.0, 0.0, 0.0, 0.018170860666770292, 0.0, 0.0, 0.002493282049578561, 0.0, 0.0, 0.0, 2.954501840520609, 0.0, 0.0, 0.018170860666770292, 0.018170860666770292, 0.0, 0.0, 0.003454535795212899, 0.0, 0.0, 0.0, 0.0027072244461840054, 0.0, 0.0037507726090759835, 0.0, 0.011530060858050988, 0.0, 0.002493282049578561, 0.0, 0.0, 0.0, 0.061754041014206756, 0.0, 0.018170860666770292, 0.0, 0.0, 0.008717890211700129, 0.0002710039587389851, 9.022041003905025e-06, 0.01041055818748457, 0.006116204276157576, 0.001705454896056043, 0.0, 0.0015963041340531215, 0.05554827525155477, 0.0009099247177388411, 0.0, 0.0044708099308136615, 0.0, 0.0, 0.0026601097017523957, 3.621796440738109e-06, 0.06452746099898424, 0.0, 0.0, 0.0, 0.0, 0.0, 0.0, 0.0, 0.031034185813508176, 0.0036171491639228463, 0.0, 0.0, 0.0, 0.022008769800579923, 0.00391007642471563, 0.0, 0.0, 0.06385209383063091, 0.0740219550291984, 0.028751990697842338, 0.0, 0.42660648397016393, 0.0, 0.016605937935285867, 0.0, 0.42805693202510947, 0.015905375360491227, 0.0, 0.0, 0.0, 9.022041003905025e-06, 0.0, 0.0, 0.005881012492582675, 0.003175506974197179, 0.005040508092554717, 9.022041003905025e-06, 0.0, 0.0, 0.10686074395927954, 0.0012943517485369932, 0.001705454896056043, 0.0, 0.0, 0.016605937935285867, 0.00610244863456815, 0.0, 0.0, 0.0, 0.0, 0.0317251043598543, 0.05235456687976613, 0.0, 0.0, 0.02711850403392195, 0.0, 0.0018182283804776711, 9.022041003905025e-06, 0.006013076679941682, 0.3953324959081784, 0.0, 0.0, 0.0, 0.009940849087080789, 0.0, 0.0, 0.0, 0.0, 0.0027072244461840054, 0.0, 0.0, 0.0, 0.029950221069897656, 0.03073538749431004, 0.0012943517485369932, 0.0, 0.0, 0.05000399537635935, 0.00610244863456815, 0.004645185027310589, 0.0027072244461840054, 0.01677882795667465, 0.0433523238277623, 0.0, 0.004170891779895104, 2.954501840520609, 0.0, 0.005881012492582675, 0.0, 0.016815300078230073, 3.621796440738109e-06, 0.8146715377215877, 0.0, 0.0, 0.0, 0.02549296805256133, 0.0, 0.0031027209947146815, 0.0, 0.0, 0.011899297084481767, 0.00026985497008888507, 0.11175803639056615, 0.0, 0.0003878365179559015, 0.0, 0.0, 0.0, 0.002493282049578561, 0.01438402377952231, 0.43030368487987697, 0.0, 0.0026601097017523957, 0.00391007642471563, 0.035166102118031506, 9.022041003905025e-06, 0.3953324959081784, 0.0, 0.01677882795667465, 9.022041003905025e-06, 0.0, 0.00046574233411861304, 0.0, 0.015905375360491227, 0.0, 0.02318550067940164, 0.0, 0.0, 0.0, 0.0, 0.0, 0.004126068784512691, 0.061754041014206756, 0.0, 0.05000399537635935, 0.0, 0.0, 0.0, 0.0, 0.0, 0.0, 0.008939761609026244, 0.025439624817922297, 0.0, 0.0, 0.0, 0.014951759735307239, 2.954501840520609, 0.0, 0.008939761609026244, 0.006013076679941682, 0.03640478651187572, 0.0, 0.009587592692070105, 0.009587592692070105, 0.0, 0.0015963041340531215, 0.41712015021884, 0.018899164478853512, 0.0, 0.0, 0.0027072244461840054, 0.0, 0.009286282477953746, 0.006013076679941682, 0.0065480825626296315, 0.0, 0.026073489599401856, 0.0, 0.00327133690873575, 0.07959299744480286, 0.0, 0.0, 0.03075709346422533, 0.0036681546650613405, 0.0, 0.0, 0.0, 0.009034263527303433, 0.022936028349865176, 0.02021434238272427, 0.0, 0.0, 0.01353919306843686, 0.0, 0.0, 0.0, 0.025610021442559517, 0.004170891779895104, 0.016032475118015425, 0.029950221069897656, 0.0, 0.0, 0.06495906687808883, 0.0, 0.4161959257826796, 0.0, 0.054180059376078865, 0.0, 0.004170891779895104, 0.0, 0.0, 0.0, 0.0, 0.0, 0.0, 0.0, 0.0, 0.0, 0.021787654310661552, 0.0027770571996077595, 0.0, 0.0, 0.0, 0.0, 0.0, 0.0, 0.0, 0.0, 0.0, 0.0, 0.0, 0.0, 0.3953324959081784, 0.0], \"y\": [-3.313913825928736e-16, 0.03167188069001773, 0.0074071091442020395, 0.10806037802186133, 8.532798120700847e-18, 1.9504089921794636e-18, 0.0885546437451291, 1.4903749896313448e-18, 0.31889086488342, 0.022905425775321512, -4.317765359553855e-19, 0.010606623830120617, 0.001998791379399715, 0.3017111649235982, 0.0010506693589596116, 0.0, 0.07004994543281669, 0.04868741058781516, 0.0, 0.0, 0.26893537118151756, 0.02504650057557281, 0.033215540697036854, 0.005480142488473095, 0.0, 0.001998791379399715, 0.06570365953194415, 0.01017588942571663, 0.0, 0.0, 0.001998791379399715, 0.001998791379399715, 0.009393442984841068, 0.03978143941893478, 0.025287025599775945, 0.004387557676276955, 0.0, 0.0, 0.11880041457626951, 0.0796484851710997, 0.15774288558907545, 0.0, 0.4801279746271106, -0.012533836584067027, 0.0, 0.0, 0.011256822869054533, 0.0, 0.08121764631784321, 0.0, 0.04827623068462802, 0.03510748400135528, 0.0, 0.0, 0.02613156861382403, 0.015596221801633559, 0.0, 0.08121764631784321, 0.0, 0.05074231455968239, 0.0010506693589596116, 0.010606623830120615, 0.0, 0.0, 0.0, 0.0, 0.0, 0.2515140107366406, 0.0, 0.0, 0.0, 0.15317226437220263, 1.8426018376098312, 0.9201274374633683, 0.3035378363272127, 0.025082522888165672, 1.022779914471258e-06, 0.0, 0.02024328196751557, 0.0, 0.02161347881354641, 0.0, 0.024789467243850203, 0.42373430929302724, 0.0, 0.0, 0.0128723458230316, 0.0, 0.032630428569076074, 0.17769889165977396, 0.0, 0.08121764631784321, 0.0002674219361232249, 0.0, 0.0, 0.0, 0.07761536416797331, 0.0, 0.0, 0.02744495992290616, 0.0, 0.0, 0.0, 0.31889086488342, 0.0, 0.012555610765763479, 0.16019728385533372, 0.0, 0.06843786479655062, 0.017016248944129023, 0.0, 0.24096112654812024, 0.11969527968030269, 0.10699322020583663, 0.023004171584540996, 0.011256822869054533, 0.05128538810626111, 0.15317226437220263, 0.921293656164487, 0.05349661010291831, -0.3051080458741577, 0.023083731508765956, 0.010606623830120615, 0.0, 0.0, 0.6760460764946933, 0.0, 0.04500344485724389, 0.0, 0.0, 0.009750895342950313, 0.05179298391864201, 0.0, 0.009750895342950313, 0.0, 1.022779914471258e-06, 0.03206922166803643, -0.05852847627048079, 0.15317226437220263, 0.03467992998667463, 0.0838644802196285, 0.8427227923947491, 0.29492445534661954, 0.0017947580084728067, 0.043410444609979074, 0.027864762211620354, 0.09794960346557109, 0.0, 0.010620130270286927, 0.0, 0.0, 0.38770438793522094, 0.04310538061409725, 0.013438287478503346, 0.0, 0.15317226437220263, 0.0, 0.08516849079293573, 0.0, 0.25500935250794016, 0.0, 0.05074231455968239, 0.0, 0.0796484851710997, 1.022779914471258e-06, 0.0, 0.0, 0.0, 0.05064056102850489, 0.0, 0.009867700164750047, 0.13427375351057314, 0.0, 0.0, 0.0, 0.0, 0.05097631842170445, 0.1858009629343829, 0.0, 1.7462619671482413, 1.022779914471258e-06, 0.7943372738279582, 0.39156483856906926, 0.02660836210353706, 0.0, 0.07268668622864384, 0.0, 0.0, 0.0, 0.032630428569076074, 0.25500935250794016, 0.7618554863632054, 0.0, 0.0, 0.2515140107366406, 0.31889086488342, 0.10486086333594273, 0.45211631540800995, 0.0, 0.0885546437451291, 0.02407040000613335, 0.003063837830658848, 0.00043461746366830697, 0.056473114115877764, 0.0, 0.0, 0.0016013751038842488, 0.006171996320757064, 0.0, 0.03510748400135528, 0.016001515390426838, 0.0002674219361232249, 0.0, 0.4400926502006587, 0.0, 0.16286706173758725, 0.0, 0.15317226437220263, 0.261639491931964, 0.0, 0.04117546292396757, 0.03248178746475308, 0.0, 0.261639491931964, 0.043410444609979074, 0.06433865739546896, 0.3704836086783111, 0.3372942729106505, 0.05349661010291831, 0.0002674219361232249, -0.039711796154237124, 0.0, 0.02024328196751557, 0.16851458991343737, 0.25500935250794016, 0.13195996087752557, 0.0, 0.0936075987969366, 0.0, 0.0, 0.0936075987969366, 1.662512221017642, 0.016001515390426838, 0.0128723458230316, 0.13659296349949188, 0.4097875515310038, 0.0, -0.039711796154237124, 0.0, 0.0, 0.4132776279151036, 0.022367027429545522, 3.778795380258757, 0.41636701835591416, 0.006508287221153268, 0.15935032862836726, 0.03510748400135528, 0.0, 0.15317226437220263, 0.2515140107366406, 0.0, 0.0290345092801369, 0.0, 0.05349661010291831, 0.0, 0.10536212709776617, 0.024789467243850203, 0.00043461746366830697, 0.3696331794431023, 2.477582257977868, 0.04868741058781516, 0.0016013751038842488, 0.13064915269754213, 0.0, 0.0, 0.0, 0.0, 0.0, 0.15317226437220263, 0.0, 0.0032609905020417104, 0.0032609905020417104, 0.05194840108985685, 0.0016013751038842488, 0.0, 0.027864762211620354, 0.1481869078730337, 0.06354822054839136, 0.9422808876360179, 0.0, 0.0, 0.0, 0.07761536416797331, 0.03072554149664549, 0.03386771919530946, 0.0, 1.2459919185826431, 0.013438287478503346, 0.0, 0.0, 0.0, 0.03167188069001744, 0.05074231455968239, 0.633269666094301, 0.0, 0.062064133668300235, 0.0017947580084728067, 0.0, 0.04868741058781516, 0.0, 0.0, 0.0, 0.08121764631784321, 0.0, 0.04182085170078468, 0.0, 0.0, 0.0844786368198849, 0.0, 0.0, 0.0, 0.0, 0.04182085170078468, 0.0, 0.898969038709773, 0.2581861178348534, 0.01269328113532069, 0.3936792761676085, 0.0, 0.0, 0.0, 0.004387557676276955, 0.0, 0.0, 0.4153524734041018, 0.1449735567693309, 0.0, 1.154356130776164, 0.0, 0.027864762211620354, 0.7618554863632054, 0.0, 0.2924983492198428, 0.0010506693589596116, 0.0, 0.12332429766458111, 0.7192983547440162, 0.07690908404815025, 0.2515140107366406, 0.06657617695757227, 0.0, 0.024123557397122748, 0.0, -0.039711796154237124, 0.013438287478503346, 0.133558088602373, 0.0, 0.0, 0.20690277024201562, 0.10486086333594273, 0.0, 0.0, 0.05127044903274228, 0.017421360444876948, 0.10536212709776617, 0.00043461746366830697, 0.0010506693589596116, 0.4653930801369708, 0.0, -0.3051080458741577, 0.0, 0.0, 0.060907568657723385, -0.3051080458741577, 0.08634744852001716, 0.02092821278548988, 0.05147561413202069, 0.0002674219361232249, 0.214728916514541, 0.0, 0.01017588942571663, 0.04868741058781516, 0.0, 0.0, 0.0, 0.03510748400135528, 0.01017588942571663, 2.0413885512590072e-05, 0.20684161504630388, 0.07474379512055482, 0.0, 0.0, 0.01330418105176853, 0.0567146256617476, 0.0, 0.09531746180370297, 0.28995401786091796, 0.03248178746475308, 0.04182085170078468, 0.04182085170078468, 0.0, 0.09531746180370297, 0.0, 0.0, 0.04182085170078468, 0.012775620873760444, 2.0413885512590072e-05, 0.0, 0.004570621216872817, 0.0, 0.0, 0.0, 0.04182085170078468, 0.0, 0.0, 0.024123557397122748, 0.0, 0.0, 0.0, -0.3051080458741577, 0.0, 0.0, 0.04182085170078468, 0.04182085170078468, 0.0, 0.0, 0.04500344485724389, 0.0, 0.0, 0.0, 0.03167188069001744, 0.0, 0.0438872514381306, 0.0, 0.030138166788017704, 0.0, 0.024123557397122748, 0.0, 0.0, 0.0, 0.7618554863632054, 0.0, 0.04182085170078468, 0.0, 0.0, 0.004719822830029663, 0.002157934323130211, 2.0413885512590072e-05, 0.016001515390426838, 0.06701550147201411, 0.023083731508765956, 0.0, 0.013438287478503346, 0.31242157939436394, 0.009393442984841068, 0.0, 0.038214597426829644, 0.0, 0.0, 0.027864762211620354, 1.022779914471258e-06, 0.7435531170326144, 0.0, 0.0, 0.0, 0.0, 0.0, 0.0, 0.0, 0.3580641707031745, 0.041065323674858496, 0.0, 0.0, 0.0, 0.2647602478508905, 0.027968366194663204, 0.0, 0.0, 0.38147720659535717, 0.41719447404648047, 0.3233803948242998, 0.0, 0.027266037657894197, 0.0, 0.02290542577532151, 0.0, -0.01409685728621401, 0.05349661010291831, 0.0, 0.0, 0.0, 2.0413885512590072e-05, 0.0, 0.0, 0.04117546292396757, 0.024789467243850203, 0.04936272277967234, 2.0413885512590072e-05, 0.0, 0.0, 1.0699428582303085, 0.006508287221153268, 0.023083731508765956, 0.0, 0.0, 0.02290542577532151, 0.04868741058781516, 0.0, 0.0, 0.0, 0.0, 0.38823480303253, 0.2724422235221305, 0.0, 0.0, 0.31889086488342, 0.0, 0.007860004422763217, 2.0413885512590072e-05, 0.08121764631784321, -0.039711796154237124, 0.0, 0.0, 0.0, 0.11059166289213809, 0.0, 0.0, 0.0, 0.0, 0.03167188069001744, 0.0, 0.0, 0.0, 0.344177890483196, 0.22878776251714827, 0.006508287221153268, 0.0, 0.0, 0.2515140107366406, 0.04868741058781516, 0.05074231455968239, 0.03167188069001744, 0.04310538061409725, 0.2067336375321341, 0.0, 0.045922640678566266, -0.3051080458741577, 0.0, 0.04117546292396757, 0.0, 0.06289005308775938, 1.022779914471258e-06, -0.05852847627048079, 0.0, 0.0, 0.0, 0.06016871720113115, 0.0, 0.02744495992290616, 0.0, 0.0, 0.02586515801460616, 0.00043461746366830697, 1.0133694970998464, 0.0, 0.004570621216872817, 0.0, 0.0, 0.0, 0.024123557397122748, 0.05019715418695754, 0.016290803885111598, 0.0, 0.027864762211620354, 0.027968366194663204, 0.18000340810947094, 2.0413885512590072e-05, -0.039711796154237124, 0.0, 0.04310538061409725, 2.0413885512590072e-05, 0.0, 0.001998791379399715, 0.0, 0.05349661010291831, 0.0, 0.15500705731482406, 0.0, 0.0, 0.0, 0.0, 0.0, 0.031795312820929206, 0.7618554863632054, 0.0, 0.2515140107366406, 0.0, 0.0, 0.0, 0.0, 0.0, 0.0, 0.10486086333594273, 0.31016230568474257, 0.0, 0.0, 0.0, 0.13659296349949188, -0.3051080458741577, 0.0, 0.10486086333594273, 0.08121764631784321, 0.4242529919811862, 0.0, 0.006672107098212858, 0.006672107098212858, 0.0, 0.013438287478503346, 0.0974017561923306, 0.21366547427483532, 0.0, 0.0, 0.03167188069001744, 0.0, 0.10536212709776617, 0.08121764631784321, 0.058977599331518554, 0.0, 0.06556600279776416, 0.0, 0.031064276897538906, 0.5202732268743265, 0.0, 0.0, 0.15448075296359434, 0.033945748388496205, 0.0, 0.0, 0.0, 0.0017947580084728067, 0.06366959955702513, 0.043410444609979074, 0.0, 0.0, 0.15317226437220263, 0.0, 0.0, 0.0, 0.26855292437701755, 0.045922640678566266, 0.17729582176932543, 0.344177890483196, 0.0, 0.0, 0.4057891624753796, 0.0, 0.011264522267467339, 0.0, 0.0796484851710997, 0.0, 0.045922640678566266, 0.0, 0.0, 0.0, 0.0, 0.0, 0.0, 0.0, 0.0, 0.0, 0.13711355234656777, 0.032630428569076074, 0.0, 0.0, 0.0, 0.0, 0.0, 0.0, 0.0, 0.0, 0.0, 0.0, 0.0, 0.0, -0.039711796154237124, 0.0]}],\n                        {\"template\": {\"data\": {\"bar\": [{\"error_x\": {\"color\": \"#2a3f5f\"}, \"error_y\": {\"color\": \"#2a3f5f\"}, \"marker\": {\"line\": {\"color\": \"#E5ECF6\", \"width\": 0.5}}, \"type\": \"bar\"}], \"barpolar\": [{\"marker\": {\"line\": {\"color\": \"#E5ECF6\", \"width\": 0.5}}, \"type\": \"barpolar\"}], \"carpet\": [{\"aaxis\": {\"endlinecolor\": \"#2a3f5f\", \"gridcolor\": \"white\", \"linecolor\": \"white\", \"minorgridcolor\": \"white\", \"startlinecolor\": \"#2a3f5f\"}, \"baxis\": {\"endlinecolor\": \"#2a3f5f\", \"gridcolor\": \"white\", \"linecolor\": \"white\", \"minorgridcolor\": \"white\", \"startlinecolor\": \"#2a3f5f\"}, \"type\": \"carpet\"}], \"choropleth\": [{\"colorbar\": {\"outlinewidth\": 0, \"ticks\": \"\"}, \"type\": \"choropleth\"}], \"contour\": [{\"colorbar\": {\"outlinewidth\": 0, \"ticks\": \"\"}, \"colorscale\": [[0.0, \"#0d0887\"], [0.1111111111111111, \"#46039f\"], [0.2222222222222222, \"#7201a8\"], [0.3333333333333333, \"#9c179e\"], [0.4444444444444444, \"#bd3786\"], [0.5555555555555556, \"#d8576b\"], [0.6666666666666666, \"#ed7953\"], [0.7777777777777778, \"#fb9f3a\"], [0.8888888888888888, \"#fdca26\"], [1.0, \"#f0f921\"]], \"type\": \"contour\"}], \"contourcarpet\": [{\"colorbar\": {\"outlinewidth\": 0, \"ticks\": \"\"}, \"type\": \"contourcarpet\"}], \"heatmap\": [{\"colorbar\": {\"outlinewidth\": 0, \"ticks\": \"\"}, \"colorscale\": [[0.0, \"#0d0887\"], [0.1111111111111111, \"#46039f\"], [0.2222222222222222, \"#7201a8\"], [0.3333333333333333, \"#9c179e\"], [0.4444444444444444, \"#bd3786\"], [0.5555555555555556, \"#d8576b\"], [0.6666666666666666, \"#ed7953\"], [0.7777777777777778, \"#fb9f3a\"], [0.8888888888888888, \"#fdca26\"], [1.0, \"#f0f921\"]], \"type\": \"heatmap\"}], \"heatmapgl\": [{\"colorbar\": {\"outlinewidth\": 0, \"ticks\": \"\"}, \"colorscale\": [[0.0, \"#0d0887\"], [0.1111111111111111, \"#46039f\"], [0.2222222222222222, \"#7201a8\"], [0.3333333333333333, \"#9c179e\"], [0.4444444444444444, \"#bd3786\"], [0.5555555555555556, \"#d8576b\"], [0.6666666666666666, \"#ed7953\"], [0.7777777777777778, \"#fb9f3a\"], [0.8888888888888888, \"#fdca26\"], [1.0, \"#f0f921\"]], \"type\": \"heatmapgl\"}], \"histogram\": [{\"marker\": {\"colorbar\": {\"outlinewidth\": 0, \"ticks\": \"\"}}, \"type\": \"histogram\"}], \"histogram2d\": [{\"colorbar\": {\"outlinewidth\": 0, \"ticks\": \"\"}, \"colorscale\": [[0.0, \"#0d0887\"], [0.1111111111111111, \"#46039f\"], [0.2222222222222222, \"#7201a8\"], [0.3333333333333333, \"#9c179e\"], [0.4444444444444444, \"#bd3786\"], [0.5555555555555556, \"#d8576b\"], [0.6666666666666666, \"#ed7953\"], [0.7777777777777778, \"#fb9f3a\"], [0.8888888888888888, \"#fdca26\"], [1.0, \"#f0f921\"]], \"type\": \"histogram2d\"}], \"histogram2dcontour\": [{\"colorbar\": {\"outlinewidth\": 0, \"ticks\": \"\"}, \"colorscale\": [[0.0, \"#0d0887\"], [0.1111111111111111, \"#46039f\"], [0.2222222222222222, \"#7201a8\"], [0.3333333333333333, \"#9c179e\"], [0.4444444444444444, \"#bd3786\"], [0.5555555555555556, \"#d8576b\"], [0.6666666666666666, \"#ed7953\"], [0.7777777777777778, \"#fb9f3a\"], [0.8888888888888888, \"#fdca26\"], [1.0, \"#f0f921\"]], \"type\": \"histogram2dcontour\"}], \"mesh3d\": [{\"colorbar\": {\"outlinewidth\": 0, \"ticks\": \"\"}, \"type\": \"mesh3d\"}], \"parcoords\": [{\"line\": {\"colorbar\": {\"outlinewidth\": 0, \"ticks\": \"\"}}, \"type\": \"parcoords\"}], \"pie\": [{\"automargin\": true, \"type\": \"pie\"}], \"scatter\": [{\"marker\": {\"colorbar\": {\"outlinewidth\": 0, \"ticks\": \"\"}}, \"type\": \"scatter\"}], \"scatter3d\": [{\"line\": {\"colorbar\": {\"outlinewidth\": 0, \"ticks\": \"\"}}, \"marker\": {\"colorbar\": {\"outlinewidth\": 0, \"ticks\": \"\"}}, \"type\": \"scatter3d\"}], \"scattercarpet\": [{\"marker\": {\"colorbar\": {\"outlinewidth\": 0, \"ticks\": \"\"}}, \"type\": \"scattercarpet\"}], \"scattergeo\": [{\"marker\": {\"colorbar\": {\"outlinewidth\": 0, \"ticks\": \"\"}}, \"type\": \"scattergeo\"}], \"scattergl\": [{\"marker\": {\"colorbar\": {\"outlinewidth\": 0, \"ticks\": \"\"}}, \"type\": \"scattergl\"}], \"scattermapbox\": [{\"marker\": {\"colorbar\": {\"outlinewidth\": 0, \"ticks\": \"\"}}, \"type\": \"scattermapbox\"}], \"scatterpolar\": [{\"marker\": {\"colorbar\": {\"outlinewidth\": 0, \"ticks\": \"\"}}, \"type\": \"scatterpolar\"}], \"scatterpolargl\": [{\"marker\": {\"colorbar\": {\"outlinewidth\": 0, \"ticks\": \"\"}}, \"type\": \"scatterpolargl\"}], \"scatterternary\": [{\"marker\": {\"colorbar\": {\"outlinewidth\": 0, \"ticks\": \"\"}}, \"type\": \"scatterternary\"}], \"surface\": [{\"colorbar\": {\"outlinewidth\": 0, \"ticks\": \"\"}, \"colorscale\": [[0.0, \"#0d0887\"], [0.1111111111111111, \"#46039f\"], [0.2222222222222222, \"#7201a8\"], [0.3333333333333333, \"#9c179e\"], [0.4444444444444444, \"#bd3786\"], [0.5555555555555556, \"#d8576b\"], [0.6666666666666666, \"#ed7953\"], [0.7777777777777778, \"#fb9f3a\"], [0.8888888888888888, \"#fdca26\"], [1.0, \"#f0f921\"]], \"type\": \"surface\"}], \"table\": [{\"cells\": {\"fill\": {\"color\": \"#EBF0F8\"}, \"line\": {\"color\": \"white\"}}, \"header\": {\"fill\": {\"color\": \"#C8D4E3\"}, \"line\": {\"color\": \"white\"}}, \"type\": \"table\"}]}, \"layout\": {\"annotationdefaults\": {\"arrowcolor\": \"#2a3f5f\", \"arrowhead\": 0, \"arrowwidth\": 1}, \"coloraxis\": {\"colorbar\": {\"outlinewidth\": 0, \"ticks\": \"\"}}, \"colorscale\": {\"diverging\": [[0, \"#8e0152\"], [0.1, \"#c51b7d\"], [0.2, \"#de77ae\"], [0.3, \"#f1b6da\"], [0.4, \"#fde0ef\"], [0.5, \"#f7f7f7\"], [0.6, \"#e6f5d0\"], [0.7, \"#b8e186\"], [0.8, \"#7fbc41\"], [0.9, \"#4d9221\"], [1, \"#276419\"]], \"sequential\": [[0.0, \"#0d0887\"], [0.1111111111111111, \"#46039f\"], [0.2222222222222222, \"#7201a8\"], [0.3333333333333333, \"#9c179e\"], [0.4444444444444444, \"#bd3786\"], [0.5555555555555556, \"#d8576b\"], [0.6666666666666666, \"#ed7953\"], [0.7777777777777778, \"#fb9f3a\"], [0.8888888888888888, \"#fdca26\"], [1.0, \"#f0f921\"]], \"sequentialminus\": [[0.0, \"#0d0887\"], [0.1111111111111111, \"#46039f\"], [0.2222222222222222, \"#7201a8\"], [0.3333333333333333, \"#9c179e\"], [0.4444444444444444, \"#bd3786\"], [0.5555555555555556, \"#d8576b\"], [0.6666666666666666, \"#ed7953\"], [0.7777777777777778, \"#fb9f3a\"], [0.8888888888888888, \"#fdca26\"], [1.0, \"#f0f921\"]]}, \"colorway\": [\"#636efa\", \"#EF553B\", \"#00cc96\", \"#ab63fa\", \"#FFA15A\", \"#19d3f3\", \"#FF6692\", \"#B6E880\", \"#FF97FF\", \"#FECB52\"], \"font\": {\"color\": \"#2a3f5f\"}, \"geo\": {\"bgcolor\": \"white\", \"lakecolor\": \"white\", \"landcolor\": \"#E5ECF6\", \"showlakes\": true, \"showland\": true, \"subunitcolor\": \"white\"}, \"hoverlabel\": {\"align\": \"left\"}, \"hovermode\": \"closest\", \"mapbox\": {\"style\": \"light\"}, \"paper_bgcolor\": \"white\", \"plot_bgcolor\": \"#E5ECF6\", \"polar\": {\"angularaxis\": {\"gridcolor\": \"white\", \"linecolor\": \"white\", \"ticks\": \"\"}, \"bgcolor\": \"#E5ECF6\", \"radialaxis\": {\"gridcolor\": \"white\", \"linecolor\": \"white\", \"ticks\": \"\"}}, \"scene\": {\"xaxis\": {\"backgroundcolor\": \"#E5ECF6\", \"gridcolor\": \"white\", \"gridwidth\": 2, \"linecolor\": \"white\", \"showbackground\": true, \"ticks\": \"\", \"zerolinecolor\": \"white\"}, \"yaxis\": {\"backgroundcolor\": \"#E5ECF6\", \"gridcolor\": \"white\", \"gridwidth\": 2, \"linecolor\": \"white\", \"showbackground\": true, \"ticks\": \"\", \"zerolinecolor\": \"white\"}, \"zaxis\": {\"backgroundcolor\": \"#E5ECF6\", \"gridcolor\": \"white\", \"gridwidth\": 2, \"linecolor\": \"white\", \"showbackground\": true, \"ticks\": \"\", \"zerolinecolor\": \"white\"}}, \"shapedefaults\": {\"line\": {\"color\": \"#2a3f5f\"}}, \"ternary\": {\"aaxis\": {\"gridcolor\": \"white\", \"linecolor\": \"white\", \"ticks\": \"\"}, \"baxis\": {\"gridcolor\": \"white\", \"linecolor\": \"white\", \"ticks\": \"\"}, \"bgcolor\": \"#E5ECF6\", \"caxis\": {\"gridcolor\": \"white\", \"linecolor\": \"white\", \"ticks\": \"\"}}, \"title\": {\"x\": 0.05}, \"xaxis\": {\"automargin\": true, \"gridcolor\": \"white\", \"linecolor\": \"white\", \"ticks\": \"\", \"title\": {\"standoff\": 15}, \"zerolinecolor\": \"white\", \"zerolinewidth\": 2}, \"yaxis\": {\"automargin\": true, \"gridcolor\": \"white\", \"linecolor\": \"white\", \"ticks\": \"\", \"title\": {\"standoff\": 15}, \"zerolinecolor\": \"white\", \"zerolinewidth\": 2}}}},\n                        {\"responsive\": true}\n                    ).then(function(){\n                            \nvar gd = document.getElementById('f9468625-b286-47b0-a938-7a71675cceb1');\nvar x = new MutationObserver(function (mutations, observer) {{\n        var display = window.getComputedStyle(gd).display;\n        if (!display || display === 'none') {{\n            console.log([gd, 'removed!']);\n            Plotly.purge(gd);\n            observer.disconnect();\n        }}\n}});\n\n// Listen for the removal of the full notebook cells\nvar notebookContainer = gd.closest('#notebook-container');\nif (notebookContainer) {{\n    x.observe(notebookContainer, {childList: true});\n}}\n\n// Listen for the clearing of the current output cell\nvar outputEl = gd.closest('.output');\nif (outputEl) {{\n    x.observe(outputEl, {childList: true});\n}}\n\n                        })\n                };\n                });\n            </script>\n        </div>"
     },
     "metadata": {}
    }
   ],
   "source": [
    "trace = go.Scattergl(\n",
    "    x = data_2d[:,0],\n",
    "    y = data_2d[:,1],\n",
    "    mode = 'markers',\n",
    "    marker = dict(\n",
    "        color = '#FFBAD2',\n",
    "        line = dict(width = 1)\n",
    "    ),\n",
    "    text = vectorizer.get_feature_names(),\n",
    "    hovertext = vectorizer.get_feature_names(),\n",
    "    hoverinfo = 'text' \n",
    ")\n",
    "data = [trace]\n",
    "iplot(data, filename='scatter-mode')"
   ]
  },
  {
   "cell_type": "code",
   "execution_count": null,
   "metadata": {},
   "outputs": [],
   "source": []
  }
 ]
}