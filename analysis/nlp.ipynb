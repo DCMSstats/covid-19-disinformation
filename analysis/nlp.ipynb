{
 "metadata": {
  "language_info": {
   "codemirror_mode": {
    "name": "ipython",
    "version": 3
   },
   "file_extension": ".py",
   "mimetype": "text/x-python",
   "name": "python",
   "nbconvert_exporter": "python",
   "pygments_lexer": "ipython3",
   "version": "3.7.6-final"
  },
  "orig_nbformat": 2,
  "kernelspec": {
   "name": "python37664bitanaconda3virtualenv1d87251fb1ea4b4d9fc4c3a1f1f8caf1",
   "display_name": "Python 3.7.6 64-bit ('anaconda3': virtualenv)"
  }
 },
 "nbformat": 4,
 "nbformat_minor": 2,
 "cells": [
  {
   "cell_type": "markdown",
   "metadata": {},
   "source": [
    "# NLP Pipeline"
   ]
  },
  {
   "cell_type": "code",
   "execution_count": 1,
   "metadata": {},
   "outputs": [],
   "source": [
    "import disinfo as di\n",
    "from disinfo import topicAnalysis\n",
    "\n",
    "import pandas as pd"
   ]
  },
  {
   "cell_type": "code",
   "execution_count": 2,
   "metadata": {},
   "outputs": [],
   "source": [
    "# Read test data \n",
    "submissions = pd.read_csv(\"../test_data/example_subs.csv\")"
   ]
  },
  {
   "cell_type": "code",
   "execution_count": 3,
   "metadata": {},
   "outputs": [],
   "source": [
    "topic_a = topicAnalysis(submissions)"
   ]
  },
  {
   "cell_type": "code",
   "execution_count": null,
   "metadata": {
    "tags": []
   },
   "outputs": [],
   "source": [
    "topic_a.model_LDA()\n",
    "\n",
    "topics = topic_a.output_topics()"
   ]
  },
  {
   "cell_type": "code",
   "execution_count": 7,
   "metadata": {},
   "outputs": [
    {
     "output_type": "execute_result",
     "data": {
      "text/plain": "        topic                                          key_terms  \\\n0.0  Topic #0                coronavirus, https, amp, covid, com   \n1.0  Topic #1                    people, like, biden, know, time   \n2.0  Topic #2                            com, gt, http, amp, www   \n3.0  Topic #3  http www cectank, www cectank, www cectank com...   \n4.0  Topic #4                    https, com, https www, www, amp   \n\n                                               example  frequency    percent  \n0.0  The Gateway Pundit: JPMorgan Chase Inc Says to...       2050  21.633601  \n1.0  Donald Trump says they are investigating plane...       4389  46.317011  \n2.0  [World] - Trump spins baseless tale of ‘thugs’...       1166  12.304770  \n3.0  [Donald Trump] People are tired of watching th...       1220  12.874631  \n4.0  WATCH: Mnuchin testifies before House coronavi...        614   6.479527  ",
      "text/html": "<div>\n<style scoped>\n    .dataframe tbody tr th:only-of-type {\n        vertical-align: middle;\n    }\n\n    .dataframe tbody tr th {\n        vertical-align: top;\n    }\n\n    .dataframe thead th {\n        text-align: right;\n    }\n</style>\n<table border=\"1\" class=\"dataframe\">\n  <thead>\n    <tr style=\"text-align: right;\">\n      <th></th>\n      <th>topic</th>\n      <th>key_terms</th>\n      <th>example</th>\n      <th>frequency</th>\n      <th>percent</th>\n    </tr>\n  </thead>\n  <tbody>\n    <tr>\n      <th>0.0</th>\n      <td>Topic #0</td>\n      <td>coronavirus, https, amp, covid, com</td>\n      <td>The Gateway Pundit: JPMorgan Chase Inc Says to...</td>\n      <td>2050</td>\n      <td>21.633601</td>\n    </tr>\n    <tr>\n      <th>1.0</th>\n      <td>Topic #1</td>\n      <td>people, like, biden, know, time</td>\n      <td>Donald Trump says they are investigating plane...</td>\n      <td>4389</td>\n      <td>46.317011</td>\n    </tr>\n    <tr>\n      <th>2.0</th>\n      <td>Topic #2</td>\n      <td>com, gt, http, amp, www</td>\n      <td>[World] - Trump spins baseless tale of ‘thugs’...</td>\n      <td>1166</td>\n      <td>12.304770</td>\n    </tr>\n    <tr>\n      <th>3.0</th>\n      <td>Topic #3</td>\n      <td>http www cectank, www cectank, www cectank com...</td>\n      <td>[Donald Trump] People are tired of watching th...</td>\n      <td>1220</td>\n      <td>12.874631</td>\n    </tr>\n    <tr>\n      <th>4.0</th>\n      <td>Topic #4</td>\n      <td>https, com, https www, www, amp</td>\n      <td>WATCH: Mnuchin testifies before House coronavi...</td>\n      <td>614</td>\n      <td>6.479527</td>\n    </tr>\n  </tbody>\n</table>\n</div>"
     },
     "metadata": {},
     "execution_count": 7
    }
   ],
   "source": [
    "topics"
   ]
  },
  {
   "cell_type": "code",
   "execution_count": null,
   "metadata": {},
   "outputs": [],
   "source": []
  }
 ]
}