{
 "metadata": {
  "language_info": {
   "codemirror_mode": {
    "name": "ipython",
    "version": 3
   },
   "file_extension": ".py",
   "mimetype": "text/x-python",
   "name": "python",
   "nbconvert_exporter": "python",
   "pygments_lexer": "ipython3",
   "version": "3.7.6-final"
  },
  "orig_nbformat": 2,
  "kernelspec": {
   "name": "python37664bitvenvvenv756d012eff2d49698cf7b8385fe1cde1",
   "display_name": "Python 3.7.6 64-bit ('venv': venv)"
  }
 },
 "nbformat": 4,
 "nbformat_minor": 2,
 "cells": [
  {
   "cell_type": "code",
   "execution_count": 25,
   "metadata": {},
   "outputs": [],
   "source": [
    "\n",
    "def get_subreddit_data(reddit_object, subs, comments= 30, sort='new'):\n",
    "    \"\"\"\n",
    "        Get Subreddit data\n",
    "        Parameters\n",
    "        ----------\n",
    "        reddit_object : stuffs\n",
    "        Returns\n",
    "        -------\n",
    "        Pandas Dataframe\n",
    "    \"\"\"\n",
    "\n",
    "    reddit = reddit_object\n",
    "\n",
    "    topics_dict = { \n",
    "                        \"id\":[],\n",
    "                        \"link_flair_template_id\":[],\n",
    "                        \"link_flair_text\":[],\n",
    "                        \"downs\": [],\n",
    "                        \"category\": []\n",
    "                       \n",
    "                  }\n",
    "\n",
    "    atts = topics_dict.keys()\n",
    "    \n",
    "    sub_list = subs\n",
    "\n",
    "    for sub in sub_list:\n",
    "\n",
    "        print('Working on this sub right now: \\n', sub)\n",
    "\n",
    "        subreddit = reddit.subreddit(sub)\n",
    "\n",
    "        submission_dict ={'new':subreddit.new, \\\n",
    "                          'controversial':subreddit.controversial,\\\n",
    "                          'gilded':subreddit.gilded,\\\n",
    "                          'hot':subreddit.hot,\\\n",
    "                          'rising':subreddit.rising,\\\n",
    "                          'top':subreddit.top }\n",
    "\n",
    "\n",
    "        cont_subreddit = submission_dict[sort](limit=comments)\n",
    "\n",
    "        for submission in cont_subreddit:\n",
    "            for att in atts:\n",
    "                try:\n",
    "                    topics_dict[att].append(getattr(submission, att))\n",
    "                except PrawcoreException as err:\n",
    "                    topics_dict[att].append(err.args)\n",
    "                except Exception as e:\n",
    "                    topics_dict[att].append(e.__class__)\n",
    "\n",
    "    topics_data = pd.DataFrame(topics_dict)\n",
    "    return topics_data\n"
   ]
  },
  {
   "cell_type": "code",
   "execution_count": 26,
   "metadata": {
    "tags": []
   },
   "outputs": [
    {
     "output_type": "stream",
     "name": "stdout",
     "text": "DEBUG- starting\nWorking on this sub right now: \n enoughpetersonspam\ntime taken was 8.7249 seconds \n"
    }
   ],
   "source": [
    "\n",
    "import pandas as pd\n",
    "import praw\n",
    "import numpy as np\n",
    "from prawcore import PrawcoreException\n",
    "import datetime\n",
    "import json\n",
    "import disinfo as di\n",
    "import time\n",
    "\n",
    "print(\"DEBUG- starting\")\n",
    "\n",
    "with open(\"../gcp_config.json\") as f:\n",
    "    config = json.load(f)\n",
    "\n",
    "project_id = config[\"project_id\"]\n",
    "table_sub  = config[\"table_sub\"]\n",
    "table_com  = config[\"table_com\"]\n",
    "\n",
    "comments_number = config[\"comments_number\"]\n",
    "topics_list = config[\"topics_list\"]\n",
    "\n",
    "client_id = config[\"client_id\"]\n",
    "client_secret = config[\"client_secret\"]\n",
    "user_agent =  config[\"user_agent\"]\n",
    "\n",
    "# init the praw instance\n",
    "reddit = praw.Reddit(client_id = client_id, client_secret = client_secret,  user_agent = user_agent)\n",
    "\n",
    "current_data = di.get_subreddit_names(reddit, topics_list)\n",
    "\n",
    "start_time = time.perf_counter()\n",
    "df = get_subreddit_data(reddit, [current_data[146]])\n",
    "\n",
    "end_time = time.perf_counter()\n",
    "\n",
    "print(f\"time taken was {end_time - start_time:0.4f} seconds \")\n",
    "\n"
   ]
  },
  {
   "cell_type": "code",
   "execution_count": 8,
   "metadata": {},
   "outputs": [
    {
     "output_type": "execute_result",
     "data": {
      "text/plain": "342"
     },
     "metadata": {},
     "execution_count": 8
    }
   ],
   "source": [
    "len(current_data)"
   ]
  },
  {
   "cell_type": "code",
   "execution_count": 23,
   "metadata": {},
   "outputs": [
    {
     "output_type": "execute_result",
     "data": {
      "text/plain": "'Conservative'"
     },
     "metadata": {},
     "execution_count": 23
    }
   ],
   "source": [
    "current_data[67]"
   ]
  },
  {
   "cell_type": "code",
   "execution_count": 27,
   "metadata": {},
   "outputs": [
    {
     "output_type": "execute_result",
     "data": {
      "text/plain": "        id                link_flair_template_id          link_flair_text  \\\n0   i5ek0g              <class 'AttributeError'>                     None   \n1   i5chl4              <class 'AttributeError'>                     None   \n2   i5cg58              <class 'AttributeError'>                     None   \n3   i5c3ae  27fb656e-a82f-11e9-8be5-0e47dff00dfe  neo-modern post-Marxist   \n4   i5bxxb  e258462e-4a7f-11e9-8032-0e2dc84bf2f4            Daddy Issues    \n5   i5bokb              <class 'AttributeError'>                     None   \n6   i5a4dq              <class 'AttributeError'>                     None   \n7   i5861o              <class 'AttributeError'>                     None   \n8   i5509d              <class 'AttributeError'>                     None   \n9   i54izx              <class 'AttributeError'>                     None   \n10  i5376f              <class 'AttributeError'>                     None   \n11  i5375q              <class 'AttributeError'>                     None   \n12  i52bcj              <class 'AttributeError'>                     None   \n13  i51u2d              <class 'AttributeError'>                     None   \n14  i4znxh              <class 'AttributeError'>                     None   \n15  i4zn3j              <class 'AttributeError'>                     None   \n16  i4t4xq              <class 'AttributeError'>                     None   \n17  i4p8qx              <class 'AttributeError'>                     None   \n18  i4jtey              <class 'AttributeError'>                     None   \n19  i49arp              <class 'AttributeError'>                     None   \n20  i47kgi              <class 'AttributeError'>                     None   \n21  i425sa              <class 'AttributeError'>                     None   \n22  i3t0iz              <class 'AttributeError'>                     None   \n23  i3o6zn              <class 'AttributeError'>                     None   \n24  i3bpxj              <class 'AttributeError'>                     None   \n25  i397ed              <class 'AttributeError'>                     None   \n26  i31s13              <class 'AttributeError'>                     None   \n27  i2zxk5              <class 'AttributeError'>                     None   \n28  i2y488              <class 'AttributeError'>                     None   \n29  i2x8ri  cce6c8a6-4a7f-11e9-bc7c-0e6a4f5fe792            Lobster Sauce   \n\n    downs category  \n0       0     None  \n1       0     None  \n2       0     None  \n3       0     None  \n4       0     None  \n5       0     None  \n6       0     None  \n7       0     None  \n8       0     None  \n9       0     None  \n10      0     None  \n11      0     None  \n12      0     None  \n13      0     None  \n14      0     None  \n15      0     None  \n16      0     None  \n17      0     None  \n18      0     None  \n19      0     None  \n20      0     None  \n21      0     None  \n22      0     None  \n23      0     None  \n24      0     None  \n25      0     None  \n26      0     None  \n27      0     None  \n28      0     None  \n29      0     None  ",
      "text/html": "<div>\n<style scoped>\n    .dataframe tbody tr th:only-of-type {\n        vertical-align: middle;\n    }\n\n    .dataframe tbody tr th {\n        vertical-align: top;\n    }\n\n    .dataframe thead th {\n        text-align: right;\n    }\n</style>\n<table border=\"1\" class=\"dataframe\">\n  <thead>\n    <tr style=\"text-align: right;\">\n      <th></th>\n      <th>id</th>\n      <th>link_flair_template_id</th>\n      <th>link_flair_text</th>\n      <th>downs</th>\n      <th>category</th>\n    </tr>\n  </thead>\n  <tbody>\n    <tr>\n      <th>0</th>\n      <td>i5ek0g</td>\n      <td>&lt;class 'AttributeError'&gt;</td>\n      <td>None</td>\n      <td>0</td>\n      <td>None</td>\n    </tr>\n    <tr>\n      <th>1</th>\n      <td>i5chl4</td>\n      <td>&lt;class 'AttributeError'&gt;</td>\n      <td>None</td>\n      <td>0</td>\n      <td>None</td>\n    </tr>\n    <tr>\n      <th>2</th>\n      <td>i5cg58</td>\n      <td>&lt;class 'AttributeError'&gt;</td>\n      <td>None</td>\n      <td>0</td>\n      <td>None</td>\n    </tr>\n    <tr>\n      <th>3</th>\n      <td>i5c3ae</td>\n      <td>27fb656e-a82f-11e9-8be5-0e47dff00dfe</td>\n      <td>neo-modern post-Marxist</td>\n      <td>0</td>\n      <td>None</td>\n    </tr>\n    <tr>\n      <th>4</th>\n      <td>i5bxxb</td>\n      <td>e258462e-4a7f-11e9-8032-0e2dc84bf2f4</td>\n      <td>Daddy Issues</td>\n      <td>0</td>\n      <td>None</td>\n    </tr>\n    <tr>\n      <th>5</th>\n      <td>i5bokb</td>\n      <td>&lt;class 'AttributeError'&gt;</td>\n      <td>None</td>\n      <td>0</td>\n      <td>None</td>\n    </tr>\n    <tr>\n      <th>6</th>\n      <td>i5a4dq</td>\n      <td>&lt;class 'AttributeError'&gt;</td>\n      <td>None</td>\n      <td>0</td>\n      <td>None</td>\n    </tr>\n    <tr>\n      <th>7</th>\n      <td>i5861o</td>\n      <td>&lt;class 'AttributeError'&gt;</td>\n      <td>None</td>\n      <td>0</td>\n      <td>None</td>\n    </tr>\n    <tr>\n      <th>8</th>\n      <td>i5509d</td>\n      <td>&lt;class 'AttributeError'&gt;</td>\n      <td>None</td>\n      <td>0</td>\n      <td>None</td>\n    </tr>\n    <tr>\n      <th>9</th>\n      <td>i54izx</td>\n      <td>&lt;class 'AttributeError'&gt;</td>\n      <td>None</td>\n      <td>0</td>\n      <td>None</td>\n    </tr>\n    <tr>\n      <th>10</th>\n      <td>i5376f</td>\n      <td>&lt;class 'AttributeError'&gt;</td>\n      <td>None</td>\n      <td>0</td>\n      <td>None</td>\n    </tr>\n    <tr>\n      <th>11</th>\n      <td>i5375q</td>\n      <td>&lt;class 'AttributeError'&gt;</td>\n      <td>None</td>\n      <td>0</td>\n      <td>None</td>\n    </tr>\n    <tr>\n      <th>12</th>\n      <td>i52bcj</td>\n      <td>&lt;class 'AttributeError'&gt;</td>\n      <td>None</td>\n      <td>0</td>\n      <td>None</td>\n    </tr>\n    <tr>\n      <th>13</th>\n      <td>i51u2d</td>\n      <td>&lt;class 'AttributeError'&gt;</td>\n      <td>None</td>\n      <td>0</td>\n      <td>None</td>\n    </tr>\n    <tr>\n      <th>14</th>\n      <td>i4znxh</td>\n      <td>&lt;class 'AttributeError'&gt;</td>\n      <td>None</td>\n      <td>0</td>\n      <td>None</td>\n    </tr>\n    <tr>\n      <th>15</th>\n      <td>i4zn3j</td>\n      <td>&lt;class 'AttributeError'&gt;</td>\n      <td>None</td>\n      <td>0</td>\n      <td>None</td>\n    </tr>\n    <tr>\n      <th>16</th>\n      <td>i4t4xq</td>\n      <td>&lt;class 'AttributeError'&gt;</td>\n      <td>None</td>\n      <td>0</td>\n      <td>None</td>\n    </tr>\n    <tr>\n      <th>17</th>\n      <td>i4p8qx</td>\n      <td>&lt;class 'AttributeError'&gt;</td>\n      <td>None</td>\n      <td>0</td>\n      <td>None</td>\n    </tr>\n    <tr>\n      <th>18</th>\n      <td>i4jtey</td>\n      <td>&lt;class 'AttributeError'&gt;</td>\n      <td>None</td>\n      <td>0</td>\n      <td>None</td>\n    </tr>\n    <tr>\n      <th>19</th>\n      <td>i49arp</td>\n      <td>&lt;class 'AttributeError'&gt;</td>\n      <td>None</td>\n      <td>0</td>\n      <td>None</td>\n    </tr>\n    <tr>\n      <th>20</th>\n      <td>i47kgi</td>\n      <td>&lt;class 'AttributeError'&gt;</td>\n      <td>None</td>\n      <td>0</td>\n      <td>None</td>\n    </tr>\n    <tr>\n      <th>21</th>\n      <td>i425sa</td>\n      <td>&lt;class 'AttributeError'&gt;</td>\n      <td>None</td>\n      <td>0</td>\n      <td>None</td>\n    </tr>\n    <tr>\n      <th>22</th>\n      <td>i3t0iz</td>\n      <td>&lt;class 'AttributeError'&gt;</td>\n      <td>None</td>\n      <td>0</td>\n      <td>None</td>\n    </tr>\n    <tr>\n      <th>23</th>\n      <td>i3o6zn</td>\n      <td>&lt;class 'AttributeError'&gt;</td>\n      <td>None</td>\n      <td>0</td>\n      <td>None</td>\n    </tr>\n    <tr>\n      <th>24</th>\n      <td>i3bpxj</td>\n      <td>&lt;class 'AttributeError'&gt;</td>\n      <td>None</td>\n      <td>0</td>\n      <td>None</td>\n    </tr>\n    <tr>\n      <th>25</th>\n      <td>i397ed</td>\n      <td>&lt;class 'AttributeError'&gt;</td>\n      <td>None</td>\n      <td>0</td>\n      <td>None</td>\n    </tr>\n    <tr>\n      <th>26</th>\n      <td>i31s13</td>\n      <td>&lt;class 'AttributeError'&gt;</td>\n      <td>None</td>\n      <td>0</td>\n      <td>None</td>\n    </tr>\n    <tr>\n      <th>27</th>\n      <td>i2zxk5</td>\n      <td>&lt;class 'AttributeError'&gt;</td>\n      <td>None</td>\n      <td>0</td>\n      <td>None</td>\n    </tr>\n    <tr>\n      <th>28</th>\n      <td>i2y488</td>\n      <td>&lt;class 'AttributeError'&gt;</td>\n      <td>None</td>\n      <td>0</td>\n      <td>None</td>\n    </tr>\n    <tr>\n      <th>29</th>\n      <td>i2x8ri</td>\n      <td>cce6c8a6-4a7f-11e9-bc7c-0e6a4f5fe792</td>\n      <td>Lobster Sauce</td>\n      <td>0</td>\n      <td>None</td>\n    </tr>\n  </tbody>\n</table>\n</div>"
     },
     "metadata": {},
     "execution_count": 27
    }
   ],
   "source": [
    "df"
   ]
  },
  {
   "cell_type": "code",
   "execution_count": null,
   "metadata": {},
   "outputs": [],
   "source": []
  }
 ]
}