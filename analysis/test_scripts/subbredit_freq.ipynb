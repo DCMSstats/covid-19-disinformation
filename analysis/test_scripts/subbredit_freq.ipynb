{
 "cells": [
  {
   "cell_type": "code",
   "execution_count": null,
   "metadata": {},
   "outputs": [],
   "source": [
    "import pandas as pd\n",
    "import pandas_gbq\n",
    "import praw\n",
    "import numpy as np\n",
    "from prawcore import PrawcoreException\n",
    "import datetime\n",
    "import json\n",
    "import disinfo as di\n",
    "import matplotlib.pyplot as plt"
   ]
  },
  {
   "cell_type": "code",
   "execution_count": null,
   "metadata": {},
   "outputs": [],
   "source": [
    "with open(\"../gcp_config.json\") as f:\n",
    "    config = json.load(f)\n",
    "\n",
    "project_id = config[\"project_id\"]\n",
    "table_sub  = config[\"table_sub\"]\n",
    "table_com  = config[\"table_com\"]\n",
    "\n",
    "comments_number = config[\"comments_number\"]\n",
    "topics_list = config[\"topics_list\"]\n",
    "\n",
    "client_id = config[\"client_id\"]\n",
    "client_secret = config[\"client_secret\"]\n",
    "user_agent =  config[\"user_agent\"]"
   ]
  },
  {
   "cell_type": "code",
   "execution_count": null,
   "metadata": {},
   "outputs": [],
   "source": [
    "# Get the data and format the date\n",
    "# The following line gets ALL the data, beware! \n",
    "SQL = f'SELECT * FROM {table_sub}'\n",
    "\n",
    "df = pandas_gbq.read_gbq(query=SQL, project_id=project_id)\n",
    "\n",
    "df['created'] = df['created'].dt.date"
   ]
  },
  {
   "cell_type": "code",
   "execution_count": null,
   "metadata": {},
   "outputs": [],
   "source": [
    "# Create a dataframe which contains a count of how many submission per day per subredit there are\n",
    "posts_per_day = {\"day\": [],\n",
    "                 \"subreddit\": [],\n",
    "                 \"count\": [] }\n",
    "\n",
    "subs = df[\"subreddit\"].unique()\n",
    "\n",
    "for sub in subs:\n",
    "    sub_filter = df[df['subreddit'] == sub ]\n",
    "    days = sub_filter['created'].unique()\n",
    "    for i in days:\n",
    "        subs_per_day = sub_filter[sub_filter['created'] == i ]\n",
    "        subs_per_day_count = subs_per_day.shape[0]\n",
    "        posts_per_day[\"count\"].append(subs_per_day_count)\n",
    "        posts_per_day[\"day\"].append(i)\n",
    "        posts_per_day[\"subreddit\"].append(sub)"
   ]
  },
  {
   "cell_type": "code",
   "execution_count": null,
   "metadata": {},
   "outputs": [],
   "source": [
    "data = pd.DataFrame(posts_per_day)\n"
   ]
  },
  {
   "cell_type": "markdown",
   "metadata": {},
   "source": [
    "# What is the max and min number of submissions per day?"
   ]
  },
  {
   "cell_type": "code",
   "execution_count": null,
   "metadata": {},
   "outputs": [],
   "source": [
    "data['count'].max()"
   ]
  },
  {
   "cell_type": "code",
   "execution_count": null,
   "metadata": {},
   "outputs": [],
   "source": [
    "data['count'].min()"
   ]
  },
  {
   "cell_type": "markdown",
   "metadata": {},
   "source": [
    "In the current data set the max number of submissions per day is 220 (above) which means that if run daily the data ingest would not need to collect more than 220 per subreddit. However this is because the data ingest was run at 220, so there may be more which havenot been collected"
   ]
  },
  {
   "cell_type": "code",
   "execution_count": null,
   "metadata": {},
   "outputs": [],
   "source": [
    "counts = data['count'].value_counts().sort_index(axis=0)\n",
    "\n",
    "counts.plot(kind='bar', figsize=(25,20))\n"
   ]
  },
  {
   "cell_type": "code",
   "execution_count": 271,
   "metadata": {},
   "outputs": [
    {
     "data": {
      "application/vnd.jupyter.widget-view+json": {
       "model_id": "34766c0b34044c54a2976889812f3081",
       "version_major": 2,
       "version_minor": 0
      },
      "text/plain": [
       "interactive(children=(IntSlider(value=10, description='x', max=221, step=109), Output()), _dom_classes=('widge…"
      ]
     },
     "metadata": {},
     "output_type": "display_data"
    }
   ],
   "source": [
    "from ipywidgets import interact, IntSlider\n",
    "import ipywidgets as widgets\n",
    "\n",
    "def f(x):\n",
    "    print(f\"The percentage of submissions which are less than {x} a day is { counts[counts.index < x].sum() / counts.sum() * 100 }\")\n",
    "# Generate a slider \n",
    "interact(f, x=widgets.IntSlider(min=0, max=221, step=109, value=10));"
   ]
  },
  {
   "cell_type": "markdown",
   "metadata": {},
   "source": [
    "With the current data if we set the number of submissions to be collect at 100 we will collect almost 99% fo the data, and even at 10 a day we get over 80%. \n",
    "\n",
    "> This is dependent on the current data, once we have more data this may change"
   ]
  },
  {
   "cell_type": "code",
   "execution_count": null,
   "metadata": {},
   "outputs": [],
   "source": []
  }
 ],
 "metadata": {
  "environment": {
   "name": "tf2-gpu.2-1.m47",
   "type": "gcloud",
   "uri": "gcr.io/deeplearning-platform-release/tf2-gpu.2-1:m47"
  },
  "kernelspec": {
   "display_name": "Python 3",
   "language": "python",
   "name": "python3"
  },
  "language_info": {
   "codemirror_mode": {
    "name": "ipython",
    "version": 3
   },
   "file_extension": ".py",
   "mimetype": "text/x-python",
   "name": "python",
   "nbconvert_exporter": "python",
   "pygments_lexer": "ipython3",
   "version": "3.7.6"
  }
 },
 "nbformat": 4,
 "nbformat_minor": 4
}
